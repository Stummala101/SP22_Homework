{
 "cells": [
  {
   "cell_type": "code",
   "execution_count": 1,
   "id": "bd5d502d",
   "metadata": {},
   "outputs": [],
   "source": [
    "import pandas as pd\n",
    "import numpy as np\n",
    "\n",
    "import statsmodels.formula.api as sm\n",
    "import scipy.stats as stats\n",
    "\n",
    "from matplotlib import pyplot as plt\n",
    "%matplotlib inline\n",
    "\n",
    "import seaborn as sns"
   ]
  },
  {
   "cell_type": "code",
   "execution_count": 2,
   "id": "b5006da2",
   "metadata": {},
   "outputs": [
    {
     "data": {
      "text/html": [
       "<div>\n",
       "<style scoped>\n",
       "    .dataframe tbody tr th:only-of-type {\n",
       "        vertical-align: middle;\n",
       "    }\n",
       "\n",
       "    .dataframe tbody tr th {\n",
       "        vertical-align: top;\n",
       "    }\n",
       "\n",
       "    .dataframe thead th {\n",
       "        text-align: right;\n",
       "    }\n",
       "</style>\n",
       "<table border=\"1\" class=\"dataframe\">\n",
       "  <thead>\n",
       "    <tr style=\"text-align: right;\">\n",
       "      <th></th>\n",
       "      <th>Row ID</th>\n",
       "      <th>Order ID</th>\n",
       "      <th>Order Date</th>\n",
       "      <th>Ship Date</th>\n",
       "      <th>Ship Mode</th>\n",
       "      <th>Customer ID</th>\n",
       "      <th>Customer Name</th>\n",
       "      <th>Segment</th>\n",
       "      <th>Country</th>\n",
       "      <th>City</th>\n",
       "      <th>...</th>\n",
       "      <th>Postal Code</th>\n",
       "      <th>Region</th>\n",
       "      <th>Product ID</th>\n",
       "      <th>Category</th>\n",
       "      <th>Sub-Category</th>\n",
       "      <th>Product Name</th>\n",
       "      <th>Sales</th>\n",
       "      <th>Quantity</th>\n",
       "      <th>Discount</th>\n",
       "      <th>Profit</th>\n",
       "    </tr>\n",
       "  </thead>\n",
       "  <tbody>\n",
       "    <tr>\n",
       "      <th>0</th>\n",
       "      <td>1</td>\n",
       "      <td>CA-2016-152156</td>\n",
       "      <td>2016-11-08</td>\n",
       "      <td>2016-11-11</td>\n",
       "      <td>Second Class</td>\n",
       "      <td>CG-12520</td>\n",
       "      <td>Claire Gute</td>\n",
       "      <td>Consumer</td>\n",
       "      <td>United States</td>\n",
       "      <td>Henderson</td>\n",
       "      <td>...</td>\n",
       "      <td>42420</td>\n",
       "      <td>South</td>\n",
       "      <td>FUR-BO-10001798</td>\n",
       "      <td>Furniture</td>\n",
       "      <td>Bookcases</td>\n",
       "      <td>Bush Somerset Collection Bookcase</td>\n",
       "      <td>261.9600</td>\n",
       "      <td>2</td>\n",
       "      <td>0.00</td>\n",
       "      <td>41.9136</td>\n",
       "    </tr>\n",
       "    <tr>\n",
       "      <th>1</th>\n",
       "      <td>2</td>\n",
       "      <td>CA-2016-152156</td>\n",
       "      <td>2016-11-08</td>\n",
       "      <td>2016-11-11</td>\n",
       "      <td>Second Class</td>\n",
       "      <td>CG-12520</td>\n",
       "      <td>Claire Gute</td>\n",
       "      <td>Consumer</td>\n",
       "      <td>United States</td>\n",
       "      <td>Henderson</td>\n",
       "      <td>...</td>\n",
       "      <td>42420</td>\n",
       "      <td>South</td>\n",
       "      <td>FUR-CH-10000454</td>\n",
       "      <td>Furniture</td>\n",
       "      <td>Chairs</td>\n",
       "      <td>Hon Deluxe Fabric Upholstered Stacking Chairs,...</td>\n",
       "      <td>731.9400</td>\n",
       "      <td>3</td>\n",
       "      <td>0.00</td>\n",
       "      <td>219.5820</td>\n",
       "    </tr>\n",
       "    <tr>\n",
       "      <th>2</th>\n",
       "      <td>3</td>\n",
       "      <td>CA-2016-138688</td>\n",
       "      <td>2016-06-12</td>\n",
       "      <td>2016-06-16</td>\n",
       "      <td>Second Class</td>\n",
       "      <td>DV-13045</td>\n",
       "      <td>Darrin Van Huff</td>\n",
       "      <td>Corporate</td>\n",
       "      <td>United States</td>\n",
       "      <td>Los Angeles</td>\n",
       "      <td>...</td>\n",
       "      <td>90036</td>\n",
       "      <td>West</td>\n",
       "      <td>OFF-LA-10000240</td>\n",
       "      <td>Office Supplies</td>\n",
       "      <td>Labels</td>\n",
       "      <td>Self-Adhesive Address Labels for Typewriters b...</td>\n",
       "      <td>14.6200</td>\n",
       "      <td>2</td>\n",
       "      <td>0.00</td>\n",
       "      <td>6.8714</td>\n",
       "    </tr>\n",
       "    <tr>\n",
       "      <th>3</th>\n",
       "      <td>4</td>\n",
       "      <td>US-2015-108966</td>\n",
       "      <td>2015-10-11</td>\n",
       "      <td>2015-10-18</td>\n",
       "      <td>Standard Class</td>\n",
       "      <td>SO-20335</td>\n",
       "      <td>Sean O'Donnell</td>\n",
       "      <td>Consumer</td>\n",
       "      <td>United States</td>\n",
       "      <td>Fort Lauderdale</td>\n",
       "      <td>...</td>\n",
       "      <td>33311</td>\n",
       "      <td>South</td>\n",
       "      <td>FUR-TA-10000577</td>\n",
       "      <td>Furniture</td>\n",
       "      <td>Tables</td>\n",
       "      <td>Bretford CR4500 Series Slim Rectangular Table</td>\n",
       "      <td>957.5775</td>\n",
       "      <td>5</td>\n",
       "      <td>0.45</td>\n",
       "      <td>-383.0310</td>\n",
       "    </tr>\n",
       "    <tr>\n",
       "      <th>4</th>\n",
       "      <td>5</td>\n",
       "      <td>US-2015-108966</td>\n",
       "      <td>2015-10-11</td>\n",
       "      <td>2015-10-18</td>\n",
       "      <td>Standard Class</td>\n",
       "      <td>SO-20335</td>\n",
       "      <td>Sean O'Donnell</td>\n",
       "      <td>Consumer</td>\n",
       "      <td>United States</td>\n",
       "      <td>Fort Lauderdale</td>\n",
       "      <td>...</td>\n",
       "      <td>33311</td>\n",
       "      <td>South</td>\n",
       "      <td>OFF-ST-10000760</td>\n",
       "      <td>Office Supplies</td>\n",
       "      <td>Storage</td>\n",
       "      <td>Eldon Fold 'N Roll Cart System</td>\n",
       "      <td>22.3680</td>\n",
       "      <td>2</td>\n",
       "      <td>0.20</td>\n",
       "      <td>2.5164</td>\n",
       "    </tr>\n",
       "  </tbody>\n",
       "</table>\n",
       "<p>5 rows × 21 columns</p>\n",
       "</div>"
      ],
      "text/plain": [
       "   Row ID        Order ID Order Date  Ship Date       Ship Mode Customer ID  \\\n",
       "0       1  CA-2016-152156 2016-11-08 2016-11-11    Second Class    CG-12520   \n",
       "1       2  CA-2016-152156 2016-11-08 2016-11-11    Second Class    CG-12520   \n",
       "2       3  CA-2016-138688 2016-06-12 2016-06-16    Second Class    DV-13045   \n",
       "3       4  US-2015-108966 2015-10-11 2015-10-18  Standard Class    SO-20335   \n",
       "4       5  US-2015-108966 2015-10-11 2015-10-18  Standard Class    SO-20335   \n",
       "\n",
       "     Customer Name    Segment        Country             City  ...  \\\n",
       "0      Claire Gute   Consumer  United States        Henderson  ...   \n",
       "1      Claire Gute   Consumer  United States        Henderson  ...   \n",
       "2  Darrin Van Huff  Corporate  United States      Los Angeles  ...   \n",
       "3   Sean O'Donnell   Consumer  United States  Fort Lauderdale  ...   \n",
       "4   Sean O'Donnell   Consumer  United States  Fort Lauderdale  ...   \n",
       "\n",
       "  Postal Code  Region       Product ID         Category Sub-Category  \\\n",
       "0       42420   South  FUR-BO-10001798        Furniture    Bookcases   \n",
       "1       42420   South  FUR-CH-10000454        Furniture       Chairs   \n",
       "2       90036    West  OFF-LA-10000240  Office Supplies       Labels   \n",
       "3       33311   South  FUR-TA-10000577        Furniture       Tables   \n",
       "4       33311   South  OFF-ST-10000760  Office Supplies      Storage   \n",
       "\n",
       "                                        Product Name     Sales  Quantity  \\\n",
       "0                  Bush Somerset Collection Bookcase  261.9600         2   \n",
       "1  Hon Deluxe Fabric Upholstered Stacking Chairs,...  731.9400         3   \n",
       "2  Self-Adhesive Address Labels for Typewriters b...   14.6200         2   \n",
       "3      Bretford CR4500 Series Slim Rectangular Table  957.5775         5   \n",
       "4                     Eldon Fold 'N Roll Cart System   22.3680         2   \n",
       "\n",
       "   Discount    Profit  \n",
       "0      0.00   41.9136  \n",
       "1      0.00  219.5820  \n",
       "2      0.00    6.8714  \n",
       "3      0.45 -383.0310  \n",
       "4      0.20    2.5164  \n",
       "\n",
       "[5 rows x 21 columns]"
      ]
     },
     "execution_count": 2,
     "metadata": {},
     "output_type": "execute_result"
    }
   ],
   "source": [
    "df = pd.read_excel('Superstore.xlsx')\n",
    "df.head()"
   ]
  },
  {
   "cell_type": "code",
   "execution_count": 3,
   "id": "f0c7c8a9",
   "metadata": {},
   "outputs": [
    {
     "name": "stdout",
     "output_type": "stream",
     "text": [
      "<class 'pandas.core.frame.DataFrame'>\n",
      "RangeIndex: 9994 entries, 0 to 9993\n",
      "Data columns (total 21 columns):\n",
      " #   Column         Non-Null Count  Dtype         \n",
      "---  ------         --------------  -----         \n",
      " 0   Row ID         9994 non-null   int64         \n",
      " 1   Order ID       9994 non-null   object        \n",
      " 2   Order Date     9994 non-null   datetime64[ns]\n",
      " 3   Ship Date      9994 non-null   datetime64[ns]\n",
      " 4   Ship Mode      9994 non-null   object        \n",
      " 5   Customer ID    9994 non-null   object        \n",
      " 6   Customer Name  9994 non-null   object        \n",
      " 7   Segment        9994 non-null   object        \n",
      " 8   Country        9994 non-null   object        \n",
      " 9   City           9994 non-null   object        \n",
      " 10  State          9994 non-null   object        \n",
      " 11  Postal Code    9994 non-null   int64         \n",
      " 12  Region         9994 non-null   object        \n",
      " 13  Product ID     9994 non-null   object        \n",
      " 14  Category       9994 non-null   object        \n",
      " 15  Sub-Category   9994 non-null   object        \n",
      " 16  Product Name   9994 non-null   object        \n",
      " 17  Sales          9994 non-null   float64       \n",
      " 18  Quantity       9994 non-null   int64         \n",
      " 19  Discount       9994 non-null   float64       \n",
      " 20  Profit         9994 non-null   float64       \n",
      "dtypes: datetime64[ns](2), float64(3), int64(3), object(13)\n",
      "memory usage: 1.6+ MB\n"
     ]
    }
   ],
   "source": [
    "df.info()"
   ]
  },
  {
   "cell_type": "code",
   "execution_count": 4,
   "id": "cbd4e425",
   "metadata": {},
   "outputs": [
    {
     "name": "stdout",
     "output_type": "stream",
     "text": [
      "1862\n"
     ]
    }
   ],
   "source": [
    "## number of products\n",
    "num_products = len(df['Product ID'].value_counts())\n",
    "print(num_products)"
   ]
  },
  {
   "cell_type": "code",
   "execution_count": 5,
   "id": "cc3f3cda",
   "metadata": {},
   "outputs": [
    {
     "name": "stdout",
     "output_type": "stream",
     "text": [
      "793\n"
     ]
    }
   ],
   "source": [
    "## number of customers\n",
    "num_customers = len(df['Customer ID'].value_counts())\n",
    "print(num_customers)"
   ]
  },
  {
   "cell_type": "code",
   "execution_count": 6,
   "id": "d59229e8",
   "metadata": {},
   "outputs": [
    {
     "data": {
      "text/plain": [
       "West       3203\n",
       "East       2848\n",
       "Central    2323\n",
       "South      1620\n",
       "Name: Region, dtype: int64"
      ]
     },
     "execution_count": 6,
     "metadata": {},
     "output_type": "execute_result"
    }
   ],
   "source": [
    "df['Region'].value_counts()"
   ]
  },
  {
   "cell_type": "code",
   "execution_count": 7,
   "id": "cec93b2e",
   "metadata": {},
   "outputs": [
    {
     "data": {
      "text/plain": [
       "Office Supplies    6026\n",
       "Furniture          2121\n",
       "Technology         1847\n",
       "Name: Category, dtype: int64"
      ]
     },
     "execution_count": 7,
     "metadata": {},
     "output_type": "execute_result"
    }
   ],
   "source": [
    "df['Category'].value_counts()"
   ]
  },
  {
   "cell_type": "code",
   "execution_count": 8,
   "id": "3eec88b8",
   "metadata": {},
   "outputs": [
    {
     "data": {
      "text/plain": [
       "Consumer       5191\n",
       "Corporate      3020\n",
       "Home Office    1783\n",
       "Name: Segment, dtype: int64"
      ]
     },
     "execution_count": 8,
     "metadata": {},
     "output_type": "execute_result"
    }
   ],
   "source": [
    "df['Segment'].value_counts()"
   ]
  },
  {
   "cell_type": "code",
   "execution_count": 9,
   "id": "5783e2fb",
   "metadata": {},
   "outputs": [
    {
     "data": {
      "text/plain": [
       "Binders        1523\n",
       "Paper          1370\n",
       "Furnishings     957\n",
       "Phones          889\n",
       "Storage         846\n",
       "Art             796\n",
       "Accessories     775\n",
       "Chairs          617\n",
       "Appliances      466\n",
       "Labels          364\n",
       "Tables          319\n",
       "Envelopes       254\n",
       "Bookcases       228\n",
       "Fasteners       217\n",
       "Supplies        190\n",
       "Machines        115\n",
       "Copiers          68\n",
       "Name: Sub-Category, dtype: int64"
      ]
     },
     "execution_count": 9,
     "metadata": {},
     "output_type": "execute_result"
    }
   ],
   "source": [
    "df['Sub-Category'].value_counts()"
   ]
  },
  {
   "cell_type": "code",
   "execution_count": 10,
   "id": "4377ea62",
   "metadata": {},
   "outputs": [
    {
     "data": {
      "text/plain": [
       "0.00    4798\n",
       "0.20    3657\n",
       "0.70     418\n",
       "0.80     300\n",
       "0.30     227\n",
       "0.40     206\n",
       "0.60     138\n",
       "0.10      94\n",
       "0.50      66\n",
       "0.15      52\n",
       "0.32      27\n",
       "0.45      11\n",
       "Name: Discount, dtype: int64"
      ]
     },
     "execution_count": 10,
     "metadata": {},
     "output_type": "execute_result"
    }
   ],
   "source": [
    "df['Discount'].value_counts()"
   ]
  },
  {
   "cell_type": "code",
   "execution_count": 11,
   "id": "a3eef45a",
   "metadata": {},
   "outputs": [
    {
     "data": {
      "text/plain": [
       "United States    9994\n",
       "Name: Country, dtype: int64"
      ]
     },
     "execution_count": 11,
     "metadata": {},
     "output_type": "execute_result"
    }
   ],
   "source": [
    "df['Country'].value_counts()"
   ]
  },
  {
   "cell_type": "code",
   "execution_count": 12,
   "id": "ed36038c",
   "metadata": {
    "scrolled": true
   },
   "outputs": [
    {
     "data": {
      "text/plain": [
       "Row ID           0\n",
       "Order ID         0\n",
       "Order Date       0\n",
       "Ship Date        0\n",
       "Ship Mode        0\n",
       "Customer ID      0\n",
       "Customer Name    0\n",
       "Segment          0\n",
       "Country          0\n",
       "City             0\n",
       "State            0\n",
       "Postal Code      0\n",
       "Region           0\n",
       "Product ID       0\n",
       "Category         0\n",
       "Sub-Category     0\n",
       "Product Name     0\n",
       "Sales            0\n",
       "Quantity         0\n",
       "Discount         0\n",
       "Profit           0\n",
       "dtype: int64"
      ]
     },
     "execution_count": 12,
     "metadata": {},
     "output_type": "execute_result"
    }
   ],
   "source": [
    "df.isnull().sum()"
   ]
  },
  {
   "cell_type": "code",
   "execution_count": null,
   "id": "78c184fa",
   "metadata": {},
   "outputs": [],
   "source": []
  },
  {
   "cell_type": "code",
   "execution_count": 13,
   "id": "e6c6bcea",
   "metadata": {},
   "outputs": [
    {
     "data": {
      "text/html": [
       "<div>\n",
       "<style scoped>\n",
       "    .dataframe tbody tr th:only-of-type {\n",
       "        vertical-align: middle;\n",
       "    }\n",
       "\n",
       "    .dataframe tbody tr th {\n",
       "        vertical-align: top;\n",
       "    }\n",
       "\n",
       "    .dataframe thead th {\n",
       "        text-align: right;\n",
       "    }\n",
       "</style>\n",
       "<table border=\"1\" class=\"dataframe\">\n",
       "  <thead>\n",
       "    <tr style=\"text-align: right;\">\n",
       "      <th></th>\n",
       "      <th>Row ID</th>\n",
       "      <th>Order ID</th>\n",
       "      <th>Order Date</th>\n",
       "      <th>Ship Date</th>\n",
       "      <th>Ship Mode</th>\n",
       "      <th>Customer ID</th>\n",
       "      <th>Customer Name</th>\n",
       "      <th>Segment</th>\n",
       "      <th>Country</th>\n",
       "      <th>City</th>\n",
       "      <th>...</th>\n",
       "      <th>Postal Code</th>\n",
       "      <th>Region</th>\n",
       "      <th>Product ID</th>\n",
       "      <th>Category</th>\n",
       "      <th>Sub-Category</th>\n",
       "      <th>Product Name</th>\n",
       "      <th>Sales</th>\n",
       "      <th>Quantity</th>\n",
       "      <th>Discount</th>\n",
       "      <th>Profit</th>\n",
       "    </tr>\n",
       "  </thead>\n",
       "  <tbody>\n",
       "  </tbody>\n",
       "</table>\n",
       "<p>0 rows × 21 columns</p>\n",
       "</div>"
      ],
      "text/plain": [
       "Empty DataFrame\n",
       "Columns: [Row ID, Order ID, Order Date, Ship Date, Ship Mode, Customer ID, Customer Name, Segment, Country, City, State, Postal Code, Region, Product ID, Category, Sub-Category, Product Name, Sales, Quantity, Discount, Profit]\n",
       "Index: []\n",
       "\n",
       "[0 rows x 21 columns]"
      ]
     },
     "execution_count": 13,
     "metadata": {},
     "output_type": "execute_result"
    }
   ],
   "source": [
    "df.loc[df.duplicated()]  ## No duplicates"
   ]
  },
  {
   "cell_type": "code",
   "execution_count": 14,
   "id": "65c3eae8",
   "metadata": {},
   "outputs": [
    {
     "data": {
      "text/html": [
       "<div>\n",
       "<style scoped>\n",
       "    .dataframe tbody tr th:only-of-type {\n",
       "        vertical-align: middle;\n",
       "    }\n",
       "\n",
       "    .dataframe tbody tr th {\n",
       "        vertical-align: top;\n",
       "    }\n",
       "\n",
       "    .dataframe thead th {\n",
       "        text-align: right;\n",
       "    }\n",
       "</style>\n",
       "<table border=\"1\" class=\"dataframe\">\n",
       "  <thead>\n",
       "    <tr style=\"text-align: right;\">\n",
       "      <th></th>\n",
       "      <th>Order ID</th>\n",
       "      <th>Order Date</th>\n",
       "      <th>Ship Date</th>\n",
       "      <th>Ship Mode</th>\n",
       "      <th>Customer ID</th>\n",
       "      <th>Customer Name</th>\n",
       "      <th>Segment</th>\n",
       "      <th>City</th>\n",
       "      <th>State</th>\n",
       "      <th>Postal Code</th>\n",
       "      <th>Region</th>\n",
       "      <th>Product ID</th>\n",
       "      <th>Category</th>\n",
       "      <th>Sub-Category</th>\n",
       "      <th>Product Name</th>\n",
       "      <th>Sales</th>\n",
       "      <th>Quantity</th>\n",
       "      <th>Discount</th>\n",
       "      <th>Profit</th>\n",
       "    </tr>\n",
       "  </thead>\n",
       "  <tbody>\n",
       "    <tr>\n",
       "      <th>0</th>\n",
       "      <td>CA-2016-152156</td>\n",
       "      <td>2016-11-08</td>\n",
       "      <td>2016-11-11</td>\n",
       "      <td>Second Class</td>\n",
       "      <td>CG-12520</td>\n",
       "      <td>Claire Gute</td>\n",
       "      <td>Consumer</td>\n",
       "      <td>Henderson</td>\n",
       "      <td>Kentucky</td>\n",
       "      <td>42420</td>\n",
       "      <td>South</td>\n",
       "      <td>FUR-BO-10001798</td>\n",
       "      <td>Furniture</td>\n",
       "      <td>Bookcases</td>\n",
       "      <td>Bush Somerset Collection Bookcase</td>\n",
       "      <td>261.9600</td>\n",
       "      <td>2</td>\n",
       "      <td>0.00</td>\n",
       "      <td>41.9136</td>\n",
       "    </tr>\n",
       "    <tr>\n",
       "      <th>1</th>\n",
       "      <td>CA-2016-152156</td>\n",
       "      <td>2016-11-08</td>\n",
       "      <td>2016-11-11</td>\n",
       "      <td>Second Class</td>\n",
       "      <td>CG-12520</td>\n",
       "      <td>Claire Gute</td>\n",
       "      <td>Consumer</td>\n",
       "      <td>Henderson</td>\n",
       "      <td>Kentucky</td>\n",
       "      <td>42420</td>\n",
       "      <td>South</td>\n",
       "      <td>FUR-CH-10000454</td>\n",
       "      <td>Furniture</td>\n",
       "      <td>Chairs</td>\n",
       "      <td>Hon Deluxe Fabric Upholstered Stacking Chairs,...</td>\n",
       "      <td>731.9400</td>\n",
       "      <td>3</td>\n",
       "      <td>0.00</td>\n",
       "      <td>219.5820</td>\n",
       "    </tr>\n",
       "    <tr>\n",
       "      <th>2</th>\n",
       "      <td>CA-2016-138688</td>\n",
       "      <td>2016-06-12</td>\n",
       "      <td>2016-06-16</td>\n",
       "      <td>Second Class</td>\n",
       "      <td>DV-13045</td>\n",
       "      <td>Darrin Van Huff</td>\n",
       "      <td>Corporate</td>\n",
       "      <td>Los Angeles</td>\n",
       "      <td>California</td>\n",
       "      <td>90036</td>\n",
       "      <td>West</td>\n",
       "      <td>OFF-LA-10000240</td>\n",
       "      <td>Office Supplies</td>\n",
       "      <td>Labels</td>\n",
       "      <td>Self-Adhesive Address Labels for Typewriters b...</td>\n",
       "      <td>14.6200</td>\n",
       "      <td>2</td>\n",
       "      <td>0.00</td>\n",
       "      <td>6.8714</td>\n",
       "    </tr>\n",
       "    <tr>\n",
       "      <th>3</th>\n",
       "      <td>US-2015-108966</td>\n",
       "      <td>2015-10-11</td>\n",
       "      <td>2015-10-18</td>\n",
       "      <td>Standard Class</td>\n",
       "      <td>SO-20335</td>\n",
       "      <td>Sean O'Donnell</td>\n",
       "      <td>Consumer</td>\n",
       "      <td>Fort Lauderdale</td>\n",
       "      <td>Florida</td>\n",
       "      <td>33311</td>\n",
       "      <td>South</td>\n",
       "      <td>FUR-TA-10000577</td>\n",
       "      <td>Furniture</td>\n",
       "      <td>Tables</td>\n",
       "      <td>Bretford CR4500 Series Slim Rectangular Table</td>\n",
       "      <td>957.5775</td>\n",
       "      <td>5</td>\n",
       "      <td>0.45</td>\n",
       "      <td>-383.0310</td>\n",
       "    </tr>\n",
       "    <tr>\n",
       "      <th>4</th>\n",
       "      <td>US-2015-108966</td>\n",
       "      <td>2015-10-11</td>\n",
       "      <td>2015-10-18</td>\n",
       "      <td>Standard Class</td>\n",
       "      <td>SO-20335</td>\n",
       "      <td>Sean O'Donnell</td>\n",
       "      <td>Consumer</td>\n",
       "      <td>Fort Lauderdale</td>\n",
       "      <td>Florida</td>\n",
       "      <td>33311</td>\n",
       "      <td>South</td>\n",
       "      <td>OFF-ST-10000760</td>\n",
       "      <td>Office Supplies</td>\n",
       "      <td>Storage</td>\n",
       "      <td>Eldon Fold 'N Roll Cart System</td>\n",
       "      <td>22.3680</td>\n",
       "      <td>2</td>\n",
       "      <td>0.20</td>\n",
       "      <td>2.5164</td>\n",
       "    </tr>\n",
       "  </tbody>\n",
       "</table>\n",
       "</div>"
      ],
      "text/plain": [
       "         Order ID Order Date  Ship Date       Ship Mode Customer ID  \\\n",
       "0  CA-2016-152156 2016-11-08 2016-11-11    Second Class    CG-12520   \n",
       "1  CA-2016-152156 2016-11-08 2016-11-11    Second Class    CG-12520   \n",
       "2  CA-2016-138688 2016-06-12 2016-06-16    Second Class    DV-13045   \n",
       "3  US-2015-108966 2015-10-11 2015-10-18  Standard Class    SO-20335   \n",
       "4  US-2015-108966 2015-10-11 2015-10-18  Standard Class    SO-20335   \n",
       "\n",
       "     Customer Name    Segment             City       State  Postal Code  \\\n",
       "0      Claire Gute   Consumer        Henderson    Kentucky        42420   \n",
       "1      Claire Gute   Consumer        Henderson    Kentucky        42420   \n",
       "2  Darrin Van Huff  Corporate      Los Angeles  California        90036   \n",
       "3   Sean O'Donnell   Consumer  Fort Lauderdale     Florida        33311   \n",
       "4   Sean O'Donnell   Consumer  Fort Lauderdale     Florida        33311   \n",
       "\n",
       "  Region       Product ID         Category Sub-Category  \\\n",
       "0  South  FUR-BO-10001798        Furniture    Bookcases   \n",
       "1  South  FUR-CH-10000454        Furniture       Chairs   \n",
       "2   West  OFF-LA-10000240  Office Supplies       Labels   \n",
       "3  South  FUR-TA-10000577        Furniture       Tables   \n",
       "4  South  OFF-ST-10000760  Office Supplies      Storage   \n",
       "\n",
       "                                        Product Name     Sales  Quantity  \\\n",
       "0                  Bush Somerset Collection Bookcase  261.9600         2   \n",
       "1  Hon Deluxe Fabric Upholstered Stacking Chairs,...  731.9400         3   \n",
       "2  Self-Adhesive Address Labels for Typewriters b...   14.6200         2   \n",
       "3      Bretford CR4500 Series Slim Rectangular Table  957.5775         5   \n",
       "4                     Eldon Fold 'N Roll Cart System   22.3680         2   \n",
       "\n",
       "   Discount    Profit  \n",
       "0      0.00   41.9136  \n",
       "1      0.00  219.5820  \n",
       "2      0.00    6.8714  \n",
       "3      0.45 -383.0310  \n",
       "4      0.20    2.5164  "
      ]
     },
     "execution_count": 14,
     "metadata": {},
     "output_type": "execute_result"
    }
   ],
   "source": [
    "## remove redudant column Row ID and only one country US\n",
    "df.drop(['Row ID', 'Country'], axis = 1, inplace = True)\n",
    "df.head()"
   ]
  },
  {
   "cell_type": "code",
   "execution_count": 15,
   "id": "6f450cdb",
   "metadata": {},
   "outputs": [
    {
     "data": {
      "text/html": [
       "<div>\n",
       "<style scoped>\n",
       "    .dataframe tbody tr th:only-of-type {\n",
       "        vertical-align: middle;\n",
       "    }\n",
       "\n",
       "    .dataframe tbody tr th {\n",
       "        vertical-align: top;\n",
       "    }\n",
       "\n",
       "    .dataframe thead th {\n",
       "        text-align: right;\n",
       "    }\n",
       "</style>\n",
       "<table border=\"1\" class=\"dataframe\">\n",
       "  <thead>\n",
       "    <tr style=\"text-align: right;\">\n",
       "      <th></th>\n",
       "      <th>Order ID</th>\n",
       "      <th>Order Date</th>\n",
       "      <th>Ship Date</th>\n",
       "      <th>Ship Mode</th>\n",
       "      <th>Customer ID</th>\n",
       "      <th>Customer Name</th>\n",
       "      <th>Segment</th>\n",
       "      <th>City</th>\n",
       "      <th>State</th>\n",
       "      <th>Postal Code</th>\n",
       "      <th>Region</th>\n",
       "      <th>Product ID</th>\n",
       "      <th>Category</th>\n",
       "      <th>Sub-Category</th>\n",
       "      <th>Product Name</th>\n",
       "      <th>Sales</th>\n",
       "      <th>Quantity</th>\n",
       "      <th>Discount</th>\n",
       "      <th>Profit</th>\n",
       "      <th>Profitable</th>\n",
       "    </tr>\n",
       "  </thead>\n",
       "  <tbody>\n",
       "    <tr>\n",
       "      <th>0</th>\n",
       "      <td>CA-2016-152156</td>\n",
       "      <td>2016-11-08</td>\n",
       "      <td>2016-11-11</td>\n",
       "      <td>Second Class</td>\n",
       "      <td>CG-12520</td>\n",
       "      <td>Claire Gute</td>\n",
       "      <td>Consumer</td>\n",
       "      <td>Henderson</td>\n",
       "      <td>Kentucky</td>\n",
       "      <td>42420</td>\n",
       "      <td>South</td>\n",
       "      <td>FUR-BO-10001798</td>\n",
       "      <td>Furniture</td>\n",
       "      <td>Bookcases</td>\n",
       "      <td>Bush Somerset Collection Bookcase</td>\n",
       "      <td>261.9600</td>\n",
       "      <td>2</td>\n",
       "      <td>0.00</td>\n",
       "      <td>41.9136</td>\n",
       "      <td>Yes</td>\n",
       "    </tr>\n",
       "    <tr>\n",
       "      <th>1</th>\n",
       "      <td>CA-2016-152156</td>\n",
       "      <td>2016-11-08</td>\n",
       "      <td>2016-11-11</td>\n",
       "      <td>Second Class</td>\n",
       "      <td>CG-12520</td>\n",
       "      <td>Claire Gute</td>\n",
       "      <td>Consumer</td>\n",
       "      <td>Henderson</td>\n",
       "      <td>Kentucky</td>\n",
       "      <td>42420</td>\n",
       "      <td>South</td>\n",
       "      <td>FUR-CH-10000454</td>\n",
       "      <td>Furniture</td>\n",
       "      <td>Chairs</td>\n",
       "      <td>Hon Deluxe Fabric Upholstered Stacking Chairs,...</td>\n",
       "      <td>731.9400</td>\n",
       "      <td>3</td>\n",
       "      <td>0.00</td>\n",
       "      <td>219.5820</td>\n",
       "      <td>Yes</td>\n",
       "    </tr>\n",
       "    <tr>\n",
       "      <th>2</th>\n",
       "      <td>CA-2016-138688</td>\n",
       "      <td>2016-06-12</td>\n",
       "      <td>2016-06-16</td>\n",
       "      <td>Second Class</td>\n",
       "      <td>DV-13045</td>\n",
       "      <td>Darrin Van Huff</td>\n",
       "      <td>Corporate</td>\n",
       "      <td>Los Angeles</td>\n",
       "      <td>California</td>\n",
       "      <td>90036</td>\n",
       "      <td>West</td>\n",
       "      <td>OFF-LA-10000240</td>\n",
       "      <td>Office Supplies</td>\n",
       "      <td>Labels</td>\n",
       "      <td>Self-Adhesive Address Labels for Typewriters b...</td>\n",
       "      <td>14.6200</td>\n",
       "      <td>2</td>\n",
       "      <td>0.00</td>\n",
       "      <td>6.8714</td>\n",
       "      <td>Yes</td>\n",
       "    </tr>\n",
       "    <tr>\n",
       "      <th>3</th>\n",
       "      <td>US-2015-108966</td>\n",
       "      <td>2015-10-11</td>\n",
       "      <td>2015-10-18</td>\n",
       "      <td>Standard Class</td>\n",
       "      <td>SO-20335</td>\n",
       "      <td>Sean O'Donnell</td>\n",
       "      <td>Consumer</td>\n",
       "      <td>Fort Lauderdale</td>\n",
       "      <td>Florida</td>\n",
       "      <td>33311</td>\n",
       "      <td>South</td>\n",
       "      <td>FUR-TA-10000577</td>\n",
       "      <td>Furniture</td>\n",
       "      <td>Tables</td>\n",
       "      <td>Bretford CR4500 Series Slim Rectangular Table</td>\n",
       "      <td>957.5775</td>\n",
       "      <td>5</td>\n",
       "      <td>0.45</td>\n",
       "      <td>-383.0310</td>\n",
       "      <td>No</td>\n",
       "    </tr>\n",
       "    <tr>\n",
       "      <th>4</th>\n",
       "      <td>US-2015-108966</td>\n",
       "      <td>2015-10-11</td>\n",
       "      <td>2015-10-18</td>\n",
       "      <td>Standard Class</td>\n",
       "      <td>SO-20335</td>\n",
       "      <td>Sean O'Donnell</td>\n",
       "      <td>Consumer</td>\n",
       "      <td>Fort Lauderdale</td>\n",
       "      <td>Florida</td>\n",
       "      <td>33311</td>\n",
       "      <td>South</td>\n",
       "      <td>OFF-ST-10000760</td>\n",
       "      <td>Office Supplies</td>\n",
       "      <td>Storage</td>\n",
       "      <td>Eldon Fold 'N Roll Cart System</td>\n",
       "      <td>22.3680</td>\n",
       "      <td>2</td>\n",
       "      <td>0.20</td>\n",
       "      <td>2.5164</td>\n",
       "      <td>Yes</td>\n",
       "    </tr>\n",
       "  </tbody>\n",
       "</table>\n",
       "</div>"
      ],
      "text/plain": [
       "         Order ID Order Date  Ship Date       Ship Mode Customer ID  \\\n",
       "0  CA-2016-152156 2016-11-08 2016-11-11    Second Class    CG-12520   \n",
       "1  CA-2016-152156 2016-11-08 2016-11-11    Second Class    CG-12520   \n",
       "2  CA-2016-138688 2016-06-12 2016-06-16    Second Class    DV-13045   \n",
       "3  US-2015-108966 2015-10-11 2015-10-18  Standard Class    SO-20335   \n",
       "4  US-2015-108966 2015-10-11 2015-10-18  Standard Class    SO-20335   \n",
       "\n",
       "     Customer Name    Segment             City       State  Postal Code  \\\n",
       "0      Claire Gute   Consumer        Henderson    Kentucky        42420   \n",
       "1      Claire Gute   Consumer        Henderson    Kentucky        42420   \n",
       "2  Darrin Van Huff  Corporate      Los Angeles  California        90036   \n",
       "3   Sean O'Donnell   Consumer  Fort Lauderdale     Florida        33311   \n",
       "4   Sean O'Donnell   Consumer  Fort Lauderdale     Florida        33311   \n",
       "\n",
       "  Region       Product ID         Category Sub-Category  \\\n",
       "0  South  FUR-BO-10001798        Furniture    Bookcases   \n",
       "1  South  FUR-CH-10000454        Furniture       Chairs   \n",
       "2   West  OFF-LA-10000240  Office Supplies       Labels   \n",
       "3  South  FUR-TA-10000577        Furniture       Tables   \n",
       "4  South  OFF-ST-10000760  Office Supplies      Storage   \n",
       "\n",
       "                                        Product Name     Sales  Quantity  \\\n",
       "0                  Bush Somerset Collection Bookcase  261.9600         2   \n",
       "1  Hon Deluxe Fabric Upholstered Stacking Chairs,...  731.9400         3   \n",
       "2  Self-Adhesive Address Labels for Typewriters b...   14.6200         2   \n",
       "3      Bretford CR4500 Series Slim Rectangular Table  957.5775         5   \n",
       "4                     Eldon Fold 'N Roll Cart System   22.3680         2   \n",
       "\n",
       "   Discount    Profit Profitable  \n",
       "0      0.00   41.9136        Yes  \n",
       "1      0.00  219.5820        Yes  \n",
       "2      0.00    6.8714        Yes  \n",
       "3      0.45 -383.0310         No  \n",
       "4      0.20    2.5164        Yes  "
      ]
     },
     "execution_count": 15,
     "metadata": {},
     "output_type": "execute_result"
    }
   ],
   "source": [
    "## Create a column to see which items were profitable or not\n",
    "df['Profitable'] = np.where(df['Profit'] > 0, 'Yes', 'No')\n",
    "df.head()"
   ]
  },
  {
   "cell_type": "code",
   "execution_count": 16,
   "id": "fa8b29b0",
   "metadata": {},
   "outputs": [
    {
     "data": {
      "text/html": [
       "<div>\n",
       "<style scoped>\n",
       "    .dataframe tbody tr th:only-of-type {\n",
       "        vertical-align: middle;\n",
       "    }\n",
       "\n",
       "    .dataframe tbody tr th {\n",
       "        vertical-align: top;\n",
       "    }\n",
       "\n",
       "    .dataframe thead th {\n",
       "        text-align: right;\n",
       "    }\n",
       "</style>\n",
       "<table border=\"1\" class=\"dataframe\">\n",
       "  <thead>\n",
       "    <tr style=\"text-align: right;\">\n",
       "      <th></th>\n",
       "      <th>Order ID</th>\n",
       "      <th>Order Date</th>\n",
       "      <th>Ship Date</th>\n",
       "      <th>Ship Mode</th>\n",
       "      <th>Customer ID</th>\n",
       "      <th>Customer Name</th>\n",
       "      <th>Segment</th>\n",
       "      <th>City</th>\n",
       "      <th>State</th>\n",
       "      <th>Postal Code</th>\n",
       "      <th>Region</th>\n",
       "      <th>Product ID</th>\n",
       "      <th>Category</th>\n",
       "      <th>Sub-Category</th>\n",
       "      <th>Product Name</th>\n",
       "      <th>Sales</th>\n",
       "      <th>Quantity</th>\n",
       "      <th>Discount</th>\n",
       "      <th>Profit</th>\n",
       "      <th>Profitable</th>\n",
       "    </tr>\n",
       "  </thead>\n",
       "  <tbody>\n",
       "    <tr>\n",
       "      <th>7980</th>\n",
       "      <td>CA-2014-103800</td>\n",
       "      <td>2014-01-03</td>\n",
       "      <td>2014-01-07</td>\n",
       "      <td>Standard Class</td>\n",
       "      <td>DP-13000</td>\n",
       "      <td>Darren Powers</td>\n",
       "      <td>Consumer</td>\n",
       "      <td>Houston</td>\n",
       "      <td>Texas</td>\n",
       "      <td>77095</td>\n",
       "      <td>Central</td>\n",
       "      <td>OFF-PA-10000174</td>\n",
       "      <td>Office Supplies</td>\n",
       "      <td>Paper</td>\n",
       "      <td>Message Book, Wirebound, Four 5 1/2\" X 4\" Form...</td>\n",
       "      <td>16.448</td>\n",
       "      <td>2</td>\n",
       "      <td>0.2</td>\n",
       "      <td>5.5512</td>\n",
       "      <td>Yes</td>\n",
       "    </tr>\n",
       "    <tr>\n",
       "      <th>739</th>\n",
       "      <td>CA-2014-112326</td>\n",
       "      <td>2014-01-04</td>\n",
       "      <td>2014-01-08</td>\n",
       "      <td>Standard Class</td>\n",
       "      <td>PO-19195</td>\n",
       "      <td>Phillina Ober</td>\n",
       "      <td>Home Office</td>\n",
       "      <td>Naperville</td>\n",
       "      <td>Illinois</td>\n",
       "      <td>60540</td>\n",
       "      <td>Central</td>\n",
       "      <td>OFF-LA-10003223</td>\n",
       "      <td>Office Supplies</td>\n",
       "      <td>Labels</td>\n",
       "      <td>Avery 508</td>\n",
       "      <td>11.784</td>\n",
       "      <td>3</td>\n",
       "      <td>0.2</td>\n",
       "      <td>4.2717</td>\n",
       "      <td>Yes</td>\n",
       "    </tr>\n",
       "    <tr>\n",
       "      <th>740</th>\n",
       "      <td>CA-2014-112326</td>\n",
       "      <td>2014-01-04</td>\n",
       "      <td>2014-01-08</td>\n",
       "      <td>Standard Class</td>\n",
       "      <td>PO-19195</td>\n",
       "      <td>Phillina Ober</td>\n",
       "      <td>Home Office</td>\n",
       "      <td>Naperville</td>\n",
       "      <td>Illinois</td>\n",
       "      <td>60540</td>\n",
       "      <td>Central</td>\n",
       "      <td>OFF-ST-10002743</td>\n",
       "      <td>Office Supplies</td>\n",
       "      <td>Storage</td>\n",
       "      <td>SAFCO Boltless Steel Shelving</td>\n",
       "      <td>272.736</td>\n",
       "      <td>3</td>\n",
       "      <td>0.2</td>\n",
       "      <td>-64.7748</td>\n",
       "      <td>No</td>\n",
       "    </tr>\n",
       "    <tr>\n",
       "      <th>741</th>\n",
       "      <td>CA-2014-112326</td>\n",
       "      <td>2014-01-04</td>\n",
       "      <td>2014-01-08</td>\n",
       "      <td>Standard Class</td>\n",
       "      <td>PO-19195</td>\n",
       "      <td>Phillina Ober</td>\n",
       "      <td>Home Office</td>\n",
       "      <td>Naperville</td>\n",
       "      <td>Illinois</td>\n",
       "      <td>60540</td>\n",
       "      <td>Central</td>\n",
       "      <td>OFF-BI-10004094</td>\n",
       "      <td>Office Supplies</td>\n",
       "      <td>Binders</td>\n",
       "      <td>GBC Standard Plastic Binding Systems Combs</td>\n",
       "      <td>3.540</td>\n",
       "      <td>2</td>\n",
       "      <td>0.8</td>\n",
       "      <td>-5.4870</td>\n",
       "      <td>No</td>\n",
       "    </tr>\n",
       "    <tr>\n",
       "      <th>1759</th>\n",
       "      <td>CA-2014-141817</td>\n",
       "      <td>2014-01-05</td>\n",
       "      <td>2014-01-12</td>\n",
       "      <td>Standard Class</td>\n",
       "      <td>MB-18085</td>\n",
       "      <td>Mick Brown</td>\n",
       "      <td>Consumer</td>\n",
       "      <td>Philadelphia</td>\n",
       "      <td>Pennsylvania</td>\n",
       "      <td>19143</td>\n",
       "      <td>East</td>\n",
       "      <td>OFF-AR-10003478</td>\n",
       "      <td>Office Supplies</td>\n",
       "      <td>Art</td>\n",
       "      <td>Avery Hi-Liter EverBold Pen Style Fluorescent ...</td>\n",
       "      <td>19.536</td>\n",
       "      <td>3</td>\n",
       "      <td>0.2</td>\n",
       "      <td>4.8840</td>\n",
       "      <td>Yes</td>\n",
       "    </tr>\n",
       "    <tr>\n",
       "      <th>...</th>\n",
       "      <td>...</td>\n",
       "      <td>...</td>\n",
       "      <td>...</td>\n",
       "      <td>...</td>\n",
       "      <td>...</td>\n",
       "      <td>...</td>\n",
       "      <td>...</td>\n",
       "      <td>...</td>\n",
       "      <td>...</td>\n",
       "      <td>...</td>\n",
       "      <td>...</td>\n",
       "      <td>...</td>\n",
       "      <td>...</td>\n",
       "      <td>...</td>\n",
       "      <td>...</td>\n",
       "      <td>...</td>\n",
       "      <td>...</td>\n",
       "      <td>...</td>\n",
       "      <td>...</td>\n",
       "      <td>...</td>\n",
       "    </tr>\n",
       "    <tr>\n",
       "      <th>5091</th>\n",
       "      <td>CA-2017-156720</td>\n",
       "      <td>2017-12-30</td>\n",
       "      <td>2018-01-03</td>\n",
       "      <td>Standard Class</td>\n",
       "      <td>JM-15580</td>\n",
       "      <td>Jill Matthias</td>\n",
       "      <td>Consumer</td>\n",
       "      <td>Loveland</td>\n",
       "      <td>Colorado</td>\n",
       "      <td>80538</td>\n",
       "      <td>West</td>\n",
       "      <td>OFF-FA-10003472</td>\n",
       "      <td>Office Supplies</td>\n",
       "      <td>Fasteners</td>\n",
       "      <td>Bagged Rubber Bands</td>\n",
       "      <td>3.024</td>\n",
       "      <td>3</td>\n",
       "      <td>0.2</td>\n",
       "      <td>-0.6048</td>\n",
       "      <td>No</td>\n",
       "    </tr>\n",
       "    <tr>\n",
       "      <th>908</th>\n",
       "      <td>CA-2017-143259</td>\n",
       "      <td>2017-12-30</td>\n",
       "      <td>2018-01-03</td>\n",
       "      <td>Standard Class</td>\n",
       "      <td>PO-18865</td>\n",
       "      <td>Patrick O'Donnell</td>\n",
       "      <td>Consumer</td>\n",
       "      <td>New York City</td>\n",
       "      <td>New York</td>\n",
       "      <td>10009</td>\n",
       "      <td>East</td>\n",
       "      <td>OFF-BI-10003684</td>\n",
       "      <td>Office Supplies</td>\n",
       "      <td>Binders</td>\n",
       "      <td>Wilson Jones Legal Size Ring Binders</td>\n",
       "      <td>52.776</td>\n",
       "      <td>3</td>\n",
       "      <td>0.2</td>\n",
       "      <td>19.7910</td>\n",
       "      <td>Yes</td>\n",
       "    </tr>\n",
       "    <tr>\n",
       "      <th>907</th>\n",
       "      <td>CA-2017-143259</td>\n",
       "      <td>2017-12-30</td>\n",
       "      <td>2018-01-03</td>\n",
       "      <td>Standard Class</td>\n",
       "      <td>PO-18865</td>\n",
       "      <td>Patrick O'Donnell</td>\n",
       "      <td>Consumer</td>\n",
       "      <td>New York City</td>\n",
       "      <td>New York</td>\n",
       "      <td>10009</td>\n",
       "      <td>East</td>\n",
       "      <td>TEC-PH-10004774</td>\n",
       "      <td>Technology</td>\n",
       "      <td>Phones</td>\n",
       "      <td>Gear Head AU3700S Headset</td>\n",
       "      <td>90.930</td>\n",
       "      <td>7</td>\n",
       "      <td>0.0</td>\n",
       "      <td>2.7279</td>\n",
       "      <td>Yes</td>\n",
       "    </tr>\n",
       "    <tr>\n",
       "      <th>1296</th>\n",
       "      <td>CA-2017-115427</td>\n",
       "      <td>2017-12-30</td>\n",
       "      <td>2018-01-03</td>\n",
       "      <td>Standard Class</td>\n",
       "      <td>EB-13975</td>\n",
       "      <td>Erica Bern</td>\n",
       "      <td>Corporate</td>\n",
       "      <td>Fairfield</td>\n",
       "      <td>California</td>\n",
       "      <td>94533</td>\n",
       "      <td>West</td>\n",
       "      <td>OFF-BI-10002103</td>\n",
       "      <td>Office Supplies</td>\n",
       "      <td>Binders</td>\n",
       "      <td>Cardinal Slant-D Ring Binder, Heavy Gauge Vinyl</td>\n",
       "      <td>13.904</td>\n",
       "      <td>2</td>\n",
       "      <td>0.2</td>\n",
       "      <td>4.5188</td>\n",
       "      <td>Yes</td>\n",
       "    </tr>\n",
       "    <tr>\n",
       "      <th>906</th>\n",
       "      <td>CA-2017-143259</td>\n",
       "      <td>2017-12-30</td>\n",
       "      <td>2018-01-03</td>\n",
       "      <td>Standard Class</td>\n",
       "      <td>PO-18865</td>\n",
       "      <td>Patrick O'Donnell</td>\n",
       "      <td>Consumer</td>\n",
       "      <td>New York City</td>\n",
       "      <td>New York</td>\n",
       "      <td>10009</td>\n",
       "      <td>East</td>\n",
       "      <td>FUR-BO-10003441</td>\n",
       "      <td>Furniture</td>\n",
       "      <td>Bookcases</td>\n",
       "      <td>Bush Westfield Collection Bookcases, Fully Ass...</td>\n",
       "      <td>323.136</td>\n",
       "      <td>4</td>\n",
       "      <td>0.2</td>\n",
       "      <td>12.1176</td>\n",
       "      <td>Yes</td>\n",
       "    </tr>\n",
       "  </tbody>\n",
       "</table>\n",
       "<p>9994 rows × 20 columns</p>\n",
       "</div>"
      ],
      "text/plain": [
       "            Order ID Order Date  Ship Date       Ship Mode Customer ID  \\\n",
       "7980  CA-2014-103800 2014-01-03 2014-01-07  Standard Class    DP-13000   \n",
       "739   CA-2014-112326 2014-01-04 2014-01-08  Standard Class    PO-19195   \n",
       "740   CA-2014-112326 2014-01-04 2014-01-08  Standard Class    PO-19195   \n",
       "741   CA-2014-112326 2014-01-04 2014-01-08  Standard Class    PO-19195   \n",
       "1759  CA-2014-141817 2014-01-05 2014-01-12  Standard Class    MB-18085   \n",
       "...              ...        ...        ...             ...         ...   \n",
       "5091  CA-2017-156720 2017-12-30 2018-01-03  Standard Class    JM-15580   \n",
       "908   CA-2017-143259 2017-12-30 2018-01-03  Standard Class    PO-18865   \n",
       "907   CA-2017-143259 2017-12-30 2018-01-03  Standard Class    PO-18865   \n",
       "1296  CA-2017-115427 2017-12-30 2018-01-03  Standard Class    EB-13975   \n",
       "906   CA-2017-143259 2017-12-30 2018-01-03  Standard Class    PO-18865   \n",
       "\n",
       "          Customer Name      Segment           City         State  \\\n",
       "7980      Darren Powers     Consumer        Houston         Texas   \n",
       "739       Phillina Ober  Home Office     Naperville      Illinois   \n",
       "740       Phillina Ober  Home Office     Naperville      Illinois   \n",
       "741       Phillina Ober  Home Office     Naperville      Illinois   \n",
       "1759         Mick Brown     Consumer   Philadelphia  Pennsylvania   \n",
       "...                 ...          ...            ...           ...   \n",
       "5091      Jill Matthias     Consumer       Loveland      Colorado   \n",
       "908   Patrick O'Donnell     Consumer  New York City      New York   \n",
       "907   Patrick O'Donnell     Consumer  New York City      New York   \n",
       "1296         Erica Bern    Corporate      Fairfield    California   \n",
       "906   Patrick O'Donnell     Consumer  New York City      New York   \n",
       "\n",
       "      Postal Code   Region       Product ID         Category Sub-Category  \\\n",
       "7980        77095  Central  OFF-PA-10000174  Office Supplies        Paper   \n",
       "739         60540  Central  OFF-LA-10003223  Office Supplies       Labels   \n",
       "740         60540  Central  OFF-ST-10002743  Office Supplies      Storage   \n",
       "741         60540  Central  OFF-BI-10004094  Office Supplies      Binders   \n",
       "1759        19143     East  OFF-AR-10003478  Office Supplies          Art   \n",
       "...           ...      ...              ...              ...          ...   \n",
       "5091        80538     West  OFF-FA-10003472  Office Supplies    Fasteners   \n",
       "908         10009     East  OFF-BI-10003684  Office Supplies      Binders   \n",
       "907         10009     East  TEC-PH-10004774       Technology       Phones   \n",
       "1296        94533     West  OFF-BI-10002103  Office Supplies      Binders   \n",
       "906         10009     East  FUR-BO-10003441        Furniture    Bookcases   \n",
       "\n",
       "                                           Product Name    Sales  Quantity  \\\n",
       "7980  Message Book, Wirebound, Four 5 1/2\" X 4\" Form...   16.448         2   \n",
       "739                                           Avery 508   11.784         3   \n",
       "740                       SAFCO Boltless Steel Shelving  272.736         3   \n",
       "741          GBC Standard Plastic Binding Systems Combs    3.540         2   \n",
       "1759  Avery Hi-Liter EverBold Pen Style Fluorescent ...   19.536         3   \n",
       "...                                                 ...      ...       ...   \n",
       "5091                                Bagged Rubber Bands    3.024         3   \n",
       "908                Wilson Jones Legal Size Ring Binders   52.776         3   \n",
       "907                           Gear Head AU3700S Headset   90.930         7   \n",
       "1296    Cardinal Slant-D Ring Binder, Heavy Gauge Vinyl   13.904         2   \n",
       "906   Bush Westfield Collection Bookcases, Fully Ass...  323.136         4   \n",
       "\n",
       "      Discount   Profit Profitable  \n",
       "7980       0.2   5.5512        Yes  \n",
       "739        0.2   4.2717        Yes  \n",
       "740        0.2 -64.7748         No  \n",
       "741        0.8  -5.4870         No  \n",
       "1759       0.2   4.8840        Yes  \n",
       "...        ...      ...        ...  \n",
       "5091       0.2  -0.6048         No  \n",
       "908        0.2  19.7910        Yes  \n",
       "907        0.0   2.7279        Yes  \n",
       "1296       0.2   4.5188        Yes  \n",
       "906        0.2  12.1176        Yes  \n",
       "\n",
       "[9994 rows x 20 columns]"
      ]
     },
     "execution_count": 16,
     "metadata": {},
     "output_type": "execute_result"
    }
   ],
   "source": [
    "## sort the data by Order date\n",
    "\n",
    "df = df.sort_values('Order Date')\n",
    "df"
   ]
  },
  {
   "cell_type": "code",
   "execution_count": 17,
   "id": "53ccd674",
   "metadata": {},
   "outputs": [
    {
     "data": {
      "text/html": [
       "<div>\n",
       "<style scoped>\n",
       "    .dataframe tbody tr th:only-of-type {\n",
       "        vertical-align: middle;\n",
       "    }\n",
       "\n",
       "    .dataframe tbody tr th {\n",
       "        vertical-align: top;\n",
       "    }\n",
       "\n",
       "    .dataframe thead th {\n",
       "        text-align: right;\n",
       "    }\n",
       "</style>\n",
       "<table border=\"1\" class=\"dataframe\">\n",
       "  <thead>\n",
       "    <tr style=\"text-align: right;\">\n",
       "      <th></th>\n",
       "      <th>Order ID</th>\n",
       "      <th>Order Date</th>\n",
       "      <th>Ship Date</th>\n",
       "      <th>Ship Mode</th>\n",
       "      <th>Customer ID</th>\n",
       "      <th>Customer Name</th>\n",
       "      <th>Segment</th>\n",
       "      <th>City</th>\n",
       "      <th>State</th>\n",
       "      <th>Postal Code</th>\n",
       "      <th>Region</th>\n",
       "      <th>Product ID</th>\n",
       "      <th>Category</th>\n",
       "      <th>Sub-Category</th>\n",
       "      <th>Product Name</th>\n",
       "      <th>Sales</th>\n",
       "      <th>Quantity</th>\n",
       "      <th>Discount</th>\n",
       "      <th>Profit</th>\n",
       "      <th>Profitable</th>\n",
       "    </tr>\n",
       "  </thead>\n",
       "  <tbody>\n",
       "    <tr>\n",
       "      <th>0</th>\n",
       "      <td>CA-2014-103800</td>\n",
       "      <td>2014-01-03</td>\n",
       "      <td>2014-01-07</td>\n",
       "      <td>Standard Class</td>\n",
       "      <td>DP-13000</td>\n",
       "      <td>Darren Powers</td>\n",
       "      <td>Consumer</td>\n",
       "      <td>Houston</td>\n",
       "      <td>Texas</td>\n",
       "      <td>77095</td>\n",
       "      <td>Central</td>\n",
       "      <td>OFF-PA-10000174</td>\n",
       "      <td>Office Supplies</td>\n",
       "      <td>Paper</td>\n",
       "      <td>Message Book, Wirebound, Four 5 1/2\" X 4\" Form...</td>\n",
       "      <td>16.448</td>\n",
       "      <td>2</td>\n",
       "      <td>0.2</td>\n",
       "      <td>5.5512</td>\n",
       "      <td>Yes</td>\n",
       "    </tr>\n",
       "    <tr>\n",
       "      <th>1</th>\n",
       "      <td>CA-2014-112326</td>\n",
       "      <td>2014-01-04</td>\n",
       "      <td>2014-01-08</td>\n",
       "      <td>Standard Class</td>\n",
       "      <td>PO-19195</td>\n",
       "      <td>Phillina Ober</td>\n",
       "      <td>Home Office</td>\n",
       "      <td>Naperville</td>\n",
       "      <td>Illinois</td>\n",
       "      <td>60540</td>\n",
       "      <td>Central</td>\n",
       "      <td>OFF-LA-10003223</td>\n",
       "      <td>Office Supplies</td>\n",
       "      <td>Labels</td>\n",
       "      <td>Avery 508</td>\n",
       "      <td>11.784</td>\n",
       "      <td>3</td>\n",
       "      <td>0.2</td>\n",
       "      <td>4.2717</td>\n",
       "      <td>Yes</td>\n",
       "    </tr>\n",
       "    <tr>\n",
       "      <th>2</th>\n",
       "      <td>CA-2014-112326</td>\n",
       "      <td>2014-01-04</td>\n",
       "      <td>2014-01-08</td>\n",
       "      <td>Standard Class</td>\n",
       "      <td>PO-19195</td>\n",
       "      <td>Phillina Ober</td>\n",
       "      <td>Home Office</td>\n",
       "      <td>Naperville</td>\n",
       "      <td>Illinois</td>\n",
       "      <td>60540</td>\n",
       "      <td>Central</td>\n",
       "      <td>OFF-ST-10002743</td>\n",
       "      <td>Office Supplies</td>\n",
       "      <td>Storage</td>\n",
       "      <td>SAFCO Boltless Steel Shelving</td>\n",
       "      <td>272.736</td>\n",
       "      <td>3</td>\n",
       "      <td>0.2</td>\n",
       "      <td>-64.7748</td>\n",
       "      <td>No</td>\n",
       "    </tr>\n",
       "    <tr>\n",
       "      <th>3</th>\n",
       "      <td>CA-2014-112326</td>\n",
       "      <td>2014-01-04</td>\n",
       "      <td>2014-01-08</td>\n",
       "      <td>Standard Class</td>\n",
       "      <td>PO-19195</td>\n",
       "      <td>Phillina Ober</td>\n",
       "      <td>Home Office</td>\n",
       "      <td>Naperville</td>\n",
       "      <td>Illinois</td>\n",
       "      <td>60540</td>\n",
       "      <td>Central</td>\n",
       "      <td>OFF-BI-10004094</td>\n",
       "      <td>Office Supplies</td>\n",
       "      <td>Binders</td>\n",
       "      <td>GBC Standard Plastic Binding Systems Combs</td>\n",
       "      <td>3.540</td>\n",
       "      <td>2</td>\n",
       "      <td>0.8</td>\n",
       "      <td>-5.4870</td>\n",
       "      <td>No</td>\n",
       "    </tr>\n",
       "    <tr>\n",
       "      <th>4</th>\n",
       "      <td>CA-2014-141817</td>\n",
       "      <td>2014-01-05</td>\n",
       "      <td>2014-01-12</td>\n",
       "      <td>Standard Class</td>\n",
       "      <td>MB-18085</td>\n",
       "      <td>Mick Brown</td>\n",
       "      <td>Consumer</td>\n",
       "      <td>Philadelphia</td>\n",
       "      <td>Pennsylvania</td>\n",
       "      <td>19143</td>\n",
       "      <td>East</td>\n",
       "      <td>OFF-AR-10003478</td>\n",
       "      <td>Office Supplies</td>\n",
       "      <td>Art</td>\n",
       "      <td>Avery Hi-Liter EverBold Pen Style Fluorescent ...</td>\n",
       "      <td>19.536</td>\n",
       "      <td>3</td>\n",
       "      <td>0.2</td>\n",
       "      <td>4.8840</td>\n",
       "      <td>Yes</td>\n",
       "    </tr>\n",
       "    <tr>\n",
       "      <th>...</th>\n",
       "      <td>...</td>\n",
       "      <td>...</td>\n",
       "      <td>...</td>\n",
       "      <td>...</td>\n",
       "      <td>...</td>\n",
       "      <td>...</td>\n",
       "      <td>...</td>\n",
       "      <td>...</td>\n",
       "      <td>...</td>\n",
       "      <td>...</td>\n",
       "      <td>...</td>\n",
       "      <td>...</td>\n",
       "      <td>...</td>\n",
       "      <td>...</td>\n",
       "      <td>...</td>\n",
       "      <td>...</td>\n",
       "      <td>...</td>\n",
       "      <td>...</td>\n",
       "      <td>...</td>\n",
       "      <td>...</td>\n",
       "    </tr>\n",
       "    <tr>\n",
       "      <th>9989</th>\n",
       "      <td>CA-2017-156720</td>\n",
       "      <td>2017-12-30</td>\n",
       "      <td>2018-01-03</td>\n",
       "      <td>Standard Class</td>\n",
       "      <td>JM-15580</td>\n",
       "      <td>Jill Matthias</td>\n",
       "      <td>Consumer</td>\n",
       "      <td>Loveland</td>\n",
       "      <td>Colorado</td>\n",
       "      <td>80538</td>\n",
       "      <td>West</td>\n",
       "      <td>OFF-FA-10003472</td>\n",
       "      <td>Office Supplies</td>\n",
       "      <td>Fasteners</td>\n",
       "      <td>Bagged Rubber Bands</td>\n",
       "      <td>3.024</td>\n",
       "      <td>3</td>\n",
       "      <td>0.2</td>\n",
       "      <td>-0.6048</td>\n",
       "      <td>No</td>\n",
       "    </tr>\n",
       "    <tr>\n",
       "      <th>9990</th>\n",
       "      <td>CA-2017-143259</td>\n",
       "      <td>2017-12-30</td>\n",
       "      <td>2018-01-03</td>\n",
       "      <td>Standard Class</td>\n",
       "      <td>PO-18865</td>\n",
       "      <td>Patrick O'Donnell</td>\n",
       "      <td>Consumer</td>\n",
       "      <td>New York City</td>\n",
       "      <td>New York</td>\n",
       "      <td>10009</td>\n",
       "      <td>East</td>\n",
       "      <td>OFF-BI-10003684</td>\n",
       "      <td>Office Supplies</td>\n",
       "      <td>Binders</td>\n",
       "      <td>Wilson Jones Legal Size Ring Binders</td>\n",
       "      <td>52.776</td>\n",
       "      <td>3</td>\n",
       "      <td>0.2</td>\n",
       "      <td>19.7910</td>\n",
       "      <td>Yes</td>\n",
       "    </tr>\n",
       "    <tr>\n",
       "      <th>9991</th>\n",
       "      <td>CA-2017-143259</td>\n",
       "      <td>2017-12-30</td>\n",
       "      <td>2018-01-03</td>\n",
       "      <td>Standard Class</td>\n",
       "      <td>PO-18865</td>\n",
       "      <td>Patrick O'Donnell</td>\n",
       "      <td>Consumer</td>\n",
       "      <td>New York City</td>\n",
       "      <td>New York</td>\n",
       "      <td>10009</td>\n",
       "      <td>East</td>\n",
       "      <td>TEC-PH-10004774</td>\n",
       "      <td>Technology</td>\n",
       "      <td>Phones</td>\n",
       "      <td>Gear Head AU3700S Headset</td>\n",
       "      <td>90.930</td>\n",
       "      <td>7</td>\n",
       "      <td>0.0</td>\n",
       "      <td>2.7279</td>\n",
       "      <td>Yes</td>\n",
       "    </tr>\n",
       "    <tr>\n",
       "      <th>9992</th>\n",
       "      <td>CA-2017-115427</td>\n",
       "      <td>2017-12-30</td>\n",
       "      <td>2018-01-03</td>\n",
       "      <td>Standard Class</td>\n",
       "      <td>EB-13975</td>\n",
       "      <td>Erica Bern</td>\n",
       "      <td>Corporate</td>\n",
       "      <td>Fairfield</td>\n",
       "      <td>California</td>\n",
       "      <td>94533</td>\n",
       "      <td>West</td>\n",
       "      <td>OFF-BI-10002103</td>\n",
       "      <td>Office Supplies</td>\n",
       "      <td>Binders</td>\n",
       "      <td>Cardinal Slant-D Ring Binder, Heavy Gauge Vinyl</td>\n",
       "      <td>13.904</td>\n",
       "      <td>2</td>\n",
       "      <td>0.2</td>\n",
       "      <td>4.5188</td>\n",
       "      <td>Yes</td>\n",
       "    </tr>\n",
       "    <tr>\n",
       "      <th>9993</th>\n",
       "      <td>CA-2017-143259</td>\n",
       "      <td>2017-12-30</td>\n",
       "      <td>2018-01-03</td>\n",
       "      <td>Standard Class</td>\n",
       "      <td>PO-18865</td>\n",
       "      <td>Patrick O'Donnell</td>\n",
       "      <td>Consumer</td>\n",
       "      <td>New York City</td>\n",
       "      <td>New York</td>\n",
       "      <td>10009</td>\n",
       "      <td>East</td>\n",
       "      <td>FUR-BO-10003441</td>\n",
       "      <td>Furniture</td>\n",
       "      <td>Bookcases</td>\n",
       "      <td>Bush Westfield Collection Bookcases, Fully Ass...</td>\n",
       "      <td>323.136</td>\n",
       "      <td>4</td>\n",
       "      <td>0.2</td>\n",
       "      <td>12.1176</td>\n",
       "      <td>Yes</td>\n",
       "    </tr>\n",
       "  </tbody>\n",
       "</table>\n",
       "<p>9994 rows × 20 columns</p>\n",
       "</div>"
      ],
      "text/plain": [
       "            Order ID Order Date  Ship Date       Ship Mode Customer ID  \\\n",
       "0     CA-2014-103800 2014-01-03 2014-01-07  Standard Class    DP-13000   \n",
       "1     CA-2014-112326 2014-01-04 2014-01-08  Standard Class    PO-19195   \n",
       "2     CA-2014-112326 2014-01-04 2014-01-08  Standard Class    PO-19195   \n",
       "3     CA-2014-112326 2014-01-04 2014-01-08  Standard Class    PO-19195   \n",
       "4     CA-2014-141817 2014-01-05 2014-01-12  Standard Class    MB-18085   \n",
       "...              ...        ...        ...             ...         ...   \n",
       "9989  CA-2017-156720 2017-12-30 2018-01-03  Standard Class    JM-15580   \n",
       "9990  CA-2017-143259 2017-12-30 2018-01-03  Standard Class    PO-18865   \n",
       "9991  CA-2017-143259 2017-12-30 2018-01-03  Standard Class    PO-18865   \n",
       "9992  CA-2017-115427 2017-12-30 2018-01-03  Standard Class    EB-13975   \n",
       "9993  CA-2017-143259 2017-12-30 2018-01-03  Standard Class    PO-18865   \n",
       "\n",
       "          Customer Name      Segment           City         State  \\\n",
       "0         Darren Powers     Consumer        Houston         Texas   \n",
       "1         Phillina Ober  Home Office     Naperville      Illinois   \n",
       "2         Phillina Ober  Home Office     Naperville      Illinois   \n",
       "3         Phillina Ober  Home Office     Naperville      Illinois   \n",
       "4            Mick Brown     Consumer   Philadelphia  Pennsylvania   \n",
       "...                 ...          ...            ...           ...   \n",
       "9989      Jill Matthias     Consumer       Loveland      Colorado   \n",
       "9990  Patrick O'Donnell     Consumer  New York City      New York   \n",
       "9991  Patrick O'Donnell     Consumer  New York City      New York   \n",
       "9992         Erica Bern    Corporate      Fairfield    California   \n",
       "9993  Patrick O'Donnell     Consumer  New York City      New York   \n",
       "\n",
       "      Postal Code   Region       Product ID         Category Sub-Category  \\\n",
       "0           77095  Central  OFF-PA-10000174  Office Supplies        Paper   \n",
       "1           60540  Central  OFF-LA-10003223  Office Supplies       Labels   \n",
       "2           60540  Central  OFF-ST-10002743  Office Supplies      Storage   \n",
       "3           60540  Central  OFF-BI-10004094  Office Supplies      Binders   \n",
       "4           19143     East  OFF-AR-10003478  Office Supplies          Art   \n",
       "...           ...      ...              ...              ...          ...   \n",
       "9989        80538     West  OFF-FA-10003472  Office Supplies    Fasteners   \n",
       "9990        10009     East  OFF-BI-10003684  Office Supplies      Binders   \n",
       "9991        10009     East  TEC-PH-10004774       Technology       Phones   \n",
       "9992        94533     West  OFF-BI-10002103  Office Supplies      Binders   \n",
       "9993        10009     East  FUR-BO-10003441        Furniture    Bookcases   \n",
       "\n",
       "                                           Product Name    Sales  Quantity  \\\n",
       "0     Message Book, Wirebound, Four 5 1/2\" X 4\" Form...   16.448         2   \n",
       "1                                             Avery 508   11.784         3   \n",
       "2                         SAFCO Boltless Steel Shelving  272.736         3   \n",
       "3            GBC Standard Plastic Binding Systems Combs    3.540         2   \n",
       "4     Avery Hi-Liter EverBold Pen Style Fluorescent ...   19.536         3   \n",
       "...                                                 ...      ...       ...   \n",
       "9989                                Bagged Rubber Bands    3.024         3   \n",
       "9990               Wilson Jones Legal Size Ring Binders   52.776         3   \n",
       "9991                          Gear Head AU3700S Headset   90.930         7   \n",
       "9992    Cardinal Slant-D Ring Binder, Heavy Gauge Vinyl   13.904         2   \n",
       "9993  Bush Westfield Collection Bookcases, Fully Ass...  323.136         4   \n",
       "\n",
       "      Discount   Profit Profitable  \n",
       "0          0.2   5.5512        Yes  \n",
       "1          0.2   4.2717        Yes  \n",
       "2          0.2 -64.7748         No  \n",
       "3          0.8  -5.4870         No  \n",
       "4          0.2   4.8840        Yes  \n",
       "...        ...      ...        ...  \n",
       "9989       0.2  -0.6048         No  \n",
       "9990       0.2  19.7910        Yes  \n",
       "9991       0.0   2.7279        Yes  \n",
       "9992       0.2   4.5188        Yes  \n",
       "9993       0.2  12.1176        Yes  \n",
       "\n",
       "[9994 rows x 20 columns]"
      ]
     },
     "execution_count": 17,
     "metadata": {},
     "output_type": "execute_result"
    }
   ],
   "source": [
    "df.reset_index(drop=True, inplace = True)\n",
    "df"
   ]
  },
  {
   "cell_type": "markdown",
   "id": "3365f444",
   "metadata": {},
   "source": [
    "#### Time frame of data set is from Jan 2014 to Dec 2017\n",
    "\n"
   ]
  },
  {
   "cell_type": "code",
   "execution_count": 18,
   "id": "465c4243",
   "metadata": {},
   "outputs": [
    {
     "data": {
      "text/plain": [
       "Timestamp('2014-01-03 00:00:00')"
      ]
     },
     "execution_count": 18,
     "metadata": {},
     "output_type": "execute_result"
    }
   ],
   "source": [
    "df['Order Date'].min()"
   ]
  },
  {
   "cell_type": "code",
   "execution_count": 19,
   "id": "8664f253",
   "metadata": {},
   "outputs": [
    {
     "data": {
      "text/plain": [
       "Timestamp('2017-12-30 00:00:00')"
      ]
     },
     "execution_count": 19,
     "metadata": {},
     "output_type": "execute_result"
    }
   ],
   "source": [
    "df['Order Date'].max()"
   ]
  },
  {
   "cell_type": "code",
   "execution_count": 20,
   "id": "0d73ff31",
   "metadata": {},
   "outputs": [
    {
     "data": {
      "text/plain": [
       "Timestamp('2014-01-03 00:00:00')"
      ]
     },
     "execution_count": 20,
     "metadata": {},
     "output_type": "execute_result"
    }
   ],
   "source": [
    "df['Order Date'][0]"
   ]
  },
  {
   "cell_type": "code",
   "execution_count": 21,
   "id": "ab9b967f",
   "metadata": {},
   "outputs": [],
   "source": [
    "## For each order\n",
    "## Add columns day of week, time in days from order to shipment\n",
    "\n",
    "df['Week Day'] = df['Order Date'].dt.dayofweek\n",
    "df['Days to Ship'] = df['Ship Date'] - df['Order Date']"
   ]
  },
  {
   "cell_type": "code",
   "execution_count": 22,
   "id": "28479f03",
   "metadata": {},
   "outputs": [
    {
     "data": {
      "text/html": [
       "<div>\n",
       "<style scoped>\n",
       "    .dataframe tbody tr th:only-of-type {\n",
       "        vertical-align: middle;\n",
       "    }\n",
       "\n",
       "    .dataframe tbody tr th {\n",
       "        vertical-align: top;\n",
       "    }\n",
       "\n",
       "    .dataframe thead th {\n",
       "        text-align: right;\n",
       "    }\n",
       "</style>\n",
       "<table border=\"1\" class=\"dataframe\">\n",
       "  <thead>\n",
       "    <tr style=\"text-align: right;\">\n",
       "      <th></th>\n",
       "      <th>Order Date</th>\n",
       "      <th>Ship Date</th>\n",
       "      <th>Week Day</th>\n",
       "      <th>Days to Ship</th>\n",
       "    </tr>\n",
       "  </thead>\n",
       "  <tbody>\n",
       "    <tr>\n",
       "      <th>0</th>\n",
       "      <td>2014-01-03</td>\n",
       "      <td>2014-01-07</td>\n",
       "      <td>4</td>\n",
       "      <td>4 days</td>\n",
       "    </tr>\n",
       "    <tr>\n",
       "      <th>1</th>\n",
       "      <td>2014-01-04</td>\n",
       "      <td>2014-01-08</td>\n",
       "      <td>5</td>\n",
       "      <td>4 days</td>\n",
       "    </tr>\n",
       "    <tr>\n",
       "      <th>2</th>\n",
       "      <td>2014-01-04</td>\n",
       "      <td>2014-01-08</td>\n",
       "      <td>5</td>\n",
       "      <td>4 days</td>\n",
       "    </tr>\n",
       "    <tr>\n",
       "      <th>3</th>\n",
       "      <td>2014-01-04</td>\n",
       "      <td>2014-01-08</td>\n",
       "      <td>5</td>\n",
       "      <td>4 days</td>\n",
       "    </tr>\n",
       "    <tr>\n",
       "      <th>4</th>\n",
       "      <td>2014-01-05</td>\n",
       "      <td>2014-01-12</td>\n",
       "      <td>6</td>\n",
       "      <td>7 days</td>\n",
       "    </tr>\n",
       "  </tbody>\n",
       "</table>\n",
       "</div>"
      ],
      "text/plain": [
       "  Order Date  Ship Date  Week Day Days to Ship\n",
       "0 2014-01-03 2014-01-07         4       4 days\n",
       "1 2014-01-04 2014-01-08         5       4 days\n",
       "2 2014-01-04 2014-01-08         5       4 days\n",
       "3 2014-01-04 2014-01-08         5       4 days\n",
       "4 2014-01-05 2014-01-12         6       7 days"
      ]
     },
     "execution_count": 22,
     "metadata": {},
     "output_type": "execute_result"
    }
   ],
   "source": [
    "df[['Order Date', 'Ship Date', 'Week Day', 'Days to Ship']].head()"
   ]
  },
  {
   "cell_type": "code",
   "execution_count": 23,
   "id": "84c0fcf5",
   "metadata": {
    "scrolled": false
   },
   "outputs": [
    {
     "data": {
      "text/html": [
       "<div>\n",
       "<style scoped>\n",
       "    .dataframe tbody tr th:only-of-type {\n",
       "        vertical-align: middle;\n",
       "    }\n",
       "\n",
       "    .dataframe tbody tr th {\n",
       "        vertical-align: top;\n",
       "    }\n",
       "\n",
       "    .dataframe thead th {\n",
       "        text-align: right;\n",
       "    }\n",
       "</style>\n",
       "<table border=\"1\" class=\"dataframe\">\n",
       "  <thead>\n",
       "    <tr style=\"text-align: right;\">\n",
       "      <th></th>\n",
       "      <th>Order ID</th>\n",
       "      <th>Order Date</th>\n",
       "      <th>Ship Date</th>\n",
       "      <th>Ship Mode</th>\n",
       "      <th>Customer ID</th>\n",
       "      <th>Customer Name</th>\n",
       "      <th>Segment</th>\n",
       "      <th>City</th>\n",
       "      <th>State</th>\n",
       "      <th>Postal Code</th>\n",
       "      <th>...</th>\n",
       "      <th>Category</th>\n",
       "      <th>Sub-Category</th>\n",
       "      <th>Product Name</th>\n",
       "      <th>Sales</th>\n",
       "      <th>Quantity</th>\n",
       "      <th>Discount</th>\n",
       "      <th>Profit</th>\n",
       "      <th>Profitable</th>\n",
       "      <th>Week Day</th>\n",
       "      <th>Days to Ship</th>\n",
       "    </tr>\n",
       "  </thead>\n",
       "  <tbody>\n",
       "    <tr>\n",
       "      <th>0</th>\n",
       "      <td>CA-2014-103800</td>\n",
       "      <td>2014-01-03</td>\n",
       "      <td>2014-01-07</td>\n",
       "      <td>Standard Class</td>\n",
       "      <td>DP-13000</td>\n",
       "      <td>Darren Powers</td>\n",
       "      <td>Consumer</td>\n",
       "      <td>Houston</td>\n",
       "      <td>Texas</td>\n",
       "      <td>77095</td>\n",
       "      <td>...</td>\n",
       "      <td>Office Supplies</td>\n",
       "      <td>Paper</td>\n",
       "      <td>Message Book, Wirebound, Four 5 1/2\" X 4\" Form...</td>\n",
       "      <td>16.448</td>\n",
       "      <td>2</td>\n",
       "      <td>0.2</td>\n",
       "      <td>5.5512</td>\n",
       "      <td>Yes</td>\n",
       "      <td>4</td>\n",
       "      <td>4</td>\n",
       "    </tr>\n",
       "    <tr>\n",
       "      <th>1</th>\n",
       "      <td>CA-2014-112326</td>\n",
       "      <td>2014-01-04</td>\n",
       "      <td>2014-01-08</td>\n",
       "      <td>Standard Class</td>\n",
       "      <td>PO-19195</td>\n",
       "      <td>Phillina Ober</td>\n",
       "      <td>Home Office</td>\n",
       "      <td>Naperville</td>\n",
       "      <td>Illinois</td>\n",
       "      <td>60540</td>\n",
       "      <td>...</td>\n",
       "      <td>Office Supplies</td>\n",
       "      <td>Labels</td>\n",
       "      <td>Avery 508</td>\n",
       "      <td>11.784</td>\n",
       "      <td>3</td>\n",
       "      <td>0.2</td>\n",
       "      <td>4.2717</td>\n",
       "      <td>Yes</td>\n",
       "      <td>5</td>\n",
       "      <td>4</td>\n",
       "    </tr>\n",
       "    <tr>\n",
       "      <th>2</th>\n",
       "      <td>CA-2014-112326</td>\n",
       "      <td>2014-01-04</td>\n",
       "      <td>2014-01-08</td>\n",
       "      <td>Standard Class</td>\n",
       "      <td>PO-19195</td>\n",
       "      <td>Phillina Ober</td>\n",
       "      <td>Home Office</td>\n",
       "      <td>Naperville</td>\n",
       "      <td>Illinois</td>\n",
       "      <td>60540</td>\n",
       "      <td>...</td>\n",
       "      <td>Office Supplies</td>\n",
       "      <td>Storage</td>\n",
       "      <td>SAFCO Boltless Steel Shelving</td>\n",
       "      <td>272.736</td>\n",
       "      <td>3</td>\n",
       "      <td>0.2</td>\n",
       "      <td>-64.7748</td>\n",
       "      <td>No</td>\n",
       "      <td>5</td>\n",
       "      <td>4</td>\n",
       "    </tr>\n",
       "    <tr>\n",
       "      <th>3</th>\n",
       "      <td>CA-2014-112326</td>\n",
       "      <td>2014-01-04</td>\n",
       "      <td>2014-01-08</td>\n",
       "      <td>Standard Class</td>\n",
       "      <td>PO-19195</td>\n",
       "      <td>Phillina Ober</td>\n",
       "      <td>Home Office</td>\n",
       "      <td>Naperville</td>\n",
       "      <td>Illinois</td>\n",
       "      <td>60540</td>\n",
       "      <td>...</td>\n",
       "      <td>Office Supplies</td>\n",
       "      <td>Binders</td>\n",
       "      <td>GBC Standard Plastic Binding Systems Combs</td>\n",
       "      <td>3.540</td>\n",
       "      <td>2</td>\n",
       "      <td>0.8</td>\n",
       "      <td>-5.4870</td>\n",
       "      <td>No</td>\n",
       "      <td>5</td>\n",
       "      <td>4</td>\n",
       "    </tr>\n",
       "    <tr>\n",
       "      <th>4</th>\n",
       "      <td>CA-2014-141817</td>\n",
       "      <td>2014-01-05</td>\n",
       "      <td>2014-01-12</td>\n",
       "      <td>Standard Class</td>\n",
       "      <td>MB-18085</td>\n",
       "      <td>Mick Brown</td>\n",
       "      <td>Consumer</td>\n",
       "      <td>Philadelphia</td>\n",
       "      <td>Pennsylvania</td>\n",
       "      <td>19143</td>\n",
       "      <td>...</td>\n",
       "      <td>Office Supplies</td>\n",
       "      <td>Art</td>\n",
       "      <td>Avery Hi-Liter EverBold Pen Style Fluorescent ...</td>\n",
       "      <td>19.536</td>\n",
       "      <td>3</td>\n",
       "      <td>0.2</td>\n",
       "      <td>4.8840</td>\n",
       "      <td>Yes</td>\n",
       "      <td>6</td>\n",
       "      <td>7</td>\n",
       "    </tr>\n",
       "  </tbody>\n",
       "</table>\n",
       "<p>5 rows × 22 columns</p>\n",
       "</div>"
      ],
      "text/plain": [
       "         Order ID Order Date  Ship Date       Ship Mode Customer ID  \\\n",
       "0  CA-2014-103800 2014-01-03 2014-01-07  Standard Class    DP-13000   \n",
       "1  CA-2014-112326 2014-01-04 2014-01-08  Standard Class    PO-19195   \n",
       "2  CA-2014-112326 2014-01-04 2014-01-08  Standard Class    PO-19195   \n",
       "3  CA-2014-112326 2014-01-04 2014-01-08  Standard Class    PO-19195   \n",
       "4  CA-2014-141817 2014-01-05 2014-01-12  Standard Class    MB-18085   \n",
       "\n",
       "   Customer Name      Segment          City         State  Postal Code  ...  \\\n",
       "0  Darren Powers     Consumer       Houston         Texas        77095  ...   \n",
       "1  Phillina Ober  Home Office    Naperville      Illinois        60540  ...   \n",
       "2  Phillina Ober  Home Office    Naperville      Illinois        60540  ...   \n",
       "3  Phillina Ober  Home Office    Naperville      Illinois        60540  ...   \n",
       "4     Mick Brown     Consumer  Philadelphia  Pennsylvania        19143  ...   \n",
       "\n",
       "          Category Sub-Category  \\\n",
       "0  Office Supplies        Paper   \n",
       "1  Office Supplies       Labels   \n",
       "2  Office Supplies      Storage   \n",
       "3  Office Supplies      Binders   \n",
       "4  Office Supplies          Art   \n",
       "\n",
       "                                        Product Name    Sales Quantity  \\\n",
       "0  Message Book, Wirebound, Four 5 1/2\" X 4\" Form...   16.448        2   \n",
       "1                                          Avery 508   11.784        3   \n",
       "2                      SAFCO Boltless Steel Shelving  272.736        3   \n",
       "3         GBC Standard Plastic Binding Systems Combs    3.540        2   \n",
       "4  Avery Hi-Liter EverBold Pen Style Fluorescent ...   19.536        3   \n",
       "\n",
       "   Discount   Profit  Profitable  Week Day Days to Ship  \n",
       "0       0.2   5.5512         Yes         4            4  \n",
       "1       0.2   4.2717         Yes         5            4  \n",
       "2       0.2 -64.7748          No         5            4  \n",
       "3       0.8  -5.4870          No         5            4  \n",
       "4       0.2   4.8840         Yes         6            7  \n",
       "\n",
       "[5 rows x 22 columns]"
      ]
     },
     "execution_count": 23,
     "metadata": {},
     "output_type": "execute_result"
    }
   ],
   "source": [
    "## get rid of 'days' in days to ship columns\n",
    "\n",
    "df['Days to Ship'] = df['Days to Ship'].dt.days\n",
    "df.head()"
   ]
  },
  {
   "cell_type": "code",
   "execution_count": 24,
   "id": "df428d0f",
   "metadata": {},
   "outputs": [
    {
     "data": {
      "text/html": [
       "<div>\n",
       "<style scoped>\n",
       "    .dataframe tbody tr th:only-of-type {\n",
       "        vertical-align: middle;\n",
       "    }\n",
       "\n",
       "    .dataframe tbody tr th {\n",
       "        vertical-align: top;\n",
       "    }\n",
       "\n",
       "    .dataframe thead th {\n",
       "        text-align: right;\n",
       "    }\n",
       "</style>\n",
       "<table border=\"1\" class=\"dataframe\">\n",
       "  <thead>\n",
       "    <tr style=\"text-align: right;\">\n",
       "      <th></th>\n",
       "      <th>Order ID</th>\n",
       "      <th>Order Date</th>\n",
       "      <th>Ship Date</th>\n",
       "      <th>Ship Mode</th>\n",
       "      <th>Customer ID</th>\n",
       "      <th>Customer Name</th>\n",
       "      <th>Segment</th>\n",
       "      <th>City</th>\n",
       "      <th>State</th>\n",
       "      <th>Postal Code</th>\n",
       "      <th>...</th>\n",
       "      <th>Sub-Category</th>\n",
       "      <th>Product Name</th>\n",
       "      <th>Sales</th>\n",
       "      <th>Quantity</th>\n",
       "      <th>Discount</th>\n",
       "      <th>Profit</th>\n",
       "      <th>Profitable</th>\n",
       "      <th>Week Day</th>\n",
       "      <th>Days to Ship</th>\n",
       "      <th>Day of Week</th>\n",
       "    </tr>\n",
       "  </thead>\n",
       "  <tbody>\n",
       "    <tr>\n",
       "      <th>0</th>\n",
       "      <td>CA-2014-103800</td>\n",
       "      <td>2014-01-03</td>\n",
       "      <td>2014-01-07</td>\n",
       "      <td>Standard Class</td>\n",
       "      <td>DP-13000</td>\n",
       "      <td>Darren Powers</td>\n",
       "      <td>Consumer</td>\n",
       "      <td>Houston</td>\n",
       "      <td>Texas</td>\n",
       "      <td>77095</td>\n",
       "      <td>...</td>\n",
       "      <td>Paper</td>\n",
       "      <td>Message Book, Wirebound, Four 5 1/2\" X 4\" Form...</td>\n",
       "      <td>16.448</td>\n",
       "      <td>2</td>\n",
       "      <td>0.2</td>\n",
       "      <td>5.5512</td>\n",
       "      <td>Yes</td>\n",
       "      <td>4</td>\n",
       "      <td>4</td>\n",
       "      <td>Fri</td>\n",
       "    </tr>\n",
       "    <tr>\n",
       "      <th>1</th>\n",
       "      <td>CA-2014-112326</td>\n",
       "      <td>2014-01-04</td>\n",
       "      <td>2014-01-08</td>\n",
       "      <td>Standard Class</td>\n",
       "      <td>PO-19195</td>\n",
       "      <td>Phillina Ober</td>\n",
       "      <td>Home Office</td>\n",
       "      <td>Naperville</td>\n",
       "      <td>Illinois</td>\n",
       "      <td>60540</td>\n",
       "      <td>...</td>\n",
       "      <td>Labels</td>\n",
       "      <td>Avery 508</td>\n",
       "      <td>11.784</td>\n",
       "      <td>3</td>\n",
       "      <td>0.2</td>\n",
       "      <td>4.2717</td>\n",
       "      <td>Yes</td>\n",
       "      <td>5</td>\n",
       "      <td>4</td>\n",
       "      <td>Sat</td>\n",
       "    </tr>\n",
       "    <tr>\n",
       "      <th>2</th>\n",
       "      <td>CA-2014-112326</td>\n",
       "      <td>2014-01-04</td>\n",
       "      <td>2014-01-08</td>\n",
       "      <td>Standard Class</td>\n",
       "      <td>PO-19195</td>\n",
       "      <td>Phillina Ober</td>\n",
       "      <td>Home Office</td>\n",
       "      <td>Naperville</td>\n",
       "      <td>Illinois</td>\n",
       "      <td>60540</td>\n",
       "      <td>...</td>\n",
       "      <td>Storage</td>\n",
       "      <td>SAFCO Boltless Steel Shelving</td>\n",
       "      <td>272.736</td>\n",
       "      <td>3</td>\n",
       "      <td>0.2</td>\n",
       "      <td>-64.7748</td>\n",
       "      <td>No</td>\n",
       "      <td>5</td>\n",
       "      <td>4</td>\n",
       "      <td>Sat</td>\n",
       "    </tr>\n",
       "    <tr>\n",
       "      <th>3</th>\n",
       "      <td>CA-2014-112326</td>\n",
       "      <td>2014-01-04</td>\n",
       "      <td>2014-01-08</td>\n",
       "      <td>Standard Class</td>\n",
       "      <td>PO-19195</td>\n",
       "      <td>Phillina Ober</td>\n",
       "      <td>Home Office</td>\n",
       "      <td>Naperville</td>\n",
       "      <td>Illinois</td>\n",
       "      <td>60540</td>\n",
       "      <td>...</td>\n",
       "      <td>Binders</td>\n",
       "      <td>GBC Standard Plastic Binding Systems Combs</td>\n",
       "      <td>3.540</td>\n",
       "      <td>2</td>\n",
       "      <td>0.8</td>\n",
       "      <td>-5.4870</td>\n",
       "      <td>No</td>\n",
       "      <td>5</td>\n",
       "      <td>4</td>\n",
       "      <td>Sat</td>\n",
       "    </tr>\n",
       "    <tr>\n",
       "      <th>4</th>\n",
       "      <td>CA-2014-141817</td>\n",
       "      <td>2014-01-05</td>\n",
       "      <td>2014-01-12</td>\n",
       "      <td>Standard Class</td>\n",
       "      <td>MB-18085</td>\n",
       "      <td>Mick Brown</td>\n",
       "      <td>Consumer</td>\n",
       "      <td>Philadelphia</td>\n",
       "      <td>Pennsylvania</td>\n",
       "      <td>19143</td>\n",
       "      <td>...</td>\n",
       "      <td>Art</td>\n",
       "      <td>Avery Hi-Liter EverBold Pen Style Fluorescent ...</td>\n",
       "      <td>19.536</td>\n",
       "      <td>3</td>\n",
       "      <td>0.2</td>\n",
       "      <td>4.8840</td>\n",
       "      <td>Yes</td>\n",
       "      <td>6</td>\n",
       "      <td>7</td>\n",
       "      <td>Sun</td>\n",
       "    </tr>\n",
       "    <tr>\n",
       "      <th>...</th>\n",
       "      <td>...</td>\n",
       "      <td>...</td>\n",
       "      <td>...</td>\n",
       "      <td>...</td>\n",
       "      <td>...</td>\n",
       "      <td>...</td>\n",
       "      <td>...</td>\n",
       "      <td>...</td>\n",
       "      <td>...</td>\n",
       "      <td>...</td>\n",
       "      <td>...</td>\n",
       "      <td>...</td>\n",
       "      <td>...</td>\n",
       "      <td>...</td>\n",
       "      <td>...</td>\n",
       "      <td>...</td>\n",
       "      <td>...</td>\n",
       "      <td>...</td>\n",
       "      <td>...</td>\n",
       "      <td>...</td>\n",
       "      <td>...</td>\n",
       "    </tr>\n",
       "    <tr>\n",
       "      <th>9989</th>\n",
       "      <td>CA-2017-156720</td>\n",
       "      <td>2017-12-30</td>\n",
       "      <td>2018-01-03</td>\n",
       "      <td>Standard Class</td>\n",
       "      <td>JM-15580</td>\n",
       "      <td>Jill Matthias</td>\n",
       "      <td>Consumer</td>\n",
       "      <td>Loveland</td>\n",
       "      <td>Colorado</td>\n",
       "      <td>80538</td>\n",
       "      <td>...</td>\n",
       "      <td>Fasteners</td>\n",
       "      <td>Bagged Rubber Bands</td>\n",
       "      <td>3.024</td>\n",
       "      <td>3</td>\n",
       "      <td>0.2</td>\n",
       "      <td>-0.6048</td>\n",
       "      <td>No</td>\n",
       "      <td>5</td>\n",
       "      <td>4</td>\n",
       "      <td>Sat</td>\n",
       "    </tr>\n",
       "    <tr>\n",
       "      <th>9990</th>\n",
       "      <td>CA-2017-143259</td>\n",
       "      <td>2017-12-30</td>\n",
       "      <td>2018-01-03</td>\n",
       "      <td>Standard Class</td>\n",
       "      <td>PO-18865</td>\n",
       "      <td>Patrick O'Donnell</td>\n",
       "      <td>Consumer</td>\n",
       "      <td>New York City</td>\n",
       "      <td>New York</td>\n",
       "      <td>10009</td>\n",
       "      <td>...</td>\n",
       "      <td>Binders</td>\n",
       "      <td>Wilson Jones Legal Size Ring Binders</td>\n",
       "      <td>52.776</td>\n",
       "      <td>3</td>\n",
       "      <td>0.2</td>\n",
       "      <td>19.7910</td>\n",
       "      <td>Yes</td>\n",
       "      <td>5</td>\n",
       "      <td>4</td>\n",
       "      <td>Sat</td>\n",
       "    </tr>\n",
       "    <tr>\n",
       "      <th>9991</th>\n",
       "      <td>CA-2017-143259</td>\n",
       "      <td>2017-12-30</td>\n",
       "      <td>2018-01-03</td>\n",
       "      <td>Standard Class</td>\n",
       "      <td>PO-18865</td>\n",
       "      <td>Patrick O'Donnell</td>\n",
       "      <td>Consumer</td>\n",
       "      <td>New York City</td>\n",
       "      <td>New York</td>\n",
       "      <td>10009</td>\n",
       "      <td>...</td>\n",
       "      <td>Phones</td>\n",
       "      <td>Gear Head AU3700S Headset</td>\n",
       "      <td>90.930</td>\n",
       "      <td>7</td>\n",
       "      <td>0.0</td>\n",
       "      <td>2.7279</td>\n",
       "      <td>Yes</td>\n",
       "      <td>5</td>\n",
       "      <td>4</td>\n",
       "      <td>Sat</td>\n",
       "    </tr>\n",
       "    <tr>\n",
       "      <th>9992</th>\n",
       "      <td>CA-2017-115427</td>\n",
       "      <td>2017-12-30</td>\n",
       "      <td>2018-01-03</td>\n",
       "      <td>Standard Class</td>\n",
       "      <td>EB-13975</td>\n",
       "      <td>Erica Bern</td>\n",
       "      <td>Corporate</td>\n",
       "      <td>Fairfield</td>\n",
       "      <td>California</td>\n",
       "      <td>94533</td>\n",
       "      <td>...</td>\n",
       "      <td>Binders</td>\n",
       "      <td>Cardinal Slant-D Ring Binder, Heavy Gauge Vinyl</td>\n",
       "      <td>13.904</td>\n",
       "      <td>2</td>\n",
       "      <td>0.2</td>\n",
       "      <td>4.5188</td>\n",
       "      <td>Yes</td>\n",
       "      <td>5</td>\n",
       "      <td>4</td>\n",
       "      <td>Sat</td>\n",
       "    </tr>\n",
       "    <tr>\n",
       "      <th>9993</th>\n",
       "      <td>CA-2017-143259</td>\n",
       "      <td>2017-12-30</td>\n",
       "      <td>2018-01-03</td>\n",
       "      <td>Standard Class</td>\n",
       "      <td>PO-18865</td>\n",
       "      <td>Patrick O'Donnell</td>\n",
       "      <td>Consumer</td>\n",
       "      <td>New York City</td>\n",
       "      <td>New York</td>\n",
       "      <td>10009</td>\n",
       "      <td>...</td>\n",
       "      <td>Bookcases</td>\n",
       "      <td>Bush Westfield Collection Bookcases, Fully Ass...</td>\n",
       "      <td>323.136</td>\n",
       "      <td>4</td>\n",
       "      <td>0.2</td>\n",
       "      <td>12.1176</td>\n",
       "      <td>Yes</td>\n",
       "      <td>5</td>\n",
       "      <td>4</td>\n",
       "      <td>Sat</td>\n",
       "    </tr>\n",
       "  </tbody>\n",
       "</table>\n",
       "<p>9994 rows × 23 columns</p>\n",
       "</div>"
      ],
      "text/plain": [
       "            Order ID Order Date  Ship Date       Ship Mode Customer ID  \\\n",
       "0     CA-2014-103800 2014-01-03 2014-01-07  Standard Class    DP-13000   \n",
       "1     CA-2014-112326 2014-01-04 2014-01-08  Standard Class    PO-19195   \n",
       "2     CA-2014-112326 2014-01-04 2014-01-08  Standard Class    PO-19195   \n",
       "3     CA-2014-112326 2014-01-04 2014-01-08  Standard Class    PO-19195   \n",
       "4     CA-2014-141817 2014-01-05 2014-01-12  Standard Class    MB-18085   \n",
       "...              ...        ...        ...             ...         ...   \n",
       "9989  CA-2017-156720 2017-12-30 2018-01-03  Standard Class    JM-15580   \n",
       "9990  CA-2017-143259 2017-12-30 2018-01-03  Standard Class    PO-18865   \n",
       "9991  CA-2017-143259 2017-12-30 2018-01-03  Standard Class    PO-18865   \n",
       "9992  CA-2017-115427 2017-12-30 2018-01-03  Standard Class    EB-13975   \n",
       "9993  CA-2017-143259 2017-12-30 2018-01-03  Standard Class    PO-18865   \n",
       "\n",
       "          Customer Name      Segment           City         State  \\\n",
       "0         Darren Powers     Consumer        Houston         Texas   \n",
       "1         Phillina Ober  Home Office     Naperville      Illinois   \n",
       "2         Phillina Ober  Home Office     Naperville      Illinois   \n",
       "3         Phillina Ober  Home Office     Naperville      Illinois   \n",
       "4            Mick Brown     Consumer   Philadelphia  Pennsylvania   \n",
       "...                 ...          ...            ...           ...   \n",
       "9989      Jill Matthias     Consumer       Loveland      Colorado   \n",
       "9990  Patrick O'Donnell     Consumer  New York City      New York   \n",
       "9991  Patrick O'Donnell     Consumer  New York City      New York   \n",
       "9992         Erica Bern    Corporate      Fairfield    California   \n",
       "9993  Patrick O'Donnell     Consumer  New York City      New York   \n",
       "\n",
       "      Postal Code  ... Sub-Category  \\\n",
       "0           77095  ...        Paper   \n",
       "1           60540  ...       Labels   \n",
       "2           60540  ...      Storage   \n",
       "3           60540  ...      Binders   \n",
       "4           19143  ...          Art   \n",
       "...           ...  ...          ...   \n",
       "9989        80538  ...    Fasteners   \n",
       "9990        10009  ...      Binders   \n",
       "9991        10009  ...       Phones   \n",
       "9992        94533  ...      Binders   \n",
       "9993        10009  ...    Bookcases   \n",
       "\n",
       "                                           Product Name    Sales Quantity  \\\n",
       "0     Message Book, Wirebound, Four 5 1/2\" X 4\" Form...   16.448        2   \n",
       "1                                             Avery 508   11.784        3   \n",
       "2                         SAFCO Boltless Steel Shelving  272.736        3   \n",
       "3            GBC Standard Plastic Binding Systems Combs    3.540        2   \n",
       "4     Avery Hi-Liter EverBold Pen Style Fluorescent ...   19.536        3   \n",
       "...                                                 ...      ...      ...   \n",
       "9989                                Bagged Rubber Bands    3.024        3   \n",
       "9990               Wilson Jones Legal Size Ring Binders   52.776        3   \n",
       "9991                          Gear Head AU3700S Headset   90.930        7   \n",
       "9992    Cardinal Slant-D Ring Binder, Heavy Gauge Vinyl   13.904        2   \n",
       "9993  Bush Westfield Collection Bookcases, Fully Ass...  323.136        4   \n",
       "\n",
       "     Discount   Profit  Profitable  Week Day  Days to Ship Day of Week  \n",
       "0         0.2   5.5512         Yes         4             4         Fri  \n",
       "1         0.2   4.2717         Yes         5             4         Sat  \n",
       "2         0.2 -64.7748          No         5             4         Sat  \n",
       "3         0.8  -5.4870          No         5             4         Sat  \n",
       "4         0.2   4.8840         Yes         6             7         Sun  \n",
       "...       ...      ...         ...       ...           ...         ...  \n",
       "9989      0.2  -0.6048          No         5             4         Sat  \n",
       "9990      0.2  19.7910         Yes         5             4         Sat  \n",
       "9991      0.0   2.7279         Yes         5             4         Sat  \n",
       "9992      0.2   4.5188         Yes         5             4         Sat  \n",
       "9993      0.2  12.1176         Yes         5             4         Sat  \n",
       "\n",
       "[9994 rows x 23 columns]"
      ]
     },
     "execution_count": 24,
     "metadata": {},
     "output_type": "execute_result"
    }
   ],
   "source": [
    "## change day of the week column to something more descriptive\n",
    "\n",
    "conditions = [(df['Week Day'] == 0), \n",
    "              (df['Week Day'] == 1),\n",
    "              (df['Week Day'] == 2), \n",
    "              (df['Week Day'] == 3),\n",
    "              (df['Week Day'] == 4),\n",
    "              (df['Week Day'] == 5),\n",
    "              (df['Week Day'] == 6)]\n",
    "\n",
    "# define the outcome/value to be descriptive days of the week\n",
    "\n",
    "outcome = ['Mon', 'Tue', 'Wed', \"Thur\", \"Fri\", \"Sat\", \"Sun\"]\n",
    "\n",
    "df['Day of Week'] = np.select(conditions, outcome, default = 'Unknown')\n",
    "\n",
    "# check changes\n",
    "\n",
    "df"
   ]
  },
  {
   "cell_type": "code",
   "execution_count": 25,
   "id": "e5316f86",
   "metadata": {},
   "outputs": [
    {
     "name": "stdout",
     "output_type": "stream",
     "text": [
      "<class 'pandas.core.frame.DataFrame'>\n",
      "RangeIndex: 9994 entries, 0 to 9993\n",
      "Data columns (total 23 columns):\n",
      " #   Column         Non-Null Count  Dtype         \n",
      "---  ------         --------------  -----         \n",
      " 0   Order ID       9994 non-null   object        \n",
      " 1   Order Date     9994 non-null   datetime64[ns]\n",
      " 2   Ship Date      9994 non-null   datetime64[ns]\n",
      " 3   Ship Mode      9994 non-null   object        \n",
      " 4   Customer ID    9994 non-null   object        \n",
      " 5   Customer Name  9994 non-null   object        \n",
      " 6   Segment        9994 non-null   object        \n",
      " 7   City           9994 non-null   object        \n",
      " 8   State          9994 non-null   object        \n",
      " 9   Postal Code    9994 non-null   int64         \n",
      " 10  Region         9994 non-null   object        \n",
      " 11  Product ID     9994 non-null   object        \n",
      " 12  Category       9994 non-null   object        \n",
      " 13  Sub-Category   9994 non-null   object        \n",
      " 14  Product Name   9994 non-null   object        \n",
      " 15  Sales          9994 non-null   float64       \n",
      " 16  Quantity       9994 non-null   int64         \n",
      " 17  Discount       9994 non-null   float64       \n",
      " 18  Profit         9994 non-null   float64       \n",
      " 19  Profitable     9994 non-null   object        \n",
      " 20  Week Day       9994 non-null   int64         \n",
      " 21  Days to Ship   9994 non-null   int64         \n",
      " 22  Day of Week    9994 non-null   object        \n",
      "dtypes: datetime64[ns](2), float64(3), int64(4), object(14)\n",
      "memory usage: 1.8+ MB\n"
     ]
    }
   ],
   "source": [
    "df.info()"
   ]
  },
  {
   "cell_type": "code",
   "execution_count": 26,
   "id": "12d8b34f",
   "metadata": {},
   "outputs": [
    {
     "data": {
      "text/plain": [
       "1936"
      ]
     },
     "execution_count": 26,
     "metadata": {},
     "output_type": "execute_result"
    }
   ],
   "source": [
    "## how many products were not profitable\n",
    "\n",
    "df.loc[df['Profitable'] == \"No\"].value_counts().sum()"
   ]
  },
  {
   "cell_type": "markdown",
   "id": "4e898daf",
   "metadata": {},
   "source": [
    "#### Out of 9993 products sold 1593 lost money"
   ]
  },
  {
   "cell_type": "code",
   "execution_count": 27,
   "id": "eada9379",
   "metadata": {},
   "outputs": [
    {
     "data": {
      "text/html": [
       "<div>\n",
       "<style scoped>\n",
       "    .dataframe tbody tr th:only-of-type {\n",
       "        vertical-align: middle;\n",
       "    }\n",
       "\n",
       "    .dataframe tbody tr th {\n",
       "        vertical-align: top;\n",
       "    }\n",
       "\n",
       "    .dataframe thead th {\n",
       "        text-align: right;\n",
       "    }\n",
       "</style>\n",
       "<table border=\"1\" class=\"dataframe\">\n",
       "  <thead>\n",
       "    <tr style=\"text-align: right;\">\n",
       "      <th>Profitable</th>\n",
       "      <th>No</th>\n",
       "      <th>Yes</th>\n",
       "    </tr>\n",
       "    <tr>\n",
       "      <th>Region</th>\n",
       "      <th></th>\n",
       "      <th></th>\n",
       "    </tr>\n",
       "  </thead>\n",
       "  <tbody>\n",
       "    <tr>\n",
       "      <th>Central</th>\n",
       "      <td>752</td>\n",
       "      <td>1571</td>\n",
       "    </tr>\n",
       "    <tr>\n",
       "      <th>East</th>\n",
       "      <td>572</td>\n",
       "      <td>2276</td>\n",
       "    </tr>\n",
       "    <tr>\n",
       "      <th>South</th>\n",
       "      <td>272</td>\n",
       "      <td>1348</td>\n",
       "    </tr>\n",
       "    <tr>\n",
       "      <th>West</th>\n",
       "      <td>340</td>\n",
       "      <td>2863</td>\n",
       "    </tr>\n",
       "  </tbody>\n",
       "</table>\n",
       "</div>"
      ],
      "text/plain": [
       "Profitable   No   Yes\n",
       "Region               \n",
       "Central     752  1571\n",
       "East        572  2276\n",
       "South       272  1348\n",
       "West        340  2863"
      ]
     },
     "execution_count": 27,
     "metadata": {},
     "output_type": "execute_result"
    }
   ],
   "source": [
    "## lets look some comparisons\n",
    "\n",
    "## number of products that were profitable by region\n",
    "\n",
    "pd.crosstab(df['Region'], df['Profitable'])"
   ]
  },
  {
   "cell_type": "code",
   "execution_count": 28,
   "id": "8f6ecf43",
   "metadata": {},
   "outputs": [
    {
     "data": {
      "text/html": [
       "<div>\n",
       "<style scoped>\n",
       "    .dataframe tbody tr th:only-of-type {\n",
       "        vertical-align: middle;\n",
       "    }\n",
       "\n",
       "    .dataframe tbody tr th {\n",
       "        vertical-align: top;\n",
       "    }\n",
       "\n",
       "    .dataframe thead th {\n",
       "        text-align: right;\n",
       "    }\n",
       "</style>\n",
       "<table border=\"1\" class=\"dataframe\">\n",
       "  <thead>\n",
       "    <tr style=\"text-align: right;\">\n",
       "      <th>Ship Mode</th>\n",
       "      <th>First Class</th>\n",
       "      <th>Same Day</th>\n",
       "      <th>Second Class</th>\n",
       "      <th>Standard Class</th>\n",
       "    </tr>\n",
       "    <tr>\n",
       "      <th>Region</th>\n",
       "      <th></th>\n",
       "      <th></th>\n",
       "      <th></th>\n",
       "      <th></th>\n",
       "    </tr>\n",
       "  </thead>\n",
       "  <tbody>\n",
       "    <tr>\n",
       "      <th>Central</th>\n",
       "      <td>299</td>\n",
       "      <td>120</td>\n",
       "      <td>465</td>\n",
       "      <td>1439</td>\n",
       "    </tr>\n",
       "    <tr>\n",
       "      <th>East</th>\n",
       "      <td>490</td>\n",
       "      <td>155</td>\n",
       "      <td>530</td>\n",
       "      <td>1673</td>\n",
       "    </tr>\n",
       "    <tr>\n",
       "      <th>South</th>\n",
       "      <td>234</td>\n",
       "      <td>83</td>\n",
       "      <td>329</td>\n",
       "      <td>974</td>\n",
       "    </tr>\n",
       "    <tr>\n",
       "      <th>West</th>\n",
       "      <td>515</td>\n",
       "      <td>185</td>\n",
       "      <td>621</td>\n",
       "      <td>1882</td>\n",
       "    </tr>\n",
       "  </tbody>\n",
       "</table>\n",
       "</div>"
      ],
      "text/plain": [
       "Ship Mode  First Class  Same Day  Second Class  Standard Class\n",
       "Region                                                        \n",
       "Central            299       120           465            1439\n",
       "East               490       155           530            1673\n",
       "South              234        83           329             974\n",
       "West               515       185           621            1882"
      ]
     },
     "execution_count": 28,
     "metadata": {},
     "output_type": "execute_result"
    }
   ],
   "source": [
    "pd.crosstab(df['Region'], df['Ship Mode'])"
   ]
  },
  {
   "cell_type": "code",
   "execution_count": 29,
   "id": "4a0b4808",
   "metadata": {},
   "outputs": [
    {
     "data": {
      "text/html": [
       "<div>\n",
       "<style scoped>\n",
       "    .dataframe tbody tr th:only-of-type {\n",
       "        vertical-align: middle;\n",
       "    }\n",
       "\n",
       "    .dataframe tbody tr th {\n",
       "        vertical-align: top;\n",
       "    }\n",
       "\n",
       "    .dataframe thead th {\n",
       "        text-align: right;\n",
       "    }\n",
       "</style>\n",
       "<table border=\"1\" class=\"dataframe\">\n",
       "  <thead>\n",
       "    <tr style=\"text-align: right;\">\n",
       "      <th>Segment</th>\n",
       "      <th>Consumer</th>\n",
       "      <th>Corporate</th>\n",
       "      <th>Home Office</th>\n",
       "    </tr>\n",
       "    <tr>\n",
       "      <th>Region</th>\n",
       "      <th></th>\n",
       "      <th></th>\n",
       "      <th></th>\n",
       "    </tr>\n",
       "  </thead>\n",
       "  <tbody>\n",
       "    <tr>\n",
       "      <th>Central</th>\n",
       "      <td>1212</td>\n",
       "      <td>673</td>\n",
       "      <td>438</td>\n",
       "    </tr>\n",
       "    <tr>\n",
       "      <th>East</th>\n",
       "      <td>1469</td>\n",
       "      <td>877</td>\n",
       "      <td>502</td>\n",
       "    </tr>\n",
       "    <tr>\n",
       "      <th>South</th>\n",
       "      <td>838</td>\n",
       "      <td>510</td>\n",
       "      <td>272</td>\n",
       "    </tr>\n",
       "    <tr>\n",
       "      <th>West</th>\n",
       "      <td>1672</td>\n",
       "      <td>960</td>\n",
       "      <td>571</td>\n",
       "    </tr>\n",
       "  </tbody>\n",
       "</table>\n",
       "</div>"
      ],
      "text/plain": [
       "Segment  Consumer  Corporate  Home Office\n",
       "Region                                   \n",
       "Central      1212        673          438\n",
       "East         1469        877          502\n",
       "South         838        510          272\n",
       "West         1672        960          571"
      ]
     },
     "execution_count": 29,
     "metadata": {},
     "output_type": "execute_result"
    }
   ],
   "source": [
    "pd.crosstab(df['Region'], df['Segment'])"
   ]
  },
  {
   "cell_type": "code",
   "execution_count": 30,
   "id": "ec4ae184",
   "metadata": {},
   "outputs": [
    {
     "data": {
      "text/html": [
       "<div>\n",
       "<style scoped>\n",
       "    .dataframe tbody tr th:only-of-type {\n",
       "        vertical-align: middle;\n",
       "    }\n",
       "\n",
       "    .dataframe tbody tr th {\n",
       "        vertical-align: top;\n",
       "    }\n",
       "\n",
       "    .dataframe thead th {\n",
       "        text-align: right;\n",
       "    }\n",
       "</style>\n",
       "<table border=\"1\" class=\"dataframe\">\n",
       "  <thead>\n",
       "    <tr style=\"text-align: right;\">\n",
       "      <th>Category</th>\n",
       "      <th>Furniture</th>\n",
       "      <th>Office Supplies</th>\n",
       "      <th>Technology</th>\n",
       "    </tr>\n",
       "    <tr>\n",
       "      <th>Region</th>\n",
       "      <th></th>\n",
       "      <th></th>\n",
       "      <th></th>\n",
       "    </tr>\n",
       "  </thead>\n",
       "  <tbody>\n",
       "    <tr>\n",
       "      <th>Central</th>\n",
       "      <td>481</td>\n",
       "      <td>1422</td>\n",
       "      <td>420</td>\n",
       "    </tr>\n",
       "    <tr>\n",
       "      <th>East</th>\n",
       "      <td>601</td>\n",
       "      <td>1712</td>\n",
       "      <td>535</td>\n",
       "    </tr>\n",
       "    <tr>\n",
       "      <th>South</th>\n",
       "      <td>332</td>\n",
       "      <td>995</td>\n",
       "      <td>293</td>\n",
       "    </tr>\n",
       "    <tr>\n",
       "      <th>West</th>\n",
       "      <td>707</td>\n",
       "      <td>1897</td>\n",
       "      <td>599</td>\n",
       "    </tr>\n",
       "  </tbody>\n",
       "</table>\n",
       "</div>"
      ],
      "text/plain": [
       "Category  Furniture  Office Supplies  Technology\n",
       "Region                                          \n",
       "Central         481             1422         420\n",
       "East            601             1712         535\n",
       "South           332              995         293\n",
       "West            707             1897         599"
      ]
     },
     "execution_count": 30,
     "metadata": {},
     "output_type": "execute_result"
    }
   ],
   "source": [
    "pd.crosstab(df['Region'], df['Category'])"
   ]
  },
  {
   "cell_type": "code",
   "execution_count": 31,
   "id": "e14c8b2f",
   "metadata": {},
   "outputs": [
    {
     "data": {
      "text/html": [
       "<div>\n",
       "<style scoped>\n",
       "    .dataframe tbody tr th:only-of-type {\n",
       "        vertical-align: middle;\n",
       "    }\n",
       "\n",
       "    .dataframe tbody tr th {\n",
       "        vertical-align: top;\n",
       "    }\n",
       "\n",
       "    .dataframe thead th {\n",
       "        text-align: right;\n",
       "    }\n",
       "</style>\n",
       "<table border=\"1\" class=\"dataframe\">\n",
       "  <thead>\n",
       "    <tr style=\"text-align: right;\">\n",
       "      <th>Segment</th>\n",
       "      <th>Consumer</th>\n",
       "      <th>Corporate</th>\n",
       "      <th>Home Office</th>\n",
       "    </tr>\n",
       "    <tr>\n",
       "      <th>Category</th>\n",
       "      <th></th>\n",
       "      <th></th>\n",
       "      <th></th>\n",
       "    </tr>\n",
       "  </thead>\n",
       "  <tbody>\n",
       "    <tr>\n",
       "      <th>Furniture</th>\n",
       "      <td>1113</td>\n",
       "      <td>646</td>\n",
       "      <td>362</td>\n",
       "    </tr>\n",
       "    <tr>\n",
       "      <th>Office Supplies</th>\n",
       "      <td>3127</td>\n",
       "      <td>1820</td>\n",
       "      <td>1079</td>\n",
       "    </tr>\n",
       "    <tr>\n",
       "      <th>Technology</th>\n",
       "      <td>951</td>\n",
       "      <td>554</td>\n",
       "      <td>342</td>\n",
       "    </tr>\n",
       "  </tbody>\n",
       "</table>\n",
       "</div>"
      ],
      "text/plain": [
       "Segment          Consumer  Corporate  Home Office\n",
       "Category                                         \n",
       "Furniture            1113        646          362\n",
       "Office Supplies      3127       1820         1079\n",
       "Technology            951        554          342"
      ]
     },
     "execution_count": 31,
     "metadata": {},
     "output_type": "execute_result"
    }
   ],
   "source": [
    "pd.crosstab(df['Category'], df['Segment'])"
   ]
  },
  {
   "cell_type": "code",
   "execution_count": 32,
   "id": "c02697d5",
   "metadata": {},
   "outputs": [
    {
     "data": {
      "text/html": [
       "<div>\n",
       "<style scoped>\n",
       "    .dataframe tbody tr th:only-of-type {\n",
       "        vertical-align: middle;\n",
       "    }\n",
       "\n",
       "    .dataframe tbody tr th {\n",
       "        vertical-align: top;\n",
       "    }\n",
       "\n",
       "    .dataframe thead th {\n",
       "        text-align: right;\n",
       "    }\n",
       "</style>\n",
       "<table border=\"1\" class=\"dataframe\">\n",
       "  <thead>\n",
       "    <tr style=\"text-align: right;\">\n",
       "      <th>Profitable</th>\n",
       "      <th>No</th>\n",
       "      <th>Yes</th>\n",
       "    </tr>\n",
       "    <tr>\n",
       "      <th>Category</th>\n",
       "      <th></th>\n",
       "      <th></th>\n",
       "    </tr>\n",
       "  </thead>\n",
       "  <tbody>\n",
       "    <tr>\n",
       "      <th>Furniture</th>\n",
       "      <td>747</td>\n",
       "      <td>1374</td>\n",
       "    </tr>\n",
       "    <tr>\n",
       "      <th>Office Supplies</th>\n",
       "      <td>915</td>\n",
       "      <td>5111</td>\n",
       "    </tr>\n",
       "    <tr>\n",
       "      <th>Technology</th>\n",
       "      <td>274</td>\n",
       "      <td>1573</td>\n",
       "    </tr>\n",
       "  </tbody>\n",
       "</table>\n",
       "</div>"
      ],
      "text/plain": [
       "Profitable        No   Yes\n",
       "Category                  \n",
       "Furniture        747  1374\n",
       "Office Supplies  915  5111\n",
       "Technology       274  1573"
      ]
     },
     "execution_count": 32,
     "metadata": {},
     "output_type": "execute_result"
    }
   ],
   "source": [
    "pd.crosstab(df['Category'], df['Profitable'])"
   ]
  },
  {
   "cell_type": "code",
   "execution_count": 33,
   "id": "413be5e2",
   "metadata": {},
   "outputs": [
    {
     "data": {
      "text/html": [
       "<div>\n",
       "<style scoped>\n",
       "    .dataframe tbody tr th:only-of-type {\n",
       "        vertical-align: middle;\n",
       "    }\n",
       "\n",
       "    .dataframe tbody tr th {\n",
       "        vertical-align: top;\n",
       "    }\n",
       "\n",
       "    .dataframe thead th {\n",
       "        text-align: right;\n",
       "    }\n",
       "</style>\n",
       "<table border=\"1\" class=\"dataframe\">\n",
       "  <thead>\n",
       "    <tr style=\"text-align: right;\">\n",
       "      <th>Profitable</th>\n",
       "      <th>No</th>\n",
       "      <th>Yes</th>\n",
       "    </tr>\n",
       "    <tr>\n",
       "      <th>Segment</th>\n",
       "      <th></th>\n",
       "      <th></th>\n",
       "    </tr>\n",
       "  </thead>\n",
       "  <tbody>\n",
       "    <tr>\n",
       "      <th>Consumer</th>\n",
       "      <td>1038</td>\n",
       "      <td>4153</td>\n",
       "    </tr>\n",
       "    <tr>\n",
       "      <th>Corporate</th>\n",
       "      <td>573</td>\n",
       "      <td>2447</td>\n",
       "    </tr>\n",
       "    <tr>\n",
       "      <th>Home Office</th>\n",
       "      <td>325</td>\n",
       "      <td>1458</td>\n",
       "    </tr>\n",
       "  </tbody>\n",
       "</table>\n",
       "</div>"
      ],
      "text/plain": [
       "Profitable     No   Yes\n",
       "Segment                \n",
       "Consumer     1038  4153\n",
       "Corporate     573  2447\n",
       "Home Office   325  1458"
      ]
     },
     "execution_count": 33,
     "metadata": {},
     "output_type": "execute_result"
    }
   ],
   "source": [
    "pd.crosstab(df['Segment'], df['Profitable'])"
   ]
  },
  {
   "cell_type": "code",
   "execution_count": 34,
   "id": "d9614f92",
   "metadata": {},
   "outputs": [
    {
     "data": {
      "text/plain": [
       "Segment\n",
       "Home Office    33.818664\n",
       "Corporate      30.456667\n",
       "Consumer       25.836873\n",
       "Name: Profit, dtype: float64"
      ]
     },
     "execution_count": 34,
     "metadata": {},
     "output_type": "execute_result"
    }
   ],
   "source": [
    "df['Profit'].groupby(df[\"Segment\"]).mean().sort_values(ascending = False)"
   ]
  },
  {
   "cell_type": "code",
   "execution_count": 35,
   "id": "e459bb3c",
   "metadata": {},
   "outputs": [
    {
     "data": {
      "text/plain": [
       "Segment\n",
       "Home Office    240.972041\n",
       "Corporate      233.823300\n",
       "Consumer       223.733644\n",
       "Name: Sales, dtype: float64"
      ]
     },
     "execution_count": 35,
     "metadata": {},
     "output_type": "execute_result"
    }
   ],
   "source": [
    "df['Sales'].groupby(df[\"Segment\"]).mean().sort_values(ascending = False)"
   ]
  },
  {
   "cell_type": "code",
   "execution_count": 36,
   "id": "ee7873d2",
   "metadata": {},
   "outputs": [
    {
     "data": {
      "text/plain": [
       "Category\n",
       "Technology         452.709276\n",
       "Furniture          349.834887\n",
       "Office Supplies    119.324101\n",
       "Name: Sales, dtype: float64"
      ]
     },
     "execution_count": 36,
     "metadata": {},
     "output_type": "execute_result"
    }
   ],
   "source": [
    "df['Sales'].groupby(df[\"Category\"]).mean().sort_values(ascending = False)"
   ]
  },
  {
   "cell_type": "code",
   "execution_count": 37,
   "id": "d37d5056",
   "metadata": {},
   "outputs": [
    {
     "data": {
      "text/plain": [
       "Category\n",
       "Technology         78.752002\n",
       "Office Supplies    20.327050\n",
       "Furniture           8.699327\n",
       "Name: Profit, dtype: float64"
      ]
     },
     "execution_count": 37,
     "metadata": {},
     "output_type": "execute_result"
    }
   ],
   "source": [
    "df['Profit'].groupby(df[\"Category\"]).mean().sort_values(ascending = False)"
   ]
  },
  {
   "cell_type": "code",
   "execution_count": 38,
   "id": "d304a003",
   "metadata": {},
   "outputs": [
    {
     "data": {
      "text/plain": [
       "Region\n",
       "South      241.803645\n",
       "East       238.336110\n",
       "West       226.493233\n",
       "Central    215.772661\n",
       "Name: Sales, dtype: float64"
      ]
     },
     "execution_count": 38,
     "metadata": {},
     "output_type": "execute_result"
    }
   ],
   "source": [
    "df['Sales'].groupby(df[\"Region\"]).mean().sort_values(ascending = False)"
   ]
  },
  {
   "cell_type": "code",
   "execution_count": 39,
   "id": "7c61604e",
   "metadata": {},
   "outputs": [
    {
     "data": {
      "text/plain": [
       "Region\n",
       "West       33.849032\n",
       "East       32.135808\n",
       "South      28.857673\n",
       "Central    17.092709\n",
       "Name: Profit, dtype: float64"
      ]
     },
     "execution_count": 39,
     "metadata": {},
     "output_type": "execute_result"
    }
   ],
   "source": [
    "df['Profit'].groupby(df[\"Region\"]).mean().sort_values(ascending = False)"
   ]
  },
  {
   "cell_type": "code",
   "execution_count": 40,
   "id": "b0431a92",
   "metadata": {},
   "outputs": [
    {
     "data": {
      "text/plain": [
       "Day of Week\n",
       "Tue     259.683094\n",
       "Wed     237.350337\n",
       "Fri     235.254268\n",
       "Mon     229.255914\n",
       "Sun     225.353127\n",
       "Thur    220.072302\n",
       "Sat     216.304944\n",
       "Name: Sales, dtype: float64"
      ]
     },
     "execution_count": 40,
     "metadata": {},
     "output_type": "execute_result"
    }
   ],
   "source": [
    "df['Sales'].groupby(df[\"Day of Week\"]).mean().sort_values(ascending = False)"
   ]
  },
  {
   "cell_type": "code",
   "execution_count": 41,
   "id": "43dcb4f2",
   "metadata": {},
   "outputs": [
    {
     "data": {
      "text/plain": [
       "Day of Week\n",
       "Wed     39.633075\n",
       "Sun     33.409071\n",
       "Tue     32.161238\n",
       "Mon     27.531328\n",
       "Thur    27.124915\n",
       "Fri     25.589012\n",
       "Sat     24.941160\n",
       "Name: Profit, dtype: float64"
      ]
     },
     "execution_count": 41,
     "metadata": {},
     "output_type": "execute_result"
    }
   ],
   "source": [
    "df['Profit'].groupby(df[\"Day of Week\"]).mean().sort_values(ascending = False)"
   ]
  },
  {
   "cell_type": "code",
   "execution_count": 42,
   "id": "6981f2f3",
   "metadata": {},
   "outputs": [
    {
     "data": {
      "text/plain": [
       "Days to Ship\n",
       "2    39.818676\n",
       "7    32.740494\n",
       "0    29.645411\n",
       "6    27.660821\n",
       "5    27.078471\n",
       "3    26.742208\n",
       "4    25.643394\n",
       "1    20.436929\n",
       "Name: Profit, dtype: float64"
      ]
     },
     "execution_count": 42,
     "metadata": {},
     "output_type": "execute_result"
    }
   ],
   "source": [
    "df['Profit'].groupby(df[\"Days to Ship\"]).mean().sort_values(ascending = False)"
   ]
  },
  {
   "cell_type": "markdown",
   "id": "9830f257",
   "metadata": {},
   "source": [
    "##### Lets see if there are any outliers\n",
    "But before we decide which test to use z-score or IQR, Lets see which way the dataset is skewed"
   ]
  },
  {
   "cell_type": "code",
   "execution_count": 43,
   "id": "44945df1",
   "metadata": {},
   "outputs": [],
   "source": [
    "cols = ['Sales', 'Quantity', 'Discount', 'Profit']"
   ]
  },
  {
   "cell_type": "code",
   "execution_count": 133,
   "id": "64e47b46",
   "metadata": {},
   "outputs": [
    {
     "data": {
      "image/png": "[encoded data removed]",
      "text/plain": [
       "<Figure size 720x1440 with 4 Axes>"
      ]
     },
     "metadata": {
      "needs_background": "light"
     },
     "output_type": "display_data"
    }
   ],
   "source": [
    "plt.figure(figsize=(10,20))\n",
    "for i, col in enumerate(cols):\n",
    "    ax = plt.subplot(6, 2, i+1)\n",
    "    sns.kdeplot(df[col], shade = False, color = \"blue\")\n",
    "    \n",
    "\n",
    "plt.savefig('Graphs.png',dpi=400)\n"
   ]
  },
  {
   "cell_type": "markdown",
   "id": "88e33e7e",
   "metadata": {},
   "source": [
    "#### Looks like dataset as quite a few outliers\n",
    "What if we take a log of the Sales"
   ]
  },
  {
   "cell_type": "code",
   "execution_count": 45,
   "id": "ca92127e",
   "metadata": {},
   "outputs": [],
   "source": [
    "df_log = df.copy()"
   ]
  },
  {
   "cell_type": "code",
   "execution_count": 46,
   "id": "19bf1558",
   "metadata": {},
   "outputs": [],
   "source": [
    "df_log['Sales'] = np.log(1 + df_log['Sales'])"
   ]
  },
  {
   "cell_type": "code",
   "execution_count": 47,
   "id": "745daeaf",
   "metadata": {},
   "outputs": [
    {
     "data": {
      "text/plain": [
       "count     9994.000000\n",
       "mean       229.858001\n",
       "std        623.245101\n",
       "min          0.444000\n",
       "25%         17.280000\n",
       "50%         54.490000\n",
       "75%        209.940000\n",
       "max      22638.480000\n",
       "Name: Sales, dtype: float64"
      ]
     },
     "execution_count": 47,
     "metadata": {},
     "output_type": "execute_result"
    }
   ],
   "source": [
    "df['Sales'].describe()"
   ]
  },
  {
   "cell_type": "code",
   "execution_count": 48,
   "id": "3e1cf345",
   "metadata": {},
   "outputs": [
    {
     "data": {
      "text/plain": [
       "count    9994.000000\n",
       "mean        4.156119\n",
       "std         1.589793\n",
       "min         0.367417\n",
       "25%         2.905808\n",
       "50%         4.016203\n",
       "75%         5.351574\n",
       "max        10.027451\n",
       "Name: Sales, dtype: float64"
      ]
     },
     "execution_count": 48,
     "metadata": {},
     "output_type": "execute_result"
    }
   ],
   "source": [
    "df_log['Sales'].describe()"
   ]
  },
  {
   "cell_type": "code",
   "execution_count": 134,
   "id": "97164b41",
   "metadata": {},
   "outputs": [
    {
     "data": {
      "image/png": "[encoded data removed]",
      "text/plain": [
       "<Figure size 432x288 with 1 Axes>"
      ]
     },
     "metadata": {
      "needs_background": "light"
     },
     "output_type": "display_data"
    }
   ],
   "source": [
    "sns.kdeplot(df['Sales'], shade = False, color = \"blue\")\n",
    "plt.savefig('Sales.Graph.png',dpi=400)"
   ]
  },
  {
   "cell_type": "code",
   "execution_count": 135,
   "id": "6d74b6a1",
   "metadata": {},
   "outputs": [
    {
     "data": {
      "image/png": "[encoded data removed]",
      "text/plain": [
       "<Figure size 432x288 with 1 Axes>"
      ]
     },
     "metadata": {
      "needs_background": "light"
     },
     "output_type": "display_data"
    }
   ],
   "source": [
    "sns.kdeplot(df_log['Sales'], shade = False, color = \"blue\")\n",
    "plt.savefig('Sales.Graph.png',dpi=400)"
   ]
  },
  {
   "cell_type": "markdown",
   "id": "73de2c07",
   "metadata": {},
   "source": [
    "### This looks better. Maybe we can do analysis on both dataframes"
   ]
  },
  {
   "cell_type": "code",
   "execution_count": 51,
   "id": "35941718",
   "metadata": {},
   "outputs": [],
   "source": [
    "### Detect and remove ouliers with IQR\n",
    "\n",
    "dfq = df.copy()"
   ]
  },
  {
   "cell_type": "code",
   "execution_count": 52,
   "id": "7bcfcf6d",
   "metadata": {},
   "outputs": [
    {
     "data": {
      "text/plain": [
       "(9994, 23)"
      ]
     },
     "execution_count": 52,
     "metadata": {},
     "output_type": "execute_result"
    }
   ],
   "source": [
    "dfq.shape"
   ]
  },
  {
   "cell_type": "code",
   "execution_count": 53,
   "id": "af539cee",
   "metadata": {},
   "outputs": [],
   "source": [
    "## function excepts a list and return array of outliers\n",
    "\n",
    "def outliers_iqr(x_list):\n",
    "    q1, q3 = np.percentile(x_list, [25, 75])\n",
    "    iqr = q3 - q1\n",
    "    lower_bound = q1 - (iqr * 1.5)\n",
    "    upper_bound = q3 + (iqr * 1.5)\n",
    "    return dfq.loc[(x_list > upper_bound) | (x_list < lower_bound)].index"
   ]
  },
  {
   "cell_type": "code",
   "execution_count": 54,
   "id": "dd20ecaa",
   "metadata": {},
   "outputs": [
    {
     "name": "stdout",
     "output_type": "stream",
     "text": [
      "Int64Index([   6,    7,   10,   21,   25,   28,   31,   51,   59,  102,\n",
      "            ...\n",
      "            9886, 9894, 9895, 9916, 9924, 9925, 9931, 9952, 9960, 9977],\n",
      "           dtype='int64', length=1167)\n"
     ]
    }
   ],
   "source": [
    "iqr_outliers = outliers_iqr(dfq['Sales'])\n",
    "\n",
    "print(iqr_outliers)"
   ]
  },
  {
   "cell_type": "markdown",
   "id": "d93fb2f9",
   "metadata": {},
   "source": [
    "### 1167 Sales outliers with IQR method"
   ]
  },
  {
   "cell_type": "code",
   "execution_count": 55,
   "id": "9339af8b",
   "metadata": {},
   "outputs": [],
   "source": [
    "dfq = dfq.drop(iqr_outliers)"
   ]
  },
  {
   "cell_type": "code",
   "execution_count": 56,
   "id": "3b0a6b4f",
   "metadata": {},
   "outputs": [
    {
     "data": {
      "text/plain": [
       "(8827, 23)"
      ]
     },
     "execution_count": 56,
     "metadata": {},
     "output_type": "execute_result"
    }
   ],
   "source": [
    "dfq.shape"
   ]
  },
  {
   "cell_type": "code",
   "execution_count": 57,
   "id": "854a6913",
   "metadata": {},
   "outputs": [
    {
     "name": "stdout",
     "output_type": "stream",
     "text": [
      "Int64Index([   2,    9,   14,   32,   33,   36,   42,   46,   58,   65,\n",
      "            ...\n",
      "            9933, 9941, 9944, 9955, 9963, 9978, 9979, 9981, 9985, 9988],\n",
      "           dtype='int64', length=1435)\n"
     ]
    }
   ],
   "source": [
    "iqr_outliers = outliers_iqr(dfq['Profit'])\n",
    "print(iqr_outliers)"
   ]
  },
  {
   "cell_type": "markdown",
   "id": "c9d70e77",
   "metadata": {},
   "source": [
    "### 1435 Profit outliers with IQR method"
   ]
  },
  {
   "cell_type": "code",
   "execution_count": 58,
   "id": "619858ba",
   "metadata": {},
   "outputs": [
    {
     "data": {
      "text/plain": [
       "(7392, 23)"
      ]
     },
     "execution_count": 58,
     "metadata": {},
     "output_type": "execute_result"
    }
   ],
   "source": [
    "dfq = dfq.drop(iqr_outliers)\n",
    "dfq.shape"
   ]
  },
  {
   "cell_type": "code",
   "execution_count": 59,
   "id": "40fed669",
   "metadata": {},
   "outputs": [
    {
     "name": "stdout",
     "output_type": "stream",
     "text": [
      "Int64Index([   3,   15,   24,   37,   39,   80,   91,  110,  111,  114,\n",
      "            ...\n",
      "            9869, 9891, 9897, 9940, 9949, 9953, 9958, 9959, 9970, 9974],\n",
      "           dtype='int64', length=613)\n"
     ]
    }
   ],
   "source": [
    "iqr_outliers = outliers_iqr(dfq['Discount'])\n",
    "print(iqr_outliers)"
   ]
  },
  {
   "cell_type": "markdown",
   "id": "8e523276",
   "metadata": {},
   "source": [
    "### 613 Discount outliers with IQR method"
   ]
  },
  {
   "cell_type": "code",
   "execution_count": 60,
   "id": "b38f9d6c",
   "metadata": {},
   "outputs": [
    {
     "data": {
      "text/plain": [
       "(6779, 23)"
      ]
     },
     "execution_count": 60,
     "metadata": {},
     "output_type": "execute_result"
    }
   ],
   "source": [
    "dfq = dfq.drop(iqr_outliers)\n",
    "dfq.shape"
   ]
  },
  {
   "cell_type": "code",
   "execution_count": 61,
   "id": "5c6523ec",
   "metadata": {},
   "outputs": [
    {
     "name": "stdout",
     "output_type": "stream",
     "text": [
      "Int64Index([  67,  112,  172,  179,  198,  358,  360,  374,  570,  651,  810,\n",
      "             826,  945, 1115, 1195, 1226, 1269, 1291, 1391, 1405, 1540, 1780,\n",
      "            2342, 2483, 2561, 2581, 2703, 2855, 2931, 3171, 3508, 3533, 3690,\n",
      "            4123, 4781, 4826, 4883, 5136, 5233, 5309, 5398, 5718, 5800, 5821,\n",
      "            5976, 6097, 6182, 6196, 6470, 6522, 6547, 6704, 7185, 7291, 7554,\n",
      "            7832, 8142, 8491, 8542, 8776, 8795, 8850, 8880, 8947, 9002, 9086,\n",
      "            9144, 9300, 9395, 9559, 9633, 9791, 9942],\n",
      "           dtype='int64')\n"
     ]
    }
   ],
   "source": [
    "iqr_outliers = outliers_iqr(dfq['Quantity'])\n",
    "print(iqr_outliers)"
   ]
  },
  {
   "cell_type": "code",
   "execution_count": 62,
   "id": "de0a4163",
   "metadata": {},
   "outputs": [
    {
     "data": {
      "text/plain": [
       "73"
      ]
     },
     "execution_count": 62,
     "metadata": {},
     "output_type": "execute_result"
    }
   ],
   "source": [
    "len(iqr_outliers)"
   ]
  },
  {
   "cell_type": "code",
   "execution_count": 63,
   "id": "3c023869",
   "metadata": {},
   "outputs": [],
   "source": [
    "### 73 Quantity outliers with IQR method"
   ]
  },
  {
   "cell_type": "code",
   "execution_count": 64,
   "id": "e8abff5c",
   "metadata": {},
   "outputs": [
    {
     "data": {
      "text/plain": [
       "(6706, 23)"
      ]
     },
     "execution_count": 64,
     "metadata": {},
     "output_type": "execute_result"
    }
   ],
   "source": [
    "dfq = dfq.drop(iqr_outliers)\n",
    "dfq.shape"
   ]
  },
  {
   "cell_type": "markdown",
   "id": "98d1be47",
   "metadata": {},
   "source": [
    "### From 9993 orders, 3287 were outliers with IQR. That is quite a lot"
   ]
  },
  {
   "cell_type": "markdown",
   "id": "9721d949",
   "metadata": {},
   "source": [
    "### Lets see how z_score does"
   ]
  },
  {
   "cell_type": "code",
   "execution_count": 65,
   "id": "0ed0a683",
   "metadata": {},
   "outputs": [
    {
     "data": {
      "text/plain": [
       "(9994, 27)"
      ]
     },
     "execution_count": 65,
     "metadata": {},
     "output_type": "execute_result"
    }
   ],
   "source": [
    "dfz = df.copy()\n",
    "\n",
    "dfz[['zscore_sales', 'zscore_quantity', 'zscore_discount', 'zscore_profit']] = np.abs(stats.zscore(dfz[['Sales', 'Quantity', 'Discount', 'Profit']]))\n",
    "\n",
    "dfz.shape                                                                                                       "
   ]
  },
  {
   "cell_type": "code",
   "execution_count": 66,
   "id": "f3fd3724",
   "metadata": {},
   "outputs": [
    {
     "name": "stdout",
     "output_type": "stream",
     "text": [
      "Int64Index([   6,  212,  234,  312,  492,  611,  792,  797, 1032, 1063,\n",
      "            ...\n",
      "            8986, 8992, 9075, 9092, 9127, 9276, 9334, 9360, 9590, 9924],\n",
      "           dtype='int64', length=127)\n"
     ]
    }
   ],
   "source": [
    "z_outliers = dfz.loc[dfz[\"zscore_sales\"] > 3].index\n",
    "print(z_outliers)"
   ]
  },
  {
   "cell_type": "markdown",
   "id": "ff57a8c3",
   "metadata": {},
   "source": [
    "#### Compared to IQR there are only 127 Sales outliers with z_score"
   ]
  },
  {
   "cell_type": "code",
   "execution_count": 67,
   "id": "1b18f09d",
   "metadata": {},
   "outputs": [
    {
     "data": {
      "text/plain": [
       "(9867, 27)"
      ]
     },
     "execution_count": 67,
     "metadata": {},
     "output_type": "execute_result"
    }
   ],
   "source": [
    "dfz = dfz.drop(z_outliers)\n",
    "dfz.shape"
   ]
  },
  {
   "cell_type": "code",
   "execution_count": 68,
   "id": "0bfb7236",
   "metadata": {},
   "outputs": [
    {
     "name": "stdout",
     "output_type": "stream",
     "text": [
      "Int64Index([  67,  112,  172,  179,  355,  358,  360,  374,  522,  651,\n",
      "            ...\n",
      "            9277, 9445, 9459, 9508, 9509, 9559, 9677, 9791, 9842, 9942],\n",
      "           dtype='int64', length=106)\n"
     ]
    }
   ],
   "source": [
    "z_outliers = dfz.loc[dfz[\"zscore_quantity\"] > 3].index\n",
    "print(z_outliers)"
   ]
  },
  {
   "cell_type": "markdown",
   "id": "3be1daf2",
   "metadata": {},
   "source": [
    "### 106 quantity outliers with z_score > 3"
   ]
  },
  {
   "cell_type": "code",
   "execution_count": 69,
   "id": "9679bcfd",
   "metadata": {},
   "outputs": [
    {
     "data": {
      "text/plain": [
       "(9761, 27)"
      ]
     },
     "execution_count": 69,
     "metadata": {},
     "output_type": "execute_result"
    }
   ],
   "source": [
    "dfz = dfz.drop(z_outliers)\n",
    "dfz.shape"
   ]
  },
  {
   "cell_type": "code",
   "execution_count": 70,
   "id": "4c3c1a1e",
   "metadata": {},
   "outputs": [
    {
     "name": "stdout",
     "output_type": "stream",
     "text": [
      "Int64Index([   3,   15,   91,  110,  111,  118,  121,  141,  280,  460,\n",
      "            ...\n",
      "            9703, 9764, 9827, 9891, 9897, 9909, 9928, 9933, 9949, 9959],\n",
      "           dtype='int64', length=297)\n"
     ]
    }
   ],
   "source": [
    "z_outliers = dfz.loc[dfz[\"zscore_discount\"] > 3].index\n",
    "print(z_outliers)"
   ]
  },
  {
   "cell_type": "markdown",
   "id": "35236b9b",
   "metadata": {},
   "source": [
    "### 297 discount outliers with z_score > 3"
   ]
  },
  {
   "cell_type": "code",
   "execution_count": 71,
   "id": "6cd18d3e",
   "metadata": {},
   "outputs": [
    {
     "data": {
      "text/plain": [
       "(9464, 27)"
      ]
     },
     "execution_count": 71,
     "metadata": {},
     "output_type": "execute_result"
    }
   ],
   "source": [
    "dfz = dfz.drop(z_outliers)\n",
    "dfz.shape"
   ]
  },
  {
   "cell_type": "code",
   "execution_count": 72,
   "id": "059dc862",
   "metadata": {},
   "outputs": [
    {
     "name": "stdout",
     "output_type": "stream",
     "text": [
      "Int64Index([ 981, 1394, 1510, 1932, 1990, 1993, 3174, 3493, 3817, 3951, 4027,\n",
      "            4571, 5204, 5447, 5560, 5796, 5867, 6566, 6604, 7889, 8174, 8336,\n",
      "            8355, 8411, 8816, 8927, 8939, 9285],\n",
      "           dtype='int64')\n"
     ]
    }
   ],
   "source": [
    "z_outliers = dfz.loc[dfz[\"zscore_profit\"] > 3].index\n",
    "print(z_outliers)"
   ]
  },
  {
   "cell_type": "code",
   "execution_count": 73,
   "id": "01914248",
   "metadata": {},
   "outputs": [
    {
     "data": {
      "text/plain": [
       "28"
      ]
     },
     "execution_count": 73,
     "metadata": {},
     "output_type": "execute_result"
    }
   ],
   "source": [
    "len(z_outliers)"
   ]
  },
  {
   "cell_type": "markdown",
   "id": "80dd23c5",
   "metadata": {},
   "source": [
    "### 28 profit outliers with z_score > 3"
   ]
  },
  {
   "cell_type": "code",
   "execution_count": 74,
   "id": "13f40f32",
   "metadata": {},
   "outputs": [
    {
     "data": {
      "text/plain": [
       "(9436, 27)"
      ]
     },
     "execution_count": 74,
     "metadata": {},
     "output_type": "execute_result"
    }
   ],
   "source": [
    "dfz = dfz.drop(z_outliers)\n",
    "dfz.shape"
   ]
  },
  {
   "cell_type": "markdown",
   "id": "9133df82",
   "metadata": {},
   "source": [
    "### From 9993 orders, 557 orders were outliers and were removed\n",
    "Lets use the z_score outliers removed dataframe dfz for analysis"
   ]
  },
  {
   "cell_type": "code",
   "execution_count": 75,
   "id": "3dbc89b8",
   "metadata": {},
   "outputs": [
    {
     "data": {
      "text/html": [
       "<div>\n",
       "<style scoped>\n",
       "    .dataframe tbody tr th:only-of-type {\n",
       "        vertical-align: middle;\n",
       "    }\n",
       "\n",
       "    .dataframe tbody tr th {\n",
       "        vertical-align: top;\n",
       "    }\n",
       "\n",
       "    .dataframe thead th {\n",
       "        text-align: right;\n",
       "    }\n",
       "</style>\n",
       "<table border=\"1\" class=\"dataframe\">\n",
       "  <thead>\n",
       "    <tr style=\"text-align: right;\">\n",
       "      <th></th>\n",
       "      <th>Postal Code</th>\n",
       "      <th>Sales</th>\n",
       "      <th>Quantity</th>\n",
       "      <th>Discount</th>\n",
       "      <th>Profit</th>\n",
       "      <th>Week Day</th>\n",
       "      <th>Days to Ship</th>\n",
       "      <th>zscore_sales</th>\n",
       "      <th>zscore_quantity</th>\n",
       "      <th>zscore_discount</th>\n",
       "      <th>zscore_profit</th>\n",
       "    </tr>\n",
       "  </thead>\n",
       "  <tbody>\n",
       "    <tr>\n",
       "      <th>Postal Code</th>\n",
       "      <td>1.000000</td>\n",
       "      <td>0.008985</td>\n",
       "      <td>0.014547</td>\n",
       "      <td>0.009816</td>\n",
       "      <td>-0.014412</td>\n",
       "      <td>0.002345</td>\n",
       "      <td>-0.007435</td>\n",
       "      <td>0.000066</td>\n",
       "      <td>-0.001516</td>\n",
       "      <td>-0.111822</td>\n",
       "      <td>-0.051327</td>\n",
       "    </tr>\n",
       "    <tr>\n",
       "      <th>Sales</th>\n",
       "      <td>0.008985</td>\n",
       "      <td>1.000000</td>\n",
       "      <td>0.253133</td>\n",
       "      <td>-0.010596</td>\n",
       "      <td>0.449825</td>\n",
       "      <td>-0.009150</td>\n",
       "      <td>-0.010652</td>\n",
       "      <td>0.806999</td>\n",
       "      <td>0.068430</td>\n",
       "      <td>-0.068118</td>\n",
       "      <td>0.708306</td>\n",
       "    </tr>\n",
       "    <tr>\n",
       "      <th>Quantity</th>\n",
       "      <td>0.014547</td>\n",
       "      <td>0.253133</td>\n",
       "      <td>1.000000</td>\n",
       "      <td>0.003517</td>\n",
       "      <td>0.119362</td>\n",
       "      <td>-0.000259</td>\n",
       "      <td>0.014815</td>\n",
       "      <td>0.162415</td>\n",
       "      <td>0.413305</td>\n",
       "      <td>0.020880</td>\n",
       "      <td>0.159733</td>\n",
       "    </tr>\n",
       "    <tr>\n",
       "      <th>Discount</th>\n",
       "      <td>0.009816</td>\n",
       "      <td>-0.010596</td>\n",
       "      <td>0.003517</td>\n",
       "      <td>1.000000</td>\n",
       "      <td>-0.359596</td>\n",
       "      <td>0.005162</td>\n",
       "      <td>-0.011000</td>\n",
       "      <td>0.008404</td>\n",
       "      <td>0.002747</td>\n",
       "      <td>0.482348</td>\n",
       "      <td>0.150094</td>\n",
       "    </tr>\n",
       "    <tr>\n",
       "      <th>Profit</th>\n",
       "      <td>-0.014412</td>\n",
       "      <td>0.449825</td>\n",
       "      <td>0.119362</td>\n",
       "      <td>-0.359596</td>\n",
       "      <td>1.000000</td>\n",
       "      <td>0.002465</td>\n",
       "      <td>-0.014287</td>\n",
       "      <td>0.399552</td>\n",
       "      <td>0.044788</td>\n",
       "      <td>-0.175272</td>\n",
       "      <td>0.285394</td>\n",
       "    </tr>\n",
       "    <tr>\n",
       "      <th>Week Day</th>\n",
       "      <td>0.002345</td>\n",
       "      <td>-0.009150</td>\n",
       "      <td>-0.000259</td>\n",
       "      <td>0.005162</td>\n",
       "      <td>0.002465</td>\n",
       "      <td>1.000000</td>\n",
       "      <td>-0.034547</td>\n",
       "      <td>-0.022898</td>\n",
       "      <td>-0.004935</td>\n",
       "      <td>0.011004</td>\n",
       "      <td>0.008698</td>\n",
       "    </tr>\n",
       "    <tr>\n",
       "      <th>Days to Ship</th>\n",
       "      <td>-0.007435</td>\n",
       "      <td>-0.010652</td>\n",
       "      <td>0.014815</td>\n",
       "      <td>-0.011000</td>\n",
       "      <td>-0.014287</td>\n",
       "      <td>-0.034547</td>\n",
       "      <td>1.000000</td>\n",
       "      <td>-0.006175</td>\n",
       "      <td>-0.001494</td>\n",
       "      <td>0.010240</td>\n",
       "      <td>0.001062</td>\n",
       "    </tr>\n",
       "    <tr>\n",
       "      <th>zscore_sales</th>\n",
       "      <td>0.000066</td>\n",
       "      <td>0.806999</td>\n",
       "      <td>0.162415</td>\n",
       "      <td>0.008404</td>\n",
       "      <td>0.399552</td>\n",
       "      <td>-0.022898</td>\n",
       "      <td>-0.006175</td>\n",
       "      <td>1.000000</td>\n",
       "      <td>0.083090</td>\n",
       "      <td>-0.008748</td>\n",
       "      <td>0.626509</td>\n",
       "    </tr>\n",
       "    <tr>\n",
       "      <th>zscore_quantity</th>\n",
       "      <td>-0.001516</td>\n",
       "      <td>0.068430</td>\n",
       "      <td>0.413305</td>\n",
       "      <td>0.002747</td>\n",
       "      <td>0.044788</td>\n",
       "      <td>-0.004935</td>\n",
       "      <td>-0.001494</td>\n",
       "      <td>0.083090</td>\n",
       "      <td>1.000000</td>\n",
       "      <td>0.008327</td>\n",
       "      <td>0.061789</td>\n",
       "    </tr>\n",
       "    <tr>\n",
       "      <th>zscore_discount</th>\n",
       "      <td>-0.111822</td>\n",
       "      <td>-0.068118</td>\n",
       "      <td>0.020880</td>\n",
       "      <td>0.482348</td>\n",
       "      <td>-0.175272</td>\n",
       "      <td>0.011004</td>\n",
       "      <td>0.010240</td>\n",
       "      <td>-0.008748</td>\n",
       "      <td>0.008327</td>\n",
       "      <td>1.000000</td>\n",
       "      <td>0.176831</td>\n",
       "    </tr>\n",
       "    <tr>\n",
       "      <th>zscore_profit</th>\n",
       "      <td>-0.051327</td>\n",
       "      <td>0.708306</td>\n",
       "      <td>0.159733</td>\n",
       "      <td>0.150094</td>\n",
       "      <td>0.285394</td>\n",
       "      <td>0.008698</td>\n",
       "      <td>0.001062</td>\n",
       "      <td>0.626509</td>\n",
       "      <td>0.061789</td>\n",
       "      <td>0.176831</td>\n",
       "      <td>1.000000</td>\n",
       "    </tr>\n",
       "  </tbody>\n",
       "</table>\n",
       "</div>"
      ],
      "text/plain": [
       "                 Postal Code     Sales  Quantity  Discount    Profit  \\\n",
       "Postal Code         1.000000  0.008985  0.014547  0.009816 -0.014412   \n",
       "Sales               0.008985  1.000000  0.253133 -0.010596  0.449825   \n",
       "Quantity            0.014547  0.253133  1.000000  0.003517  0.119362   \n",
       "Discount            0.009816 -0.010596  0.003517  1.000000 -0.359596   \n",
       "Profit             -0.014412  0.449825  0.119362 -0.359596  1.000000   \n",
       "Week Day            0.002345 -0.009150 -0.000259  0.005162  0.002465   \n",
       "Days to Ship       -0.007435 -0.010652  0.014815 -0.011000 -0.014287   \n",
       "zscore_sales        0.000066  0.806999  0.162415  0.008404  0.399552   \n",
       "zscore_quantity    -0.001516  0.068430  0.413305  0.002747  0.044788   \n",
       "zscore_discount    -0.111822 -0.068118  0.020880  0.482348 -0.175272   \n",
       "zscore_profit      -0.051327  0.708306  0.159733  0.150094  0.285394   \n",
       "\n",
       "                 Week Day  Days to Ship  zscore_sales  zscore_quantity  \\\n",
       "Postal Code      0.002345     -0.007435      0.000066        -0.001516   \n",
       "Sales           -0.009150     -0.010652      0.806999         0.068430   \n",
       "Quantity        -0.000259      0.014815      0.162415         0.413305   \n",
       "Discount         0.005162     -0.011000      0.008404         0.002747   \n",
       "Profit           0.002465     -0.014287      0.399552         0.044788   \n",
       "Week Day         1.000000     -0.034547     -0.022898        -0.004935   \n",
       "Days to Ship    -0.034547      1.000000     -0.006175        -0.001494   \n",
       "zscore_sales    -0.022898     -0.006175      1.000000         0.083090   \n",
       "zscore_quantity -0.004935     -0.001494      0.083090         1.000000   \n",
       "zscore_discount  0.011004      0.010240     -0.008748         0.008327   \n",
       "zscore_profit    0.008698      0.001062      0.626509         0.061789   \n",
       "\n",
       "                 zscore_discount  zscore_profit  \n",
       "Postal Code            -0.111822      -0.051327  \n",
       "Sales                  -0.068118       0.708306  \n",
       "Quantity                0.020880       0.159733  \n",
       "Discount                0.482348       0.150094  \n",
       "Profit                 -0.175272       0.285394  \n",
       "Week Day                0.011004       0.008698  \n",
       "Days to Ship            0.010240       0.001062  \n",
       "zscore_sales           -0.008748       0.626509  \n",
       "zscore_quantity         0.008327       0.061789  \n",
       "zscore_discount         1.000000       0.176831  \n",
       "zscore_profit           0.176831       1.000000  "
      ]
     },
     "execution_count": 75,
     "metadata": {},
     "output_type": "execute_result"
    }
   ],
   "source": [
    "dfz.corr()"
   ]
  },
  {
   "cell_type": "markdown",
   "id": "81223a44",
   "metadata": {},
   "source": [
    "Looks like Profit had strong positive correlation with Sales, and negative strong correlation with Discount"
   ]
  },
  {
   "cell_type": "code",
   "execution_count": 76,
   "id": "06c8a45d",
   "metadata": {},
   "outputs": [
    {
     "name": "stdout",
     "output_type": "stream",
     "text": [
      "<class 'pandas.core.frame.DataFrame'>\n",
      "Int64Index: 9436 entries, 0 to 9993\n",
      "Data columns (total 27 columns):\n",
      " #   Column           Non-Null Count  Dtype         \n",
      "---  ------           --------------  -----         \n",
      " 0   Order ID         9436 non-null   object        \n",
      " 1   Order Date       9436 non-null   datetime64[ns]\n",
      " 2   Ship Date        9436 non-null   datetime64[ns]\n",
      " 3   Ship Mode        9436 non-null   object        \n",
      " 4   Customer ID      9436 non-null   object        \n",
      " 5   Customer Name    9436 non-null   object        \n",
      " 6   Segment          9436 non-null   object        \n",
      " 7   City             9436 non-null   object        \n",
      " 8   State            9436 non-null   object        \n",
      " 9   Postal Code      9436 non-null   int64         \n",
      " 10  Region           9436 non-null   object        \n",
      " 11  Product ID       9436 non-null   object        \n",
      " 12  Category         9436 non-null   object        \n",
      " 13  Sub-Category     9436 non-null   object        \n",
      " 14  Product Name     9436 non-null   object        \n",
      " 15  Sales            9436 non-null   float64       \n",
      " 16  Quantity         9436 non-null   int64         \n",
      " 17  Discount         9436 non-null   float64       \n",
      " 18  Profit           9436 non-null   float64       \n",
      " 19  Profitable       9436 non-null   object        \n",
      " 20  Week Day         9436 non-null   int64         \n",
      " 21  Days to Ship     9436 non-null   int64         \n",
      " 22  Day of Week      9436 non-null   object        \n",
      " 23  zscore_sales     9436 non-null   float64       \n",
      " 24  zscore_quantity  9436 non-null   float64       \n",
      " 25  zscore_discount  9436 non-null   float64       \n",
      " 26  zscore_profit    9436 non-null   float64       \n",
      "dtypes: datetime64[ns](2), float64(7), int64(4), object(14)\n",
      "memory usage: 2.0+ MB\n"
     ]
    }
   ],
   "source": [
    "dfz.info()"
   ]
  },
  {
   "cell_type": "code",
   "execution_count": 77,
   "id": "e773baab",
   "metadata": {},
   "outputs": [
    {
     "name": "stdout",
     "output_type": "stream",
     "text": [
      "<class 'pandas.core.frame.DataFrame'>\n",
      "Int64Index: 9436 entries, 0 to 9993\n",
      "Data columns (total 27 columns):\n",
      " #   Column           Non-Null Count  Dtype         \n",
      "---  ------           --------------  -----         \n",
      " 0   Order_ID         9436 non-null   object        \n",
      " 1   Order_Date       9436 non-null   datetime64[ns]\n",
      " 2   Ship_Date        9436 non-null   datetime64[ns]\n",
      " 3   Ship_Mode        9436 non-null   object        \n",
      " 4   Customer_ID      9436 non-null   object        \n",
      " 5   Customer_Name    9436 non-null   object        \n",
      " 6   Segment          9436 non-null   object        \n",
      " 7   City             9436 non-null   object        \n",
      " 8   State            9436 non-null   object        \n",
      " 9   Postal_Code      9436 non-null   int64         \n",
      " 10  Region           9436 non-null   object        \n",
      " 11  Product_ID       9436 non-null   object        \n",
      " 12  Category         9436 non-null   object        \n",
      " 13  Sub-Category     9436 non-null   object        \n",
      " 14  Product_Name     9436 non-null   object        \n",
      " 15  Sales            9436 non-null   float64       \n",
      " 16  Quantity         9436 non-null   int64         \n",
      " 17  Discount         9436 non-null   float64       \n",
      " 18  Profit           9436 non-null   float64       \n",
      " 19  Profitable       9436 non-null   object        \n",
      " 20  Week_Day         9436 non-null   int64         \n",
      " 21  Days_to_Ship     9436 non-null   int64         \n",
      " 22  Day_of_Week      9436 non-null   object        \n",
      " 23  zscore_sales     9436 non-null   float64       \n",
      " 24  zscore_quantity  9436 non-null   float64       \n",
      " 25  zscore_discount  9436 non-null   float64       \n",
      " 26  zscore_profit    9436 non-null   float64       \n",
      "dtypes: datetime64[ns](2), float64(7), int64(4), object(14)\n",
      "memory usage: 2.0+ MB\n"
     ]
    }
   ],
   "source": [
    "## have to get rid of space in column headers for function to sm.ols to work\n",
    "\n",
    "dfz.columns = dfz.columns.str.replace(\" \", \"_\")\n",
    "dfz.info()"
   ]
  },
  {
   "cell_type": "code",
   "execution_count": 78,
   "id": "350f3762",
   "metadata": {},
   "outputs": [
    {
     "data": {
      "text/html": [
       "<table class=\"simpletable\">\n",
       "<caption>OLS Regression Results</caption>\n",
       "<tr>\n",
       "  <th>Dep. Variable:</th>         <td>Profit</td>      <th>  R-squared:         </th> <td>   0.356</td> \n",
       "</tr>\n",
       "<tr>\n",
       "  <th>Model:</th>                   <td>OLS</td>       <th>  Adj. R-squared:    </th> <td>   0.355</td> \n",
       "</tr>\n",
       "<tr>\n",
       "  <th>Method:</th>             <td>Least Squares</td>  <th>  F-statistic:       </th> <td>   579.2</td> \n",
       "</tr>\n",
       "<tr>\n",
       "  <th>Date:</th>             <td>Thu, 05 May 2022</td> <th>  Prob (F-statistic):</th>  <td>  0.00</td>  \n",
       "</tr>\n",
       "<tr>\n",
       "  <th>Time:</th>                 <td>19:26:08</td>     <th>  Log-Likelihood:    </th> <td> -52743.</td> \n",
       "</tr>\n",
       "<tr>\n",
       "  <th>No. Observations:</th>      <td>  9436</td>      <th>  AIC:               </th> <td>1.055e+05</td>\n",
       "</tr>\n",
       "<tr>\n",
       "  <th>Df Residuals:</th>          <td>  9426</td>      <th>  BIC:               </th> <td>1.056e+05</td>\n",
       "</tr>\n",
       "<tr>\n",
       "  <th>Df Model:</th>              <td>     9</td>      <th>                     </th>     <td> </td>    \n",
       "</tr>\n",
       "<tr>\n",
       "  <th>Covariance Type:</th>      <td>nonrobust</td>    <th>                     </th>     <td> </td>    \n",
       "</tr>\n",
       "</table>\n",
       "<table class=\"simpletable\">\n",
       "<tr>\n",
       "                 <td></td>                   <th>coef</th>     <th>std err</th>      <th>t</th>      <th>P>|t|</th>  <th>[0.025</th>    <th>0.975]</th>  \n",
       "</tr>\n",
       "<tr>\n",
       "  <th>Intercept</th>                      <td>   -2.4094</td> <td>    2.862</td> <td>   -0.842</td> <td> 0.400</td> <td>   -8.019</td> <td>    3.200</td>\n",
       "</tr>\n",
       "<tr>\n",
       "  <th>C(Region)[T.East]</th>              <td>   -0.8649</td> <td>    1.909</td> <td>   -0.453</td> <td> 0.651</td> <td>   -4.607</td> <td>    2.878</td>\n",
       "</tr>\n",
       "<tr>\n",
       "  <th>C(Region)[T.South]</th>             <td>    5.0725</td> <td>    2.193</td> <td>    2.314</td> <td> 0.021</td> <td>    0.775</td> <td>    9.370</td>\n",
       "</tr>\n",
       "<tr>\n",
       "  <th>C(Region)[T.West]</th>              <td>   -1.0352</td> <td>    1.872</td> <td>   -0.553</td> <td> 0.580</td> <td>   -4.705</td> <td>    2.635</td>\n",
       "</tr>\n",
       "<tr>\n",
       "  <th>C(Category)[T.Office Supplies]</th> <td>   32.0240</td> <td>    1.765</td> <td>   18.141</td> <td> 0.000</td> <td>   28.564</td> <td>   35.484</td>\n",
       "</tr>\n",
       "<tr>\n",
       "  <th>C(Category)[T.Technology]</th>      <td>   35.1881</td> <td>    2.112</td> <td>   16.664</td> <td> 0.000</td> <td>   31.049</td> <td>   39.327</td>\n",
       "</tr>\n",
       "<tr>\n",
       "  <th>Sales</th>                          <td>    0.1325</td> <td>    0.003</td> <td>   52.498</td> <td> 0.000</td> <td>    0.128</td> <td>    0.137</td>\n",
       "</tr>\n",
       "<tr>\n",
       "  <th>Quantity</th>                       <td>   -0.0894</td> <td>    0.346</td> <td>   -0.259</td> <td> 0.796</td> <td>   -0.767</td> <td>    0.588</td>\n",
       "</tr>\n",
       "<tr>\n",
       "  <th>Discount</th>                       <td> -155.4128</td> <td>    3.877</td> <td>  -40.083</td> <td> 0.000</td> <td> -163.013</td> <td> -147.812</td>\n",
       "</tr>\n",
       "<tr>\n",
       "  <th>Days_to_Ship</th>                   <td>   -0.6790</td> <td>    0.381</td> <td>   -1.781</td> <td> 0.075</td> <td>   -1.426</td> <td>    0.068</td>\n",
       "</tr>\n",
       "</table>\n",
       "<table class=\"simpletable\">\n",
       "<tr>\n",
       "  <th>Omnibus:</th>       <td>5473.038</td> <th>  Durbin-Watson:     </th>  <td>   1.997</td> \n",
       "</tr>\n",
       "<tr>\n",
       "  <th>Prob(Omnibus):</th>  <td> 0.000</td>  <th>  Jarque-Bera (JB):  </th> <td>271945.747</td>\n",
       "</tr>\n",
       "<tr>\n",
       "  <th>Skew:</th>           <td>-2.085</td>  <th>  Prob(JB):          </th>  <td>    0.00</td> \n",
       "</tr>\n",
       "<tr>\n",
       "  <th>Kurtosis:</th>       <td>28.967</td>  <th>  Cond. No.          </th>  <td>2.13e+03</td> \n",
       "</tr>\n",
       "</table><br/><br/>Notes:<br/>[1] Standard Errors assume that the covariance matrix of the errors is correctly specified.<br/>[2] The condition number is large, 2.13e+03. This might indicate that there are<br/>strong multicollinearity or other numerical problems."
      ],
      "text/plain": [
       "<class 'statsmodels.iolib.summary.Summary'>\n",
       "\"\"\"\n",
       "                            OLS Regression Results                            \n",
       "==============================================================================\n",
       "Dep. Variable:                 Profit   R-squared:                       0.356\n",
       "Model:                            OLS   Adj. R-squared:                  0.355\n",
       "Method:                 Least Squares   F-statistic:                     579.2\n",
       "Date:                Thu, 05 May 2022   Prob (F-statistic):               0.00\n",
       "Time:                        19:26:08   Log-Likelihood:                -52743.\n",
       "No. Observations:                9436   AIC:                         1.055e+05\n",
       "Df Residuals:                    9426   BIC:                         1.056e+05\n",
       "Df Model:                           9                                         \n",
       "Covariance Type:            nonrobust                                         \n",
       "==================================================================================================\n",
       "                                     coef    std err          t      P>|t|      [0.025      0.975]\n",
       "--------------------------------------------------------------------------------------------------\n",
       "Intercept                         -2.4094      2.862     -0.842      0.400      -8.019       3.200\n",
       "C(Region)[T.East]                 -0.8649      1.909     -0.453      0.651      -4.607       2.878\n",
       "C(Region)[T.South]                 5.0725      2.193      2.314      0.021       0.775       9.370\n",
       "C(Region)[T.West]                 -1.0352      1.872     -0.553      0.580      -4.705       2.635\n",
       "C(Category)[T.Office Supplies]    32.0240      1.765     18.141      0.000      28.564      35.484\n",
       "C(Category)[T.Technology]         35.1881      2.112     16.664      0.000      31.049      39.327\n",
       "Sales                              0.1325      0.003     52.498      0.000       0.128       0.137\n",
       "Quantity                          -0.0894      0.346     -0.259      0.796      -0.767       0.588\n",
       "Discount                        -155.4128      3.877    -40.083      0.000    -163.013    -147.812\n",
       "Days_to_Ship                      -0.6790      0.381     -1.781      0.075      -1.426       0.068\n",
       "==============================================================================\n",
       "Omnibus:                     5473.038   Durbin-Watson:                   1.997\n",
       "Prob(Omnibus):                  0.000   Jarque-Bera (JB):           271945.747\n",
       "Skew:                          -2.085   Prob(JB):                         0.00\n",
       "Kurtosis:                      28.967   Cond. No.                     2.13e+03\n",
       "==============================================================================\n",
       "\n",
       "Notes:\n",
       "[1] Standard Errors assume that the covariance matrix of the errors is correctly specified.\n",
       "[2] The condition number is large, 2.13e+03. This might indicate that there are\n",
       "strong multicollinearity or other numerical problems.\n",
       "\"\"\""
      ]
     },
     "execution_count": 78,
     "metadata": {},
     "output_type": "execute_result"
    }
   ],
   "source": [
    "## create the regression model\n",
    "dfz_result = sm.ols('Profit ~ Sales + Quantity + Discount + Days_to_Ship + C(Region) + C(Category)', data = dfz).fit()\n",
    "\n",
    "## print the regression model summary\n",
    "dfz_result.summary()"
   ]
  },
  {
   "cell_type": "code",
   "execution_count": 79,
   "id": "7fecad97",
   "metadata": {},
   "outputs": [
    {
     "data": {
      "text/html": [
       "<table class=\"simpletable\">\n",
       "<caption>OLS Regression Results</caption>\n",
       "<tr>\n",
       "  <th>Dep. Variable:</th>         <td>Profit</td>      <th>  R-squared:         </th> <td>   0.356</td> \n",
       "</tr>\n",
       "<tr>\n",
       "  <th>Model:</th>                   <td>OLS</td>       <th>  Adj. R-squared:    </th> <td>   0.355</td> \n",
       "</tr>\n",
       "<tr>\n",
       "  <th>Method:</th>             <td>Least Squares</td>  <th>  F-statistic:       </th> <td>   473.5</td> \n",
       "</tr>\n",
       "<tr>\n",
       "  <th>Date:</th>             <td>Thu, 05 May 2022</td> <th>  Prob (F-statistic):</th>  <td>  0.00</td>  \n",
       "</tr>\n",
       "<tr>\n",
       "  <th>Time:</th>                 <td>19:26:08</td>     <th>  Log-Likelihood:    </th> <td> -52744.</td> \n",
       "</tr>\n",
       "<tr>\n",
       "  <th>No. Observations:</th>      <td>  9436</td>      <th>  AIC:               </th> <td>1.055e+05</td>\n",
       "</tr>\n",
       "<tr>\n",
       "  <th>Df Residuals:</th>          <td>  9424</td>      <th>  BIC:               </th> <td>1.056e+05</td>\n",
       "</tr>\n",
       "<tr>\n",
       "  <th>Df Model:</th>              <td>    11</td>      <th>                     </th>     <td> </td>    \n",
       "</tr>\n",
       "<tr>\n",
       "  <th>Covariance Type:</th>      <td>nonrobust</td>    <th>                     </th>     <td> </td>    \n",
       "</tr>\n",
       "</table>\n",
       "<table class=\"simpletable\">\n",
       "<tr>\n",
       "                 <td></td>                   <th>coef</th>     <th>std err</th>      <th>t</th>      <th>P>|t|</th>  <th>[0.025</th>    <th>0.975]</th>  \n",
       "</tr>\n",
       "<tr>\n",
       "  <th>Intercept</th>                      <td>   -6.0511</td> <td>    2.680</td> <td>   -2.258</td> <td> 0.024</td> <td>  -11.305</td> <td>   -0.798</td>\n",
       "</tr>\n",
       "<tr>\n",
       "  <th>C(Region)[T.East]</th>              <td>   -0.7359</td> <td>    1.909</td> <td>   -0.385</td> <td> 0.700</td> <td>   -4.478</td> <td>    3.007</td>\n",
       "</tr>\n",
       "<tr>\n",
       "  <th>C(Region)[T.South]</th>             <td>    5.1686</td> <td>    2.193</td> <td>    2.356</td> <td> 0.018</td> <td>    0.869</td> <td>    9.468</td>\n",
       "</tr>\n",
       "<tr>\n",
       "  <th>C(Region)[T.West]</th>              <td>   -0.9362</td> <td>    1.873</td> <td>   -0.500</td> <td> 0.617</td> <td>   -4.607</td> <td>    2.735</td>\n",
       "</tr>\n",
       "<tr>\n",
       "  <th>C(Segment)[T.Corporate]</th>        <td>   -0.0457</td> <td>    1.526</td> <td>   -0.030</td> <td> 0.976</td> <td>   -3.038</td> <td>    2.946</td>\n",
       "</tr>\n",
       "<tr>\n",
       "  <th>C(Segment)[T.Home Office]</th>      <td>    1.4301</td> <td>    1.832</td> <td>    0.781</td> <td> 0.435</td> <td>   -2.161</td> <td>    5.021</td>\n",
       "</tr>\n",
       "<tr>\n",
       "  <th>C(Category)[T.Office Supplies]</th> <td>   31.9654</td> <td>    1.766</td> <td>   18.100</td> <td> 0.000</td> <td>   28.504</td> <td>   35.427</td>\n",
       "</tr>\n",
       "<tr>\n",
       "  <th>C(Category)[T.Technology]</th>      <td>   35.1454</td> <td>    2.112</td> <td>   16.639</td> <td> 0.000</td> <td>   31.005</td> <td>   39.286</td>\n",
       "</tr>\n",
       "<tr>\n",
       "  <th>Sales</th>                          <td>    0.1326</td> <td>    0.003</td> <td>   52.512</td> <td> 0.000</td> <td>    0.128</td> <td>    0.138</td>\n",
       "</tr>\n",
       "<tr>\n",
       "  <th>Quantity</th>                       <td>   -0.0980</td> <td>    0.346</td> <td>   -0.283</td> <td> 0.777</td> <td>   -0.776</td> <td>    0.580</td>\n",
       "</tr>\n",
       "<tr>\n",
       "  <th>Discount</th>                       <td> -155.2932</td> <td>    3.879</td> <td>  -40.037</td> <td> 0.000</td> <td> -162.896</td> <td> -147.690</td>\n",
       "</tr>\n",
       "<tr>\n",
       "  <th>Week_Day</th>                       <td>    0.2113</td> <td>    0.315</td> <td>    0.672</td> <td> 0.502</td> <td>   -0.406</td> <td>    0.828</td>\n",
       "</tr>\n",
       "</table>\n",
       "<table class=\"simpletable\">\n",
       "<tr>\n",
       "  <th>Omnibus:</th>       <td>5484.304</td> <th>  Durbin-Watson:     </th>  <td>   1.998</td> \n",
       "</tr>\n",
       "<tr>\n",
       "  <th>Prob(Omnibus):</th>  <td> 0.000</td>  <th>  Jarque-Bera (JB):  </th> <td>272831.860</td>\n",
       "</tr>\n",
       "<tr>\n",
       "  <th>Skew:</th>           <td>-2.091</td>  <th>  Prob(JB):          </th>  <td>    0.00</td> \n",
       "</tr>\n",
       "<tr>\n",
       "  <th>Kurtosis:</th>       <td>29.009</td>  <th>  Cond. No.          </th>  <td>2.12e+03</td> \n",
       "</tr>\n",
       "</table><br/><br/>Notes:<br/>[1] Standard Errors assume that the covariance matrix of the errors is correctly specified.<br/>[2] The condition number is large, 2.12e+03. This might indicate that there are<br/>strong multicollinearity or other numerical problems."
      ],
      "text/plain": [
       "<class 'statsmodels.iolib.summary.Summary'>\n",
       "\"\"\"\n",
       "                            OLS Regression Results                            \n",
       "==============================================================================\n",
       "Dep. Variable:                 Profit   R-squared:                       0.356\n",
       "Model:                            OLS   Adj. R-squared:                  0.355\n",
       "Method:                 Least Squares   F-statistic:                     473.5\n",
       "Date:                Thu, 05 May 2022   Prob (F-statistic):               0.00\n",
       "Time:                        19:26:08   Log-Likelihood:                -52744.\n",
       "No. Observations:                9436   AIC:                         1.055e+05\n",
       "Df Residuals:                    9424   BIC:                         1.056e+05\n",
       "Df Model:                          11                                         \n",
       "Covariance Type:            nonrobust                                         \n",
       "==================================================================================================\n",
       "                                     coef    std err          t      P>|t|      [0.025      0.975]\n",
       "--------------------------------------------------------------------------------------------------\n",
       "Intercept                         -6.0511      2.680     -2.258      0.024     -11.305      -0.798\n",
       "C(Region)[T.East]                 -0.7359      1.909     -0.385      0.700      -4.478       3.007\n",
       "C(Region)[T.South]                 5.1686      2.193      2.356      0.018       0.869       9.468\n",
       "C(Region)[T.West]                 -0.9362      1.873     -0.500      0.617      -4.607       2.735\n",
       "C(Segment)[T.Corporate]           -0.0457      1.526     -0.030      0.976      -3.038       2.946\n",
       "C(Segment)[T.Home Office]          1.4301      1.832      0.781      0.435      -2.161       5.021\n",
       "C(Category)[T.Office Supplies]    31.9654      1.766     18.100      0.000      28.504      35.427\n",
       "C(Category)[T.Technology]         35.1454      2.112     16.639      0.000      31.005      39.286\n",
       "Sales                              0.1326      0.003     52.512      0.000       0.128       0.138\n",
       "Quantity                          -0.0980      0.346     -0.283      0.777      -0.776       0.580\n",
       "Discount                        -155.2932      3.879    -40.037      0.000    -162.896    -147.690\n",
       "Week_Day                           0.2113      0.315      0.672      0.502      -0.406       0.828\n",
       "==============================================================================\n",
       "Omnibus:                     5484.304   Durbin-Watson:                   1.998\n",
       "Prob(Omnibus):                  0.000   Jarque-Bera (JB):           272831.860\n",
       "Skew:                          -2.091   Prob(JB):                         0.00\n",
       "Kurtosis:                      29.009   Cond. No.                     2.12e+03\n",
       "==============================================================================\n",
       "\n",
       "Notes:\n",
       "[1] Standard Errors assume that the covariance matrix of the errors is correctly specified.\n",
       "[2] The condition number is large, 2.12e+03. This might indicate that there are\n",
       "strong multicollinearity or other numerical problems.\n",
       "\"\"\""
      ]
     },
     "execution_count": 79,
     "metadata": {},
     "output_type": "execute_result"
    }
   ],
   "source": [
    "## create the regression model\n",
    "dfz_result = sm.ols('Profit ~ Sales + Quantity + Discount + Week_Day + C(Region) + C(Segment) + C(Category)', data = dfz).fit()\n",
    "\n",
    "## print the regression model summary\n",
    "dfz_result.summary()"
   ]
  },
  {
   "cell_type": "code",
   "execution_count": 80,
   "id": "5745a601",
   "metadata": {},
   "outputs": [
    {
     "data": {
      "text/html": [
       "<table class=\"simpletable\">\n",
       "<caption>OLS Regression Results</caption>\n",
       "<tr>\n",
       "  <th>Dep. Variable:</th>         <td>Profit</td>      <th>  R-squared:         </th> <td>   0.356</td> \n",
       "</tr>\n",
       "<tr>\n",
       "  <th>Model:</th>                   <td>OLS</td>       <th>  Adj. R-squared:    </th> <td>   0.355</td> \n",
       "</tr>\n",
       "<tr>\n",
       "  <th>Method:</th>             <td>Least Squares</td>  <th>  F-statistic:       </th> <td>   520.8</td> \n",
       "</tr>\n",
       "<tr>\n",
       "  <th>Date:</th>             <td>Thu, 05 May 2022</td> <th>  Prob (F-statistic):</th>  <td>  0.00</td>  \n",
       "</tr>\n",
       "<tr>\n",
       "  <th>Time:</th>                 <td>19:26:09</td>     <th>  Log-Likelihood:    </th> <td> -52744.</td> \n",
       "</tr>\n",
       "<tr>\n",
       "  <th>No. Observations:</th>      <td>  9436</td>      <th>  AIC:               </th> <td>1.055e+05</td>\n",
       "</tr>\n",
       "<tr>\n",
       "  <th>Df Residuals:</th>          <td>  9425</td>      <th>  BIC:               </th> <td>1.056e+05</td>\n",
       "</tr>\n",
       "<tr>\n",
       "  <th>Df Model:</th>              <td>    10</td>      <th>                     </th>     <td> </td>    \n",
       "</tr>\n",
       "<tr>\n",
       "  <th>Covariance Type:</th>      <td>nonrobust</td>    <th>                     </th>     <td> </td>    \n",
       "</tr>\n",
       "</table>\n",
       "<table class=\"simpletable\">\n",
       "<tr>\n",
       "                 <td></td>                   <th>coef</th>     <th>std err</th>      <th>t</th>      <th>P>|t|</th>  <th>[0.025</th>    <th>0.975]</th>  \n",
       "</tr>\n",
       "<tr>\n",
       "  <th>Intercept</th>                      <td>   -5.4042</td> <td>    2.501</td> <td>   -2.161</td> <td> 0.031</td> <td>  -10.306</td> <td>   -0.502</td>\n",
       "</tr>\n",
       "<tr>\n",
       "  <th>C(Region)[T.East]</th>              <td>   -0.7308</td> <td>    1.909</td> <td>   -0.383</td> <td> 0.702</td> <td>   -4.473</td> <td>    3.012</td>\n",
       "</tr>\n",
       "<tr>\n",
       "  <th>C(Region)[T.South]</th>             <td>    5.1801</td> <td>    2.193</td> <td>    2.362</td> <td> 0.018</td> <td>    0.881</td> <td>    9.479</td>\n",
       "</tr>\n",
       "<tr>\n",
       "  <th>C(Region)[T.West]</th>              <td>   -0.9235</td> <td>    1.873</td> <td>   -0.493</td> <td> 0.622</td> <td>   -4.594</td> <td>    2.747</td>\n",
       "</tr>\n",
       "<tr>\n",
       "  <th>C(Category)[T.Office Supplies]</th> <td>   31.9869</td> <td>    1.766</td> <td>   18.116</td> <td> 0.000</td> <td>   28.526</td> <td>   35.448</td>\n",
       "</tr>\n",
       "<tr>\n",
       "  <th>C(Category)[T.Technology]</th>      <td>   35.1604</td> <td>    2.112</td> <td>   16.647</td> <td> 0.000</td> <td>   31.020</td> <td>   39.301</td>\n",
       "</tr>\n",
       "<tr>\n",
       "  <th>C(Segment)[T.Corporate]</th>        <td>   -0.0320</td> <td>    1.526</td> <td>   -0.021</td> <td> 0.983</td> <td>   -3.024</td> <td>    2.960</td>\n",
       "</tr>\n",
       "<tr>\n",
       "  <th>C(Segment)[T.Home Office]</th>      <td>    1.4321</td> <td>    1.832</td> <td>    0.782</td> <td> 0.434</td> <td>   -2.159</td> <td>    5.023</td>\n",
       "</tr>\n",
       "<tr>\n",
       "  <th>Sales</th>                          <td>    0.1326</td> <td>    0.003</td> <td>   52.512</td> <td> 0.000</td> <td>    0.128</td> <td>    0.138</td>\n",
       "</tr>\n",
       "<tr>\n",
       "  <th>Quantity</th>                       <td>   -0.0980</td> <td>    0.346</td> <td>   -0.283</td> <td> 0.777</td> <td>   -0.776</td> <td>    0.580</td>\n",
       "</tr>\n",
       "<tr>\n",
       "  <th>Discount</th>                       <td> -155.2719</td> <td>    3.879</td> <td>  -40.034</td> <td> 0.000</td> <td> -162.875</td> <td> -147.669</td>\n",
       "</tr>\n",
       "</table>\n",
       "<table class=\"simpletable\">\n",
       "<tr>\n",
       "  <th>Omnibus:</th>       <td>5482.919</td> <th>  Durbin-Watson:     </th>  <td>   1.998</td> \n",
       "</tr>\n",
       "<tr>\n",
       "  <th>Prob(Omnibus):</th>  <td> 0.000</td>  <th>  Jarque-Bera (JB):  </th> <td>272875.710</td>\n",
       "</tr>\n",
       "<tr>\n",
       "  <th>Skew:</th>           <td>-2.090</td>  <th>  Prob(JB):          </th>  <td>    0.00</td> \n",
       "</tr>\n",
       "<tr>\n",
       "  <th>Kurtosis:</th>       <td>29.011</td>  <th>  Cond. No.          </th>  <td>2.11e+03</td> \n",
       "</tr>\n",
       "</table><br/><br/>Notes:<br/>[1] Standard Errors assume that the covariance matrix of the errors is correctly specified.<br/>[2] The condition number is large, 2.11e+03. This might indicate that there are<br/>strong multicollinearity or other numerical problems."
      ],
      "text/plain": [
       "<class 'statsmodels.iolib.summary.Summary'>\n",
       "\"\"\"\n",
       "                            OLS Regression Results                            \n",
       "==============================================================================\n",
       "Dep. Variable:                 Profit   R-squared:                       0.356\n",
       "Model:                            OLS   Adj. R-squared:                  0.355\n",
       "Method:                 Least Squares   F-statistic:                     520.8\n",
       "Date:                Thu, 05 May 2022   Prob (F-statistic):               0.00\n",
       "Time:                        19:26:09   Log-Likelihood:                -52744.\n",
       "No. Observations:                9436   AIC:                         1.055e+05\n",
       "Df Residuals:                    9425   BIC:                         1.056e+05\n",
       "Df Model:                          10                                         \n",
       "Covariance Type:            nonrobust                                         \n",
       "==================================================================================================\n",
       "                                     coef    std err          t      P>|t|      [0.025      0.975]\n",
       "--------------------------------------------------------------------------------------------------\n",
       "Intercept                         -5.4042      2.501     -2.161      0.031     -10.306      -0.502\n",
       "C(Region)[T.East]                 -0.7308      1.909     -0.383      0.702      -4.473       3.012\n",
       "C(Region)[T.South]                 5.1801      2.193      2.362      0.018       0.881       9.479\n",
       "C(Region)[T.West]                 -0.9235      1.873     -0.493      0.622      -4.594       2.747\n",
       "C(Category)[T.Office Supplies]    31.9869      1.766     18.116      0.000      28.526      35.448\n",
       "C(Category)[T.Technology]         35.1604      2.112     16.647      0.000      31.020      39.301\n",
       "C(Segment)[T.Corporate]           -0.0320      1.526     -0.021      0.983      -3.024       2.960\n",
       "C(Segment)[T.Home Office]          1.4321      1.832      0.782      0.434      -2.159       5.023\n",
       "Sales                              0.1326      0.003     52.512      0.000       0.128       0.138\n",
       "Quantity                          -0.0980      0.346     -0.283      0.777      -0.776       0.580\n",
       "Discount                        -155.2719      3.879    -40.034      0.000    -162.875    -147.669\n",
       "==============================================================================\n",
       "Omnibus:                     5482.919   Durbin-Watson:                   1.998\n",
       "Prob(Omnibus):                  0.000   Jarque-Bera (JB):           272875.710\n",
       "Skew:                          -2.090   Prob(JB):                         0.00\n",
       "Kurtosis:                      29.011   Cond. No.                     2.11e+03\n",
       "==============================================================================\n",
       "\n",
       "Notes:\n",
       "[1] Standard Errors assume that the covariance matrix of the errors is correctly specified.\n",
       "[2] The condition number is large, 2.11e+03. This might indicate that there are\n",
       "strong multicollinearity or other numerical problems.\n",
       "\"\"\""
      ]
     },
     "execution_count": 80,
     "metadata": {},
     "output_type": "execute_result"
    }
   ],
   "source": [
    "## create the regression model\n",
    "dfz_result = sm.ols('Profit ~ Sales + Quantity + Discount + C(Region) + C(Category) + C(Segment)', data = dfz).fit()\n",
    "\n",
    "## print the regression model summary\n",
    "dfz_result.summary()"
   ]
  },
  {
   "cell_type": "code",
   "execution_count": 81,
   "id": "ce076dc1",
   "metadata": {},
   "outputs": [
    {
     "data": {
      "text/html": [
       "<table class=\"simpletable\">\n",
       "<caption>OLS Regression Results</caption>\n",
       "<tr>\n",
       "  <th>Dep. Variable:</th>         <td>Profit</td>      <th>  R-squared:         </th> <td>   0.355</td> \n",
       "</tr>\n",
       "<tr>\n",
       "  <th>Model:</th>                   <td>OLS</td>       <th>  Adj. R-squared:    </th> <td>   0.355</td> \n",
       "</tr>\n",
       "<tr>\n",
       "  <th>Method:</th>             <td>Least Squares</td>  <th>  F-statistic:       </th> <td>   1298.</td> \n",
       "</tr>\n",
       "<tr>\n",
       "  <th>Date:</th>             <td>Thu, 05 May 2022</td> <th>  Prob (F-statistic):</th>  <td>  0.00</td>  \n",
       "</tr>\n",
       "<tr>\n",
       "  <th>Time:</th>                 <td>19:26:09</td>     <th>  Log-Likelihood:    </th> <td> -52750.</td> \n",
       "</tr>\n",
       "<tr>\n",
       "  <th>No. Observations:</th>      <td>  9436</td>      <th>  AIC:               </th> <td>1.055e+05</td>\n",
       "</tr>\n",
       "<tr>\n",
       "  <th>Df Residuals:</th>          <td>  9431</td>      <th>  BIC:               </th> <td>1.055e+05</td>\n",
       "</tr>\n",
       "<tr>\n",
       "  <th>Df Model:</th>              <td>     4</td>      <th>                     </th>     <td> </td>    \n",
       "</tr>\n",
       "<tr>\n",
       "  <th>Covariance Type:</th>      <td>nonrobust</td>    <th>                     </th>     <td> </td>    \n",
       "</tr>\n",
       "</table>\n",
       "<table class=\"simpletable\">\n",
       "<tr>\n",
       "                 <td></td>                   <th>coef</th>     <th>std err</th>      <th>t</th>      <th>P>|t|</th>  <th>[0.025</th>    <th>0.975]</th>  \n",
       "</tr>\n",
       "<tr>\n",
       "  <th>Intercept</th>                      <td>   -5.2426</td> <td>    1.753</td> <td>   -2.990</td> <td> 0.003</td> <td>   -8.680</td> <td>   -1.805</td>\n",
       "</tr>\n",
       "<tr>\n",
       "  <th>C(Category)[T.Office Supplies]</th> <td>   32.0496</td> <td>    1.757</td> <td>   18.245</td> <td> 0.000</td> <td>   28.606</td> <td>   35.493</td>\n",
       "</tr>\n",
       "<tr>\n",
       "  <th>C(Category)[T.Technology]</th>      <td>   35.2175</td> <td>    2.112</td> <td>   16.672</td> <td> 0.000</td> <td>   31.077</td> <td>   39.358</td>\n",
       "</tr>\n",
       "<tr>\n",
       "  <th>Sales</th>                          <td>    0.1324</td> <td>    0.002</td> <td>   54.553</td> <td> 0.000</td> <td>    0.128</td> <td>    0.137</td>\n",
       "</tr>\n",
       "<tr>\n",
       "  <th>Discount</th>                       <td> -154.8014</td> <td>    3.852</td> <td>  -40.184</td> <td> 0.000</td> <td> -162.353</td> <td> -147.250</td>\n",
       "</tr>\n",
       "</table>\n",
       "<table class=\"simpletable\">\n",
       "<tr>\n",
       "  <th>Omnibus:</th>       <td>5472.134</td> <th>  Durbin-Watson:     </th>  <td>   1.997</td> \n",
       "</tr>\n",
       "<tr>\n",
       "  <th>Prob(Omnibus):</th>  <td> 0.000</td>  <th>  Jarque-Bera (JB):  </th> <td>270910.189</td>\n",
       "</tr>\n",
       "<tr>\n",
       "  <th>Skew:</th>           <td>-2.085</td>  <th>  Prob(JB):          </th>  <td>    0.00</td> \n",
       "</tr>\n",
       "<tr>\n",
       "  <th>Kurtosis:</th>       <td>28.916</td>  <th>  Cond. No.          </th>  <td>2.04e+03</td> \n",
       "</tr>\n",
       "</table><br/><br/>Notes:<br/>[1] Standard Errors assume that the covariance matrix of the errors is correctly specified.<br/>[2] The condition number is large, 2.04e+03. This might indicate that there are<br/>strong multicollinearity or other numerical problems."
      ],
      "text/plain": [
       "<class 'statsmodels.iolib.summary.Summary'>\n",
       "\"\"\"\n",
       "                            OLS Regression Results                            \n",
       "==============================================================================\n",
       "Dep. Variable:                 Profit   R-squared:                       0.355\n",
       "Model:                            OLS   Adj. R-squared:                  0.355\n",
       "Method:                 Least Squares   F-statistic:                     1298.\n",
       "Date:                Thu, 05 May 2022   Prob (F-statistic):               0.00\n",
       "Time:                        19:26:09   Log-Likelihood:                -52750.\n",
       "No. Observations:                9436   AIC:                         1.055e+05\n",
       "Df Residuals:                    9431   BIC:                         1.055e+05\n",
       "Df Model:                           4                                         \n",
       "Covariance Type:            nonrobust                                         \n",
       "==================================================================================================\n",
       "                                     coef    std err          t      P>|t|      [0.025      0.975]\n",
       "--------------------------------------------------------------------------------------------------\n",
       "Intercept                         -5.2426      1.753     -2.990      0.003      -8.680      -1.805\n",
       "C(Category)[T.Office Supplies]    32.0496      1.757     18.245      0.000      28.606      35.493\n",
       "C(Category)[T.Technology]         35.2175      2.112     16.672      0.000      31.077      39.358\n",
       "Sales                              0.1324      0.002     54.553      0.000       0.128       0.137\n",
       "Discount                        -154.8014      3.852    -40.184      0.000    -162.353    -147.250\n",
       "==============================================================================\n",
       "Omnibus:                     5472.134   Durbin-Watson:                   1.997\n",
       "Prob(Omnibus):                  0.000   Jarque-Bera (JB):           270910.189\n",
       "Skew:                          -2.085   Prob(JB):                         0.00\n",
       "Kurtosis:                      28.916   Cond. No.                     2.04e+03\n",
       "==============================================================================\n",
       "\n",
       "Notes:\n",
       "[1] Standard Errors assume that the covariance matrix of the errors is correctly specified.\n",
       "[2] The condition number is large, 2.04e+03. This might indicate that there are\n",
       "strong multicollinearity or other numerical problems.\n",
       "\"\"\""
      ]
     },
     "execution_count": 81,
     "metadata": {},
     "output_type": "execute_result"
    }
   ],
   "source": [
    "## Removing non-significant variables \n",
    "\n",
    "dfz_result2 = sm.ols('Profit ~ Sales + Discount + C(Category)', data = dfz).fit()\n",
    "\n",
    "dfz_result2.summary()"
   ]
  },
  {
   "cell_type": "markdown",
   "id": "1fe1bcb7",
   "metadata": {},
   "source": [
    "### So far we just looked at numbers. Lets see if this makes more since with graphs"
   ]
  },
  {
   "cell_type": "code",
   "execution_count": 82,
   "id": "96ea06fa",
   "metadata": {},
   "outputs": [
    {
     "data": {
      "text/plain": [
       "<AxesSubplot:xlabel='Sales', ylabel='Count'>"
      ]
     },
     "execution_count": 82,
     "metadata": {},
     "output_type": "execute_result"
    },
    {
     "data": {
      "image/png": "[encoded data removed]",
      "text/plain": [
       "<Figure size 432x288 with 1 Axes>"
      ]
     },
     "metadata": {
      "needs_background": "light"
     },
     "output_type": "display_data"
    }
   ],
   "source": [
    "sns.histplot(dfz[\"Sales\"], kde = False)"
   ]
  },
  {
   "cell_type": "markdown",
   "id": "a823b388",
   "metadata": {},
   "source": [
    "##  Still lot of outliers"
   ]
  },
  {
   "cell_type": "code",
   "execution_count": 83,
   "id": "7a112d9f",
   "metadata": {},
   "outputs": [
    {
     "data": {
      "text/plain": [
       "<AxesSubplot:xlabel='Profit', ylabel='Count'>"
      ]
     },
     "execution_count": 83,
     "metadata": {},
     "output_type": "execute_result"
    },
    {
     "data": {
      "image/png": "[encoded data removed]",
      "text/plain": [
       "<Figure size 432x288 with 1 Axes>"
      ]
     },
     "metadata": {
      "needs_background": "light"
     },
     "output_type": "display_data"
    }
   ],
   "source": [
    "sns.histplot(dfz[\"Profit\"], kde = False)"
   ]
  },
  {
   "cell_type": "code",
   "execution_count": 142,
   "id": "95a7af0c",
   "metadata": {},
   "outputs": [
    {
     "data": {
      "text/plain": [
       "<AxesSubplot:xlabel='Sales'>"
      ]
     },
     "execution_count": 142,
     "metadata": {},
     "output_type": "execute_result"
    },
    {
     "data": {
      "image/png": "[encoded data removed]",
      "text/plain": [
       "<Figure size 432x288 with 1 Axes>"
      ]
     },
     "metadata": {
      "needs_background": "light"
     },
     "output_type": "display_data"
    }
   ],
   "source": [
    "sns.boxplot(x = dfq[\"Sales\"])   ### lets look at boxplot of the log of sales"
   ]
  },
  {
   "cell_type": "code",
   "execution_count": 85,
   "id": "60aa7a10",
   "metadata": {},
   "outputs": [
    {
     "data": {
      "image/png": "[encoded data removed]",
      "text/plain": [
       "<Figure size 432x288 with 1 Axes>"
      ]
     },
     "metadata": {
      "needs_background": "light"
     },
     "output_type": "display_data"
    }
   ],
   "source": [
    "sns.regplot(x = dfz[\"Sales\"], y = dfz[\"Profit\"], fit_reg = False)\n",
    "\n",
    "plt.grid()"
   ]
  },
  {
   "cell_type": "code",
   "execution_count": 86,
   "id": "f6ed6f25",
   "metadata": {},
   "outputs": [
    {
     "data": {
      "image/png": "[encoded data removed]",
      "text/plain": [
       "<Figure size 470.875x360 with 1 Axes>"
      ]
     },
     "metadata": {
      "needs_background": "light"
     },
     "output_type": "display_data"
    }
   ],
   "source": [
    "sns.lmplot(data = dfz, x = 'Sales', y = 'Profit', fit_reg = False, hue = \"Category\")\n",
    "\n",
    "plt.grid()"
   ]
  },
  {
   "cell_type": "code",
   "execution_count": 130,
   "id": "f348b62d",
   "metadata": {},
   "outputs": [
    {
     "data": {
      "image/png": "[encoded data removed]",
      "text/plain": [
       "<Figure size 504x504 with 2 Axes>"
      ]
     },
     "metadata": {
      "needs_background": "light"
     },
     "output_type": "display_data"
    }
   ],
   "source": [
    "# show correlation of stats via heatmap\n",
    "plt.figure(figsize=(7,7))\n",
    "\n",
    "# calculate the correlation matrix for the numeric dataset \n",
    "corr = dfz[['Sales','Profit','Discount','Week_Day','Days_to_Ship']].corr()\n",
    "\n",
    "# plot a heat map to show the magnitude of the correlation between variables\n",
    "sns.heatmap(corr, vmin = -1, annot = True)\n",
    "plt.savefig('Heat.png',dpi=400)"
   ]
  },
  {
   "cell_type": "code",
   "execution_count": 88,
   "id": "e7e97c76",
   "metadata": {},
   "outputs": [
    {
     "data": {
      "image/png": "[encoded data removed]",
      "text/plain": [
       "<Figure size 1080x504 with 1 Axes>"
      ]
     },
     "metadata": {
      "needs_background": "light"
     },
     "output_type": "display_data"
    }
   ],
   "source": [
    "plt.figure(figsize=(15,7))\n",
    "\n",
    "sns.barplot(data = dfz, x = \"Sub-Category\", y = \"Sales\", ci = None)\n",
    "\n",
    "plt.xticks(rotation = 45)\n",
    "plt.title('Average Sales across Sub Categories')\n",
    "plt.grid()\n",
    "plt.savefig('Ave.Sales.png',dpi=400)"
   ]
  },
  {
   "cell_type": "code",
   "execution_count": 89,
   "id": "ad58e3f9",
   "metadata": {},
   "outputs": [
    {
     "data": {
      "text/plain": [
       "Text(0.5, 1.0, 'Average Sales across Segment')"
      ]
     },
     "execution_count": 89,
     "metadata": {},
     "output_type": "execute_result"
    },
    {
     "data": {
      "image/png": "[encoded data removed]",
      "text/plain": [
       "<Figure size 720x432 with 1 Axes>"
      ]
     },
     "metadata": {
      "needs_background": "light"
     },
     "output_type": "display_data"
    }
   ],
   "source": [
    "plt.figure(figsize=(10,6))\n",
    "\n",
    "sns.barplot(data = dfz, x = \"Segment\", y = \"Sales\", ci = None)\n",
    "\n",
    "plt.title('Average Sales across Segment')"
   ]
  },
  {
   "cell_type": "code",
   "execution_count": 90,
   "id": "23376749",
   "metadata": {},
   "outputs": [
    {
     "data": {
      "image/png": "[encoded data removed]",
      "text/plain": [
       "<Figure size 720x360 with 1 Axes>"
      ]
     },
     "metadata": {
      "needs_background": "light"
     },
     "output_type": "display_data"
    }
   ],
   "source": [
    "plt.figure(figsize=(10,5))\n",
    "\n",
    "sns.barplot(data = dfz, x = \"Category\", y = \"Sales\", ci = None)\n",
    "\n",
    "plt.title('Average Sales across Categories')\n",
    "plt.grid()"
   ]
  },
  {
   "cell_type": "code",
   "execution_count": 91,
   "id": "800396ba",
   "metadata": {},
   "outputs": [
    {
     "data": {
      "image/png": "[encoded data removed]",
      "text/plain": [
       "<Figure size 720x360 with 1 Axes>"
      ]
     },
     "metadata": {
      "needs_background": "light"
     },
     "output_type": "display_data"
    }
   ],
   "source": [
    "plt.figure(figsize=(10,5))\n",
    "\n",
    "sns.barplot(data = dfz, x = \"Category\", y = \"Profit\", ci = None)\n",
    "\n",
    "plt.title('Average Profit across Categories')\n",
    "plt.grid()"
   ]
  },
  {
   "cell_type": "code",
   "execution_count": 131,
   "id": "397a75b7",
   "metadata": {},
   "outputs": [
    {
     "data": {
      "image/png": "[encoded data removed]",
      "text/plain": [
       "<Figure size 720x1080 with 1 Axes>"
      ]
     },
     "metadata": {
      "needs_background": "light"
     },
     "output_type": "display_data"
    }
   ],
   "source": [
    "plt.figure(figsize=(10,15))\n",
    "\n",
    "sns.barplot(data = dfz, x = \"Sub-Category\", y = \"Profit\", ci = None)\n",
    "\n",
    "plt.xticks(rotation = 45)\n",
    "\n",
    "plt.title('Average Profit across Sub Categories')\n",
    "plt.grid()\n",
    "plt.savefig('Avg.Profit.png',dpi=400)"
   ]
  },
  {
   "cell_type": "code",
   "execution_count": 93,
   "id": "4981c3e7",
   "metadata": {},
   "outputs": [
    {
     "data": {
      "image/png": "[encoded data removed]",
      "text/plain": [
       "<Figure size 720x360 with 1 Axes>"
      ]
     },
     "metadata": {
      "needs_background": "light"
     },
     "output_type": "display_data"
    }
   ],
   "source": [
    "plt.figure(figsize=(10,5))\n",
    "\n",
    "sns.barplot(data = dfz, x = \"Segment\", y = \"Profit\", ci = None)\n",
    "\n",
    "plt.title('Average Profit across Segment')\n",
    "plt.grid()"
   ]
  },
  {
   "cell_type": "code",
   "execution_count": 136,
   "id": "fe0babe6",
   "metadata": {},
   "outputs": [
    {
     "data": {
      "image/png": "[encoded data removed]",
      "text/plain": [
       "<Figure size 720x360 with 1 Axes>"
      ]
     },
     "metadata": {
      "needs_background": "light"
     },
     "output_type": "display_data"
    }
   ],
   "source": [
    "plt.figure(figsize=(10,5))\n",
    "\n",
    "sns.barplot(data = dfz, x = \"Day_of_Week\", y = \"Sales\", ci = None)\n",
    "\n",
    "plt.title('Average Sales Per Day of the Week')\n",
    "plt.grid()"
   ]
  },
  {
   "cell_type": "code",
   "execution_count": 139,
   "id": "be7d9de6",
   "metadata": {},
   "outputs": [
    {
     "data": {
      "image/png": "[encoded data removed]",
      "text/plain": [
       "<Figure size 720x360 with 1 Axes>"
      ]
     },
     "metadata": {
      "needs_background": "light"
     },
     "output_type": "display_data"
    }
   ],
   "source": [
    "day_order = [\"Mon\", \"Tue\", \"Wed\", \"Thur\", \"Fri\", \"Sat\", \"Sun\"]\n",
    "\n",
    "plt.figure(figsize=(10,5))\n",
    "sns.barplot(x = \"Day_of_Week\", y = \"Profit\", data = dfz, order = day_order, ci = None)\n",
    "\n",
    "plt.title('Average Profit Per Day of the Week')\n",
    "plt.savefig('Daily.Profit.png',dpi=400)\n"
   ]
  },
  {
   "cell_type": "markdown",
   "id": "7f8235ef",
   "metadata": {},
   "source": [
    "## Logical Regression modeling"
   ]
  },
  {
   "cell_type": "code",
   "execution_count": 96,
   "id": "e993cecc",
   "metadata": {},
   "outputs": [
    {
     "name": "stdout",
     "output_type": "stream",
     "text": [
      "Profitable\n",
      "No     228.454727\n",
      "Yes    167.776233\n",
      "Name: Sales, dtype: float64\n"
     ]
    },
    {
     "data": {
      "text/plain": [
       "<AxesSubplot:xlabel='Profitable', ylabel='Sales'>"
      ]
     },
     "execution_count": 96,
     "metadata": {},
     "output_type": "execute_result"
    },
    {
     "data": {
      "image/png": "[encoded data removed]",
      "text/plain": [
       "<Figure size 432x288 with 1 Axes>"
      ]
     },
     "metadata": {
      "needs_background": "light"
     },
     "output_type": "display_data"
    }
   ],
   "source": [
    "print(dfz[\"Sales\"].groupby(dfz[\"Profitable\"]).mean())\n",
    "\n",
    "###\n",
    "\n",
    "sns.barplot(data = dfz, x = \"Profitable\", y = \"Sales\", ci = None)"
   ]
  },
  {
   "cell_type": "code",
   "execution_count": 132,
   "id": "84cd1d1d",
   "metadata": {},
   "outputs": [
    {
     "name": "stdout",
     "output_type": "stream",
     "text": [
      "Profitable\n",
      "0    0.406227\n",
      "1    0.081060\n",
      "Name: Discount, dtype: float64\n"
     ]
    },
    {
     "data": {
      "image/png": "[encoded data removed]",
      "text/plain": [
       "<Figure size 432x288 with 1 Axes>"
      ]
     },
     "metadata": {
      "needs_background": "light"
     },
     "output_type": "display_data"
    }
   ],
   "source": [
    "print(dfz[\"Discount\"].groupby(dfz[\"Profitable\"]).mean())\n",
    "\n",
    "###\n",
    "\n",
    "sns.barplot(data = dfz, x = \"Profitable\", y = \"Discount\", ci = None)\n",
    "\n",
    "plt.savefig('Discount.png',dpi=400)"
   ]
  },
  {
   "cell_type": "code",
   "execution_count": 98,
   "id": "7e30f919",
   "metadata": {},
   "outputs": [
    {
     "name": "stdout",
     "output_type": "stream",
     "text": [
      "Profitable\n",
      "No     3.635907\n",
      "Yes    3.655489\n",
      "Name: Quantity, dtype: float64\n"
     ]
    },
    {
     "data": {
      "text/plain": [
       "<AxesSubplot:xlabel='Profitable', ylabel='Quantity'>"
      ]
     },
     "execution_count": 98,
     "metadata": {},
     "output_type": "execute_result"
    },
    {
     "data": {
      "image/png": "[encoded data removed]",
      "text/plain": [
       "<Figure size 432x288 with 1 Axes>"
      ]
     },
     "metadata": {
      "needs_background": "light"
     },
     "output_type": "display_data"
    }
   ],
   "source": [
    "print(dfz[\"Quantity\"].groupby(dfz[\"Profitable\"]).mean())\n",
    "\n",
    "###\n",
    "\n",
    "sns.barplot(data = dfz, x = \"Profitable\", y = \"Quantity\", ci = None)"
   ]
  },
  {
   "cell_type": "code",
   "execution_count": 99,
   "id": "1c4a1fd0",
   "metadata": {},
   "outputs": [
    {
     "name": "stdout",
     "output_type": "stream",
     "text": [
      "Profitable\n",
      "No     3.954175\n",
      "Yes    3.952059\n",
      "Name: Days_to_Ship, dtype: float64\n"
     ]
    },
    {
     "data": {
      "text/plain": [
       "<AxesSubplot:xlabel='Profitable', ylabel='Days_to_Ship'>"
      ]
     },
     "execution_count": 99,
     "metadata": {},
     "output_type": "execute_result"
    },
    {
     "data": {
      "image/png": "[encoded data removed]",
      "text/plain": [
       "<Figure size 432x288 with 1 Axes>"
      ]
     },
     "metadata": {
      "needs_background": "light"
     },
     "output_type": "display_data"
    }
   ],
   "source": [
    "print(dfz[\"Days_to_Ship\"].groupby(dfz[\"Profitable\"]).mean())\n",
    "\n",
    "###\n",
    "\n",
    "sns.barplot(data = dfz, x = \"Profitable\", y = \"Days_to_Ship\", ci = None)"
   ]
  },
  {
   "cell_type": "code",
   "execution_count": 100,
   "id": "bb89335c",
   "metadata": {},
   "outputs": [
    {
     "data": {
      "text/html": [
       "<div>\n",
       "<style scoped>\n",
       "    .dataframe tbody tr th:only-of-type {\n",
       "        vertical-align: middle;\n",
       "    }\n",
       "\n",
       "    .dataframe tbody tr th {\n",
       "        vertical-align: top;\n",
       "    }\n",
       "\n",
       "    .dataframe thead th {\n",
       "        text-align: right;\n",
       "    }\n",
       "</style>\n",
       "<table border=\"1\" class=\"dataframe\">\n",
       "  <thead>\n",
       "    <tr style=\"text-align: right;\">\n",
       "      <th></th>\n",
       "      <th>Order_ID</th>\n",
       "      <th>Order_Date</th>\n",
       "      <th>Ship_Date</th>\n",
       "      <th>Ship_Mode</th>\n",
       "      <th>Customer_ID</th>\n",
       "      <th>Customer_Name</th>\n",
       "      <th>Segment</th>\n",
       "      <th>City</th>\n",
       "      <th>State</th>\n",
       "      <th>Postal_Code</th>\n",
       "      <th>...</th>\n",
       "      <th>Discount</th>\n",
       "      <th>Profit</th>\n",
       "      <th>Profitable</th>\n",
       "      <th>Week_Day</th>\n",
       "      <th>Days_to_Ship</th>\n",
       "      <th>Day_of_Week</th>\n",
       "      <th>zscore_sales</th>\n",
       "      <th>zscore_quantity</th>\n",
       "      <th>zscore_discount</th>\n",
       "      <th>zscore_profit</th>\n",
       "    </tr>\n",
       "  </thead>\n",
       "  <tbody>\n",
       "    <tr>\n",
       "      <th>0</th>\n",
       "      <td>CA-2014-103800</td>\n",
       "      <td>2014-01-03</td>\n",
       "      <td>2014-01-07</td>\n",
       "      <td>Standard Class</td>\n",
       "      <td>DP-13000</td>\n",
       "      <td>Darren Powers</td>\n",
       "      <td>Consumer</td>\n",
       "      <td>Houston</td>\n",
       "      <td>Texas</td>\n",
       "      <td>77095</td>\n",
       "      <td>...</td>\n",
       "      <td>0.2</td>\n",
       "      <td>5.5512</td>\n",
       "      <td>1</td>\n",
       "      <td>4</td>\n",
       "      <td>4</td>\n",
       "      <td>Fri</td>\n",
       "      <td>0.342435</td>\n",
       "      <td>0.804303</td>\n",
       "      <td>0.212153</td>\n",
       "      <td>0.098638</td>\n",
       "    </tr>\n",
       "    <tr>\n",
       "      <th>1</th>\n",
       "      <td>CA-2014-112326</td>\n",
       "      <td>2014-01-04</td>\n",
       "      <td>2014-01-08</td>\n",
       "      <td>Standard Class</td>\n",
       "      <td>PO-19195</td>\n",
       "      <td>Phillina Ober</td>\n",
       "      <td>Home Office</td>\n",
       "      <td>Naperville</td>\n",
       "      <td>Illinois</td>\n",
       "      <td>60540</td>\n",
       "      <td>...</td>\n",
       "      <td>0.2</td>\n",
       "      <td>4.2717</td>\n",
       "      <td>1</td>\n",
       "      <td>5</td>\n",
       "      <td>4</td>\n",
       "      <td>Sat</td>\n",
       "      <td>0.349918</td>\n",
       "      <td>0.354865</td>\n",
       "      <td>0.212153</td>\n",
       "      <td>0.104100</td>\n",
       "    </tr>\n",
       "    <tr>\n",
       "      <th>2</th>\n",
       "      <td>CA-2014-112326</td>\n",
       "      <td>2014-01-04</td>\n",
       "      <td>2014-01-08</td>\n",
       "      <td>Standard Class</td>\n",
       "      <td>PO-19195</td>\n",
       "      <td>Phillina Ober</td>\n",
       "      <td>Home Office</td>\n",
       "      <td>Naperville</td>\n",
       "      <td>Illinois</td>\n",
       "      <td>60540</td>\n",
       "      <td>...</td>\n",
       "      <td>0.2</td>\n",
       "      <td>-64.7748</td>\n",
       "      <td>0</td>\n",
       "      <td>5</td>\n",
       "      <td>4</td>\n",
       "      <td>Sat</td>\n",
       "      <td>0.068801</td>\n",
       "      <td>0.354865</td>\n",
       "      <td>0.212153</td>\n",
       "      <td>0.398857</td>\n",
       "    </tr>\n",
       "    <tr>\n",
       "      <th>4</th>\n",
       "      <td>CA-2014-141817</td>\n",
       "      <td>2014-01-05</td>\n",
       "      <td>2014-01-12</td>\n",
       "      <td>Standard Class</td>\n",
       "      <td>MB-18085</td>\n",
       "      <td>Mick Brown</td>\n",
       "      <td>Consumer</td>\n",
       "      <td>Philadelphia</td>\n",
       "      <td>Pennsylvania</td>\n",
       "      <td>19143</td>\n",
       "      <td>...</td>\n",
       "      <td>0.2</td>\n",
       "      <td>4.8840</td>\n",
       "      <td>1</td>\n",
       "      <td>6</td>\n",
       "      <td>7</td>\n",
       "      <td>Sun</td>\n",
       "      <td>0.337480</td>\n",
       "      <td>0.354865</td>\n",
       "      <td>0.212153</td>\n",
       "      <td>0.101486</td>\n",
       "    </tr>\n",
       "    <tr>\n",
       "      <th>5</th>\n",
       "      <td>CA-2014-167199</td>\n",
       "      <td>2014-01-06</td>\n",
       "      <td>2014-01-10</td>\n",
       "      <td>Standard Class</td>\n",
       "      <td>ME-17320</td>\n",
       "      <td>Maria Etezadi</td>\n",
       "      <td>Home Office</td>\n",
       "      <td>Henderson</td>\n",
       "      <td>Kentucky</td>\n",
       "      <td>42420</td>\n",
       "      <td>...</td>\n",
       "      <td>0.0</td>\n",
       "      <td>1.4796</td>\n",
       "      <td>1</td>\n",
       "      <td>0</td>\n",
       "      <td>4</td>\n",
       "      <td>Mon</td>\n",
       "      <td>0.360034</td>\n",
       "      <td>0.804303</td>\n",
       "      <td>0.756643</td>\n",
       "      <td>0.116019</td>\n",
       "    </tr>\n",
       "  </tbody>\n",
       "</table>\n",
       "<p>5 rows × 27 columns</p>\n",
       "</div>"
      ],
      "text/plain": [
       "         Order_ID Order_Date  Ship_Date       Ship_Mode Customer_ID  \\\n",
       "0  CA-2014-103800 2014-01-03 2014-01-07  Standard Class    DP-13000   \n",
       "1  CA-2014-112326 2014-01-04 2014-01-08  Standard Class    PO-19195   \n",
       "2  CA-2014-112326 2014-01-04 2014-01-08  Standard Class    PO-19195   \n",
       "4  CA-2014-141817 2014-01-05 2014-01-12  Standard Class    MB-18085   \n",
       "5  CA-2014-167199 2014-01-06 2014-01-10  Standard Class    ME-17320   \n",
       "\n",
       "   Customer_Name      Segment          City         State  Postal_Code  ...  \\\n",
       "0  Darren Powers     Consumer       Houston         Texas        77095  ...   \n",
       "1  Phillina Ober  Home Office    Naperville      Illinois        60540  ...   \n",
       "2  Phillina Ober  Home Office    Naperville      Illinois        60540  ...   \n",
       "4     Mick Brown     Consumer  Philadelphia  Pennsylvania        19143  ...   \n",
       "5  Maria Etezadi  Home Office     Henderson      Kentucky        42420  ...   \n",
       "\n",
       "  Discount   Profit Profitable Week_Day Days_to_Ship  Day_of_Week  \\\n",
       "0      0.2   5.5512          1        4            4          Fri   \n",
       "1      0.2   4.2717          1        5            4          Sat   \n",
       "2      0.2 -64.7748          0        5            4          Sat   \n",
       "4      0.2   4.8840          1        6            7          Sun   \n",
       "5      0.0   1.4796          1        0            4          Mon   \n",
       "\n",
       "   zscore_sales  zscore_quantity  zscore_discount  zscore_profit  \n",
       "0      0.342435         0.804303         0.212153       0.098638  \n",
       "1      0.349918         0.354865         0.212153       0.104100  \n",
       "2      0.068801         0.354865         0.212153       0.398857  \n",
       "4      0.337480         0.354865         0.212153       0.101486  \n",
       "5      0.360034         0.804303         0.756643       0.116019  \n",
       "\n",
       "[5 rows x 27 columns]"
      ]
     },
     "execution_count": 100,
     "metadata": {},
     "output_type": "execute_result"
    }
   ],
   "source": [
    "## Convert Profitable column to boolean 0 or 1\n",
    "\n",
    "dfz['Profitable'] = np.where(dfz['Profitable'] == \"Yes\", 1, 0)\n",
    "dfz.head()"
   ]
  },
  {
   "cell_type": "code",
   "execution_count": 101,
   "id": "65b717a6",
   "metadata": {},
   "outputs": [
    {
     "name": "stdout",
     "output_type": "stream",
     "text": [
      "Optimization terminated successfully.\n",
      "         Current function value: 0.200500\n",
      "         Iterations 9\n"
     ]
    },
    {
     "data": {
      "text/html": [
       "<table class=\"simpletable\">\n",
       "<caption>Logit Regression Results</caption>\n",
       "<tr>\n",
       "  <th>Dep. Variable:</th>      <td>Profitable</td>    <th>  No. Observations:  </th>  <td>  9436</td> \n",
       "</tr>\n",
       "<tr>\n",
       "  <th>Model:</th>                 <td>Logit</td>      <th>  Df Residuals:      </th>  <td>  9430</td> \n",
       "</tr>\n",
       "<tr>\n",
       "  <th>Method:</th>                 <td>MLE</td>       <th>  Df Model:          </th>  <td>     5</td> \n",
       "</tr>\n",
       "<tr>\n",
       "  <th>Date:</th>            <td>Thu, 05 May 2022</td> <th>  Pseudo R-squ.:     </th>  <td>0.5584</td> \n",
       "</tr>\n",
       "<tr>\n",
       "  <th>Time:</th>                <td>19:26:17</td>     <th>  Log-Likelihood:    </th> <td> -1891.9</td>\n",
       "</tr>\n",
       "<tr>\n",
       "  <th>converged:</th>             <td>True</td>       <th>  LL-Null:           </th> <td> -4284.1</td>\n",
       "</tr>\n",
       "<tr>\n",
       "  <th>Covariance Type:</th>     <td>nonrobust</td>    <th>  LLR p-value:       </th>  <td> 0.000</td> \n",
       "</tr>\n",
       "</table>\n",
       "<table class=\"simpletable\">\n",
       "<tr>\n",
       "       <td></td>          <th>coef</th>     <th>std err</th>      <th>z</th>      <th>P>|z|</th>  <th>[0.025</th>    <th>0.975]</th>  \n",
       "</tr>\n",
       "<tr>\n",
       "  <th>Intercept</th>   <td>    5.9832</td> <td>    0.227</td> <td>   26.317</td> <td> 0.000</td> <td>    5.538</td> <td>    6.429</td>\n",
       "</tr>\n",
       "<tr>\n",
       "  <th>Sales</th>       <td>   -0.0010</td> <td>    0.000</td> <td>   -7.805</td> <td> 0.000</td> <td>   -0.001</td> <td>   -0.001</td>\n",
       "</tr>\n",
       "<tr>\n",
       "  <th>Quantity</th>    <td>    0.0718</td> <td>    0.023</td> <td>    3.166</td> <td> 0.002</td> <td>    0.027</td> <td>    0.116</td>\n",
       "</tr>\n",
       "<tr>\n",
       "  <th>Discount</th>    <td>  -22.1501</td> <td>    0.850</td> <td>  -26.060</td> <td> 0.000</td> <td>  -23.816</td> <td>  -20.484</td>\n",
       "</tr>\n",
       "<tr>\n",
       "  <th>Week_Day</th>    <td>   -0.0101</td> <td>    0.020</td> <td>   -0.512</td> <td> 0.609</td> <td>   -0.049</td> <td>    0.029</td>\n",
       "</tr>\n",
       "<tr>\n",
       "  <th>Postal_Code</th> <td> 1.695e-07</td> <td> 1.44e-06</td> <td>    0.118</td> <td> 0.906</td> <td>-2.65e-06</td> <td> 2.99e-06</td>\n",
       "</tr>\n",
       "</table>"
      ],
      "text/plain": [
       "<class 'statsmodels.iolib.summary.Summary'>\n",
       "\"\"\"\n",
       "                           Logit Regression Results                           \n",
       "==============================================================================\n",
       "Dep. Variable:             Profitable   No. Observations:                 9436\n",
       "Model:                          Logit   Df Residuals:                     9430\n",
       "Method:                           MLE   Df Model:                            5\n",
       "Date:                Thu, 05 May 2022   Pseudo R-squ.:                  0.5584\n",
       "Time:                        19:26:17   Log-Likelihood:                -1891.9\n",
       "converged:                       True   LL-Null:                       -4284.1\n",
       "Covariance Type:            nonrobust   LLR p-value:                     0.000\n",
       "===============================================================================\n",
       "                  coef    std err          z      P>|z|      [0.025      0.975]\n",
       "-------------------------------------------------------------------------------\n",
       "Intercept       5.9832      0.227     26.317      0.000       5.538       6.429\n",
       "Sales          -0.0010      0.000     -7.805      0.000      -0.001      -0.001\n",
       "Quantity        0.0718      0.023      3.166      0.002       0.027       0.116\n",
       "Discount      -22.1501      0.850    -26.060      0.000     -23.816     -20.484\n",
       "Week_Day       -0.0101      0.020     -0.512      0.609      -0.049       0.029\n",
       "Postal_Code  1.695e-07   1.44e-06      0.118      0.906   -2.65e-06    2.99e-06\n",
       "===============================================================================\n",
       "\"\"\""
      ]
     },
     "execution_count": 101,
     "metadata": {},
     "output_type": "execute_result"
    }
   ],
   "source": [
    "## creat logical regression model\n",
    "\n",
    "mod1 = sm.logit('Profitable ~ Sales + Quantity + Discount + Week_Day + Postal_Code', data=dfz).fit()\n",
    "\n",
    "mod1.summary()"
   ]
  },
  {
   "cell_type": "code",
   "execution_count": 102,
   "id": "9d4f5b4e",
   "metadata": {},
   "outputs": [
    {
     "name": "stdout",
     "output_type": "stream",
     "text": [
      "Optimization terminated successfully.\n",
      "         Current function value: 0.200515\n",
      "         Iterations 9\n"
     ]
    },
    {
     "data": {
      "text/html": [
       "<table class=\"simpletable\">\n",
       "<caption>Logit Regression Results</caption>\n",
       "<tr>\n",
       "  <th>Dep. Variable:</th>      <td>Profitable</td>    <th>  No. Observations:  </th>  <td>  9436</td> \n",
       "</tr>\n",
       "<tr>\n",
       "  <th>Model:</th>                 <td>Logit</td>      <th>  Df Residuals:      </th>  <td>  9432</td> \n",
       "</tr>\n",
       "<tr>\n",
       "  <th>Method:</th>                 <td>MLE</td>       <th>  Df Model:          </th>  <td>     3</td> \n",
       "</tr>\n",
       "<tr>\n",
       "  <th>Date:</th>            <td>Thu, 05 May 2022</td> <th>  Pseudo R-squ.:     </th>  <td>0.5583</td> \n",
       "</tr>\n",
       "<tr>\n",
       "  <th>Time:</th>                <td>19:26:17</td>     <th>  Log-Likelihood:    </th> <td> -1892.1</td>\n",
       "</tr>\n",
       "<tr>\n",
       "  <th>converged:</th>             <td>True</td>       <th>  LL-Null:           </th> <td> -4284.1</td>\n",
       "</tr>\n",
       "<tr>\n",
       "  <th>Covariance Type:</th>     <td>nonrobust</td>    <th>  LLR p-value:       </th>  <td> 0.000</td> \n",
       "</tr>\n",
       "</table>\n",
       "<table class=\"simpletable\">\n",
       "<tr>\n",
       "      <td></td>         <th>coef</th>     <th>std err</th>      <th>z</th>      <th>P>|z|</th>  <th>[0.025</th>    <th>0.975]</th>  \n",
       "</tr>\n",
       "<tr>\n",
       "  <th>Intercept</th> <td>    5.9604</td> <td>    0.196</td> <td>   30.480</td> <td> 0.000</td> <td>    5.577</td> <td>    6.344</td>\n",
       "</tr>\n",
       "<tr>\n",
       "  <th>Sales</th>     <td>   -0.0010</td> <td>    0.000</td> <td>   -7.827</td> <td> 0.000</td> <td>   -0.001</td> <td>   -0.001</td>\n",
       "</tr>\n",
       "<tr>\n",
       "  <th>Quantity</th>  <td>    0.0716</td> <td>    0.023</td> <td>    3.162</td> <td> 0.002</td> <td>    0.027</td> <td>    0.116</td>\n",
       "</tr>\n",
       "<tr>\n",
       "  <th>Discount</th>  <td>  -22.1489</td> <td>    0.848</td> <td>  -26.125</td> <td> 0.000</td> <td>  -23.810</td> <td>  -20.487</td>\n",
       "</tr>\n",
       "</table>"
      ],
      "text/plain": [
       "<class 'statsmodels.iolib.summary.Summary'>\n",
       "\"\"\"\n",
       "                           Logit Regression Results                           \n",
       "==============================================================================\n",
       "Dep. Variable:             Profitable   No. Observations:                 9436\n",
       "Model:                          Logit   Df Residuals:                     9432\n",
       "Method:                           MLE   Df Model:                            3\n",
       "Date:                Thu, 05 May 2022   Pseudo R-squ.:                  0.5583\n",
       "Time:                        19:26:17   Log-Likelihood:                -1892.1\n",
       "converged:                       True   LL-Null:                       -4284.1\n",
       "Covariance Type:            nonrobust   LLR p-value:                     0.000\n",
       "==============================================================================\n",
       "                 coef    std err          z      P>|z|      [0.025      0.975]\n",
       "------------------------------------------------------------------------------\n",
       "Intercept      5.9604      0.196     30.480      0.000       5.577       6.344\n",
       "Sales         -0.0010      0.000     -7.827      0.000      -0.001      -0.001\n",
       "Quantity       0.0716      0.023      3.162      0.002       0.027       0.116\n",
       "Discount     -22.1489      0.848    -26.125      0.000     -23.810     -20.487\n",
       "==============================================================================\n",
       "\"\"\""
      ]
     },
     "execution_count": 102,
     "metadata": {},
     "output_type": "execute_result"
    }
   ],
   "source": [
    "mod1 = sm.logit('Profitable ~ Sales + Quantity + Discount', data=dfz).fit()\n",
    "\n",
    "mod1.summary()"
   ]
  },
  {
   "cell_type": "code",
   "execution_count": 103,
   "id": "05129bb9",
   "metadata": {},
   "outputs": [
    {
     "name": "stdout",
     "output_type": "stream",
     "text": [
      "<class 'pandas.core.frame.DataFrame'>\n",
      "Int64Index: 9436 entries, 0 to 9993\n",
      "Data columns (total 27 columns):\n",
      " #   Column           Non-Null Count  Dtype         \n",
      "---  ------           --------------  -----         \n",
      " 0   Order_ID         9436 non-null   object        \n",
      " 1   Order_Date       9436 non-null   datetime64[ns]\n",
      " 2   Ship_Date        9436 non-null   datetime64[ns]\n",
      " 3   Ship_Mode        9436 non-null   object        \n",
      " 4   Customer_ID      9436 non-null   object        \n",
      " 5   Customer_Name    9436 non-null   object        \n",
      " 6   Segment          9436 non-null   object        \n",
      " 7   City             9436 non-null   object        \n",
      " 8   State            9436 non-null   object        \n",
      " 9   Postal_Code      9436 non-null   int64         \n",
      " 10  Region           9436 non-null   object        \n",
      " 11  Product_ID       9436 non-null   object        \n",
      " 12  Category         9436 non-null   object        \n",
      " 13  Sub-Category     9436 non-null   object        \n",
      " 14  Product_Name     9436 non-null   object        \n",
      " 15  Sales            9436 non-null   float64       \n",
      " 16  Quantity         9436 non-null   int64         \n",
      " 17  Discount         9436 non-null   float64       \n",
      " 18  Profit           9436 non-null   float64       \n",
      " 19  Profitable       9436 non-null   int32         \n",
      " 20  Week_Day         9436 non-null   int64         \n",
      " 21  Days_to_Ship     9436 non-null   int64         \n",
      " 22  Day_of_Week      9436 non-null   object        \n",
      " 23  zscore_sales     9436 non-null   float64       \n",
      " 24  zscore_quantity  9436 non-null   float64       \n",
      " 25  zscore_discount  9436 non-null   float64       \n",
      " 26  zscore_profit    9436 non-null   float64       \n",
      "dtypes: datetime64[ns](2), float64(7), int32(1), int64(4), object(13)\n",
      "memory usage: 2.2+ MB\n"
     ]
    }
   ],
   "source": [
    "dfz.info()"
   ]
  },
  {
   "cell_type": "code",
   "execution_count": 104,
   "id": "0f293e3f",
   "metadata": {},
   "outputs": [
    {
     "data": {
      "text/html": [
       "<div>\n",
       "<style scoped>\n",
       "    .dataframe tbody tr th:only-of-type {\n",
       "        vertical-align: middle;\n",
       "    }\n",
       "\n",
       "    .dataframe tbody tr th {\n",
       "        vertical-align: top;\n",
       "    }\n",
       "\n",
       "    .dataframe thead th {\n",
       "        text-align: right;\n",
       "    }\n",
       "</style>\n",
       "<table border=\"1\" class=\"dataframe\">\n",
       "  <thead>\n",
       "    <tr style=\"text-align: right;\">\n",
       "      <th></th>\n",
       "      <th>OR</th>\n",
       "      <th>pvalue</th>\n",
       "      <th>Sig</th>\n",
       "    </tr>\n",
       "  </thead>\n",
       "  <tbody>\n",
       "    <tr>\n",
       "      <th>Intercept</th>\n",
       "      <td>3.877784e+02</td>\n",
       "      <td>4.839239e-204</td>\n",
       "      <td>Sig</td>\n",
       "    </tr>\n",
       "    <tr>\n",
       "      <th>Sales</th>\n",
       "      <td>9.990114e-01</td>\n",
       "      <td>4.986231e-15</td>\n",
       "      <td>Sig</td>\n",
       "    </tr>\n",
       "    <tr>\n",
       "      <th>Quantity</th>\n",
       "      <td>1.074262e+00</td>\n",
       "      <td>1.568705e-03</td>\n",
       "      <td>Sig</td>\n",
       "    </tr>\n",
       "    <tr>\n",
       "      <th>Discount</th>\n",
       "      <td>2.403657e-10</td>\n",
       "      <td>1.874866e-150</td>\n",
       "      <td>Sig</td>\n",
       "    </tr>\n",
       "  </tbody>\n",
       "</table>\n",
       "</div>"
      ],
      "text/plain": [
       "                     OR         pvalue  Sig\n",
       "Intercept  3.877784e+02  4.839239e-204  Sig\n",
       "Sales      9.990114e-01   4.986231e-15  Sig\n",
       "Quantity   1.074262e+00   1.568705e-03  Sig\n",
       "Discount   2.403657e-10  1.874866e-150  Sig"
      ]
     },
     "execution_count": 104,
     "metadata": {},
     "output_type": "execute_result"
    }
   ],
   "source": [
    "dfz_odds = pd.DataFrame(np.exp(mod1.params), columns = ['OR'])\n",
    "\n",
    "## pull the pvalues directly from the model\n",
    "\n",
    "dfz_odds[\"pvalue\"] = mod1.pvalues\n",
    "\n",
    "## create a variable to quickly determine sig\n",
    "\n",
    "dfz_odds[\"Sig\"] = np.where(dfz_odds[\"pvalue\"] <= 0.05, \"Sig\", \"Not Sig\")\n",
    "\n",
    "## print new dataset\n",
    "\n",
    "dfz_odds"
   ]
  },
  {
   "cell_type": "code",
   "execution_count": 105,
   "id": "3839a40b",
   "metadata": {},
   "outputs": [
    {
     "data": {
      "text/html": [
       "<div>\n",
       "<style scoped>\n",
       "    .dataframe tbody tr th:only-of-type {\n",
       "        vertical-align: middle;\n",
       "    }\n",
       "\n",
       "    .dataframe tbody tr th {\n",
       "        vertical-align: top;\n",
       "    }\n",
       "\n",
       "    .dataframe thead th {\n",
       "        text-align: right;\n",
       "    }\n",
       "</style>\n",
       "<table border=\"1\" class=\"dataframe\">\n",
       "  <thead>\n",
       "    <tr style=\"text-align: right;\">\n",
       "      <th></th>\n",
       "      <th>OR</th>\n",
       "      <th>pvalue</th>\n",
       "      <th>Sig</th>\n",
       "      <th>Pct Change</th>\n",
       "    </tr>\n",
       "  </thead>\n",
       "  <tbody>\n",
       "    <tr>\n",
       "      <th>Intercept</th>\n",
       "      <td>3.877784e+02</td>\n",
       "      <td>4.839239e-204</td>\n",
       "      <td>Sig</td>\n",
       "      <td>38677.835879</td>\n",
       "    </tr>\n",
       "    <tr>\n",
       "      <th>Sales</th>\n",
       "      <td>9.990114e-01</td>\n",
       "      <td>4.986231e-15</td>\n",
       "      <td>Sig</td>\n",
       "      <td>-0.098862</td>\n",
       "    </tr>\n",
       "    <tr>\n",
       "      <th>Quantity</th>\n",
       "      <td>1.074262e+00</td>\n",
       "      <td>1.568705e-03</td>\n",
       "      <td>Sig</td>\n",
       "      <td>7.426236</td>\n",
       "    </tr>\n",
       "    <tr>\n",
       "      <th>Discount</th>\n",
       "      <td>2.403657e-10</td>\n",
       "      <td>1.874866e-150</td>\n",
       "      <td>Sig</td>\n",
       "      <td>-100.000000</td>\n",
       "    </tr>\n",
       "  </tbody>\n",
       "</table>\n",
       "</div>"
      ],
      "text/plain": [
       "                     OR         pvalue  Sig    Pct Change\n",
       "Intercept  3.877784e+02  4.839239e-204  Sig  38677.835879\n",
       "Sales      9.990114e-01   4.986231e-15  Sig     -0.098862\n",
       "Quantity   1.074262e+00   1.568705e-03  Sig      7.426236\n",
       "Discount   2.403657e-10  1.874866e-150  Sig   -100.000000"
      ]
     },
     "execution_count": 105,
     "metadata": {},
     "output_type": "execute_result"
    }
   ],
   "source": [
    "dfz_odds[\"Pct Change\"] = (dfz_odds[\"OR\"] - 1) * 100\n",
    "\n",
    "dfz_odds"
   ]
  },
  {
   "cell_type": "code",
   "execution_count": 106,
   "id": "80914d9a",
   "metadata": {},
   "outputs": [
    {
     "data": {
      "text/html": [
       "<div>\n",
       "<style scoped>\n",
       "    .dataframe tbody tr th:only-of-type {\n",
       "        vertical-align: middle;\n",
       "    }\n",
       "\n",
       "    .dataframe tbody tr th {\n",
       "        vertical-align: top;\n",
       "    }\n",
       "\n",
       "    .dataframe thead th {\n",
       "        text-align: right;\n",
       "    }\n",
       "</style>\n",
       "<table border=\"1\" class=\"dataframe\">\n",
       "  <thead>\n",
       "    <tr style=\"text-align: right;\">\n",
       "      <th></th>\n",
       "      <th>Sales</th>\n",
       "      <th>Quantity</th>\n",
       "      <th>Discount</th>\n",
       "    </tr>\n",
       "  </thead>\n",
       "  <tbody>\n",
       "    <tr>\n",
       "      <th>count</th>\n",
       "      <td>9994.000000</td>\n",
       "      <td>9994.000000</td>\n",
       "      <td>9994.000000</td>\n",
       "    </tr>\n",
       "    <tr>\n",
       "      <th>mean</th>\n",
       "      <td>229.858001</td>\n",
       "      <td>3.789574</td>\n",
       "      <td>0.156203</td>\n",
       "    </tr>\n",
       "    <tr>\n",
       "      <th>std</th>\n",
       "      <td>623.245101</td>\n",
       "      <td>2.225110</td>\n",
       "      <td>0.206452</td>\n",
       "    </tr>\n",
       "    <tr>\n",
       "      <th>min</th>\n",
       "      <td>0.444000</td>\n",
       "      <td>1.000000</td>\n",
       "      <td>0.000000</td>\n",
       "    </tr>\n",
       "    <tr>\n",
       "      <th>25%</th>\n",
       "      <td>17.280000</td>\n",
       "      <td>2.000000</td>\n",
       "      <td>0.000000</td>\n",
       "    </tr>\n",
       "    <tr>\n",
       "      <th>50%</th>\n",
       "      <td>54.490000</td>\n",
       "      <td>3.000000</td>\n",
       "      <td>0.200000</td>\n",
       "    </tr>\n",
       "    <tr>\n",
       "      <th>75%</th>\n",
       "      <td>209.940000</td>\n",
       "      <td>5.000000</td>\n",
       "      <td>0.200000</td>\n",
       "    </tr>\n",
       "    <tr>\n",
       "      <th>max</th>\n",
       "      <td>22638.480000</td>\n",
       "      <td>14.000000</td>\n",
       "      <td>0.800000</td>\n",
       "    </tr>\n",
       "  </tbody>\n",
       "</table>\n",
       "</div>"
      ],
      "text/plain": [
       "              Sales     Quantity     Discount\n",
       "count   9994.000000  9994.000000  9994.000000\n",
       "mean     229.858001     3.789574     0.156203\n",
       "std      623.245101     2.225110     0.206452\n",
       "min        0.444000     1.000000     0.000000\n",
       "25%       17.280000     2.000000     0.000000\n",
       "50%       54.490000     3.000000     0.200000\n",
       "75%      209.940000     5.000000     0.200000\n",
       "max    22638.480000    14.000000     0.800000"
      ]
     },
     "execution_count": 106,
     "metadata": {},
     "output_type": "execute_result"
    }
   ],
   "source": [
    "df[['Sales','Quantity','Discount']].describe()"
   ]
  },
  {
   "cell_type": "code",
   "execution_count": 107,
   "id": "d35bd9c5",
   "metadata": {},
   "outputs": [
    {
     "data": {
      "text/plain": [
       "0    0.978633\n",
       "dtype: float64"
      ]
     },
     "execution_count": 107,
     "metadata": {},
     "output_type": "execute_result"
    }
   ],
   "source": [
    "mod1.predict({\n",
    "    'Sales': 65.24, \n",
    "    'Quantity': 2, \n",
    "    'Discount': .1})"
   ]
  },
  {
   "cell_type": "code",
   "execution_count": 108,
   "id": "5e937cd2",
   "metadata": {},
   "outputs": [
    {
     "data": {
      "text/plain": [
       "0    0.35309\n",
       "dtype: float64"
      ]
     },
     "execution_count": 108,
     "metadata": {},
     "output_type": "execute_result"
    }
   ],
   "source": [
    "mod1.predict({\n",
    "    'Sales': 65.24, \n",
    "    'Quantity': 2, \n",
    "    'Discount': .3})"
   ]
  },
  {
   "cell_type": "markdown",
   "id": "acde02f3",
   "metadata": {},
   "source": [
    "## If we increase the dicount we will most likely not be profitable. Discount has the largest effect on profitability"
   ]
  },
  {
   "cell_type": "code",
   "execution_count": 109,
   "id": "7d2ac4ad",
   "metadata": {},
   "outputs": [],
   "source": [
    "from sklearn.naive_bayes import GaussianNB   #import Gaussian Bayes modeling function\n",
    "from sklearn.model_selection import train_test_split\n",
    "from sklearn.metrics import classification_report\n",
    "from sklearn.metrics import confusion_matrix\n",
    "from sklearn.metrics import accuracy_score"
   ]
  },
  {
   "cell_type": "code",
   "execution_count": 110,
   "id": "284f9400",
   "metadata": {},
   "outputs": [
    {
     "name": "stdout",
     "output_type": "stream",
     "text": [
      "<class 'pandas.core.frame.DataFrame'>\n",
      "Int64Index: 9436 entries, 0 to 9993\n",
      "Data columns (total 27 columns):\n",
      " #   Column           Non-Null Count  Dtype         \n",
      "---  ------           --------------  -----         \n",
      " 0   Order_ID         9436 non-null   object        \n",
      " 1   Order_Date       9436 non-null   datetime64[ns]\n",
      " 2   Ship_Date        9436 non-null   datetime64[ns]\n",
      " 3   Ship_Mode        9436 non-null   object        \n",
      " 4   Customer_ID      9436 non-null   object        \n",
      " 5   Customer_Name    9436 non-null   object        \n",
      " 6   Segment          9436 non-null   object        \n",
      " 7   City             9436 non-null   object        \n",
      " 8   State            9436 non-null   object        \n",
      " 9   Postal_Code      9436 non-null   int64         \n",
      " 10  Region           9436 non-null   object        \n",
      " 11  Product_ID       9436 non-null   object        \n",
      " 12  Category         9436 non-null   object        \n",
      " 13  Sub-Category     9436 non-null   object        \n",
      " 14  Product_Name     9436 non-null   object        \n",
      " 15  Sales            9436 non-null   float64       \n",
      " 16  Quantity         9436 non-null   int64         \n",
      " 17  Discount         9436 non-null   float64       \n",
      " 18  Profit           9436 non-null   float64       \n",
      " 19  Profitable       9436 non-null   int32         \n",
      " 20  Week_Day         9436 non-null   int64         \n",
      " 21  Days_to_Ship     9436 non-null   int64         \n",
      " 22  Day_of_Week      9436 non-null   object        \n",
      " 23  zscore_sales     9436 non-null   float64       \n",
      " 24  zscore_quantity  9436 non-null   float64       \n",
      " 25  zscore_discount  9436 non-null   float64       \n",
      " 26  zscore_profit    9436 non-null   float64       \n",
      "dtypes: datetime64[ns](2), float64(7), int32(1), int64(4), object(13)\n",
      "memory usage: 2.2+ MB\n"
     ]
    }
   ],
   "source": [
    "dfz.info()"
   ]
  },
  {
   "cell_type": "code",
   "execution_count": 111,
   "id": "8d03aeac",
   "metadata": {},
   "outputs": [
    {
     "data": {
      "text/html": [
       "<div>\n",
       "<style scoped>\n",
       "    .dataframe tbody tr th:only-of-type {\n",
       "        vertical-align: middle;\n",
       "    }\n",
       "\n",
       "    .dataframe tbody tr th {\n",
       "        vertical-align: top;\n",
       "    }\n",
       "\n",
       "    .dataframe thead th {\n",
       "        text-align: right;\n",
       "    }\n",
       "</style>\n",
       "<table border=\"1\" class=\"dataframe\">\n",
       "  <thead>\n",
       "    <tr style=\"text-align: right;\">\n",
       "      <th></th>\n",
       "      <th>Sales</th>\n",
       "      <th>Profit</th>\n",
       "      <th>Discount</th>\n",
       "      <th>Quantity</th>\n",
       "      <th>Week_Day</th>\n",
       "      <th>Days_to_Ship</th>\n",
       "      <th>Profitable</th>\n",
       "    </tr>\n",
       "  </thead>\n",
       "  <tbody>\n",
       "    <tr>\n",
       "      <th>0</th>\n",
       "      <td>16.448</td>\n",
       "      <td>5.5512</td>\n",
       "      <td>0.2</td>\n",
       "      <td>2</td>\n",
       "      <td>4</td>\n",
       "      <td>4</td>\n",
       "      <td>1</td>\n",
       "    </tr>\n",
       "    <tr>\n",
       "      <th>1</th>\n",
       "      <td>11.784</td>\n",
       "      <td>4.2717</td>\n",
       "      <td>0.2</td>\n",
       "      <td>3</td>\n",
       "      <td>5</td>\n",
       "      <td>4</td>\n",
       "      <td>1</td>\n",
       "    </tr>\n",
       "    <tr>\n",
       "      <th>2</th>\n",
       "      <td>272.736</td>\n",
       "      <td>-64.7748</td>\n",
       "      <td>0.2</td>\n",
       "      <td>3</td>\n",
       "      <td>5</td>\n",
       "      <td>4</td>\n",
       "      <td>0</td>\n",
       "    </tr>\n",
       "    <tr>\n",
       "      <th>4</th>\n",
       "      <td>19.536</td>\n",
       "      <td>4.8840</td>\n",
       "      <td>0.2</td>\n",
       "      <td>3</td>\n",
       "      <td>6</td>\n",
       "      <td>7</td>\n",
       "      <td>1</td>\n",
       "    </tr>\n",
       "    <tr>\n",
       "      <th>5</th>\n",
       "      <td>5.480</td>\n",
       "      <td>1.4796</td>\n",
       "      <td>0.0</td>\n",
       "      <td>2</td>\n",
       "      <td>0</td>\n",
       "      <td>4</td>\n",
       "      <td>1</td>\n",
       "    </tr>\n",
       "  </tbody>\n",
       "</table>\n",
       "</div>"
      ],
      "text/plain": [
       "     Sales   Profit  Discount  Quantity  Week_Day  Days_to_Ship  Profitable\n",
       "0   16.448   5.5512       0.2         2         4             4           1\n",
       "1   11.784   4.2717       0.2         3         5             4           1\n",
       "2  272.736 -64.7748       0.2         3         5             4           0\n",
       "4   19.536   4.8840       0.2         3         6             7           1\n",
       "5    5.480   1.4796       0.0         2         0             4           1"
      ]
     },
     "execution_count": 111,
     "metadata": {},
     "output_type": "execute_result"
    }
   ],
   "source": [
    "dfz_model = dfz[['Sales', 'Profit', 'Discount', 'Quantity',  'Week_Day', 'Days_to_Ship', 'Profitable']].copy()\n",
    "dfz_model.head()"
   ]
  },
  {
   "cell_type": "code",
   "execution_count": 112,
   "id": "a76dc048",
   "metadata": {},
   "outputs": [
    {
     "data": {
      "text/html": [
       "<div>\n",
       "<style scoped>\n",
       "    .dataframe tbody tr th:only-of-type {\n",
       "        vertical-align: middle;\n",
       "    }\n",
       "\n",
       "    .dataframe tbody tr th {\n",
       "        vertical-align: top;\n",
       "    }\n",
       "\n",
       "    .dataframe thead th {\n",
       "        text-align: right;\n",
       "    }\n",
       "</style>\n",
       "<table border=\"1\" class=\"dataframe\">\n",
       "  <thead>\n",
       "    <tr style=\"text-align: right;\">\n",
       "      <th></th>\n",
       "      <th>Sales</th>\n",
       "      <th>Profit</th>\n",
       "      <th>Discount</th>\n",
       "      <th>Quantity</th>\n",
       "      <th>Week_Day</th>\n",
       "      <th>Days_to_Ship</th>\n",
       "      <th>Profitable</th>\n",
       "    </tr>\n",
       "  </thead>\n",
       "  <tbody>\n",
       "    <tr>\n",
       "      <th>Sales</th>\n",
       "      <td>1.000000</td>\n",
       "      <td>0.449825</td>\n",
       "      <td>-0.010596</td>\n",
       "      <td>0.253133</td>\n",
       "      <td>-0.009150</td>\n",
       "      <td>-0.010652</td>\n",
       "      <td>-0.077632</td>\n",
       "    </tr>\n",
       "    <tr>\n",
       "      <th>Profit</th>\n",
       "      <td>0.449825</td>\n",
       "      <td>1.000000</td>\n",
       "      <td>-0.359596</td>\n",
       "      <td>0.119362</td>\n",
       "      <td>0.002465</td>\n",
       "      <td>-0.014287</td>\n",
       "      <td>0.413569</td>\n",
       "    </tr>\n",
       "    <tr>\n",
       "      <th>Discount</th>\n",
       "      <td>-0.010596</td>\n",
       "      <td>-0.359596</td>\n",
       "      <td>1.000000</td>\n",
       "      <td>0.003517</td>\n",
       "      <td>0.005162</td>\n",
       "      <td>-0.011000</td>\n",
       "      <td>-0.697514</td>\n",
       "    </tr>\n",
       "    <tr>\n",
       "      <th>Quantity</th>\n",
       "      <td>0.253133</td>\n",
       "      <td>0.119362</td>\n",
       "      <td>0.003517</td>\n",
       "      <td>1.000000</td>\n",
       "      <td>-0.000259</td>\n",
       "      <td>0.014815</td>\n",
       "      <td>0.003650</td>\n",
       "    </tr>\n",
       "    <tr>\n",
       "      <th>Week_Day</th>\n",
       "      <td>-0.009150</td>\n",
       "      <td>0.002465</td>\n",
       "      <td>0.005162</td>\n",
       "      <td>-0.000259</td>\n",
       "      <td>1.000000</td>\n",
       "      <td>-0.034547</td>\n",
       "      <td>-0.003521</td>\n",
       "    </tr>\n",
       "    <tr>\n",
       "      <th>Days_to_Ship</th>\n",
       "      <td>-0.010652</td>\n",
       "      <td>-0.014287</td>\n",
       "      <td>-0.011000</td>\n",
       "      <td>0.014815</td>\n",
       "      <td>-0.034547</td>\n",
       "      <td>1.000000</td>\n",
       "      <td>-0.000453</td>\n",
       "    </tr>\n",
       "    <tr>\n",
       "      <th>Profitable</th>\n",
       "      <td>-0.077632</td>\n",
       "      <td>0.413569</td>\n",
       "      <td>-0.697514</td>\n",
       "      <td>0.003650</td>\n",
       "      <td>-0.003521</td>\n",
       "      <td>-0.000453</td>\n",
       "      <td>1.000000</td>\n",
       "    </tr>\n",
       "  </tbody>\n",
       "</table>\n",
       "</div>"
      ],
      "text/plain": [
       "                 Sales    Profit  Discount  Quantity  Week_Day  Days_to_Ship  \\\n",
       "Sales         1.000000  0.449825 -0.010596  0.253133 -0.009150     -0.010652   \n",
       "Profit        0.449825  1.000000 -0.359596  0.119362  0.002465     -0.014287   \n",
       "Discount     -0.010596 -0.359596  1.000000  0.003517  0.005162     -0.011000   \n",
       "Quantity      0.253133  0.119362  0.003517  1.000000 -0.000259      0.014815   \n",
       "Week_Day     -0.009150  0.002465  0.005162 -0.000259  1.000000     -0.034547   \n",
       "Days_to_Ship -0.010652 -0.014287 -0.011000  0.014815 -0.034547      1.000000   \n",
       "Profitable   -0.077632  0.413569 -0.697514  0.003650 -0.003521     -0.000453   \n",
       "\n",
       "              Profitable  \n",
       "Sales          -0.077632  \n",
       "Profit          0.413569  \n",
       "Discount       -0.697514  \n",
       "Quantity        0.003650  \n",
       "Week_Day       -0.003521  \n",
       "Days_to_Ship   -0.000453  \n",
       "Profitable      1.000000  "
      ]
     },
     "execution_count": 112,
     "metadata": {},
     "output_type": "execute_result"
    }
   ],
   "source": [
    "dfz_model.corr()"
   ]
  },
  {
   "cell_type": "code",
   "execution_count": 113,
   "id": "59050978",
   "metadata": {},
   "outputs": [],
   "source": [
    "dfz_model.drop('Profit', axis = 1, inplace = True)"
   ]
  },
  {
   "cell_type": "code",
   "execution_count": 114,
   "id": "7c6dda53",
   "metadata": {},
   "outputs": [],
   "source": [
    "X = dfz_model.drop('Profitable', axis = 1)\n",
    "\n",
    "Y = dfz_model['Profitable']"
   ]
  },
  {
   "cell_type": "code",
   "execution_count": 115,
   "id": "f91c26bc",
   "metadata": {},
   "outputs": [
    {
     "data": {
      "text/html": [
       "<div>\n",
       "<style scoped>\n",
       "    .dataframe tbody tr th:only-of-type {\n",
       "        vertical-align: middle;\n",
       "    }\n",
       "\n",
       "    .dataframe tbody tr th {\n",
       "        vertical-align: top;\n",
       "    }\n",
       "\n",
       "    .dataframe thead th {\n",
       "        text-align: right;\n",
       "    }\n",
       "</style>\n",
       "<table border=\"1\" class=\"dataframe\">\n",
       "  <thead>\n",
       "    <tr style=\"text-align: right;\">\n",
       "      <th></th>\n",
       "      <th>Sales</th>\n",
       "      <th>Discount</th>\n",
       "      <th>Quantity</th>\n",
       "      <th>Week_Day</th>\n",
       "      <th>Days_to_Ship</th>\n",
       "    </tr>\n",
       "  </thead>\n",
       "  <tbody>\n",
       "    <tr>\n",
       "      <th>0</th>\n",
       "      <td>16.448</td>\n",
       "      <td>0.2</td>\n",
       "      <td>2</td>\n",
       "      <td>4</td>\n",
       "      <td>4</td>\n",
       "    </tr>\n",
       "    <tr>\n",
       "      <th>1</th>\n",
       "      <td>11.784</td>\n",
       "      <td>0.2</td>\n",
       "      <td>3</td>\n",
       "      <td>5</td>\n",
       "      <td>4</td>\n",
       "    </tr>\n",
       "    <tr>\n",
       "      <th>2</th>\n",
       "      <td>272.736</td>\n",
       "      <td>0.2</td>\n",
       "      <td>3</td>\n",
       "      <td>5</td>\n",
       "      <td>4</td>\n",
       "    </tr>\n",
       "    <tr>\n",
       "      <th>4</th>\n",
       "      <td>19.536</td>\n",
       "      <td>0.2</td>\n",
       "      <td>3</td>\n",
       "      <td>6</td>\n",
       "      <td>7</td>\n",
       "    </tr>\n",
       "    <tr>\n",
       "      <th>5</th>\n",
       "      <td>5.480</td>\n",
       "      <td>0.0</td>\n",
       "      <td>2</td>\n",
       "      <td>0</td>\n",
       "      <td>4</td>\n",
       "    </tr>\n",
       "    <tr>\n",
       "      <th>...</th>\n",
       "      <td>...</td>\n",
       "      <td>...</td>\n",
       "      <td>...</td>\n",
       "      <td>...</td>\n",
       "      <td>...</td>\n",
       "    </tr>\n",
       "    <tr>\n",
       "      <th>9989</th>\n",
       "      <td>3.024</td>\n",
       "      <td>0.2</td>\n",
       "      <td>3</td>\n",
       "      <td>5</td>\n",
       "      <td>4</td>\n",
       "    </tr>\n",
       "    <tr>\n",
       "      <th>9990</th>\n",
       "      <td>52.776</td>\n",
       "      <td>0.2</td>\n",
       "      <td>3</td>\n",
       "      <td>5</td>\n",
       "      <td>4</td>\n",
       "    </tr>\n",
       "    <tr>\n",
       "      <th>9991</th>\n",
       "      <td>90.930</td>\n",
       "      <td>0.0</td>\n",
       "      <td>7</td>\n",
       "      <td>5</td>\n",
       "      <td>4</td>\n",
       "    </tr>\n",
       "    <tr>\n",
       "      <th>9992</th>\n",
       "      <td>13.904</td>\n",
       "      <td>0.2</td>\n",
       "      <td>2</td>\n",
       "      <td>5</td>\n",
       "      <td>4</td>\n",
       "    </tr>\n",
       "    <tr>\n",
       "      <th>9993</th>\n",
       "      <td>323.136</td>\n",
       "      <td>0.2</td>\n",
       "      <td>4</td>\n",
       "      <td>5</td>\n",
       "      <td>4</td>\n",
       "    </tr>\n",
       "  </tbody>\n",
       "</table>\n",
       "<p>9436 rows × 5 columns</p>\n",
       "</div>"
      ],
      "text/plain": [
       "        Sales  Discount  Quantity  Week_Day  Days_to_Ship\n",
       "0      16.448       0.2         2         4             4\n",
       "1      11.784       0.2         3         5             4\n",
       "2     272.736       0.2         3         5             4\n",
       "4      19.536       0.2         3         6             7\n",
       "5       5.480       0.0         2         0             4\n",
       "...       ...       ...       ...       ...           ...\n",
       "9989    3.024       0.2         3         5             4\n",
       "9990   52.776       0.2         3         5             4\n",
       "9991   90.930       0.0         7         5             4\n",
       "9992   13.904       0.2         2         5             4\n",
       "9993  323.136       0.2         4         5             4\n",
       "\n",
       "[9436 rows x 5 columns]"
      ]
     },
     "execution_count": 115,
     "metadata": {},
     "output_type": "execute_result"
    }
   ],
   "source": [
    "X"
   ]
  },
  {
   "cell_type": "code",
   "execution_count": 116,
   "id": "11de69e4",
   "metadata": {},
   "outputs": [
    {
     "data": {
      "text/plain": [
       "0       1\n",
       "1       1\n",
       "2       0\n",
       "4       1\n",
       "5       1\n",
       "       ..\n",
       "9989    0\n",
       "9990    1\n",
       "9991    1\n",
       "9992    1\n",
       "9993    1\n",
       "Name: Profitable, Length: 9436, dtype: int32"
      ]
     },
     "execution_count": 116,
     "metadata": {},
     "output_type": "execute_result"
    }
   ],
   "source": [
    "Y"
   ]
  },
  {
   "cell_type": "code",
   "execution_count": 117,
   "id": "01b94125",
   "metadata": {},
   "outputs": [],
   "source": [
    "X_train, X_test, Y_train, Y_test = train_test_split(X, Y, random_state=109)"
   ]
  },
  {
   "cell_type": "code",
   "execution_count": 118,
   "id": "7cc69308",
   "metadata": {},
   "outputs": [],
   "source": [
    "gnb = GaussianNB()"
   ]
  },
  {
   "cell_type": "code",
   "execution_count": 119,
   "id": "a602fd6e",
   "metadata": {},
   "outputs": [
    {
     "data": {
      "text/plain": [
       "GaussianNB()"
      ]
     },
     "execution_count": 119,
     "metadata": {},
     "output_type": "execute_result"
    }
   ],
   "source": [
    "gnb.fit(X_train, Y_train)"
   ]
  },
  {
   "cell_type": "code",
   "execution_count": 120,
   "id": "439ff21e",
   "metadata": {},
   "outputs": [
    {
     "data": {
      "text/plain": [
       "0.9242616928076869"
      ]
     },
     "execution_count": 120,
     "metadata": {},
     "output_type": "execute_result"
    }
   ],
   "source": [
    "gnb.score(X_train, Y_train)"
   ]
  },
  {
   "cell_type": "code",
   "execution_count": 121,
   "id": "d08ae956",
   "metadata": {},
   "outputs": [],
   "source": [
    "Y_pred = gnb.predict(X_test)"
   ]
  },
  {
   "cell_type": "code",
   "execution_count": 122,
   "id": "745b261c",
   "metadata": {},
   "outputs": [
    {
     "data": {
      "text/html": [
       "<div>\n",
       "<style scoped>\n",
       "    .dataframe tbody tr th:only-of-type {\n",
       "        vertical-align: middle;\n",
       "    }\n",
       "\n",
       "    .dataframe tbody tr th {\n",
       "        vertical-align: top;\n",
       "    }\n",
       "\n",
       "    .dataframe thead th {\n",
       "        text-align: right;\n",
       "    }\n",
       "</style>\n",
       "<table border=\"1\" class=\"dataframe\">\n",
       "  <thead>\n",
       "    <tr style=\"text-align: right;\">\n",
       "      <th></th>\n",
       "      <th>Predicted Not Profitable</th>\n",
       "      <th>Predicted Profitable</th>\n",
       "    </tr>\n",
       "  </thead>\n",
       "  <tbody>\n",
       "    <tr>\n",
       "      <th>True Not Profitable</th>\n",
       "      <td>217</td>\n",
       "      <td>146</td>\n",
       "    </tr>\n",
       "    <tr>\n",
       "      <th>True Profitable</th>\n",
       "      <td>9</td>\n",
       "      <td>1987</td>\n",
       "    </tr>\n",
       "  </tbody>\n",
       "</table>\n",
       "</div>"
      ],
      "text/plain": [
       "                     Predicted Not Profitable  Predicted Profitable\n",
       "True Not Profitable                       217                   146\n",
       "True Profitable                             9                  1987"
      ]
     },
     "execution_count": 122,
     "metadata": {},
     "output_type": "execute_result"
    }
   ],
   "source": [
    "cm = pd.DataFrame(\n",
    "    confusion_matrix(Y_test, Y_pred),\n",
    "    columns=['Predicted Not Profitable', 'Predicted Profitable'],\n",
    "    index=['True Not Profitable', 'True Profitable']\n",
    ")\n",
    "\n",
    "cm"
   ]
  },
  {
   "cell_type": "code",
   "execution_count": 123,
   "id": "c2d900ad",
   "metadata": {},
   "outputs": [
    {
     "data": {
      "text/plain": [
       "1    1996\n",
       "0     363\n",
       "Name: Profitable, dtype: int64"
      ]
     },
     "execution_count": 123,
     "metadata": {},
     "output_type": "execute_result"
    }
   ],
   "source": [
    "#frequency of profitable orders to non profitable orders in test dataset\n",
    "\n",
    "Y_test.value_counts()"
   ]
  },
  {
   "cell_type": "code",
   "execution_count": 124,
   "id": "afd4eb93",
   "metadata": {},
   "outputs": [
    {
     "data": {
      "text/plain": [
       "0.9342941924544298"
      ]
     },
     "execution_count": 124,
     "metadata": {},
     "output_type": "execute_result"
    }
   ],
   "source": [
    "gnb.score(X_test, Y_test)"
   ]
  },
  {
   "cell_type": "code",
   "execution_count": 125,
   "id": "b898c52f",
   "metadata": {},
   "outputs": [
    {
     "name": "stdout",
     "output_type": "stream",
     "text": [
      "              precision    recall  f1-score   support\n",
      "\n",
      "           0       0.96      0.60      0.74       363\n",
      "           1       0.93      1.00      0.96      1996\n",
      "\n",
      "    accuracy                           0.93      2359\n",
      "   macro avg       0.95      0.80      0.85      2359\n",
      "weighted avg       0.94      0.93      0.93      2359\n",
      "\n"
     ]
    }
   ],
   "source": [
    "print(classification_report(Y_test, Y_pred))"
   ]
  },
  {
   "cell_type": "code",
   "execution_count": 126,
   "id": "0d687f98",
   "metadata": {},
   "outputs": [
    {
     "name": "stdout",
     "output_type": "stream",
     "text": [
      "<class 'pandas.core.frame.DataFrame'>\n",
      "Int64Index: 9436 entries, 0 to 9993\n",
      "Data columns (total 27 columns):\n",
      " #   Column           Non-Null Count  Dtype         \n",
      "---  ------           --------------  -----         \n",
      " 0   Order_ID         9436 non-null   object        \n",
      " 1   Order_Date       9436 non-null   datetime64[ns]\n",
      " 2   Ship_Date        9436 non-null   datetime64[ns]\n",
      " 3   Ship_Mode        9436 non-null   object        \n",
      " 4   Customer_ID      9436 non-null   object        \n",
      " 5   Customer_Name    9436 non-null   object        \n",
      " 6   Segment          9436 non-null   object        \n",
      " 7   City             9436 non-null   object        \n",
      " 8   State            9436 non-null   object        \n",
      " 9   Postal_Code      9436 non-null   int64         \n",
      " 10  Region           9436 non-null   object        \n",
      " 11  Product_ID       9436 non-null   object        \n",
      " 12  Category         9436 non-null   object        \n",
      " 13  Sub-Category     9436 non-null   object        \n",
      " 14  Product_Name     9436 non-null   object        \n",
      " 15  Sales            9436 non-null   float64       \n",
      " 16  Quantity         9436 non-null   int64         \n",
      " 17  Discount         9436 non-null   float64       \n",
      " 18  Profit           9436 non-null   float64       \n",
      " 19  Profitable       9436 non-null   int32         \n",
      " 20  Week_Day         9436 non-null   int64         \n",
      " 21  Days_to_Ship     9436 non-null   int64         \n",
      " 22  Day_of_Week      9436 non-null   object        \n",
      " 23  zscore_sales     9436 non-null   float64       \n",
      " 24  zscore_quantity  9436 non-null   float64       \n",
      " 25  zscore_discount  9436 non-null   float64       \n",
      " 26  zscore_profit    9436 non-null   float64       \n",
      "dtypes: datetime64[ns](2), float64(7), int32(1), int64(4), object(13)\n",
      "memory usage: 2.2+ MB\n"
     ]
    }
   ],
   "source": [
    "dfz.info()"
   ]
  },
  {
   "cell_type": "code",
   "execution_count": 127,
   "id": "6adfef13",
   "metadata": {},
   "outputs": [
    {
     "name": "stdout",
     "output_type": "stream",
     "text": [
      "<class 'pandas.core.frame.DataFrame'>\n",
      "Int64Index: 9436 entries, 0 to 9993\n",
      "Data columns (total 23 columns):\n",
      " #   Column         Non-Null Count  Dtype         \n",
      "---  ------         --------------  -----         \n",
      " 0   Order_ID       9436 non-null   object        \n",
      " 1   Order_Date     9436 non-null   datetime64[ns]\n",
      " 2   Ship_Date      9436 non-null   datetime64[ns]\n",
      " 3   Ship_Mode      9436 non-null   object        \n",
      " 4   Customer_ID    9436 non-null   object        \n",
      " 5   Customer_Name  9436 non-null   object        \n",
      " 6   Segment        9436 non-null   object        \n",
      " 7   City           9436 non-null   object        \n",
      " 8   State          9436 non-null   object        \n",
      " 9   Postal_Code    9436 non-null   int64         \n",
      " 10  Region         9436 non-null   object        \n",
      " 11  Product_ID     9436 non-null   object        \n",
      " 12  Category       9436 non-null   object        \n",
      " 13  Sub-Category   9436 non-null   object        \n",
      " 14  Product_Name   9436 non-null   object        \n",
      " 15  Sales          9436 non-null   float64       \n",
      " 16  Quantity       9436 non-null   int64         \n",
      " 17  Discount       9436 non-null   float64       \n",
      " 18  Profit         9436 non-null   float64       \n",
      " 19  Profitable     9436 non-null   int32         \n",
      " 20  Week_Day       9436 non-null   int64         \n",
      " 21  Days_to_Ship   9436 non-null   int64         \n",
      " 22  Day_of_Week    9436 non-null   object        \n",
      "dtypes: datetime64[ns](2), float64(3), int32(1), int64(4), object(13)\n",
      "memory usage: 1.9+ MB\n"
     ]
    }
   ],
   "source": [
    "### remove z_scores\n",
    "dfz.drop(['zscore_sales', 'zscore_quantity', 'zscore_discount', 'zscore_profit'], axis = 1, inplace = True)\n",
    "\n",
    "dfz.info()"
   ]
  },
  {
   "cell_type": "code",
   "execution_count": 128,
   "id": "e925a5b7",
   "metadata": {},
   "outputs": [
    {
     "data": {
      "text/html": [
       "<div>\n",
       "<style scoped>\n",
       "    .dataframe tbody tr th:only-of-type {\n",
       "        vertical-align: middle;\n",
       "    }\n",
       "\n",
       "    .dataframe tbody tr th {\n",
       "        vertical-align: top;\n",
       "    }\n",
       "\n",
       "    .dataframe thead th {\n",
       "        text-align: right;\n",
       "    }\n",
       "</style>\n",
       "<table border=\"1\" class=\"dataframe\">\n",
       "  <thead>\n",
       "    <tr style=\"text-align: right;\">\n",
       "      <th></th>\n",
       "      <th>Order_ID</th>\n",
       "      <th>Order_Date</th>\n",
       "      <th>Ship_Date</th>\n",
       "      <th>Ship_Mode</th>\n",
       "      <th>Customer_ID</th>\n",
       "      <th>Customer_Name</th>\n",
       "      <th>Segment</th>\n",
       "      <th>City</th>\n",
       "      <th>State</th>\n",
       "      <th>Postal_Code</th>\n",
       "      <th>...</th>\n",
       "      <th>Sub-Category</th>\n",
       "      <th>Product_Name</th>\n",
       "      <th>Sales</th>\n",
       "      <th>Quantity</th>\n",
       "      <th>Discount</th>\n",
       "      <th>Profit</th>\n",
       "      <th>Profitable</th>\n",
       "      <th>Week_Day</th>\n",
       "      <th>Days_to_Ship</th>\n",
       "      <th>Day_of_Week</th>\n",
       "    </tr>\n",
       "  </thead>\n",
       "  <tbody>\n",
       "    <tr>\n",
       "      <th>0</th>\n",
       "      <td>CA-2014-103800</td>\n",
       "      <td>2014-01-03</td>\n",
       "      <td>2014-01-07</td>\n",
       "      <td>Standard Class</td>\n",
       "      <td>DP-13000</td>\n",
       "      <td>Darren Powers</td>\n",
       "      <td>Consumer</td>\n",
       "      <td>Houston</td>\n",
       "      <td>Texas</td>\n",
       "      <td>77095</td>\n",
       "      <td>...</td>\n",
       "      <td>Paper</td>\n",
       "      <td>Message Book, Wirebound, Four 5 1/2\" X 4\" Form...</td>\n",
       "      <td>16.448</td>\n",
       "      <td>2</td>\n",
       "      <td>0.2</td>\n",
       "      <td>5.5512</td>\n",
       "      <td>1</td>\n",
       "      <td>4</td>\n",
       "      <td>4</td>\n",
       "      <td>Fri</td>\n",
       "    </tr>\n",
       "    <tr>\n",
       "      <th>1</th>\n",
       "      <td>CA-2014-112326</td>\n",
       "      <td>2014-01-04</td>\n",
       "      <td>2014-01-08</td>\n",
       "      <td>Standard Class</td>\n",
       "      <td>PO-19195</td>\n",
       "      <td>Phillina Ober</td>\n",
       "      <td>Home Office</td>\n",
       "      <td>Naperville</td>\n",
       "      <td>Illinois</td>\n",
       "      <td>60540</td>\n",
       "      <td>...</td>\n",
       "      <td>Labels</td>\n",
       "      <td>Avery 508</td>\n",
       "      <td>11.784</td>\n",
       "      <td>3</td>\n",
       "      <td>0.2</td>\n",
       "      <td>4.2717</td>\n",
       "      <td>1</td>\n",
       "      <td>5</td>\n",
       "      <td>4</td>\n",
       "      <td>Sat</td>\n",
       "    </tr>\n",
       "    <tr>\n",
       "      <th>2</th>\n",
       "      <td>CA-2014-112326</td>\n",
       "      <td>2014-01-04</td>\n",
       "      <td>2014-01-08</td>\n",
       "      <td>Standard Class</td>\n",
       "      <td>PO-19195</td>\n",
       "      <td>Phillina Ober</td>\n",
       "      <td>Home Office</td>\n",
       "      <td>Naperville</td>\n",
       "      <td>Illinois</td>\n",
       "      <td>60540</td>\n",
       "      <td>...</td>\n",
       "      <td>Storage</td>\n",
       "      <td>SAFCO Boltless Steel Shelving</td>\n",
       "      <td>272.736</td>\n",
       "      <td>3</td>\n",
       "      <td>0.2</td>\n",
       "      <td>-64.7748</td>\n",
       "      <td>0</td>\n",
       "      <td>5</td>\n",
       "      <td>4</td>\n",
       "      <td>Sat</td>\n",
       "    </tr>\n",
       "    <tr>\n",
       "      <th>4</th>\n",
       "      <td>CA-2014-141817</td>\n",
       "      <td>2014-01-05</td>\n",
       "      <td>2014-01-12</td>\n",
       "      <td>Standard Class</td>\n",
       "      <td>MB-18085</td>\n",
       "      <td>Mick Brown</td>\n",
       "      <td>Consumer</td>\n",
       "      <td>Philadelphia</td>\n",
       "      <td>Pennsylvania</td>\n",
       "      <td>19143</td>\n",
       "      <td>...</td>\n",
       "      <td>Art</td>\n",
       "      <td>Avery Hi-Liter EverBold Pen Style Fluorescent ...</td>\n",
       "      <td>19.536</td>\n",
       "      <td>3</td>\n",
       "      <td>0.2</td>\n",
       "      <td>4.8840</td>\n",
       "      <td>1</td>\n",
       "      <td>6</td>\n",
       "      <td>7</td>\n",
       "      <td>Sun</td>\n",
       "    </tr>\n",
       "    <tr>\n",
       "      <th>5</th>\n",
       "      <td>CA-2014-167199</td>\n",
       "      <td>2014-01-06</td>\n",
       "      <td>2014-01-10</td>\n",
       "      <td>Standard Class</td>\n",
       "      <td>ME-17320</td>\n",
       "      <td>Maria Etezadi</td>\n",
       "      <td>Home Office</td>\n",
       "      <td>Henderson</td>\n",
       "      <td>Kentucky</td>\n",
       "      <td>42420</td>\n",
       "      <td>...</td>\n",
       "      <td>Art</td>\n",
       "      <td>Rogers Handheld Barrel Pencil Sharpener</td>\n",
       "      <td>5.480</td>\n",
       "      <td>2</td>\n",
       "      <td>0.0</td>\n",
       "      <td>1.4796</td>\n",
       "      <td>1</td>\n",
       "      <td>0</td>\n",
       "      <td>4</td>\n",
       "      <td>Mon</td>\n",
       "    </tr>\n",
       "  </tbody>\n",
       "</table>\n",
       "<p>5 rows × 23 columns</p>\n",
       "</div>"
      ],
      "text/plain": [
       "         Order_ID Order_Date  Ship_Date       Ship_Mode Customer_ID  \\\n",
       "0  CA-2014-103800 2014-01-03 2014-01-07  Standard Class    DP-13000   \n",
       "1  CA-2014-112326 2014-01-04 2014-01-08  Standard Class    PO-19195   \n",
       "2  CA-2014-112326 2014-01-04 2014-01-08  Standard Class    PO-19195   \n",
       "4  CA-2014-141817 2014-01-05 2014-01-12  Standard Class    MB-18085   \n",
       "5  CA-2014-167199 2014-01-06 2014-01-10  Standard Class    ME-17320   \n",
       "\n",
       "   Customer_Name      Segment          City         State  Postal_Code  ...  \\\n",
       "0  Darren Powers     Consumer       Houston         Texas        77095  ...   \n",
       "1  Phillina Ober  Home Office    Naperville      Illinois        60540  ...   \n",
       "2  Phillina Ober  Home Office    Naperville      Illinois        60540  ...   \n",
       "4     Mick Brown     Consumer  Philadelphia  Pennsylvania        19143  ...   \n",
       "5  Maria Etezadi  Home Office     Henderson      Kentucky        42420  ...   \n",
       "\n",
       "  Sub-Category                                       Product_Name    Sales  \\\n",
       "0        Paper  Message Book, Wirebound, Four 5 1/2\" X 4\" Form...   16.448   \n",
       "1       Labels                                          Avery 508   11.784   \n",
       "2      Storage                      SAFCO Boltless Steel Shelving  272.736   \n",
       "4          Art  Avery Hi-Liter EverBold Pen Style Fluorescent ...   19.536   \n",
       "5          Art            Rogers Handheld Barrel Pencil Sharpener    5.480   \n",
       "\n",
       "  Quantity Discount   Profit  Profitable  Week_Day  Days_to_Ship  Day_of_Week  \n",
       "0        2      0.2   5.5512           1         4             4          Fri  \n",
       "1        3      0.2   4.2717           1         5             4          Sat  \n",
       "2        3      0.2 -64.7748           0         5             4          Sat  \n",
       "4        3      0.2   4.8840           1         6             7          Sun  \n",
       "5        2      0.0   1.4796           1         0             4          Mon  \n",
       "\n",
       "[5 rows x 23 columns]"
      ]
     },
     "execution_count": 128,
     "metadata": {},
     "output_type": "execute_result"
    }
   ],
   "source": [
    "dfz.head()"
   ]
  },
  {
   "cell_type": "code",
   "execution_count": 129,
   "id": "c1a9bd5c",
   "metadata": {},
   "outputs": [],
   "source": [
    "### export the z_score ouliers removed dataset to excel\n",
    "\n",
    "dfz.to_excel(\"Superstore_modified.xlsx\", index = False)"
   ]
  },
  {
   "cell_type": "code",
   "execution_count": null,
   "id": "cf389601",
   "metadata": {},
   "outputs": [],
   "source": []
  }
 ],
 "metadata": {
  "kernelspec": {
   "display_name": "Python 3 (ipykernel)",
   "language": "python",
   "name": "python3"
  },
  "language_info": {
   "codemirror_mode": {
    "name": "ipython",
    "version": 3
   },
   "file_extension": ".py",
   "mimetype": "text/x-python",
   "name": "python",
   "nbconvert_exporter": "python",
   "pygments_lexer": "ipython3",
   "version": "3.9.7"
  }
 },
 "nbformat": 4,
 "nbformat_minor": 5
}

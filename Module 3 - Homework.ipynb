{
 "cells": [
  {
   "cell_type": "markdown",
   "metadata": {},
   "source": [
    "### Exercise 1\n",
    "Ask a user for 5 names and place each one in to a list called <i>names</i>. Then, print <i>names</i>."
   ]
  },
  {
   "cell_type": "code",
   "execution_count": 4,
   "metadata": {},
   "outputs": [
    {
     "name": "stdout",
     "output_type": "stream",
     "text": [
      "Please enter a name: sub\n",
      "Please enter a name: tum\n",
      "Please enter a name: rob\n",
      "Please enter a name: julie\n",
      "Please enter a name: terri\n",
      "['sub', 'tum', 'rob', 'julie', 'terri']\n"
     ]
    }
   ],
   "source": [
    "## funtion to prompt for name\n",
    "def get_name():\n",
    "    name = input(\"Please enter a name: \")\n",
    "    return name\n",
    "\n",
    "## define names\n",
    "names = []\n",
    "\n",
    "## add to names list by calling get_name function\n",
    "names.append(get_name())\n",
    "names.append(get_name())\n",
    "names.append(get_name())\n",
    "names.append(get_name())\n",
    "names.append(get_name())\n",
    "\n",
    "print(names)"
   ]
  },
  {
   "cell_type": "markdown",
   "metadata": {},
   "source": [
    "### Exercise 2\n",
    "Print out a randomly selected name in the names list."
   ]
  },
  {
   "cell_type": "code",
   "execution_count": 5,
   "metadata": {},
   "outputs": [
    {
     "name": "stdout",
     "output_type": "stream",
     "text": [
      "rob\n"
     ]
    }
   ],
   "source": [
    "print(names[2])"
   ]
  },
  {
   "cell_type": "markdown",
   "metadata": {},
   "source": [
    "### Exercise 3\n",
    "\n",
    "Ask a user for a specific color and store that value into a variable. If the answer is gray, print \"You found Victor's favorite color!\". If the answer is anything besides gray, print \"[color name] is not Victor's favorite color.\""
   ]
  },
  {
   "cell_type": "code",
   "execution_count": 12,
   "metadata": {},
   "outputs": [
    {
     "name": "stdout",
     "output_type": "stream",
     "text": [
      "What is Victor's favorite color? Gray\n",
      "You found Victor's favorite color!\n"
     ]
    }
   ],
   "source": [
    "## function to print matching color\n",
    "def find_color(color):\n",
    "    if color == \"gray\" or color == \"Gray\":\n",
    "        print(\"You found Victor's favorite color!\")\n",
    "    else:\n",
    "        print(f\"{color} is not Victor's favorite color\")\n",
    "\n",
    "color = input(\"What is Victor's favorite color? \")\n",
    "\n",
    "find_color(color)"
   ]
  },
  {
   "cell_type": "markdown",
   "metadata": {},
   "source": [
    "### Exercise 4\n",
    "Ask for an exam score and store that number. If the number is greater than 100, then print out 'You cannot have an exam score higher than 100'. If the number doesn't exceeed 100 but is greater than or equal to 75, then print out 'You did great on your exam!'. Otherwise if they scored lower than 75, then print out 'You need to study harder'."
   ]
  },
  {
   "cell_type": "code",
   "execution_count": 20,
   "metadata": {},
   "outputs": [
    {
     "name": "stdout",
     "output_type": "stream",
     "text": [
      "What was your exam score? 82\n",
      "You did great on you exam, you got 82\n"
     ]
    }
   ],
   "source": [
    "## function to print exam score result\n",
    "def exam_score(score):\n",
    "    if score > 100:\n",
    "        print(\"You cannot have an exam score higher than 100\")\n",
    "    elif score >= 75:\n",
    "        print(f\"You did great on you exam, you got {score}\")\n",
    "    else:\n",
    "        print(f\"You need to study harder, you got a low score of {score}\")\n",
    "              \n",
    "## get exam score\n",
    "score = int(input(\"What was your exam score? \"))\n",
    "              \n",
    "exam_score(score)              "
   ]
  },
  {
   "cell_type": "markdown",
   "metadata": {},
   "source": [
    "### Exercise 5\n",
    "Write a function to convert a test score to a grade where  \n",
    " - 90 - 100: A\n",
    " - 80 - 89:  B\n",
    " - 70 - 79:  C\n",
    " - 60 - 69:  D\n",
    " - < 60   :  F\n",
    " \n",
    "If a score is not between 0 and 100 then print out an error message. In the program, ask the user for a score and then call your function. "
   ]
  },
  {
   "cell_type": "code",
   "execution_count": 40,
   "metadata": {},
   "outputs": [
    {
     "name": "stdout",
     "output_type": "stream",
     "text": [
      "What is your test score? 101\n",
      "Your grade is Error: Inaccurate score given\n",
      "\n",
      "What is your test score? 90\n",
      "Your grade is A\n",
      "\n",
      "What is your test score? 80\n",
      "Your grade is B\n",
      "\n",
      "What is your test score? 75\n",
      "Your grade is C\n",
      "\n",
      "What is your test score? 66\n",
      "Your grade is D\n",
      "\n",
      "What is your test score? 1\n",
      "Your grade is F\n",
      "\n",
      "What is your test score? 0\n",
      "Your grade is F\n",
      "\n"
     ]
    }
   ],
   "source": [
    "## function returns grade based on test score given\n",
    "def grades(score):\n",
    "    if score < 0 or score > 100:\n",
    "        return \"Error: Inaccurate score given\"\n",
    "    elif score >= 90:\n",
    "        return \"A\"\n",
    "    elif score >= 80:\n",
    "        return \"B\"\n",
    "    elif score >= 70:\n",
    "        return \"C\"\n",
    "    elif score >= 60:\n",
    "        return \"D\"\n",
    "    else:\n",
    "        return \"F\"\n",
    "\n",
    "## get test score from user\n",
    "prompt = \"What is your test score? \"\n",
    "score = int(input(prompt))\n",
    "\n",
    "print(f\"Your grade is {grades(score)}\\n\")\n",
    "\n",
    "score = int(input(prompt))\n",
    "print(f\"Your grade is {grades(score)}\\n\")\n",
    "\n",
    "score = int(input(prompt))\n",
    "print(f\"Your grade is {grades(score)}\\n\")\n",
    "\n",
    "score = int(input(prompt))\n",
    "print(f\"Your grade is {grades(score)}\\n\")\n",
    "\n",
    "score = int(input(prompt))\n",
    "print(f\"Your grade is {grades(score)}\\n\")\n",
    "\n",
    "score = int(input(prompt))\n",
    "print(f\"Your grade is {grades(score)}\\n\")\n",
    "\n",
    "print(f\"Your grade is {grades(int(input(prompt)))}\\n\")"
   ]
  },
  {
   "cell_type": "code",
   "execution_count": null,
   "metadata": {},
   "outputs": [],
   "source": []
  }
 ],
 "metadata": {
  "kernelspec": {
   "display_name": "Python 3 (ipykernel)",
   "language": "python",
   "name": "python3"
  },
  "language_info": {
   "codemirror_mode": {
    "name": "ipython",
    "version": 3
   },
   "file_extension": ".py",
   "mimetype": "text/x-python",
   "name": "python",
   "nbconvert_exporter": "python",
   "pygments_lexer": "ipython3",
   "version": "3.9.7"
  }
 },
 "nbformat": 4,
 "nbformat_minor": 4
}

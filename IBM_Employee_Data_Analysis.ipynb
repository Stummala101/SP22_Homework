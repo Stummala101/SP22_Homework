{
 "cells": [
  {
   "cell_type": "markdown",
   "id": "0f6dbd6f",
   "metadata": {},
   "source": [
    "## DATA ANALYTICS – IBM PROJECT\n",
    "\n",
    "Why do workers resign from the positions they hold? Can employee attrition be anticipated? Can companies take steps to prevent high employee turn-over?\n",
    "\n",
    "Employee attrition is the reduction of staff by voluntary or involuntary reasons. These can be through natural means like retirement, or it can be through resignation, termination of contract, or when a company decides to make a position redundant. Excessive involuntary attrition can be detrimental to the overall business goals, and can lead to understaffing, increased job burden on remaining employees, and harmful consequences to company reputation. \n",
    "\n",
    "You’ve just been hired by IBM to work in their Data Analytics sector. On your second day, you are given a dataset from HR that includes several records of employees that were with the company in the prior calendar year. Since the development of the dataset, some of those employees have since resigned from their positions. The company was surprised with the recent level of turnover and have tasked you with digging into the data to determine any insights about what leads to employee turnover, and alternatively, what aspects of the jobs can be protected to reduce employee turnover. \n",
    "\n",
    "Using the ‘IBM Employee Attrition’ dataset – your role is to comprehensively explore the data and generate meaningful insights into what the data is presenting. \n",
    "\n",
    "You should conclude your assignment with 3 recommendations you will make to the HR department regarding employee attrition. \n",
    "\n",
    "At the least, you should complete the following tasks:\n",
    "    \n",
    "    •Data prep and cleaning – prior to exploring the data, you should ensure that the dataset is clean, all variables are in their proper format, and the data is free of missing, abnormal, or outlier values. \n",
    "    \n",
    "    •Exploratory data analysis – you should explore every aspect of the data to determine the features of the data, the range of values for all variables of interest, and the relationships between variables. Exploration should be conducted outside of predictive modeling – in other words, you are not only interested in how the dependent and independent variables interact – you should also spend some time exploring variations in the data among variables (i.e. how does salary differ between genders? Does time spent in the company differ by job role?)\n",
    "    \n",
    "    •Modeling – after thoroughly exploring the data, create a logistic regression model that predicts employee attrition based on the other variables available to you. Clearly interpret your model findings. Re-run/tweak your model if you think you can find a better fit. \n",
    "    \n",
    "    •Visualization – Create at least 3 visualizations that highlight some of the most interesting findings in your dataset. These can be findings from the regression model or any interesting relationships between variables. \n",
    "\n",
    "Good luck!\n"
   ]
  },
  {
   "cell_type": "code",
   "execution_count": 1,
   "id": "bc9db771",
   "metadata": {},
   "outputs": [
    {
     "data": {
      "text/html": [
       "<div>\n",
       "<style scoped>\n",
       "    .dataframe tbody tr th:only-of-type {\n",
       "        vertical-align: middle;\n",
       "    }\n",
       "\n",
       "    .dataframe tbody tr th {\n",
       "        vertical-align: top;\n",
       "    }\n",
       "\n",
       "    .dataframe thead th {\n",
       "        text-align: right;\n",
       "    }\n",
       "</style>\n",
       "<table border=\"1\" class=\"dataframe\">\n",
       "  <thead>\n",
       "    <tr style=\"text-align: right;\">\n",
       "      <th></th>\n",
       "      <th>Age</th>\n",
       "      <th>Attrition</th>\n",
       "      <th>BusinessTravel</th>\n",
       "      <th>Department</th>\n",
       "      <th>DistanceFromHome</th>\n",
       "      <th>Education</th>\n",
       "      <th>EducationField</th>\n",
       "      <th>EmployeeNumber</th>\n",
       "      <th>EnvironmentSatisfaction</th>\n",
       "      <th>Gender</th>\n",
       "      <th>...</th>\n",
       "      <th>PerformanceRating</th>\n",
       "      <th>RelationshipSatisfaction</th>\n",
       "      <th>StockOptionLevel</th>\n",
       "      <th>TotalWorkingYears</th>\n",
       "      <th>TrainingTimesLastYear</th>\n",
       "      <th>WorkLifeBalance</th>\n",
       "      <th>YearsAtCompany</th>\n",
       "      <th>YearsInCurrentRole</th>\n",
       "      <th>YearsSinceLastPromotion</th>\n",
       "      <th>YearsWithCurrManager</th>\n",
       "    </tr>\n",
       "  </thead>\n",
       "  <tbody>\n",
       "    <tr>\n",
       "      <th>0</th>\n",
       "      <td>41</td>\n",
       "      <td>Yes</td>\n",
       "      <td>Travel_Rarely</td>\n",
       "      <td>Sales</td>\n",
       "      <td>1</td>\n",
       "      <td>2</td>\n",
       "      <td>Life Sciences</td>\n",
       "      <td>1</td>\n",
       "      <td>2</td>\n",
       "      <td>Female</td>\n",
       "      <td>...</td>\n",
       "      <td>3</td>\n",
       "      <td>1</td>\n",
       "      <td>0</td>\n",
       "      <td>8</td>\n",
       "      <td>0</td>\n",
       "      <td>1</td>\n",
       "      <td>6</td>\n",
       "      <td>4</td>\n",
       "      <td>0</td>\n",
       "      <td>5</td>\n",
       "    </tr>\n",
       "    <tr>\n",
       "      <th>1</th>\n",
       "      <td>49</td>\n",
       "      <td>No</td>\n",
       "      <td>Travel_Frequently</td>\n",
       "      <td>Research &amp; Development</td>\n",
       "      <td>8</td>\n",
       "      <td>1</td>\n",
       "      <td>Life Sciences</td>\n",
       "      <td>2</td>\n",
       "      <td>3</td>\n",
       "      <td>Male</td>\n",
       "      <td>...</td>\n",
       "      <td>4</td>\n",
       "      <td>4</td>\n",
       "      <td>1</td>\n",
       "      <td>10</td>\n",
       "      <td>3</td>\n",
       "      <td>3</td>\n",
       "      <td>10</td>\n",
       "      <td>7</td>\n",
       "      <td>1</td>\n",
       "      <td>7</td>\n",
       "    </tr>\n",
       "    <tr>\n",
       "      <th>2</th>\n",
       "      <td>37</td>\n",
       "      <td>Yes</td>\n",
       "      <td>Travel_Rarely</td>\n",
       "      <td>Research &amp; Development</td>\n",
       "      <td>2</td>\n",
       "      <td>2</td>\n",
       "      <td>Other</td>\n",
       "      <td>4</td>\n",
       "      <td>4</td>\n",
       "      <td>Male</td>\n",
       "      <td>...</td>\n",
       "      <td>3</td>\n",
       "      <td>2</td>\n",
       "      <td>0</td>\n",
       "      <td>7</td>\n",
       "      <td>3</td>\n",
       "      <td>3</td>\n",
       "      <td>0</td>\n",
       "      <td>0</td>\n",
       "      <td>0</td>\n",
       "      <td>0</td>\n",
       "    </tr>\n",
       "    <tr>\n",
       "      <th>3</th>\n",
       "      <td>33</td>\n",
       "      <td>No</td>\n",
       "      <td>Travel_Frequently</td>\n",
       "      <td>Research &amp; Development</td>\n",
       "      <td>3</td>\n",
       "      <td>4</td>\n",
       "      <td>Life Sciences</td>\n",
       "      <td>5</td>\n",
       "      <td>4</td>\n",
       "      <td>Female</td>\n",
       "      <td>...</td>\n",
       "      <td>3</td>\n",
       "      <td>3</td>\n",
       "      <td>0</td>\n",
       "      <td>8</td>\n",
       "      <td>3</td>\n",
       "      <td>3</td>\n",
       "      <td>8</td>\n",
       "      <td>7</td>\n",
       "      <td>3</td>\n",
       "      <td>0</td>\n",
       "    </tr>\n",
       "    <tr>\n",
       "      <th>4</th>\n",
       "      <td>27</td>\n",
       "      <td>No</td>\n",
       "      <td>Travel_Rarely</td>\n",
       "      <td>Research &amp; Development</td>\n",
       "      <td>2</td>\n",
       "      <td>1</td>\n",
       "      <td>Medical</td>\n",
       "      <td>7</td>\n",
       "      <td>1</td>\n",
       "      <td>Male</td>\n",
       "      <td>...</td>\n",
       "      <td>3</td>\n",
       "      <td>4</td>\n",
       "      <td>1</td>\n",
       "      <td>6</td>\n",
       "      <td>3</td>\n",
       "      <td>3</td>\n",
       "      <td>2</td>\n",
       "      <td>2</td>\n",
       "      <td>2</td>\n",
       "      <td>2</td>\n",
       "    </tr>\n",
       "  </tbody>\n",
       "</table>\n",
       "<p>5 rows × 30 columns</p>\n",
       "</div>"
      ],
      "text/plain": [
       "   Age Attrition     BusinessTravel              Department  DistanceFromHome  \\\n",
       "0   41       Yes      Travel_Rarely                   Sales                 1   \n",
       "1   49        No  Travel_Frequently  Research & Development                 8   \n",
       "2   37       Yes      Travel_Rarely  Research & Development                 2   \n",
       "3   33        No  Travel_Frequently  Research & Development                 3   \n",
       "4   27        No      Travel_Rarely  Research & Development                 2   \n",
       "\n",
       "   Education EducationField  EmployeeNumber  EnvironmentSatisfaction  Gender  \\\n",
       "0          2  Life Sciences               1                        2  Female   \n",
       "1          1  Life Sciences               2                        3    Male   \n",
       "2          2          Other               4                        4    Male   \n",
       "3          4  Life Sciences               5                        4  Female   \n",
       "4          1        Medical               7                        1    Male   \n",
       "\n",
       "   ...  PerformanceRating  RelationshipSatisfaction StockOptionLevel  \\\n",
       "0  ...                  3                         1                0   \n",
       "1  ...                  4                         4                1   \n",
       "2  ...                  3                         2                0   \n",
       "3  ...                  3                         3                0   \n",
       "4  ...                  3                         4                1   \n",
       "\n",
       "   TotalWorkingYears TrainingTimesLastYear  WorkLifeBalance  YearsAtCompany  \\\n",
       "0                  8                     0                1               6   \n",
       "1                 10                     3                3              10   \n",
       "2                  7                     3                3               0   \n",
       "3                  8                     3                3               8   \n",
       "4                  6                     3                3               2   \n",
       "\n",
       "  YearsInCurrentRole YearsSinceLastPromotion  YearsWithCurrManager  \n",
       "0                  4                       0                     5  \n",
       "1                  7                       1                     7  \n",
       "2                  0                       0                     0  \n",
       "3                  7                       3                     0  \n",
       "4                  2                       2                     2  \n",
       "\n",
       "[5 rows x 30 columns]"
      ]
     },
     "execution_count": 1,
     "metadata": {},
     "output_type": "execute_result"
    }
   ],
   "source": [
    "import pandas as pd\n",
    "import numpy as np\n",
    "\n",
    "import statsmodels.formula.api as sm\n",
    "import scipy.stats as stats\n",
    "\n",
    "from matplotlib import pyplot as plt\n",
    "%matplotlib inline\n",
    "\n",
    "import seaborn as sns\n",
    "\n",
    "###\n",
    "df = pd.read_excel(\"IBM Employee Attrition.xlsx\")\n",
    "df.head()"
   ]
  },
  {
   "cell_type": "code",
   "execution_count": 2,
   "id": "e6a060c3",
   "metadata": {},
   "outputs": [
    {
     "name": "stdout",
     "output_type": "stream",
     "text": [
      "<class 'pandas.core.frame.DataFrame'>\n",
      "RangeIndex: 1470 entries, 0 to 1469\n",
      "Data columns (total 30 columns):\n",
      " #   Column                    Non-Null Count  Dtype \n",
      "---  ------                    --------------  ----- \n",
      " 0   Age                       1470 non-null   int64 \n",
      " 1   Attrition                 1470 non-null   object\n",
      " 2   BusinessTravel            1470 non-null   object\n",
      " 3   Department                1470 non-null   object\n",
      " 4   DistanceFromHome          1470 non-null   int64 \n",
      " 5   Education                 1470 non-null   int64 \n",
      " 6   EducationField            1470 non-null   object\n",
      " 7   EmployeeNumber            1470 non-null   int64 \n",
      " 8   EnvironmentSatisfaction   1470 non-null   int64 \n",
      " 9   Gender                    1470 non-null   object\n",
      " 10  JobInvolvement            1470 non-null   int64 \n",
      " 11  JobLevel                  1470 non-null   int64 \n",
      " 12  JobRole                   1470 non-null   object\n",
      " 13  JobSatisfaction           1470 non-null   int64 \n",
      " 14  MaritalStatus             1470 non-null   object\n",
      " 15  MonthlyIncome             1470 non-null   int64 \n",
      " 16  NumCompaniesWorked        1470 non-null   int64 \n",
      " 17  Over18                    1470 non-null   object\n",
      " 18  OverTime                  1470 non-null   object\n",
      " 19  PercentSalaryHike         1470 non-null   int64 \n",
      " 20  PerformanceRating         1470 non-null   int64 \n",
      " 21  RelationshipSatisfaction  1470 non-null   int64 \n",
      " 22  StockOptionLevel          1470 non-null   int64 \n",
      " 23  TotalWorkingYears         1470 non-null   int64 \n",
      " 24  TrainingTimesLastYear     1470 non-null   int64 \n",
      " 25  WorkLifeBalance           1470 non-null   int64 \n",
      " 26  YearsAtCompany            1470 non-null   int64 \n",
      " 27  YearsInCurrentRole        1470 non-null   int64 \n",
      " 28  YearsSinceLastPromotion   1470 non-null   int64 \n",
      " 29  YearsWithCurrManager      1470 non-null   int64 \n",
      "dtypes: int64(21), object(9)\n",
      "memory usage: 344.7+ KB\n"
     ]
    }
   ],
   "source": [
    "df.info()"
   ]
  },
  {
   "cell_type": "code",
   "execution_count": 3,
   "id": "8769a3e8",
   "metadata": {},
   "outputs": [
    {
     "data": {
      "text/plain": [
       "(1470, 29)"
      ]
     },
     "execution_count": 3,
     "metadata": {},
     "output_type": "execute_result"
    }
   ],
   "source": [
    "df.drop(\"EmployeeNumber\", axis = 1, inplace = True)  ## same as index - 1, redundant\n",
    "df.shape"
   ]
  },
  {
   "cell_type": "code",
   "execution_count": 4,
   "id": "d292e1b5",
   "metadata": {},
   "outputs": [
    {
     "data": {
      "text/plain": [
       "Y    1470\n",
       "Name: Over18, dtype: int64"
      ]
     },
     "execution_count": 4,
     "metadata": {},
     "output_type": "execute_result"
    }
   ],
   "source": [
    "df[\"Over18\"].value_counts()  ## looks like everyone is over 18, remove redundant column"
   ]
  },
  {
   "cell_type": "code",
   "execution_count": 5,
   "id": "e8f00ef2",
   "metadata": {},
   "outputs": [
    {
     "name": "stdout",
     "output_type": "stream",
     "text": [
      "<class 'pandas.core.frame.DataFrame'>\n",
      "RangeIndex: 1470 entries, 0 to 1469\n",
      "Data columns (total 28 columns):\n",
      " #   Column                    Non-Null Count  Dtype \n",
      "---  ------                    --------------  ----- \n",
      " 0   Age                       1470 non-null   int64 \n",
      " 1   Attrition                 1470 non-null   object\n",
      " 2   BusinessTravel            1470 non-null   object\n",
      " 3   Department                1470 non-null   object\n",
      " 4   DistanceFromHome          1470 non-null   int64 \n",
      " 5   Education                 1470 non-null   int64 \n",
      " 6   EducationField            1470 non-null   object\n",
      " 7   EnvironmentSatisfaction   1470 non-null   int64 \n",
      " 8   Gender                    1470 non-null   object\n",
      " 9   JobInvolvement            1470 non-null   int64 \n",
      " 10  JobLevel                  1470 non-null   int64 \n",
      " 11  JobRole                   1470 non-null   object\n",
      " 12  JobSatisfaction           1470 non-null   int64 \n",
      " 13  MaritalStatus             1470 non-null   object\n",
      " 14  MonthlyIncome             1470 non-null   int64 \n",
      " 15  NumCompaniesWorked        1470 non-null   int64 \n",
      " 16  OverTime                  1470 non-null   object\n",
      " 17  PercentSalaryHike         1470 non-null   int64 \n",
      " 18  PerformanceRating         1470 non-null   int64 \n",
      " 19  RelationshipSatisfaction  1470 non-null   int64 \n",
      " 20  StockOptionLevel          1470 non-null   int64 \n",
      " 21  TotalWorkingYears         1470 non-null   int64 \n",
      " 22  TrainingTimesLastYear     1470 non-null   int64 \n",
      " 23  WorkLifeBalance           1470 non-null   int64 \n",
      " 24  YearsAtCompany            1470 non-null   int64 \n",
      " 25  YearsInCurrentRole        1470 non-null   int64 \n",
      " 26  YearsSinceLastPromotion   1470 non-null   int64 \n",
      " 27  YearsWithCurrManager      1470 non-null   int64 \n",
      "dtypes: int64(20), object(8)\n",
      "memory usage: 321.7+ KB\n"
     ]
    }
   ],
   "source": [
    "df.drop(\"Over18\", axis = 1, inplace = True)\n",
    "df.info()"
   ]
  },
  {
   "cell_type": "code",
   "execution_count": 6,
   "id": "7452a192",
   "metadata": {},
   "outputs": [
    {
     "data": {
      "text/html": [
       "<div>\n",
       "<style scoped>\n",
       "    .dataframe tbody tr th:only-of-type {\n",
       "        vertical-align: middle;\n",
       "    }\n",
       "\n",
       "    .dataframe tbody tr th {\n",
       "        vertical-align: top;\n",
       "    }\n",
       "\n",
       "    .dataframe thead th {\n",
       "        text-align: right;\n",
       "    }\n",
       "</style>\n",
       "<table border=\"1\" class=\"dataframe\">\n",
       "  <thead>\n",
       "    <tr style=\"text-align: right;\">\n",
       "      <th></th>\n",
       "      <th>Age</th>\n",
       "      <th>Attrition</th>\n",
       "      <th>BusinessTravel</th>\n",
       "      <th>Department</th>\n",
       "      <th>DistanceFromHome</th>\n",
       "      <th>Education</th>\n",
       "      <th>EducationField</th>\n",
       "      <th>EnvironmentSatisfaction</th>\n",
       "      <th>Gender</th>\n",
       "      <th>JobInvolvement</th>\n",
       "      <th>...</th>\n",
       "      <th>PerformanceRating</th>\n",
       "      <th>RelationshipSatisfaction</th>\n",
       "      <th>StockOptionLevel</th>\n",
       "      <th>TotalWorkingYears</th>\n",
       "      <th>TrainingTimesLastYear</th>\n",
       "      <th>WorkLifeBalance</th>\n",
       "      <th>YearsAtCompany</th>\n",
       "      <th>YearsInCurrentRole</th>\n",
       "      <th>YearsSinceLastPromotion</th>\n",
       "      <th>YearsWithCurrManager</th>\n",
       "    </tr>\n",
       "  </thead>\n",
       "  <tbody>\n",
       "    <tr>\n",
       "      <th>0</th>\n",
       "      <td>41</td>\n",
       "      <td>1</td>\n",
       "      <td>Travel_Rarely</td>\n",
       "      <td>Sales</td>\n",
       "      <td>1</td>\n",
       "      <td>2</td>\n",
       "      <td>Life Sciences</td>\n",
       "      <td>2</td>\n",
       "      <td>Female</td>\n",
       "      <td>3</td>\n",
       "      <td>...</td>\n",
       "      <td>3</td>\n",
       "      <td>1</td>\n",
       "      <td>0</td>\n",
       "      <td>8</td>\n",
       "      <td>0</td>\n",
       "      <td>1</td>\n",
       "      <td>6</td>\n",
       "      <td>4</td>\n",
       "      <td>0</td>\n",
       "      <td>5</td>\n",
       "    </tr>\n",
       "    <tr>\n",
       "      <th>1</th>\n",
       "      <td>49</td>\n",
       "      <td>0</td>\n",
       "      <td>Travel_Frequently</td>\n",
       "      <td>Research &amp; Development</td>\n",
       "      <td>8</td>\n",
       "      <td>1</td>\n",
       "      <td>Life Sciences</td>\n",
       "      <td>3</td>\n",
       "      <td>Male</td>\n",
       "      <td>2</td>\n",
       "      <td>...</td>\n",
       "      <td>4</td>\n",
       "      <td>4</td>\n",
       "      <td>1</td>\n",
       "      <td>10</td>\n",
       "      <td>3</td>\n",
       "      <td>3</td>\n",
       "      <td>10</td>\n",
       "      <td>7</td>\n",
       "      <td>1</td>\n",
       "      <td>7</td>\n",
       "    </tr>\n",
       "    <tr>\n",
       "      <th>2</th>\n",
       "      <td>37</td>\n",
       "      <td>1</td>\n",
       "      <td>Travel_Rarely</td>\n",
       "      <td>Research &amp; Development</td>\n",
       "      <td>2</td>\n",
       "      <td>2</td>\n",
       "      <td>Other</td>\n",
       "      <td>4</td>\n",
       "      <td>Male</td>\n",
       "      <td>2</td>\n",
       "      <td>...</td>\n",
       "      <td>3</td>\n",
       "      <td>2</td>\n",
       "      <td>0</td>\n",
       "      <td>7</td>\n",
       "      <td>3</td>\n",
       "      <td>3</td>\n",
       "      <td>0</td>\n",
       "      <td>0</td>\n",
       "      <td>0</td>\n",
       "      <td>0</td>\n",
       "    </tr>\n",
       "    <tr>\n",
       "      <th>3</th>\n",
       "      <td>33</td>\n",
       "      <td>0</td>\n",
       "      <td>Travel_Frequently</td>\n",
       "      <td>Research &amp; Development</td>\n",
       "      <td>3</td>\n",
       "      <td>4</td>\n",
       "      <td>Life Sciences</td>\n",
       "      <td>4</td>\n",
       "      <td>Female</td>\n",
       "      <td>3</td>\n",
       "      <td>...</td>\n",
       "      <td>3</td>\n",
       "      <td>3</td>\n",
       "      <td>0</td>\n",
       "      <td>8</td>\n",
       "      <td>3</td>\n",
       "      <td>3</td>\n",
       "      <td>8</td>\n",
       "      <td>7</td>\n",
       "      <td>3</td>\n",
       "      <td>0</td>\n",
       "    </tr>\n",
       "    <tr>\n",
       "      <th>4</th>\n",
       "      <td>27</td>\n",
       "      <td>0</td>\n",
       "      <td>Travel_Rarely</td>\n",
       "      <td>Research &amp; Development</td>\n",
       "      <td>2</td>\n",
       "      <td>1</td>\n",
       "      <td>Medical</td>\n",
       "      <td>1</td>\n",
       "      <td>Male</td>\n",
       "      <td>3</td>\n",
       "      <td>...</td>\n",
       "      <td>3</td>\n",
       "      <td>4</td>\n",
       "      <td>1</td>\n",
       "      <td>6</td>\n",
       "      <td>3</td>\n",
       "      <td>3</td>\n",
       "      <td>2</td>\n",
       "      <td>2</td>\n",
       "      <td>2</td>\n",
       "      <td>2</td>\n",
       "    </tr>\n",
       "  </tbody>\n",
       "</table>\n",
       "<p>5 rows × 28 columns</p>\n",
       "</div>"
      ],
      "text/plain": [
       "   Age  Attrition     BusinessTravel              Department  \\\n",
       "0   41          1      Travel_Rarely                   Sales   \n",
       "1   49          0  Travel_Frequently  Research & Development   \n",
       "2   37          1      Travel_Rarely  Research & Development   \n",
       "3   33          0  Travel_Frequently  Research & Development   \n",
       "4   27          0      Travel_Rarely  Research & Development   \n",
       "\n",
       "   DistanceFromHome  Education EducationField  EnvironmentSatisfaction  \\\n",
       "0                 1          2  Life Sciences                        2   \n",
       "1                 8          1  Life Sciences                        3   \n",
       "2                 2          2          Other                        4   \n",
       "3                 3          4  Life Sciences                        4   \n",
       "4                 2          1        Medical                        1   \n",
       "\n",
       "   Gender  JobInvolvement  ...  PerformanceRating RelationshipSatisfaction  \\\n",
       "0  Female               3  ...                  3                        1   \n",
       "1    Male               2  ...                  4                        4   \n",
       "2    Male               2  ...                  3                        2   \n",
       "3  Female               3  ...                  3                        3   \n",
       "4    Male               3  ...                  3                        4   \n",
       "\n",
       "   StockOptionLevel TotalWorkingYears  TrainingTimesLastYear  WorkLifeBalance  \\\n",
       "0                 0                 8                      0                1   \n",
       "1                 1                10                      3                3   \n",
       "2                 0                 7                      3                3   \n",
       "3                 0                 8                      3                3   \n",
       "4                 1                 6                      3                3   \n",
       "\n",
       "  YearsAtCompany  YearsInCurrentRole  YearsSinceLastPromotion  \\\n",
       "0              6                   4                        0   \n",
       "1             10                   7                        1   \n",
       "2              0                   0                        0   \n",
       "3              8                   7                        3   \n",
       "4              2                   2                        2   \n",
       "\n",
       "   YearsWithCurrManager  \n",
       "0                     5  \n",
       "1                     7  \n",
       "2                     0  \n",
       "3                     0  \n",
       "4                     2  \n",
       "\n",
       "[5 rows x 28 columns]"
      ]
     },
     "execution_count": 6,
     "metadata": {},
     "output_type": "execute_result"
    }
   ],
   "source": [
    "## convert attrition column to integer 0 or 1\n",
    "\n",
    "df[\"Attrition\"] = np.where(df[\"Attrition\"] == \"Yes\", 1, 0)\n",
    "df.head()"
   ]
  },
  {
   "cell_type": "code",
   "execution_count": 7,
   "id": "d19d69c8",
   "metadata": {},
   "outputs": [
    {
     "data": {
      "text/plain": [
       "Travel_Rarely        1043\n",
       "Travel_Frequently     277\n",
       "Non-Travel            150\n",
       "Name: BusinessTravel, dtype: int64"
      ]
     },
     "execution_count": 7,
     "metadata": {},
     "output_type": "execute_result"
    }
   ],
   "source": [
    "df[\"BusinessTravel\"].value_counts()"
   ]
  },
  {
   "cell_type": "code",
   "execution_count": 8,
   "id": "08cc0870",
   "metadata": {},
   "outputs": [
    {
     "data": {
      "text/html": [
       "<div>\n",
       "<style scoped>\n",
       "    .dataframe tbody tr th:only-of-type {\n",
       "        vertical-align: middle;\n",
       "    }\n",
       "\n",
       "    .dataframe tbody tr th {\n",
       "        vertical-align: top;\n",
       "    }\n",
       "\n",
       "    .dataframe thead th {\n",
       "        text-align: right;\n",
       "    }\n",
       "</style>\n",
       "<table border=\"1\" class=\"dataframe\">\n",
       "  <thead>\n",
       "    <tr style=\"text-align: right;\">\n",
       "      <th></th>\n",
       "      <th>Age</th>\n",
       "      <th>Attrition</th>\n",
       "      <th>BusinessTravel</th>\n",
       "      <th>Department</th>\n",
       "      <th>DistanceFromHome</th>\n",
       "      <th>Education</th>\n",
       "      <th>EducationField</th>\n",
       "      <th>EnvironmentSatisfaction</th>\n",
       "      <th>Gender</th>\n",
       "      <th>JobInvolvement</th>\n",
       "      <th>...</th>\n",
       "      <th>PerformanceRating</th>\n",
       "      <th>RelationshipSatisfaction</th>\n",
       "      <th>StockOptionLevel</th>\n",
       "      <th>TotalWorkingYears</th>\n",
       "      <th>TrainingTimesLastYear</th>\n",
       "      <th>WorkLifeBalance</th>\n",
       "      <th>YearsAtCompany</th>\n",
       "      <th>YearsInCurrentRole</th>\n",
       "      <th>YearsSinceLastPromotion</th>\n",
       "      <th>YearsWithCurrManager</th>\n",
       "    </tr>\n",
       "  </thead>\n",
       "  <tbody>\n",
       "    <tr>\n",
       "      <th>0</th>\n",
       "      <td>41</td>\n",
       "      <td>1</td>\n",
       "      <td>1</td>\n",
       "      <td>Sales</td>\n",
       "      <td>1</td>\n",
       "      <td>2</td>\n",
       "      <td>Life Sciences</td>\n",
       "      <td>2</td>\n",
       "      <td>Female</td>\n",
       "      <td>3</td>\n",
       "      <td>...</td>\n",
       "      <td>3</td>\n",
       "      <td>1</td>\n",
       "      <td>0</td>\n",
       "      <td>8</td>\n",
       "      <td>0</td>\n",
       "      <td>1</td>\n",
       "      <td>6</td>\n",
       "      <td>4</td>\n",
       "      <td>0</td>\n",
       "      <td>5</td>\n",
       "    </tr>\n",
       "    <tr>\n",
       "      <th>1</th>\n",
       "      <td>49</td>\n",
       "      <td>0</td>\n",
       "      <td>2</td>\n",
       "      <td>Research &amp; Development</td>\n",
       "      <td>8</td>\n",
       "      <td>1</td>\n",
       "      <td>Life Sciences</td>\n",
       "      <td>3</td>\n",
       "      <td>Male</td>\n",
       "      <td>2</td>\n",
       "      <td>...</td>\n",
       "      <td>4</td>\n",
       "      <td>4</td>\n",
       "      <td>1</td>\n",
       "      <td>10</td>\n",
       "      <td>3</td>\n",
       "      <td>3</td>\n",
       "      <td>10</td>\n",
       "      <td>7</td>\n",
       "      <td>1</td>\n",
       "      <td>7</td>\n",
       "    </tr>\n",
       "    <tr>\n",
       "      <th>2</th>\n",
       "      <td>37</td>\n",
       "      <td>1</td>\n",
       "      <td>1</td>\n",
       "      <td>Research &amp; Development</td>\n",
       "      <td>2</td>\n",
       "      <td>2</td>\n",
       "      <td>Other</td>\n",
       "      <td>4</td>\n",
       "      <td>Male</td>\n",
       "      <td>2</td>\n",
       "      <td>...</td>\n",
       "      <td>3</td>\n",
       "      <td>2</td>\n",
       "      <td>0</td>\n",
       "      <td>7</td>\n",
       "      <td>3</td>\n",
       "      <td>3</td>\n",
       "      <td>0</td>\n",
       "      <td>0</td>\n",
       "      <td>0</td>\n",
       "      <td>0</td>\n",
       "    </tr>\n",
       "    <tr>\n",
       "      <th>3</th>\n",
       "      <td>33</td>\n",
       "      <td>0</td>\n",
       "      <td>2</td>\n",
       "      <td>Research &amp; Development</td>\n",
       "      <td>3</td>\n",
       "      <td>4</td>\n",
       "      <td>Life Sciences</td>\n",
       "      <td>4</td>\n",
       "      <td>Female</td>\n",
       "      <td>3</td>\n",
       "      <td>...</td>\n",
       "      <td>3</td>\n",
       "      <td>3</td>\n",
       "      <td>0</td>\n",
       "      <td>8</td>\n",
       "      <td>3</td>\n",
       "      <td>3</td>\n",
       "      <td>8</td>\n",
       "      <td>7</td>\n",
       "      <td>3</td>\n",
       "      <td>0</td>\n",
       "    </tr>\n",
       "    <tr>\n",
       "      <th>4</th>\n",
       "      <td>27</td>\n",
       "      <td>0</td>\n",
       "      <td>1</td>\n",
       "      <td>Research &amp; Development</td>\n",
       "      <td>2</td>\n",
       "      <td>1</td>\n",
       "      <td>Medical</td>\n",
       "      <td>1</td>\n",
       "      <td>Male</td>\n",
       "      <td>3</td>\n",
       "      <td>...</td>\n",
       "      <td>3</td>\n",
       "      <td>4</td>\n",
       "      <td>1</td>\n",
       "      <td>6</td>\n",
       "      <td>3</td>\n",
       "      <td>3</td>\n",
       "      <td>2</td>\n",
       "      <td>2</td>\n",
       "      <td>2</td>\n",
       "      <td>2</td>\n",
       "    </tr>\n",
       "  </tbody>\n",
       "</table>\n",
       "<p>5 rows × 28 columns</p>\n",
       "</div>"
      ],
      "text/plain": [
       "   Age  Attrition BusinessTravel              Department  DistanceFromHome  \\\n",
       "0   41          1              1                   Sales                 1   \n",
       "1   49          0              2  Research & Development                 8   \n",
       "2   37          1              1  Research & Development                 2   \n",
       "3   33          0              2  Research & Development                 3   \n",
       "4   27          0              1  Research & Development                 2   \n",
       "\n",
       "   Education EducationField  EnvironmentSatisfaction  Gender  JobInvolvement  \\\n",
       "0          2  Life Sciences                        2  Female               3   \n",
       "1          1  Life Sciences                        3    Male               2   \n",
       "2          2          Other                        4    Male               2   \n",
       "3          4  Life Sciences                        4  Female               3   \n",
       "4          1        Medical                        1    Male               3   \n",
       "\n",
       "   ...  PerformanceRating RelationshipSatisfaction  StockOptionLevel  \\\n",
       "0  ...                  3                        1                 0   \n",
       "1  ...                  4                        4                 1   \n",
       "2  ...                  3                        2                 0   \n",
       "3  ...                  3                        3                 0   \n",
       "4  ...                  3                        4                 1   \n",
       "\n",
       "  TotalWorkingYears  TrainingTimesLastYear  WorkLifeBalance YearsAtCompany  \\\n",
       "0                 8                      0                1              6   \n",
       "1                10                      3                3             10   \n",
       "2                 7                      3                3              0   \n",
       "3                 8                      3                3              8   \n",
       "4                 6                      3                3              2   \n",
       "\n",
       "   YearsInCurrentRole  YearsSinceLastPromotion  YearsWithCurrManager  \n",
       "0                   4                        0                     5  \n",
       "1                   7                        1                     7  \n",
       "2                   0                        0                     0  \n",
       "3                   7                        3                     0  \n",
       "4                   2                        2                     2  \n",
       "\n",
       "[5 rows x 28 columns]"
      ]
     },
     "execution_count": 8,
     "metadata": {},
     "output_type": "execute_result"
    }
   ],
   "source": [
    "## assign numerical value to business travel, no travel = 0, travel rarely = 1, tarvel frequently = 2\n",
    "\n",
    "df.loc[df[\"BusinessTravel\"] == \"Non-Travel\", \"BusinessTravel\"] = 0\n",
    "df.loc[df[\"BusinessTravel\"] == \"Travel_Rarely\", \"BusinessTravel\"] = 1\n",
    "df.loc[df[\"BusinessTravel\"] == \"Travel_Frequently\", \"BusinessTravel\"] = 2\n",
    "df.head()"
   ]
  },
  {
   "cell_type": "code",
   "execution_count": 9,
   "id": "a577aa07",
   "metadata": {},
   "outputs": [],
   "source": [
    "## 30 columns and 1470 employees' data"
   ]
  },
  {
   "cell_type": "code",
   "execution_count": 10,
   "id": "61d35d62",
   "metadata": {},
   "outputs": [
    {
     "data": {
      "text/plain": [
       "Age                         0\n",
       "Attrition                   0\n",
       "BusinessTravel              0\n",
       "Department                  0\n",
       "DistanceFromHome            0\n",
       "Education                   0\n",
       "EducationField              0\n",
       "EnvironmentSatisfaction     0\n",
       "Gender                      0\n",
       "JobInvolvement              0\n",
       "JobLevel                    0\n",
       "JobRole                     0\n",
       "JobSatisfaction             0\n",
       "MaritalStatus               0\n",
       "MonthlyIncome               0\n",
       "NumCompaniesWorked          0\n",
       "OverTime                    0\n",
       "PercentSalaryHike           0\n",
       "PerformanceRating           0\n",
       "RelationshipSatisfaction    0\n",
       "StockOptionLevel            0\n",
       "TotalWorkingYears           0\n",
       "TrainingTimesLastYear       0\n",
       "WorkLifeBalance             0\n",
       "YearsAtCompany              0\n",
       "YearsInCurrentRole          0\n",
       "YearsSinceLastPromotion     0\n",
       "YearsWithCurrManager        0\n",
       "dtype: int64"
      ]
     },
     "execution_count": 10,
     "metadata": {},
     "output_type": "execute_result"
    }
   ],
   "source": [
    "df.isnull().sum()"
   ]
  },
  {
   "cell_type": "code",
   "execution_count": 11,
   "id": "e2711a45",
   "metadata": {},
   "outputs": [
    {
     "data": {
      "text/html": [
       "<div>\n",
       "<style scoped>\n",
       "    .dataframe tbody tr th:only-of-type {\n",
       "        vertical-align: middle;\n",
       "    }\n",
       "\n",
       "    .dataframe tbody tr th {\n",
       "        vertical-align: top;\n",
       "    }\n",
       "\n",
       "    .dataframe thead th {\n",
       "        text-align: right;\n",
       "    }\n",
       "</style>\n",
       "<table border=\"1\" class=\"dataframe\">\n",
       "  <thead>\n",
       "    <tr style=\"text-align: right;\">\n",
       "      <th></th>\n",
       "      <th>Age</th>\n",
       "      <th>Attrition</th>\n",
       "      <th>BusinessTravel</th>\n",
       "      <th>Department</th>\n",
       "      <th>DistanceFromHome</th>\n",
       "      <th>Education</th>\n",
       "      <th>EducationField</th>\n",
       "      <th>EnvironmentSatisfaction</th>\n",
       "      <th>Gender</th>\n",
       "      <th>JobInvolvement</th>\n",
       "      <th>...</th>\n",
       "      <th>PerformanceRating</th>\n",
       "      <th>RelationshipSatisfaction</th>\n",
       "      <th>StockOptionLevel</th>\n",
       "      <th>TotalWorkingYears</th>\n",
       "      <th>TrainingTimesLastYear</th>\n",
       "      <th>WorkLifeBalance</th>\n",
       "      <th>YearsAtCompany</th>\n",
       "      <th>YearsInCurrentRole</th>\n",
       "      <th>YearsSinceLastPromotion</th>\n",
       "      <th>YearsWithCurrManager</th>\n",
       "    </tr>\n",
       "  </thead>\n",
       "  <tbody>\n",
       "  </tbody>\n",
       "</table>\n",
       "<p>0 rows × 28 columns</p>\n",
       "</div>"
      ],
      "text/plain": [
       "Empty DataFrame\n",
       "Columns: [Age, Attrition, BusinessTravel, Department, DistanceFromHome, Education, EducationField, EnvironmentSatisfaction, Gender, JobInvolvement, JobLevel, JobRole, JobSatisfaction, MaritalStatus, MonthlyIncome, NumCompaniesWorked, OverTime, PercentSalaryHike, PerformanceRating, RelationshipSatisfaction, StockOptionLevel, TotalWorkingYears, TrainingTimesLastYear, WorkLifeBalance, YearsAtCompany, YearsInCurrentRole, YearsSinceLastPromotion, YearsWithCurrManager]\n",
       "Index: []\n",
       "\n",
       "[0 rows x 28 columns]"
      ]
     },
     "execution_count": 11,
     "metadata": {},
     "output_type": "execute_result"
    }
   ],
   "source": [
    "df.loc[df.duplicated()]  ## no duplicates"
   ]
  },
  {
   "cell_type": "code",
   "execution_count": 12,
   "id": "02946819",
   "metadata": {},
   "outputs": [],
   "source": [
    "## function to calculate z_scores. Accepts 2 arguments, the dataframe and the column x for z-score\n",
    "## returns the out_liers index\n",
    "\n",
    "def Cal_zscore(df_temp, x):\n",
    "    y = \"zscore_\" + x\n",
    "    df_temp[y] = np.abs(stats.zscore(df_temp[x]))"
   ]
  },
  {
   "cell_type": "code",
   "execution_count": 13,
   "id": "2a49ced7",
   "metadata": {},
   "outputs": [],
   "source": [
    "dfz = df.copy()  ## copy dataframe to calculate outliers by zscore"
   ]
  },
  {
   "cell_type": "code",
   "execution_count": 14,
   "id": "627441a2",
   "metadata": {},
   "outputs": [
    {
     "name": "stdout",
     "output_type": "stream",
     "text": [
      "<class 'pandas.core.frame.DataFrame'>\n",
      "RangeIndex: 1470 entries, 0 to 1469\n",
      "Data columns (total 28 columns):\n",
      " #   Column                    Non-Null Count  Dtype \n",
      "---  ------                    --------------  ----- \n",
      " 0   Age                       1470 non-null   int64 \n",
      " 1   Attrition                 1470 non-null   int32 \n",
      " 2   BusinessTravel            1470 non-null   object\n",
      " 3   Department                1470 non-null   object\n",
      " 4   DistanceFromHome          1470 non-null   int64 \n",
      " 5   Education                 1470 non-null   int64 \n",
      " 6   EducationField            1470 non-null   object\n",
      " 7   EnvironmentSatisfaction   1470 non-null   int64 \n",
      " 8   Gender                    1470 non-null   object\n",
      " 9   JobInvolvement            1470 non-null   int64 \n",
      " 10  JobLevel                  1470 non-null   int64 \n",
      " 11  JobRole                   1470 non-null   object\n",
      " 12  JobSatisfaction           1470 non-null   int64 \n",
      " 13  MaritalStatus             1470 non-null   object\n",
      " 14  MonthlyIncome             1470 non-null   int64 \n",
      " 15  NumCompaniesWorked        1470 non-null   int64 \n",
      " 16  OverTime                  1470 non-null   object\n",
      " 17  PercentSalaryHike         1470 non-null   int64 \n",
      " 18  PerformanceRating         1470 non-null   int64 \n",
      " 19  RelationshipSatisfaction  1470 non-null   int64 \n",
      " 20  StockOptionLevel          1470 non-null   int64 \n",
      " 21  TotalWorkingYears         1470 non-null   int64 \n",
      " 22  TrainingTimesLastYear     1470 non-null   int64 \n",
      " 23  WorkLifeBalance           1470 non-null   int64 \n",
      " 24  YearsAtCompany            1470 non-null   int64 \n",
      " 25  YearsInCurrentRole        1470 non-null   int64 \n",
      " 26  YearsSinceLastPromotion   1470 non-null   int64 \n",
      " 27  YearsWithCurrManager      1470 non-null   int64 \n",
      "dtypes: int32(1), int64(20), object(7)\n",
      "memory usage: 315.9+ KB\n"
     ]
    }
   ],
   "source": [
    "dfz.info()"
   ]
  },
  {
   "cell_type": "code",
   "execution_count": 15,
   "id": "b02af118",
   "metadata": {},
   "outputs": [],
   "source": [
    "## get each column, check if column has only numbers\n",
    "## call Cal_zscore function to create columns zscore\n",
    "\n",
    "for i in dfz:\n",
    "    if np.issubdtype(dfz[i].dtype, np.number):\n",
    "        Cal_zscore(dfz, i)"
   ]
  },
  {
   "cell_type": "code",
   "execution_count": 16,
   "id": "bbf7510b",
   "metadata": {},
   "outputs": [
    {
     "name": "stdout",
     "output_type": "stream",
     "text": [
      "<class 'pandas.core.frame.DataFrame'>\n",
      "RangeIndex: 1470 entries, 0 to 1469\n",
      "Data columns (total 49 columns):\n",
      " #   Column                           Non-Null Count  Dtype  \n",
      "---  ------                           --------------  -----  \n",
      " 0   Age                              1470 non-null   int64  \n",
      " 1   Attrition                        1470 non-null   int32  \n",
      " 2   BusinessTravel                   1470 non-null   object \n",
      " 3   Department                       1470 non-null   object \n",
      " 4   DistanceFromHome                 1470 non-null   int64  \n",
      " 5   Education                        1470 non-null   int64  \n",
      " 6   EducationField                   1470 non-null   object \n",
      " 7   EnvironmentSatisfaction          1470 non-null   int64  \n",
      " 8   Gender                           1470 non-null   object \n",
      " 9   JobInvolvement                   1470 non-null   int64  \n",
      " 10  JobLevel                         1470 non-null   int64  \n",
      " 11  JobRole                          1470 non-null   object \n",
      " 12  JobSatisfaction                  1470 non-null   int64  \n",
      " 13  MaritalStatus                    1470 non-null   object \n",
      " 14  MonthlyIncome                    1470 non-null   int64  \n",
      " 15  NumCompaniesWorked               1470 non-null   int64  \n",
      " 16  OverTime                         1470 non-null   object \n",
      " 17  PercentSalaryHike                1470 non-null   int64  \n",
      " 18  PerformanceRating                1470 non-null   int64  \n",
      " 19  RelationshipSatisfaction         1470 non-null   int64  \n",
      " 20  StockOptionLevel                 1470 non-null   int64  \n",
      " 21  TotalWorkingYears                1470 non-null   int64  \n",
      " 22  TrainingTimesLastYear            1470 non-null   int64  \n",
      " 23  WorkLifeBalance                  1470 non-null   int64  \n",
      " 24  YearsAtCompany                   1470 non-null   int64  \n",
      " 25  YearsInCurrentRole               1470 non-null   int64  \n",
      " 26  YearsSinceLastPromotion          1470 non-null   int64  \n",
      " 27  YearsWithCurrManager             1470 non-null   int64  \n",
      " 28  zscore_Age                       1470 non-null   float64\n",
      " 29  zscore_Attrition                 1470 non-null   float64\n",
      " 30  zscore_DistanceFromHome          1470 non-null   float64\n",
      " 31  zscore_Education                 1470 non-null   float64\n",
      " 32  zscore_EnvironmentSatisfaction   1470 non-null   float64\n",
      " 33  zscore_JobInvolvement            1470 non-null   float64\n",
      " 34  zscore_JobLevel                  1470 non-null   float64\n",
      " 35  zscore_JobSatisfaction           1470 non-null   float64\n",
      " 36  zscore_MonthlyIncome             1470 non-null   float64\n",
      " 37  zscore_NumCompaniesWorked        1470 non-null   float64\n",
      " 38  zscore_PercentSalaryHike         1470 non-null   float64\n",
      " 39  zscore_PerformanceRating         1470 non-null   float64\n",
      " 40  zscore_RelationshipSatisfaction  1470 non-null   float64\n",
      " 41  zscore_StockOptionLevel          1470 non-null   float64\n",
      " 42  zscore_TotalWorkingYears         1470 non-null   float64\n",
      " 43  zscore_TrainingTimesLastYear     1470 non-null   float64\n",
      " 44  zscore_WorkLifeBalance           1470 non-null   float64\n",
      " 45  zscore_YearsAtCompany            1470 non-null   float64\n",
      " 46  zscore_YearsInCurrentRole        1470 non-null   float64\n",
      " 47  zscore_YearsSinceLastPromotion   1470 non-null   float64\n",
      " 48  zscore_YearsWithCurrManager      1470 non-null   float64\n",
      "dtypes: float64(21), int32(1), int64(20), object(7)\n",
      "memory usage: 557.1+ KB\n"
     ]
    }
   ],
   "source": [
    "dfz.info() ## 1470 employees with all outliers still present"
   ]
  },
  {
   "cell_type": "code",
   "execution_count": 17,
   "id": "5e00dee6",
   "metadata": {},
   "outputs": [
    {
     "name": "stdout",
     "output_type": "stream",
     "text": [
      "Int64Index([], dtype='int64')\n",
      "Int64Index([], dtype='int64')\n",
      "Int64Index([], dtype='int64')\n",
      "Int64Index([], dtype='int64')\n",
      "Int64Index([], dtype='int64')\n",
      "Int64Index([], dtype='int64')\n",
      "Int64Index([], dtype='int64')\n",
      "Int64Index([], dtype='int64')\n",
      "Int64Index([], dtype='int64')\n",
      "Int64Index([], dtype='int64')\n",
      "Int64Index([], dtype='int64')\n",
      "Int64Index([], dtype='int64')\n",
      "Int64Index([], dtype='int64')\n",
      "Int64Index([], dtype='int64')\n",
      "Int64Index([  85,   98,  126,  187,  270,  401,  445,  595,  624,  894,  956,\n",
      "            1043, 1116, 1184, 1301, 1401],\n",
      "           dtype='int64')\n",
      "Int64Index([], dtype='int64')\n",
      "Int64Index([], dtype='int64')\n",
      "Int64Index([  62,  190,  237,  411,  425,  473,  477,  561,  592,  653,  677,\n",
      "             749,  861,  914,  918,  962, 1086, 1111, 1135, 1138],\n",
      "           dtype='int64')\n",
      "Int64Index([63, 123, 231, 281, 466, 716, 746, 976, 1024, 1327, 1351, 1430], dtype='int64')\n",
      "Int64Index([  45,   64,  110,  178,  218,  326,  386,  427,  535,  584,  701,\n",
      "             752,  799,  838,  875,  922,  926,  937, 1008, 1078, 1093, 1156,\n",
      "            1221, 1223, 1242, 1295, 1303, 1331, 1414],\n",
      "           dtype='int64')\n",
      "Int64Index([28, 153, 616, 635, 686, 1348], dtype='int64')\n"
     ]
    }
   ],
   "source": [
    "## Loop thru the zscore columns and remove all the outliers\n",
    "\n",
    "i = 28  ## first z_score column zscore_Age\n",
    "\n",
    "## while not at end of last column. Get all rows index where zscore is greater than 3 and remove that row\n",
    "\n",
    "while i <= 48:\n",
    "    z_outliers = dfz.loc[dfz.iloc[:,i] > 3].index\n",
    "    i += 1\n",
    "    print(z_outliers)\n",
    "    dfz.drop(z_outliers, inplace = True)"
   ]
  },
  {
   "cell_type": "code",
   "execution_count": 18,
   "id": "b41fe00f",
   "metadata": {},
   "outputs": [
    {
     "data": {
      "text/plain": [
       "(1387, 49)"
      ]
     },
     "execution_count": 18,
     "metadata": {},
     "output_type": "execute_result"
    }
   ],
   "source": [
    "dfz.shape  ## now 1387 employees where 83 employees were outliers"
   ]
  },
  {
   "cell_type": "code",
   "execution_count": 19,
   "id": "081c989c",
   "metadata": {},
   "outputs": [],
   "source": [
    "dfz.reset_index(drop=True, inplace = True)"
   ]
  },
  {
   "cell_type": "code",
   "execution_count": 20,
   "id": "59f3847b",
   "metadata": {},
   "outputs": [
    {
     "name": "stdout",
     "output_type": "stream",
     "text": [
      "<class 'pandas.core.frame.DataFrame'>\n",
      "RangeIndex: 1387 entries, 0 to 1386\n",
      "Data columns (total 49 columns):\n",
      " #   Column                           Non-Null Count  Dtype  \n",
      "---  ------                           --------------  -----  \n",
      " 0   Age                              1387 non-null   int64  \n",
      " 1   Attrition                        1387 non-null   int32  \n",
      " 2   BusinessTravel                   1387 non-null   object \n",
      " 3   Department                       1387 non-null   object \n",
      " 4   DistanceFromHome                 1387 non-null   int64  \n",
      " 5   Education                        1387 non-null   int64  \n",
      " 6   EducationField                   1387 non-null   object \n",
      " 7   EnvironmentSatisfaction          1387 non-null   int64  \n",
      " 8   Gender                           1387 non-null   object \n",
      " 9   JobInvolvement                   1387 non-null   int64  \n",
      " 10  JobLevel                         1387 non-null   int64  \n",
      " 11  JobRole                          1387 non-null   object \n",
      " 12  JobSatisfaction                  1387 non-null   int64  \n",
      " 13  MaritalStatus                    1387 non-null   object \n",
      " 14  MonthlyIncome                    1387 non-null   int64  \n",
      " 15  NumCompaniesWorked               1387 non-null   int64  \n",
      " 16  OverTime                         1387 non-null   object \n",
      " 17  PercentSalaryHike                1387 non-null   int64  \n",
      " 18  PerformanceRating                1387 non-null   int64  \n",
      " 19  RelationshipSatisfaction         1387 non-null   int64  \n",
      " 20  StockOptionLevel                 1387 non-null   int64  \n",
      " 21  TotalWorkingYears                1387 non-null   int64  \n",
      " 22  TrainingTimesLastYear            1387 non-null   int64  \n",
      " 23  WorkLifeBalance                  1387 non-null   int64  \n",
      " 24  YearsAtCompany                   1387 non-null   int64  \n",
      " 25  YearsInCurrentRole               1387 non-null   int64  \n",
      " 26  YearsSinceLastPromotion          1387 non-null   int64  \n",
      " 27  YearsWithCurrManager             1387 non-null   int64  \n",
      " 28  zscore_Age                       1387 non-null   float64\n",
      " 29  zscore_Attrition                 1387 non-null   float64\n",
      " 30  zscore_DistanceFromHome          1387 non-null   float64\n",
      " 31  zscore_Education                 1387 non-null   float64\n",
      " 32  zscore_EnvironmentSatisfaction   1387 non-null   float64\n",
      " 33  zscore_JobInvolvement            1387 non-null   float64\n",
      " 34  zscore_JobLevel                  1387 non-null   float64\n",
      " 35  zscore_JobSatisfaction           1387 non-null   float64\n",
      " 36  zscore_MonthlyIncome             1387 non-null   float64\n",
      " 37  zscore_NumCompaniesWorked        1387 non-null   float64\n",
      " 38  zscore_PercentSalaryHike         1387 non-null   float64\n",
      " 39  zscore_PerformanceRating         1387 non-null   float64\n",
      " 40  zscore_RelationshipSatisfaction  1387 non-null   float64\n",
      " 41  zscore_StockOptionLevel          1387 non-null   float64\n",
      " 42  zscore_TotalWorkingYears         1387 non-null   float64\n",
      " 43  zscore_TrainingTimesLastYear     1387 non-null   float64\n",
      " 44  zscore_WorkLifeBalance           1387 non-null   float64\n",
      " 45  zscore_YearsAtCompany            1387 non-null   float64\n",
      " 46  zscore_YearsInCurrentRole        1387 non-null   float64\n",
      " 47  zscore_YearsSinceLastPromotion   1387 non-null   float64\n",
      " 48  zscore_YearsWithCurrManager      1387 non-null   float64\n",
      "dtypes: float64(21), int32(1), int64(20), object(7)\n",
      "memory usage: 525.7+ KB\n"
     ]
    }
   ],
   "source": [
    "dfz.info()"
   ]
  },
  {
   "cell_type": "code",
   "execution_count": 21,
   "id": "4c5ad63c",
   "metadata": {},
   "outputs": [
    {
     "data": {
      "text/html": [
       "<div>\n",
       "<style scoped>\n",
       "    .dataframe tbody tr th:only-of-type {\n",
       "        vertical-align: middle;\n",
       "    }\n",
       "\n",
       "    .dataframe tbody tr th {\n",
       "        vertical-align: top;\n",
       "    }\n",
       "\n",
       "    .dataframe thead th {\n",
       "        text-align: right;\n",
       "    }\n",
       "</style>\n",
       "<table border=\"1\" class=\"dataframe\">\n",
       "  <thead>\n",
       "    <tr style=\"text-align: right;\">\n",
       "      <th>Gender</th>\n",
       "      <th>Female</th>\n",
       "      <th>Male</th>\n",
       "    </tr>\n",
       "    <tr>\n",
       "      <th>Attrition</th>\n",
       "      <th></th>\n",
       "      <th></th>\n",
       "    </tr>\n",
       "  </thead>\n",
       "  <tbody>\n",
       "    <tr>\n",
       "      <th>0</th>\n",
       "      <td>455</td>\n",
       "      <td>703</td>\n",
       "    </tr>\n",
       "    <tr>\n",
       "      <th>1</th>\n",
       "      <td>104</td>\n",
       "      <td>125</td>\n",
       "    </tr>\n",
       "  </tbody>\n",
       "</table>\n",
       "</div>"
      ],
      "text/plain": [
       "Gender     Female  Male\n",
       "Attrition              \n",
       "0             455   703\n",
       "1             104   125"
      ]
     },
     "execution_count": 21,
     "metadata": {},
     "output_type": "execute_result"
    }
   ],
   "source": [
    "pd.crosstab(dfz[\"Attrition\"], df[\"Gender\"])"
   ]
  },
  {
   "cell_type": "code",
   "execution_count": 22,
   "id": "4f6ade6a",
   "metadata": {},
   "outputs": [
    {
     "data": {
      "text/plain": [
       "Gender\n",
       "Female    6086.277281\n",
       "Male      5985.158213\n",
       "Name: MonthlyIncome, dtype: float64"
      ]
     },
     "execution_count": 22,
     "metadata": {},
     "output_type": "execute_result"
    }
   ],
   "source": [
    "dfz[\"MonthlyIncome\"].groupby(df[\"Gender\"]).mean()"
   ]
  },
  {
   "cell_type": "code",
   "execution_count": 23,
   "id": "435956b5",
   "metadata": {},
   "outputs": [],
   "source": [
    "## Females earn on average more than males at IBM. Females worked longer at IBM than males"
   ]
  },
  {
   "cell_type": "code",
   "execution_count": 24,
   "id": "e73f5aea",
   "metadata": {},
   "outputs": [
    {
     "data": {
      "text/plain": [
       "Gender\n",
       "Female    2.661896\n",
       "Male      2.768116\n",
       "Name: EnvironmentSatisfaction, dtype: float64"
      ]
     },
     "execution_count": 24,
     "metadata": {},
     "output_type": "execute_result"
    }
   ],
   "source": [
    "dfz[\"EnvironmentSatisfaction\"].groupby(df[\"Gender\"]).mean()"
   ]
  },
  {
   "cell_type": "code",
   "execution_count": 25,
   "id": "6414650d",
   "metadata": {},
   "outputs": [
    {
     "data": {
      "text/plain": [
       "Gender\n",
       "Female    2.776386\n",
       "Male      2.717391\n",
       "Name: JobSatisfaction, dtype: float64"
      ]
     },
     "execution_count": 25,
     "metadata": {},
     "output_type": "execute_result"
    }
   ],
   "source": [
    "dfz[\"JobSatisfaction\"].groupby(df[\"Gender\"]).mean()"
   ]
  },
  {
   "cell_type": "code",
   "execution_count": 26,
   "id": "6225f93d",
   "metadata": {},
   "outputs": [
    {
     "data": {
      "text/plain": [
       "Gender\n",
       "Female    15.248658\n",
       "Male      15.188406\n",
       "Name: PercentSalaryHike, dtype: float64"
      ]
     },
     "execution_count": 26,
     "metadata": {},
     "output_type": "execute_result"
    }
   ],
   "source": [
    "dfz[\"PercentSalaryHike\"].groupby(df[\"Gender\"]).mean()"
   ]
  },
  {
   "cell_type": "code",
   "execution_count": 27,
   "id": "8a44bd0e",
   "metadata": {},
   "outputs": [
    {
     "data": {
      "text/plain": [
       "Gender\n",
       "Female    6.105546\n",
       "Male      6.103865\n",
       "Name: YearsAtCompany, dtype: float64"
      ]
     },
     "execution_count": 27,
     "metadata": {},
     "output_type": "execute_result"
    }
   ],
   "source": [
    "dfz[\"YearsAtCompany\"].groupby(df[\"Gender\"]).mean()"
   ]
  },
  {
   "cell_type": "code",
   "execution_count": 28,
   "id": "797b218d",
   "metadata": {},
   "outputs": [
    {
     "data": {
      "text/plain": [
       "Gender\n",
       "Female    1.719141\n",
       "Male      1.814010\n",
       "Name: YearsSinceLastPromotion, dtype: float64"
      ]
     },
     "execution_count": 28,
     "metadata": {},
     "output_type": "execute_result"
    }
   ],
   "source": [
    "dfz[\"YearsSinceLastPromotion\"].groupby(df[\"Gender\"]).mean()"
   ]
  },
  {
   "cell_type": "code",
   "execution_count": 29,
   "id": "bddaed0e",
   "metadata": {},
   "outputs": [
    {
     "data": {
      "text/plain": [
       "Attrition\n",
       "0    36.884283\n",
       "1    33.091703\n",
       "Name: Age, dtype: float64"
      ]
     },
     "execution_count": 29,
     "metadata": {},
     "output_type": "execute_result"
    }
   ],
   "source": [
    "dfz[\"Age\"].groupby(dfz[\"Attrition\"]).mean()  ## those that leave are younger"
   ]
  },
  {
   "cell_type": "code",
   "execution_count": 30,
   "id": "16153070",
   "metadata": {},
   "outputs": [
    {
     "data": {
      "text/plain": [
       "Attrition\n",
       "0    2.779793\n",
       "1    2.449782\n",
       "Name: EnvironmentSatisfaction, dtype: float64"
      ]
     },
     "execution_count": 30,
     "metadata": {},
     "output_type": "execute_result"
    }
   ],
   "source": [
    "dfz[\"EnvironmentSatisfaction\"].groupby(dfz[\"Attrition\"]).mean()"
   ]
  },
  {
   "cell_type": "code",
   "execution_count": 31,
   "id": "325d5ec9",
   "metadata": {},
   "outputs": [],
   "source": [
    "## Environment statisfaction is lower among those with attrition positive"
   ]
  },
  {
   "cell_type": "code",
   "execution_count": 32,
   "id": "c6b9c710",
   "metadata": {},
   "outputs": [
    {
     "data": {
      "text/plain": [
       "Attrition\n",
       "0    1.056131\n",
       "1    1.240175\n",
       "Name: BusinessTravel, dtype: float64"
      ]
     },
     "execution_count": 32,
     "metadata": {},
     "output_type": "execute_result"
    }
   ],
   "source": [
    "dfz[\"BusinessTravel\"].groupby(dfz[\"Attrition\"]).mean()  ## those that travel more tend to leave"
   ]
  },
  {
   "cell_type": "code",
   "execution_count": 33,
   "id": "9426ec41",
   "metadata": {},
   "outputs": [
    {
     "data": {
      "text/plain": [
       "Attrition\n",
       "0     8.882556\n",
       "1    10.663755\n",
       "Name: DistanceFromHome, dtype: float64"
      ]
     },
     "execution_count": 33,
     "metadata": {},
     "output_type": "execute_result"
    }
   ],
   "source": [
    "dfz[\"DistanceFromHome\"].groupby(dfz[\"Attrition\"]).mean()  ## those that live farther away attrition positive"
   ]
  },
  {
   "cell_type": "code",
   "execution_count": 34,
   "id": "f225c81d",
   "metadata": {},
   "outputs": [
    {
     "data": {
      "text/plain": [
       "Attrition\n",
       "0    2.033679\n",
       "1    1.563319\n",
       "Name: JobLevel, dtype: float64"
      ]
     },
     "execution_count": 34,
     "metadata": {},
     "output_type": "execute_result"
    }
   ],
   "source": [
    "dfz[\"JobLevel\"].groupby(dfz[\"Attrition\"]).mean()"
   ]
  },
  {
   "cell_type": "code",
   "execution_count": 35,
   "id": "4ebd7d5a",
   "metadata": {},
   "outputs": [],
   "source": [
    "## Those that are leaving are at lower job level"
   ]
  },
  {
   "cell_type": "code",
   "execution_count": 36,
   "id": "148d9e13",
   "metadata": {},
   "outputs": [
    {
     "data": {
      "text/plain": [
       "Attrition\n",
       "0    2.797064\n",
       "1    2.458515\n",
       "Name: JobSatisfaction, dtype: float64"
      ]
     },
     "execution_count": 36,
     "metadata": {},
     "output_type": "execute_result"
    }
   ],
   "source": [
    "dfz[\"JobSatisfaction\"].groupby(dfz[\"Attrition\"]).mean()"
   ]
  },
  {
   "cell_type": "code",
   "execution_count": 37,
   "id": "6c235826",
   "metadata": {},
   "outputs": [
    {
     "data": {
      "text/plain": [
       "Attrition\n",
       "0    6331.565630\n",
       "1    4480.292576\n",
       "Name: MonthlyIncome, dtype: float64"
      ]
     },
     "execution_count": 37,
     "metadata": {},
     "output_type": "execute_result"
    }
   ],
   "source": [
    "dfz[\"MonthlyIncome\"].groupby(dfz[\"Attrition\"]).mean() "
   ]
  },
  {
   "cell_type": "code",
   "execution_count": 38,
   "id": "3cb3d5b9",
   "metadata": {},
   "outputs": [],
   "source": [
    "## Those that stayed have higher income"
   ]
  },
  {
   "cell_type": "code",
   "execution_count": 39,
   "id": "cc84d68b",
   "metadata": {},
   "outputs": [
    {
     "data": {
      "text/plain": [
       "Attrition\n",
       "0    2.626079\n",
       "1    2.965066\n",
       "Name: NumCompaniesWorked, dtype: float64"
      ]
     },
     "execution_count": 39,
     "metadata": {},
     "output_type": "execute_result"
    }
   ],
   "source": [
    "dfz[\"NumCompaniesWorked\"].groupby(dfz[\"Attrition\"]).mean()"
   ]
  },
  {
   "cell_type": "code",
   "execution_count": 40,
   "id": "2cb8cb78",
   "metadata": {},
   "outputs": [
    {
     "data": {
      "text/plain": [
       "Attrition\n",
       "0    3.151123\n",
       "1    3.161572\n",
       "Name: PerformanceRating, dtype: float64"
      ]
     },
     "execution_count": 40,
     "metadata": {},
     "output_type": "execute_result"
    }
   ],
   "source": [
    "dfz[\"PerformanceRating\"].groupby(dfz[\"Attrition\"]).mean()"
   ]
  },
  {
   "cell_type": "code",
   "execution_count": 41,
   "id": "d091bd06",
   "metadata": {},
   "outputs": [
    {
     "data": {
      "text/plain": [
       "Attrition\n",
       "0    1.808290\n",
       "1    1.611354\n",
       "Name: YearsSinceLastPromotion, dtype: float64"
      ]
     },
     "execution_count": 41,
     "metadata": {},
     "output_type": "execute_result"
    }
   ],
   "source": [
    "dfz[\"YearsSinceLastPromotion\"].groupby(dfz[\"Attrition\"]).mean()"
   ]
  },
  {
   "cell_type": "code",
   "execution_count": 42,
   "id": "f2de858f",
   "metadata": {},
   "outputs": [
    {
     "data": {
      "text/plain": [
       "Attrition\n",
       "0    4.035406\n",
       "1    2.611354\n",
       "Name: YearsWithCurrManager, dtype: float64"
      ]
     },
     "execution_count": 42,
     "metadata": {},
     "output_type": "execute_result"
    }
   ],
   "source": [
    "dfz[\"YearsWithCurrManager\"].groupby(dfz[\"Attrition\"]).mean()"
   ]
  },
  {
   "cell_type": "code",
   "execution_count": 43,
   "id": "c73450e9",
   "metadata": {},
   "outputs": [
    {
     "data": {
      "text/plain": [
       "Attrition\n",
       "0    3.151123\n",
       "1    3.161572\n",
       "Name: PerformanceRating, dtype: float64"
      ]
     },
     "execution_count": 43,
     "metadata": {},
     "output_type": "execute_result"
    }
   ],
   "source": [
    "dfz[\"PerformanceRating\"].groupby(dfz[\"Attrition\"]).mean()"
   ]
  },
  {
   "cell_type": "code",
   "execution_count": 44,
   "id": "8c6994e9",
   "metadata": {},
   "outputs": [
    {
     "data": {
      "text/plain": [
       "Attrition\n",
       "0    3.151123\n",
       "1    3.161572\n",
       "Name: PerformanceRating, dtype: float64"
      ]
     },
     "execution_count": 44,
     "metadata": {},
     "output_type": "execute_result"
    }
   ],
   "source": [
    "dfz[\"PerformanceRating\"].groupby(dfz[\"Attrition\"]).mean()"
   ]
  },
  {
   "cell_type": "code",
   "execution_count": 45,
   "id": "58ae90da",
   "metadata": {},
   "outputs": [
    {
     "data": {
      "text/plain": [
       "JobRole\n",
       "Healthcare Representative    6.190083\n",
       "Human Resources              7.204082\n",
       "Laboratory Technician        6.293878\n",
       "Manager                      6.727273\n",
       "Manufacturing Director       6.347826\n",
       "Research Director            5.539474\n",
       "Research Scientist           6.115523\n",
       "Sales Executive              5.584967\n",
       "Sales Representative         6.013158\n",
       "Name: YearsAtCompany, dtype: float64"
      ]
     },
     "execution_count": 45,
     "metadata": {},
     "output_type": "execute_result"
    }
   ],
   "source": [
    "dfz[\"YearsAtCompany\"].groupby(df[\"JobRole\"]).mean()"
   ]
  },
  {
   "cell_type": "code",
   "execution_count": 46,
   "id": "20eba995",
   "metadata": {},
   "outputs": [
    {
     "name": "stdout",
     "output_type": "stream",
     "text": [
      "<class 'pandas.core.frame.DataFrame'>\n",
      "RangeIndex: 1387 entries, 0 to 1386\n",
      "Data columns (total 49 columns):\n",
      " #   Column                           Non-Null Count  Dtype  \n",
      "---  ------                           --------------  -----  \n",
      " 0   Age                              1387 non-null   int64  \n",
      " 1   Attrition                        1387 non-null   int32  \n",
      " 2   BusinessTravel                   1387 non-null   object \n",
      " 3   Department                       1387 non-null   object \n",
      " 4   DistanceFromHome                 1387 non-null   int64  \n",
      " 5   Education                        1387 non-null   int64  \n",
      " 6   EducationField                   1387 non-null   object \n",
      " 7   EnvironmentSatisfaction          1387 non-null   int64  \n",
      " 8   Gender                           1387 non-null   object \n",
      " 9   JobInvolvement                   1387 non-null   int64  \n",
      " 10  JobLevel                         1387 non-null   int64  \n",
      " 11  JobRole                          1387 non-null   object \n",
      " 12  JobSatisfaction                  1387 non-null   int64  \n",
      " 13  MaritalStatus                    1387 non-null   object \n",
      " 14  MonthlyIncome                    1387 non-null   int64  \n",
      " 15  NumCompaniesWorked               1387 non-null   int64  \n",
      " 16  OverTime                         1387 non-null   object \n",
      " 17  PercentSalaryHike                1387 non-null   int64  \n",
      " 18  PerformanceRating                1387 non-null   int64  \n",
      " 19  RelationshipSatisfaction         1387 non-null   int64  \n",
      " 20  StockOptionLevel                 1387 non-null   int64  \n",
      " 21  TotalWorkingYears                1387 non-null   int64  \n",
      " 22  TrainingTimesLastYear            1387 non-null   int64  \n",
      " 23  WorkLifeBalance                  1387 non-null   int64  \n",
      " 24  YearsAtCompany                   1387 non-null   int64  \n",
      " 25  YearsInCurrentRole               1387 non-null   int64  \n",
      " 26  YearsSinceLastPromotion          1387 non-null   int64  \n",
      " 27  YearsWithCurrManager             1387 non-null   int64  \n",
      " 28  zscore_Age                       1387 non-null   float64\n",
      " 29  zscore_Attrition                 1387 non-null   float64\n",
      " 30  zscore_DistanceFromHome          1387 non-null   float64\n",
      " 31  zscore_Education                 1387 non-null   float64\n",
      " 32  zscore_EnvironmentSatisfaction   1387 non-null   float64\n",
      " 33  zscore_JobInvolvement            1387 non-null   float64\n",
      " 34  zscore_JobLevel                  1387 non-null   float64\n",
      " 35  zscore_JobSatisfaction           1387 non-null   float64\n",
      " 36  zscore_MonthlyIncome             1387 non-null   float64\n",
      " 37  zscore_NumCompaniesWorked        1387 non-null   float64\n",
      " 38  zscore_PercentSalaryHike         1387 non-null   float64\n",
      " 39  zscore_PerformanceRating         1387 non-null   float64\n",
      " 40  zscore_RelationshipSatisfaction  1387 non-null   float64\n",
      " 41  zscore_StockOptionLevel          1387 non-null   float64\n",
      " 42  zscore_TotalWorkingYears         1387 non-null   float64\n",
      " 43  zscore_TrainingTimesLastYear     1387 non-null   float64\n",
      " 44  zscore_WorkLifeBalance           1387 non-null   float64\n",
      " 45  zscore_YearsAtCompany            1387 non-null   float64\n",
      " 46  zscore_YearsInCurrentRole        1387 non-null   float64\n",
      " 47  zscore_YearsSinceLastPromotion   1387 non-null   float64\n",
      " 48  zscore_YearsWithCurrManager      1387 non-null   float64\n",
      "dtypes: float64(21), int32(1), int64(20), object(7)\n",
      "memory usage: 525.7+ KB\n"
     ]
    }
   ],
   "source": [
    "dfz.info()"
   ]
  },
  {
   "cell_type": "code",
   "execution_count": 47,
   "id": "41e6c5d4",
   "metadata": {},
   "outputs": [
    {
     "data": {
      "text/plain": [
       "Attrition\n",
       "0    2.775475\n",
       "1    2.519651\n",
       "Name: JobInvolvement, dtype: float64"
      ]
     },
     "execution_count": 47,
     "metadata": {},
     "output_type": "execute_result"
    }
   ],
   "source": [
    "dfz[\"JobInvolvement\"].groupby(dfz[\"Attrition\"]).mean()"
   ]
  },
  {
   "cell_type": "code",
   "execution_count": 48,
   "id": "855aa4ab",
   "metadata": {},
   "outputs": [
    {
     "data": {
      "text/html": [
       "<div>\n",
       "<style scoped>\n",
       "    .dataframe tbody tr th:only-of-type {\n",
       "        vertical-align: middle;\n",
       "    }\n",
       "\n",
       "    .dataframe tbody tr th {\n",
       "        vertical-align: top;\n",
       "    }\n",
       "\n",
       "    .dataframe thead th {\n",
       "        text-align: right;\n",
       "    }\n",
       "</style>\n",
       "<table border=\"1\" class=\"dataframe\">\n",
       "  <thead>\n",
       "    <tr style=\"text-align: right;\">\n",
       "      <th></th>\n",
       "      <th>Age</th>\n",
       "      <th>Attrition</th>\n",
       "      <th>BusinessTravel</th>\n",
       "      <th>Department</th>\n",
       "      <th>DistanceFromHome</th>\n",
       "      <th>Education</th>\n",
       "      <th>EducationField</th>\n",
       "      <th>EnvironmentSatisfaction</th>\n",
       "      <th>Gender</th>\n",
       "      <th>JobInvolvement</th>\n",
       "      <th>...</th>\n",
       "      <th>PerformanceRating</th>\n",
       "      <th>RelationshipSatisfaction</th>\n",
       "      <th>StockOptionLevel</th>\n",
       "      <th>TotalWorkingYears</th>\n",
       "      <th>TrainingTimesLastYear</th>\n",
       "      <th>WorkLifeBalance</th>\n",
       "      <th>YearsAtCompany</th>\n",
       "      <th>YearsInCurrentRole</th>\n",
       "      <th>YearsSinceLastPromotion</th>\n",
       "      <th>YearsWithCurrManager</th>\n",
       "    </tr>\n",
       "  </thead>\n",
       "  <tbody>\n",
       "    <tr>\n",
       "      <th>0</th>\n",
       "      <td>41</td>\n",
       "      <td>1</td>\n",
       "      <td>1</td>\n",
       "      <td>Sales</td>\n",
       "      <td>1</td>\n",
       "      <td>2</td>\n",
       "      <td>Life Sciences</td>\n",
       "      <td>2</td>\n",
       "      <td>Female</td>\n",
       "      <td>3</td>\n",
       "      <td>...</td>\n",
       "      <td>3</td>\n",
       "      <td>1</td>\n",
       "      <td>0</td>\n",
       "      <td>8</td>\n",
       "      <td>0</td>\n",
       "      <td>1</td>\n",
       "      <td>6</td>\n",
       "      <td>4</td>\n",
       "      <td>0</td>\n",
       "      <td>5</td>\n",
       "    </tr>\n",
       "    <tr>\n",
       "      <th>1</th>\n",
       "      <td>49</td>\n",
       "      <td>0</td>\n",
       "      <td>2</td>\n",
       "      <td>Research &amp; Development</td>\n",
       "      <td>8</td>\n",
       "      <td>1</td>\n",
       "      <td>Life Sciences</td>\n",
       "      <td>3</td>\n",
       "      <td>Male</td>\n",
       "      <td>2</td>\n",
       "      <td>...</td>\n",
       "      <td>4</td>\n",
       "      <td>4</td>\n",
       "      <td>1</td>\n",
       "      <td>10</td>\n",
       "      <td>3</td>\n",
       "      <td>3</td>\n",
       "      <td>10</td>\n",
       "      <td>7</td>\n",
       "      <td>1</td>\n",
       "      <td>7</td>\n",
       "    </tr>\n",
       "    <tr>\n",
       "      <th>2</th>\n",
       "      <td>37</td>\n",
       "      <td>1</td>\n",
       "      <td>1</td>\n",
       "      <td>Research &amp; Development</td>\n",
       "      <td>2</td>\n",
       "      <td>2</td>\n",
       "      <td>Other</td>\n",
       "      <td>4</td>\n",
       "      <td>Male</td>\n",
       "      <td>2</td>\n",
       "      <td>...</td>\n",
       "      <td>3</td>\n",
       "      <td>2</td>\n",
       "      <td>0</td>\n",
       "      <td>7</td>\n",
       "      <td>3</td>\n",
       "      <td>3</td>\n",
       "      <td>0</td>\n",
       "      <td>0</td>\n",
       "      <td>0</td>\n",
       "      <td>0</td>\n",
       "    </tr>\n",
       "    <tr>\n",
       "      <th>3</th>\n",
       "      <td>33</td>\n",
       "      <td>0</td>\n",
       "      <td>2</td>\n",
       "      <td>Research &amp; Development</td>\n",
       "      <td>3</td>\n",
       "      <td>4</td>\n",
       "      <td>Life Sciences</td>\n",
       "      <td>4</td>\n",
       "      <td>Female</td>\n",
       "      <td>3</td>\n",
       "      <td>...</td>\n",
       "      <td>3</td>\n",
       "      <td>3</td>\n",
       "      <td>0</td>\n",
       "      <td>8</td>\n",
       "      <td>3</td>\n",
       "      <td>3</td>\n",
       "      <td>8</td>\n",
       "      <td>7</td>\n",
       "      <td>3</td>\n",
       "      <td>0</td>\n",
       "    </tr>\n",
       "    <tr>\n",
       "      <th>4</th>\n",
       "      <td>27</td>\n",
       "      <td>0</td>\n",
       "      <td>1</td>\n",
       "      <td>Research &amp; Development</td>\n",
       "      <td>2</td>\n",
       "      <td>1</td>\n",
       "      <td>Medical</td>\n",
       "      <td>1</td>\n",
       "      <td>Male</td>\n",
       "      <td>3</td>\n",
       "      <td>...</td>\n",
       "      <td>3</td>\n",
       "      <td>4</td>\n",
       "      <td>1</td>\n",
       "      <td>6</td>\n",
       "      <td>3</td>\n",
       "      <td>3</td>\n",
       "      <td>2</td>\n",
       "      <td>2</td>\n",
       "      <td>2</td>\n",
       "      <td>2</td>\n",
       "    </tr>\n",
       "  </tbody>\n",
       "</table>\n",
       "<p>5 rows × 28 columns</p>\n",
       "</div>"
      ],
      "text/plain": [
       "   Age  Attrition BusinessTravel              Department  DistanceFromHome  \\\n",
       "0   41          1              1                   Sales                 1   \n",
       "1   49          0              2  Research & Development                 8   \n",
       "2   37          1              1  Research & Development                 2   \n",
       "3   33          0              2  Research & Development                 3   \n",
       "4   27          0              1  Research & Development                 2   \n",
       "\n",
       "   Education EducationField  EnvironmentSatisfaction  Gender  JobInvolvement  \\\n",
       "0          2  Life Sciences                        2  Female               3   \n",
       "1          1  Life Sciences                        3    Male               2   \n",
       "2          2          Other                        4    Male               2   \n",
       "3          4  Life Sciences                        4  Female               3   \n",
       "4          1        Medical                        1    Male               3   \n",
       "\n",
       "   ...  PerformanceRating RelationshipSatisfaction  StockOptionLevel  \\\n",
       "0  ...                  3                        1                 0   \n",
       "1  ...                  4                        4                 1   \n",
       "2  ...                  3                        2                 0   \n",
       "3  ...                  3                        3                 0   \n",
       "4  ...                  3                        4                 1   \n",
       "\n",
       "  TotalWorkingYears  TrainingTimesLastYear  WorkLifeBalance YearsAtCompany  \\\n",
       "0                 8                      0                1              6   \n",
       "1                10                      3                3             10   \n",
       "2                 7                      3                3              0   \n",
       "3                 8                      3                3              8   \n",
       "4                 6                      3                3              2   \n",
       "\n",
       "   YearsInCurrentRole  YearsSinceLastPromotion  YearsWithCurrManager  \n",
       "0                   4                        0                     5  \n",
       "1                   7                        1                     7  \n",
       "2                   0                        0                     0  \n",
       "3                   7                        3                     0  \n",
       "4                   2                        2                     2  \n",
       "\n",
       "[5 rows x 28 columns]"
      ]
     },
     "execution_count": 48,
     "metadata": {},
     "output_type": "execute_result"
    }
   ],
   "source": [
    "dfz_corr = dfz.copy()  ## correlation dataframe\n",
    "\n",
    "dfz_corr.drop(dfz_corr.columns[28:49], axis = 1, inplace = True)   ## drop all zscore columns\n",
    "dfz_corr.head()"
   ]
  },
  {
   "cell_type": "code",
   "execution_count": 49,
   "id": "b8b66dd5",
   "metadata": {},
   "outputs": [
    {
     "data": {
      "text/plain": [
       "Age                        -0.159366\n",
       "Attrition                   1.000000\n",
       "DistanceFromHome            0.081788\n",
       "Education                  -0.032703\n",
       "EnvironmentSatisfaction    -0.112393\n",
       "JobInvolvement             -0.133957\n",
       "JobLevel                   -0.171968\n",
       "JobSatisfaction            -0.114206\n",
       "MonthlyIncome              -0.161848\n",
       "NumCompaniesWorked          0.050314\n",
       "PercentSalaryHike          -0.006267\n",
       "PerformanceRating           0.010781\n",
       "RelationshipSatisfaction   -0.052344\n",
       "StockOptionLevel           -0.136676\n",
       "TotalWorkingYears          -0.185619\n",
       "TrainingTimesLastYear      -0.057285\n",
       "WorkLifeBalance            -0.062492\n",
       "YearsAtCompany             -0.166455\n",
       "YearsInCurrentRole         -0.171015\n",
       "YearsSinceLastPromotion    -0.029263\n",
       "YearsWithCurrManager       -0.162297\n",
       "Name: Attrition, dtype: float64"
      ]
     },
     "execution_count": 49,
     "metadata": {},
     "output_type": "execute_result"
    }
   ],
   "source": [
    "dfz_corr.corr()['Attrition']  ## get correlation to attrition only"
   ]
  },
  {
   "cell_type": "code",
   "execution_count": 50,
   "id": "ba3ace90",
   "metadata": {},
   "outputs": [],
   "source": [
    "## looks like nothing is even weakly correlated with attrition"
   ]
  },
  {
   "cell_type": "code",
   "execution_count": 51,
   "id": "b93bdf14",
   "metadata": {},
   "outputs": [
    {
     "name": "stdout",
     "output_type": "stream",
     "text": [
      "0    1233\n",
      "1     237\n",
      "Name: Attrition, dtype: int64\n"
     ]
    },
    {
     "data": {
      "text/plain": [
       "<AxesSubplot:xlabel='Attrition', ylabel='count'>"
      ]
     },
     "execution_count": 51,
     "metadata": {},
     "output_type": "execute_result"
    },
    {
     "data": {
      "image/png": "[encoded data removed]",
      "text/plain": [
       "<Figure size 432x288 with 1 Axes>"
      ]
     },
     "metadata": {
      "needs_background": "light"
     },
     "output_type": "display_data"
    }
   ],
   "source": [
    "# check the coding of the dependent variable\n",
    "## the value coded as \"1\" is Attrition \"Yes\"\n",
    "\n",
    "###\n",
    "\n",
    "print(df[\"Attrition\"].value_counts())\n",
    "\n",
    "###\n",
    "\n",
    "sns.countplot(data = df, x = \"Attrition\")"
   ]
  },
  {
   "cell_type": "code",
   "execution_count": 52,
   "id": "bda2744c",
   "metadata": {
    "scrolled": false
   },
   "outputs": [
    {
     "data": {
      "text/html": [
       "<table class=\"simpletable\">\n",
       "<caption>OLS Regression Results</caption>\n",
       "<tr>\n",
       "  <th>Dep. Variable:</th>        <td>Attrition</td>    <th>  R-squared:         </th> <td>   0.099</td>\n",
       "</tr>\n",
       "<tr>\n",
       "  <th>Model:</th>                   <td>OLS</td>       <th>  Adj. R-squared:    </th> <td>   0.093</td>\n",
       "</tr>\n",
       "<tr>\n",
       "  <th>Method:</th>             <td>Least Squares</td>  <th>  F-statistic:       </th> <td>   15.19</td>\n",
       "</tr>\n",
       "<tr>\n",
       "  <th>Date:</th>             <td>Thu, 14 Apr 2022</td> <th>  Prob (F-statistic):</th> <td>5.09e-26</td>\n",
       "</tr>\n",
       "<tr>\n",
       "  <th>Time:</th>                 <td>17:15:09</td>     <th>  Log-Likelihood:    </th> <td> -521.20</td>\n",
       "</tr>\n",
       "<tr>\n",
       "  <th>No. Observations:</th>      <td>  1387</td>      <th>  AIC:               </th> <td>   1064.</td>\n",
       "</tr>\n",
       "<tr>\n",
       "  <th>Df Residuals:</th>          <td>  1376</td>      <th>  BIC:               </th> <td>   1122.</td>\n",
       "</tr>\n",
       "<tr>\n",
       "  <th>Df Model:</th>              <td>    10</td>      <th>                     </th>     <td> </td>   \n",
       "</tr>\n",
       "<tr>\n",
       "  <th>Covariance Type:</th>      <td>nonrobust</td>    <th>                     </th>     <td> </td>   \n",
       "</tr>\n",
       "</table>\n",
       "<table class=\"simpletable\">\n",
       "<tr>\n",
       "                     <td></td>                        <th>coef</th>     <th>std err</th>      <th>t</th>      <th>P>|t|</th>  <th>[0.025</th>    <th>0.975]</th>  \n",
       "</tr>\n",
       "<tr>\n",
       "  <th>Intercept</th>                               <td>    0.5527</td> <td>    0.077</td> <td>    7.216</td> <td> 0.000</td> <td>    0.402</td> <td>    0.703</td>\n",
       "</tr>\n",
       "<tr>\n",
       "  <th>BusinessTravel[T.1]</th>                     <td>    0.0682</td> <td>    0.032</td> <td>    2.151</td> <td> 0.032</td> <td>    0.006</td> <td>    0.130</td>\n",
       "</tr>\n",
       "<tr>\n",
       "  <th>BusinessTravel[T.2]</th>                     <td>    0.1721</td> <td>    0.037</td> <td>    4.674</td> <td> 0.000</td> <td>    0.100</td> <td>    0.244</td>\n",
       "</tr>\n",
       "<tr>\n",
       "  <th>C(Gender)[T.Male]</th>                       <td>    0.0256</td> <td>    0.019</td> <td>    1.313</td> <td> 0.189</td> <td>   -0.013</td> <td>    0.064</td>\n",
       "</tr>\n",
       "<tr>\n",
       "  <th>C(Department)[T.Research & Development]</th> <td>   -0.0616</td> <td>    0.048</td> <td>   -1.286</td> <td> 0.199</td> <td>   -0.156</td> <td>    0.032</td>\n",
       "</tr>\n",
       "<tr>\n",
       "  <th>C(Department)[T.Sales]</th>                  <td>    0.0158</td> <td>    0.050</td> <td>    0.319</td> <td> 0.750</td> <td>   -0.082</td> <td>    0.113</td>\n",
       "</tr>\n",
       "<tr>\n",
       "  <th>Age</th>                                     <td>   -0.0040</td> <td>    0.001</td> <td>   -3.335</td> <td> 0.001</td> <td>   -0.006</td> <td>   -0.002</td>\n",
       "</tr>\n",
       "<tr>\n",
       "  <th>EnvironmentSatisfaction</th>                 <td>   -0.0364</td> <td>    0.009</td> <td>   -4.173</td> <td> 0.000</td> <td>   -0.053</td> <td>   -0.019</td>\n",
       "</tr>\n",
       "<tr>\n",
       "  <th>MonthlyIncome</th>                           <td>-6.443e-06</td> <td> 2.67e-06</td> <td>   -2.412</td> <td> 0.016</td> <td>-1.17e-05</td> <td> -1.2e-06</td>\n",
       "</tr>\n",
       "<tr>\n",
       "  <th>JobSatisfaction</th>                         <td>   -0.0385</td> <td>    0.009</td> <td>   -4.455</td> <td> 0.000</td> <td>   -0.056</td> <td>   -0.022</td>\n",
       "</tr>\n",
       "<tr>\n",
       "  <th>YearsAtCompany</th>                          <td>   -0.0097</td> <td>    0.002</td> <td>   -4.393</td> <td> 0.000</td> <td>   -0.014</td> <td>   -0.005</td>\n",
       "</tr>\n",
       "</table>\n",
       "<table class=\"simpletable\">\n",
       "<tr>\n",
       "  <th>Omnibus:</th>       <td>333.986</td> <th>  Durbin-Watson:     </th> <td>   1.926</td> \n",
       "</tr>\n",
       "<tr>\n",
       "  <th>Prob(Omnibus):</th> <td> 0.000</td>  <th>  Jarque-Bera (JB):  </th> <td> 612.052</td> \n",
       "</tr>\n",
       "<tr>\n",
       "  <th>Skew:</th>          <td> 1.548</td>  <th>  Prob(JB):          </th> <td>1.24e-133</td>\n",
       "</tr>\n",
       "<tr>\n",
       "  <th>Kurtosis:</th>      <td> 4.001</td>  <th>  Cond. No.          </th> <td>7.17e+04</td> \n",
       "</tr>\n",
       "</table><br/><br/>Notes:<br/>[1] Standard Errors assume that the covariance matrix of the errors is correctly specified.<br/>[2] The condition number is large, 7.17e+04. This might indicate that there are<br/>strong multicollinearity or other numerical problems."
      ],
      "text/plain": [
       "<class 'statsmodels.iolib.summary.Summary'>\n",
       "\"\"\"\n",
       "                            OLS Regression Results                            \n",
       "==============================================================================\n",
       "Dep. Variable:              Attrition   R-squared:                       0.099\n",
       "Model:                            OLS   Adj. R-squared:                  0.093\n",
       "Method:                 Least Squares   F-statistic:                     15.19\n",
       "Date:                Thu, 14 Apr 2022   Prob (F-statistic):           5.09e-26\n",
       "Time:                        17:15:09   Log-Likelihood:                -521.20\n",
       "No. Observations:                1387   AIC:                             1064.\n",
       "Df Residuals:                    1376   BIC:                             1122.\n",
       "Df Model:                          10                                         \n",
       "Covariance Type:            nonrobust                                         \n",
       "===========================================================================================================\n",
       "                                              coef    std err          t      P>|t|      [0.025      0.975]\n",
       "-----------------------------------------------------------------------------------------------------------\n",
       "Intercept                                   0.5527      0.077      7.216      0.000       0.402       0.703\n",
       "BusinessTravel[T.1]                         0.0682      0.032      2.151      0.032       0.006       0.130\n",
       "BusinessTravel[T.2]                         0.1721      0.037      4.674      0.000       0.100       0.244\n",
       "C(Gender)[T.Male]                           0.0256      0.019      1.313      0.189      -0.013       0.064\n",
       "C(Department)[T.Research & Development]    -0.0616      0.048     -1.286      0.199      -0.156       0.032\n",
       "C(Department)[T.Sales]                      0.0158      0.050      0.319      0.750      -0.082       0.113\n",
       "Age                                        -0.0040      0.001     -3.335      0.001      -0.006      -0.002\n",
       "EnvironmentSatisfaction                    -0.0364      0.009     -4.173      0.000      -0.053      -0.019\n",
       "MonthlyIncome                           -6.443e-06   2.67e-06     -2.412      0.016   -1.17e-05    -1.2e-06\n",
       "JobSatisfaction                            -0.0385      0.009     -4.455      0.000      -0.056      -0.022\n",
       "YearsAtCompany                             -0.0097      0.002     -4.393      0.000      -0.014      -0.005\n",
       "==============================================================================\n",
       "Omnibus:                      333.986   Durbin-Watson:                   1.926\n",
       "Prob(Omnibus):                  0.000   Jarque-Bera (JB):              612.052\n",
       "Skew:                           1.548   Prob(JB):                    1.24e-133\n",
       "Kurtosis:                       4.001   Cond. No.                     7.17e+04\n",
       "==============================================================================\n",
       "\n",
       "Notes:\n",
       "[1] Standard Errors assume that the covariance matrix of the errors is correctly specified.\n",
       "[2] The condition number is large, 7.17e+04. This might indicate that there are\n",
       "strong multicollinearity or other numerical problems.\n",
       "\"\"\""
      ]
     },
     "execution_count": 52,
     "metadata": {},
     "output_type": "execute_result"
    }
   ],
   "source": [
    "## create the regression model\n",
    "dfz_result = sm.ols('Attrition ~ Age + BusinessTravel + EnvironmentSatisfaction + MonthlyIncome + \\\n",
    "                    JobSatisfaction + YearsAtCompany + C(Gender) + C(Department)', data = dfz).fit()\n",
    "\n",
    "## print the regression model summary\n",
    "dfz_result.summary()"
   ]
  },
  {
   "cell_type": "code",
   "execution_count": null,
   "id": "dc968392",
   "metadata": {},
   "outputs": [],
   "source": []
  },
  {
   "cell_type": "code",
   "execution_count": 53,
   "id": "ae34baca",
   "metadata": {},
   "outputs": [
    {
     "data": {
      "text/html": [
       "<table class=\"simpletable\">\n",
       "<caption>OLS Regression Results</caption>\n",
       "<tr>\n",
       "  <th>Dep. Variable:</th>        <td>Attrition</td>    <th>  R-squared:         </th> <td>   0.084</td>\n",
       "</tr>\n",
       "<tr>\n",
       "  <th>Model:</th>                   <td>OLS</td>       <th>  Adj. R-squared:    </th> <td>   0.077</td>\n",
       "</tr>\n",
       "<tr>\n",
       "  <th>Method:</th>             <td>Least Squares</td>  <th>  F-statistic:       </th> <td>   13.30</td>\n",
       "</tr>\n",
       "<tr>\n",
       "  <th>Date:</th>             <td>Thu, 14 Apr 2022</td> <th>  Prob (F-statistic):</th> <td>1.45e-22</td>\n",
       "</tr>\n",
       "<tr>\n",
       "  <th>Time:</th>                 <td>17:15:09</td>     <th>  Log-Likelihood:    </th> <td> -551.17</td>\n",
       "</tr>\n",
       "<tr>\n",
       "  <th>No. Observations:</th>      <td>  1470</td>      <th>  AIC:               </th> <td>   1124.</td>\n",
       "</tr>\n",
       "<tr>\n",
       "  <th>Df Residuals:</th>          <td>  1459</td>      <th>  BIC:               </th> <td>   1183.</td>\n",
       "</tr>\n",
       "<tr>\n",
       "  <th>Df Model:</th>              <td>    10</td>      <th>                     </th>     <td> </td>   \n",
       "</tr>\n",
       "<tr>\n",
       "  <th>Covariance Type:</th>      <td>nonrobust</td>    <th>                     </th>     <td> </td>   \n",
       "</tr>\n",
       "</table>\n",
       "<table class=\"simpletable\">\n",
       "<tr>\n",
       "                     <td></td>                        <th>coef</th>     <th>std err</th>      <th>t</th>      <th>P>|t|</th>  <th>[0.025</th>    <th>0.975]</th>  \n",
       "</tr>\n",
       "<tr>\n",
       "  <th>Intercept</th>                               <td>    0.4874</td> <td>    0.074</td> <td>    6.592</td> <td> 0.000</td> <td>    0.342</td> <td>    0.632</td>\n",
       "</tr>\n",
       "<tr>\n",
       "  <th>BusinessTravel[T.1]</th>                     <td>    0.0719</td> <td>    0.031</td> <td>    2.325</td> <td> 0.020</td> <td>    0.011</td> <td>    0.133</td>\n",
       "</tr>\n",
       "<tr>\n",
       "  <th>BusinessTravel[T.2]</th>                     <td>    0.1698</td> <td>    0.036</td> <td>    4.732</td> <td> 0.000</td> <td>    0.099</td> <td>    0.240</td>\n",
       "</tr>\n",
       "<tr>\n",
       "  <th>C(Gender)[T.Male]</th>                       <td>    0.0243</td> <td>    0.019</td> <td>    1.284</td> <td> 0.199</td> <td>   -0.013</td> <td>    0.061</td>\n",
       "</tr>\n",
       "<tr>\n",
       "  <th>C(Department)[T.Research & Development]</th> <td>   -0.0515</td> <td>    0.046</td> <td>   -1.119</td> <td> 0.263</td> <td>   -0.142</td> <td>    0.039</td>\n",
       "</tr>\n",
       "<tr>\n",
       "  <th>C(Department)[T.Sales]</th>                  <td>    0.0206</td> <td>    0.048</td> <td>    0.432</td> <td> 0.666</td> <td>   -0.073</td> <td>    0.114</td>\n",
       "</tr>\n",
       "<tr>\n",
       "  <th>Age</th>                                     <td>   -0.0037</td> <td>    0.001</td> <td>   -3.135</td> <td> 0.002</td> <td>   -0.006</td> <td>   -0.001</td>\n",
       "</tr>\n",
       "<tr>\n",
       "  <th>EnvironmentSatisfaction</th>                 <td>   -0.0335</td> <td>    0.008</td> <td>   -3.971</td> <td> 0.000</td> <td>   -0.050</td> <td>   -0.017</td>\n",
       "</tr>\n",
       "<tr>\n",
       "  <th>MonthlyIncome</th>                           <td>-6.629e-06</td> <td> 2.52e-06</td> <td>   -2.631</td> <td> 0.009</td> <td>-1.16e-05</td> <td>-1.69e-06</td>\n",
       "</tr>\n",
       "<tr>\n",
       "  <th>JobSatisfaction</th>                         <td>   -0.0363</td> <td>    0.008</td> <td>   -4.331</td> <td> 0.000</td> <td>   -0.053</td> <td>   -0.020</td>\n",
       "</tr>\n",
       "<tr>\n",
       "  <th>YearsAtCompany</th>                          <td>   -0.0039</td> <td>    0.002</td> <td>   -2.233</td> <td> 0.026</td> <td>   -0.007</td> <td>   -0.000</td>\n",
       "</tr>\n",
       "</table>\n",
       "<table class=\"simpletable\">\n",
       "<tr>\n",
       "  <th>Omnibus:</th>       <td>384.488</td> <th>  Durbin-Watson:     </th> <td>   1.897</td> \n",
       "</tr>\n",
       "<tr>\n",
       "  <th>Prob(Omnibus):</th> <td> 0.000</td>  <th>  Jarque-Bera (JB):  </th> <td> 742.435</td> \n",
       "</tr>\n",
       "<tr>\n",
       "  <th>Skew:</th>          <td> 1.632</td>  <th>  Prob(JB):          </th> <td>6.06e-162</td>\n",
       "</tr>\n",
       "<tr>\n",
       "  <th>Kurtosis:</th>      <td> 4.213</td>  <th>  Cond. No.          </th> <td>7.76e+04</td> \n",
       "</tr>\n",
       "</table><br/><br/>Notes:<br/>[1] Standard Errors assume that the covariance matrix of the errors is correctly specified.<br/>[2] The condition number is large, 7.76e+04. This might indicate that there are<br/>strong multicollinearity or other numerical problems."
      ],
      "text/plain": [
       "<class 'statsmodels.iolib.summary.Summary'>\n",
       "\"\"\"\n",
       "                            OLS Regression Results                            \n",
       "==============================================================================\n",
       "Dep. Variable:              Attrition   R-squared:                       0.084\n",
       "Model:                            OLS   Adj. R-squared:                  0.077\n",
       "Method:                 Least Squares   F-statistic:                     13.30\n",
       "Date:                Thu, 14 Apr 2022   Prob (F-statistic):           1.45e-22\n",
       "Time:                        17:15:09   Log-Likelihood:                -551.17\n",
       "No. Observations:                1470   AIC:                             1124.\n",
       "Df Residuals:                    1459   BIC:                             1183.\n",
       "Df Model:                          10                                         \n",
       "Covariance Type:            nonrobust                                         \n",
       "===========================================================================================================\n",
       "                                              coef    std err          t      P>|t|      [0.025      0.975]\n",
       "-----------------------------------------------------------------------------------------------------------\n",
       "Intercept                                   0.4874      0.074      6.592      0.000       0.342       0.632\n",
       "BusinessTravel[T.1]                         0.0719      0.031      2.325      0.020       0.011       0.133\n",
       "BusinessTravel[T.2]                         0.1698      0.036      4.732      0.000       0.099       0.240\n",
       "C(Gender)[T.Male]                           0.0243      0.019      1.284      0.199      -0.013       0.061\n",
       "C(Department)[T.Research & Development]    -0.0515      0.046     -1.119      0.263      -0.142       0.039\n",
       "C(Department)[T.Sales]                      0.0206      0.048      0.432      0.666      -0.073       0.114\n",
       "Age                                        -0.0037      0.001     -3.135      0.002      -0.006      -0.001\n",
       "EnvironmentSatisfaction                    -0.0335      0.008     -3.971      0.000      -0.050      -0.017\n",
       "MonthlyIncome                           -6.629e-06   2.52e-06     -2.631      0.009   -1.16e-05   -1.69e-06\n",
       "JobSatisfaction                            -0.0363      0.008     -4.331      0.000      -0.053      -0.020\n",
       "YearsAtCompany                             -0.0039      0.002     -2.233      0.026      -0.007      -0.000\n",
       "==============================================================================\n",
       "Omnibus:                      384.488   Durbin-Watson:                   1.897\n",
       "Prob(Omnibus):                  0.000   Jarque-Bera (JB):              742.435\n",
       "Skew:                           1.632   Prob(JB):                    6.06e-162\n",
       "Kurtosis:                       4.213   Cond. No.                     7.76e+04\n",
       "==============================================================================\n",
       "\n",
       "Notes:\n",
       "[1] Standard Errors assume that the covariance matrix of the errors is correctly specified.\n",
       "[2] The condition number is large, 7.76e+04. This might indicate that there are\n",
       "strong multicollinearity or other numerical problems.\n",
       "\"\"\""
      ]
     },
     "execution_count": 53,
     "metadata": {},
     "output_type": "execute_result"
    }
   ],
   "source": [
    "## create the another regression model with original data with all outliers present\n",
    "df_result = sm.ols('Attrition ~ Age + BusinessTravel + EnvironmentSatisfaction + MonthlyIncome + \\\n",
    "                    JobSatisfaction + YearsAtCompany + C(Gender) + C(Department)', data = df).fit()\n",
    "\n",
    "## print the regression model summary\n",
    "df_result.summary()"
   ]
  },
  {
   "cell_type": "code",
   "execution_count": 54,
   "id": "1d63436b",
   "metadata": {},
   "outputs": [],
   "source": [
    "## not much difference from removing outliers"
   ]
  },
  {
   "cell_type": "code",
   "execution_count": null,
   "id": "70a990b7",
   "metadata": {},
   "outputs": [],
   "source": []
  },
  {
   "cell_type": "code",
   "execution_count": 55,
   "id": "e5b38dde",
   "metadata": {},
   "outputs": [
    {
     "data": {
      "text/html": [
       "<table class=\"simpletable\">\n",
       "<caption>OLS Regression Results</caption>\n",
       "<tr>\n",
       "  <th>Dep. Variable:</th>        <td>Attrition</td>    <th>  R-squared:         </th> <td>   0.065</td>\n",
       "</tr>\n",
       "<tr>\n",
       "  <th>Model:</th>                   <td>OLS</td>       <th>  Adj. R-squared:    </th> <td>   0.062</td>\n",
       "</tr>\n",
       "<tr>\n",
       "  <th>Method:</th>             <td>Least Squares</td>  <th>  F-statistic:       </th> <td>   19.19</td>\n",
       "</tr>\n",
       "<tr>\n",
       "  <th>Date:</th>             <td>Thu, 14 Apr 2022</td> <th>  Prob (F-statistic):</th> <td>1.68e-18</td>\n",
       "</tr>\n",
       "<tr>\n",
       "  <th>Time:</th>                 <td>17:15:09</td>     <th>  Log-Likelihood:    </th> <td> -547.22</td>\n",
       "</tr>\n",
       "<tr>\n",
       "  <th>No. Observations:</th>      <td>  1387</td>      <th>  AIC:               </th> <td>   1106.</td>\n",
       "</tr>\n",
       "<tr>\n",
       "  <th>Df Residuals:</th>          <td>  1381</td>      <th>  BIC:               </th> <td>   1138.</td>\n",
       "</tr>\n",
       "<tr>\n",
       "  <th>Df Model:</th>              <td>     5</td>      <th>                     </th>     <td> </td>   \n",
       "</tr>\n",
       "<tr>\n",
       "  <th>Covariance Type:</th>      <td>nonrobust</td>    <th>                     </th>     <td> </td>   \n",
       "</tr>\n",
       "</table>\n",
       "<table class=\"simpletable\">\n",
       "<tr>\n",
       "           <td></td>              <th>coef</th>     <th>std err</th>      <th>t</th>      <th>P>|t|</th>  <th>[0.025</th>    <th>0.975]</th>  \n",
       "</tr>\n",
       "<tr>\n",
       "  <th>Intercept</th>           <td>    0.3405</td> <td>    0.050</td> <td>    6.753</td> <td> 0.000</td> <td>    0.242</td> <td>    0.439</td>\n",
       "</tr>\n",
       "<tr>\n",
       "  <th>BusinessTravel[T.1]</th> <td>    0.0700</td> <td>    0.032</td> <td>    2.172</td> <td> 0.030</td> <td>    0.007</td> <td>    0.133</td>\n",
       "</tr>\n",
       "<tr>\n",
       "  <th>BusinessTravel[T.2]</th> <td>    0.1708</td> <td>    0.037</td> <td>    4.570</td> <td> 0.000</td> <td>    0.098</td> <td>    0.244</td>\n",
       "</tr>\n",
       "<tr>\n",
       "  <th>Age</th>                 <td>   -0.0045</td> <td>    0.001</td> <td>   -3.679</td> <td> 0.000</td> <td>   -0.007</td> <td>   -0.002</td>\n",
       "</tr>\n",
       "<tr>\n",
       "  <th>MonthlyIncome</th>       <td>-5.613e-06</td> <td>  2.7e-06</td> <td>   -2.076</td> <td> 0.038</td> <td>-1.09e-05</td> <td>-3.08e-07</td>\n",
       "</tr>\n",
       "<tr>\n",
       "  <th>YearsAtCompany</th>      <td>   -0.0100</td> <td>    0.002</td> <td>   -4.450</td> <td> 0.000</td> <td>   -0.014</td> <td>   -0.006</td>\n",
       "</tr>\n",
       "</table>\n",
       "<table class=\"simpletable\">\n",
       "<tr>\n",
       "  <th>Omnibus:</th>       <td>364.338</td> <th>  Durbin-Watson:     </th> <td>   1.939</td> \n",
       "</tr>\n",
       "<tr>\n",
       "  <th>Prob(Omnibus):</th> <td> 0.000</td>  <th>  Jarque-Bera (JB):  </th> <td> 702.845</td> \n",
       "</tr>\n",
       "<tr>\n",
       "  <th>Skew:</th>          <td> 1.649</td>  <th>  Prob(JB):          </th> <td>2.39e-153</td>\n",
       "</tr>\n",
       "<tr>\n",
       "  <th>Kurtosis:</th>      <td> 4.136</td>  <th>  Cond. No.          </th> <td>4.60e+04</td> \n",
       "</tr>\n",
       "</table><br/><br/>Notes:<br/>[1] Standard Errors assume that the covariance matrix of the errors is correctly specified.<br/>[2] The condition number is large, 4.6e+04. This might indicate that there are<br/>strong multicollinearity or other numerical problems."
      ],
      "text/plain": [
       "<class 'statsmodels.iolib.summary.Summary'>\n",
       "\"\"\"\n",
       "                            OLS Regression Results                            \n",
       "==============================================================================\n",
       "Dep. Variable:              Attrition   R-squared:                       0.065\n",
       "Model:                            OLS   Adj. R-squared:                  0.062\n",
       "Method:                 Least Squares   F-statistic:                     19.19\n",
       "Date:                Thu, 14 Apr 2022   Prob (F-statistic):           1.68e-18\n",
       "Time:                        17:15:09   Log-Likelihood:                -547.22\n",
       "No. Observations:                1387   AIC:                             1106.\n",
       "Df Residuals:                    1381   BIC:                             1138.\n",
       "Df Model:                           5                                         \n",
       "Covariance Type:            nonrobust                                         \n",
       "=======================================================================================\n",
       "                          coef    std err          t      P>|t|      [0.025      0.975]\n",
       "---------------------------------------------------------------------------------------\n",
       "Intercept               0.3405      0.050      6.753      0.000       0.242       0.439\n",
       "BusinessTravel[T.1]     0.0700      0.032      2.172      0.030       0.007       0.133\n",
       "BusinessTravel[T.2]     0.1708      0.037      4.570      0.000       0.098       0.244\n",
       "Age                    -0.0045      0.001     -3.679      0.000      -0.007      -0.002\n",
       "MonthlyIncome       -5.613e-06    2.7e-06     -2.076      0.038   -1.09e-05   -3.08e-07\n",
       "YearsAtCompany         -0.0100      0.002     -4.450      0.000      -0.014      -0.006\n",
       "==============================================================================\n",
       "Omnibus:                      364.338   Durbin-Watson:                   1.939\n",
       "Prob(Omnibus):                  0.000   Jarque-Bera (JB):              702.845\n",
       "Skew:                           1.649   Prob(JB):                    2.39e-153\n",
       "Kurtosis:                       4.136   Cond. No.                     4.60e+04\n",
       "==============================================================================\n",
       "\n",
       "Notes:\n",
       "[1] Standard Errors assume that the covariance matrix of the errors is correctly specified.\n",
       "[2] The condition number is large, 4.6e+04. This might indicate that there are\n",
       "strong multicollinearity or other numerical problems.\n",
       "\"\"\""
      ]
     },
     "execution_count": 55,
     "metadata": {},
     "output_type": "execute_result"
    }
   ],
   "source": [
    "## create another regression model\n",
    "dfz_result = sm.ols('Attrition ~ Age + BusinessTravel + MonthlyIncome + YearsAtCompany', data = dfz).fit()\n",
    "\n",
    "## print the regression model summary\n",
    "dfz_result.summary()"
   ]
  },
  {
   "cell_type": "code",
   "execution_count": 56,
   "id": "d75de6be",
   "metadata": {},
   "outputs": [
    {
     "name": "stdout",
     "output_type": "stream",
     "text": [
      "Attrition\n",
      "0    6331.565630\n",
      "1    4480.292576\n",
      "Name: MonthlyIncome, dtype: float64\n"
     ]
    },
    {
     "data": {
      "text/plain": [
       "<AxesSubplot:xlabel='Attrition', ylabel='MonthlyIncome'>"
      ]
     },
     "execution_count": 56,
     "metadata": {},
     "output_type": "execute_result"
    },
    {
     "data": {
      "image/png": "[encoded data removed]",
      "text/plain": [
       "<Figure size 432x288 with 1 Axes>"
      ]
     },
     "metadata": {
      "needs_background": "light"
     },
     "output_type": "display_data"
    }
   ],
   "source": [
    "print(dfz[\"MonthlyIncome\"].groupby(dfz[\"Attrition\"]).mean())\n",
    "\n",
    "###\n",
    "\n",
    "sns.barplot(data = dfz, x = \"Attrition\", y = \"MonthlyIncome\", ci = None)"
   ]
  },
  {
   "cell_type": "code",
   "execution_count": 57,
   "id": "d6de4e35",
   "metadata": {},
   "outputs": [],
   "source": [
    "## Even though it looks like there is large difference in monthly income from those that stayed and left\n",
    "## Increasing salary only decreased the attrition were limitedly. The coefficient is very small -0.000005613.\n",
    "## "
   ]
  },
  {
   "cell_type": "code",
   "execution_count": 58,
   "id": "b5f06c93",
   "metadata": {},
   "outputs": [
    {
     "name": "stdout",
     "output_type": "stream",
     "text": [
      "Attrition\n",
      "0    1.056131\n",
      "1    1.240175\n",
      "Name: BusinessTravel, dtype: float64\n"
     ]
    },
    {
     "data": {
      "text/plain": [
       "<AxesSubplot:xlabel='Attrition', ylabel='BusinessTravel'>"
      ]
     },
     "execution_count": 58,
     "metadata": {},
     "output_type": "execute_result"
    },
    {
     "data": {
      "image/png": "[encoded data removed]",
      "text/plain": [
       "<Figure size 432x288 with 1 Axes>"
      ]
     },
     "metadata": {
      "needs_background": "light"
     },
     "output_type": "display_data"
    }
   ],
   "source": [
    "print(dfz[\"BusinessTravel\"].groupby(dfz[\"Attrition\"]).mean())\n",
    "\n",
    "###\n",
    "\n",
    "sns.barplot(data = dfz, x = \"Attrition\", y = \"BusinessTravel\", ci = None)"
   ]
  },
  {
   "cell_type": "code",
   "execution_count": 59,
   "id": "0d0a4075",
   "metadata": {},
   "outputs": [
    {
     "name": "stdout",
     "output_type": "stream",
     "text": [
      "Optimization terminated successfully.\n",
      "         Current function value: 0.398049\n",
      "         Iterations 7\n"
     ]
    },
    {
     "data": {
      "text/html": [
       "<table class=\"simpletable\">\n",
       "<caption>Logit Regression Results</caption>\n",
       "<tr>\n",
       "  <th>Dep. Variable:</th>       <td>Attrition</td>    <th>  No. Observations:  </th>  <td>  1387</td>  \n",
       "</tr>\n",
       "<tr>\n",
       "  <th>Model:</th>                 <td>Logit</td>      <th>  Df Residuals:      </th>  <td>  1379</td>  \n",
       "</tr>\n",
       "<tr>\n",
       "  <th>Method:</th>                 <td>MLE</td>       <th>  Df Model:          </th>  <td>     7</td>  \n",
       "</tr>\n",
       "<tr>\n",
       "  <th>Date:</th>            <td>Thu, 14 Apr 2022</td> <th>  Pseudo R-squ.:     </th>  <td>0.1116</td>  \n",
       "</tr>\n",
       "<tr>\n",
       "  <th>Time:</th>                <td>17:15:09</td>     <th>  Log-Likelihood:    </th> <td> -552.09</td> \n",
       "</tr>\n",
       "<tr>\n",
       "  <th>converged:</th>             <td>True</td>       <th>  LL-Null:           </th> <td> -621.43</td> \n",
       "</tr>\n",
       "<tr>\n",
       "  <th>Covariance Type:</th>     <td>nonrobust</td>    <th>  LLR p-value:       </th> <td>9.647e-27</td>\n",
       "</tr>\n",
       "</table>\n",
       "<table class=\"simpletable\">\n",
       "<tr>\n",
       "             <td></td>                <th>coef</th>     <th>std err</th>      <th>z</th>      <th>P>|z|</th>  <th>[0.025</th>    <th>0.975]</th>  \n",
       "</tr>\n",
       "<tr>\n",
       "  <th>Intercept</th>               <td>    1.1836</td> <td>    0.510</td> <td>    2.319</td> <td> 0.020</td> <td>    0.183</td> <td>    2.184</td>\n",
       "</tr>\n",
       "<tr>\n",
       "  <th>BusinessTravel[T.1]</th>     <td>    0.6876</td> <td>    0.323</td> <td>    2.126</td> <td> 0.034</td> <td>    0.054</td> <td>    1.322</td>\n",
       "</tr>\n",
       "<tr>\n",
       "  <th>BusinessTravel[T.2]</th>     <td>    1.4328</td> <td>    0.345</td> <td>    4.153</td> <td> 0.000</td> <td>    0.757</td> <td>    2.109</td>\n",
       "</tr>\n",
       "<tr>\n",
       "  <th>Age</th>                     <td>   -0.0323</td> <td>    0.010</td> <td>   -3.243</td> <td> 0.001</td> <td>   -0.052</td> <td>   -0.013</td>\n",
       "</tr>\n",
       "<tr>\n",
       "  <th>EnvironmentSatisfaction</th> <td>   -0.2947</td> <td>    0.069</td> <td>   -4.266</td> <td> 0.000</td> <td>   -0.430</td> <td>   -0.159</td>\n",
       "</tr>\n",
       "<tr>\n",
       "  <th>MonthlyIncome</th>           <td>-8.041e-05</td> <td> 2.79e-05</td> <td>   -2.881</td> <td> 0.004</td> <td>   -0.000</td> <td>-2.57e-05</td>\n",
       "</tr>\n",
       "<tr>\n",
       "  <th>JobSatisfaction</th>         <td>   -0.2975</td> <td>    0.069</td> <td>   -4.327</td> <td> 0.000</td> <td>   -0.432</td> <td>   -0.163</td>\n",
       "</tr>\n",
       "<tr>\n",
       "  <th>YearsAtCompany</th>          <td>   -0.0953</td> <td>    0.022</td> <td>   -4.261</td> <td> 0.000</td> <td>   -0.139</td> <td>   -0.051</td>\n",
       "</tr>\n",
       "</table>"
      ],
      "text/plain": [
       "<class 'statsmodels.iolib.summary.Summary'>\n",
       "\"\"\"\n",
       "                           Logit Regression Results                           \n",
       "==============================================================================\n",
       "Dep. Variable:              Attrition   No. Observations:                 1387\n",
       "Model:                          Logit   Df Residuals:                     1379\n",
       "Method:                           MLE   Df Model:                            7\n",
       "Date:                Thu, 14 Apr 2022   Pseudo R-squ.:                  0.1116\n",
       "Time:                        17:15:09   Log-Likelihood:                -552.09\n",
       "converged:                       True   LL-Null:                       -621.43\n",
       "Covariance Type:            nonrobust   LLR p-value:                 9.647e-27\n",
       "===========================================================================================\n",
       "                              coef    std err          z      P>|z|      [0.025      0.975]\n",
       "-------------------------------------------------------------------------------------------\n",
       "Intercept                   1.1836      0.510      2.319      0.020       0.183       2.184\n",
       "BusinessTravel[T.1]         0.6876      0.323      2.126      0.034       0.054       1.322\n",
       "BusinessTravel[T.2]         1.4328      0.345      4.153      0.000       0.757       2.109\n",
       "Age                        -0.0323      0.010     -3.243      0.001      -0.052      -0.013\n",
       "EnvironmentSatisfaction    -0.2947      0.069     -4.266      0.000      -0.430      -0.159\n",
       "MonthlyIncome           -8.041e-05   2.79e-05     -2.881      0.004      -0.000   -2.57e-05\n",
       "JobSatisfaction            -0.2975      0.069     -4.327      0.000      -0.432      -0.163\n",
       "YearsAtCompany             -0.0953      0.022     -4.261      0.000      -0.139      -0.051\n",
       "===========================================================================================\n",
       "\"\"\""
      ]
     },
     "execution_count": 59,
     "metadata": {},
     "output_type": "execute_result"
    }
   ],
   "source": [
    "## creating the model\n",
    "\n",
    "mod1 = sm.logit('Attrition ~ Age + BusinessTravel + EnvironmentSatisfaction + MonthlyIncome + \\\n",
    "                    JobSatisfaction + YearsAtCompany', data=dfz).fit()\n",
    "\n",
    "mod1.summary()"
   ]
  },
  {
   "cell_type": "code",
   "execution_count": 60,
   "id": "4bc494b0",
   "metadata": {},
   "outputs": [
    {
     "data": {
      "text/html": [
       "<div>\n",
       "<style scoped>\n",
       "    .dataframe tbody tr th:only-of-type {\n",
       "        vertical-align: middle;\n",
       "    }\n",
       "\n",
       "    .dataframe tbody tr th {\n",
       "        vertical-align: top;\n",
       "    }\n",
       "\n",
       "    .dataframe thead th {\n",
       "        text-align: right;\n",
       "    }\n",
       "</style>\n",
       "<table border=\"1\" class=\"dataframe\">\n",
       "  <thead>\n",
       "    <tr style=\"text-align: right;\">\n",
       "      <th></th>\n",
       "      <th>OR</th>\n",
       "      <th>pvalue</th>\n",
       "      <th>Sig</th>\n",
       "    </tr>\n",
       "  </thead>\n",
       "  <tbody>\n",
       "    <tr>\n",
       "      <th>Intercept</th>\n",
       "      <td>3.266092</td>\n",
       "      <td>0.020383</td>\n",
       "      <td>Sig</td>\n",
       "    </tr>\n",
       "    <tr>\n",
       "      <th>BusinessTravel[T.1]</th>\n",
       "      <td>1.988945</td>\n",
       "      <td>0.033505</td>\n",
       "      <td>Sig</td>\n",
       "    </tr>\n",
       "    <tr>\n",
       "      <th>BusinessTravel[T.2]</th>\n",
       "      <td>4.190228</td>\n",
       "      <td>0.000033</td>\n",
       "      <td>Sig</td>\n",
       "    </tr>\n",
       "    <tr>\n",
       "      <th>Age</th>\n",
       "      <td>0.968197</td>\n",
       "      <td>0.001183</td>\n",
       "      <td>Sig</td>\n",
       "    </tr>\n",
       "    <tr>\n",
       "      <th>EnvironmentSatisfaction</th>\n",
       "      <td>0.744751</td>\n",
       "      <td>0.000020</td>\n",
       "      <td>Sig</td>\n",
       "    </tr>\n",
       "    <tr>\n",
       "      <th>MonthlyIncome</th>\n",
       "      <td>0.999920</td>\n",
       "      <td>0.003968</td>\n",
       "      <td>Sig</td>\n",
       "    </tr>\n",
       "    <tr>\n",
       "      <th>JobSatisfaction</th>\n",
       "      <td>0.742697</td>\n",
       "      <td>0.000015</td>\n",
       "      <td>Sig</td>\n",
       "    </tr>\n",
       "    <tr>\n",
       "      <th>YearsAtCompany</th>\n",
       "      <td>0.909059</td>\n",
       "      <td>0.000020</td>\n",
       "      <td>Sig</td>\n",
       "    </tr>\n",
       "  </tbody>\n",
       "</table>\n",
       "</div>"
      ],
      "text/plain": [
       "                               OR    pvalue  Sig\n",
       "Intercept                3.266092  0.020383  Sig\n",
       "BusinessTravel[T.1]      1.988945  0.033505  Sig\n",
       "BusinessTravel[T.2]      4.190228  0.000033  Sig\n",
       "Age                      0.968197  0.001183  Sig\n",
       "EnvironmentSatisfaction  0.744751  0.000020  Sig\n",
       "MonthlyIncome            0.999920  0.003968  Sig\n",
       "JobSatisfaction          0.742697  0.000015  Sig\n",
       "YearsAtCompany           0.909059  0.000020  Sig"
      ]
     },
     "execution_count": 60,
     "metadata": {},
     "output_type": "execute_result"
    }
   ],
   "source": [
    "## create a dataframe with the variable names, OR's and p-values\n",
    "# np.exp >> calculate the exponential of a given value\n",
    "\n",
    "dfz_odds = pd.DataFrame(np.exp(mod1.params), columns = ['OR'])\n",
    "\n",
    "## pull the pvalues directly from the model\n",
    "\n",
    "dfz_odds[\"pvalue\"] = mod1.pvalues\n",
    "\n",
    "## create a variable to quickly determine sig\n",
    "\n",
    "dfz_odds[\"Sig\"] = np.where(dfz_odds[\"pvalue\"] <= 0.05, \"Sig\", \"Not Sig\")\n",
    "\n",
    "## print new dataset\n",
    "\n",
    "dfz_odds"
   ]
  },
  {
   "cell_type": "code",
   "execution_count": 61,
   "id": "439bbe8e",
   "metadata": {},
   "outputs": [
    {
     "data": {
      "text/html": [
       "<div>\n",
       "<style scoped>\n",
       "    .dataframe tbody tr th:only-of-type {\n",
       "        vertical-align: middle;\n",
       "    }\n",
       "\n",
       "    .dataframe tbody tr th {\n",
       "        vertical-align: top;\n",
       "    }\n",
       "\n",
       "    .dataframe thead th {\n",
       "        text-align: right;\n",
       "    }\n",
       "</style>\n",
       "<table border=\"1\" class=\"dataframe\">\n",
       "  <thead>\n",
       "    <tr style=\"text-align: right;\">\n",
       "      <th></th>\n",
       "      <th>OR</th>\n",
       "      <th>pvalue</th>\n",
       "      <th>Sig</th>\n",
       "      <th>Pct Change</th>\n",
       "    </tr>\n",
       "  </thead>\n",
       "  <tbody>\n",
       "    <tr>\n",
       "      <th>Intercept</th>\n",
       "      <td>3.266092</td>\n",
       "      <td>0.020383</td>\n",
       "      <td>Sig</td>\n",
       "      <td>226.609239</td>\n",
       "    </tr>\n",
       "    <tr>\n",
       "      <th>BusinessTravel[T.1]</th>\n",
       "      <td>1.988945</td>\n",
       "      <td>0.033505</td>\n",
       "      <td>Sig</td>\n",
       "      <td>98.894514</td>\n",
       "    </tr>\n",
       "    <tr>\n",
       "      <th>BusinessTravel[T.2]</th>\n",
       "      <td>4.190228</td>\n",
       "      <td>0.000033</td>\n",
       "      <td>Sig</td>\n",
       "      <td>319.022767</td>\n",
       "    </tr>\n",
       "    <tr>\n",
       "      <th>Age</th>\n",
       "      <td>0.968197</td>\n",
       "      <td>0.001183</td>\n",
       "      <td>Sig</td>\n",
       "      <td>-3.180287</td>\n",
       "    </tr>\n",
       "    <tr>\n",
       "      <th>EnvironmentSatisfaction</th>\n",
       "      <td>0.744751</td>\n",
       "      <td>0.000020</td>\n",
       "      <td>Sig</td>\n",
       "      <td>-25.524876</td>\n",
       "    </tr>\n",
       "    <tr>\n",
       "      <th>MonthlyIncome</th>\n",
       "      <td>0.999920</td>\n",
       "      <td>0.003968</td>\n",
       "      <td>Sig</td>\n",
       "      <td>-0.008041</td>\n",
       "    </tr>\n",
       "    <tr>\n",
       "      <th>JobSatisfaction</th>\n",
       "      <td>0.742697</td>\n",
       "      <td>0.000015</td>\n",
       "      <td>Sig</td>\n",
       "      <td>-25.730286</td>\n",
       "    </tr>\n",
       "    <tr>\n",
       "      <th>YearsAtCompany</th>\n",
       "      <td>0.909059</td>\n",
       "      <td>0.000020</td>\n",
       "      <td>Sig</td>\n",
       "      <td>-9.094065</td>\n",
       "    </tr>\n",
       "  </tbody>\n",
       "</table>\n",
       "</div>"
      ],
      "text/plain": [
       "                               OR    pvalue  Sig  Pct Change\n",
       "Intercept                3.266092  0.020383  Sig  226.609239\n",
       "BusinessTravel[T.1]      1.988945  0.033505  Sig   98.894514\n",
       "BusinessTravel[T.2]      4.190228  0.000033  Sig  319.022767\n",
       "Age                      0.968197  0.001183  Sig   -3.180287\n",
       "EnvironmentSatisfaction  0.744751  0.000020  Sig  -25.524876\n",
       "MonthlyIncome            0.999920  0.003968  Sig   -0.008041\n",
       "JobSatisfaction          0.742697  0.000015  Sig  -25.730286\n",
       "YearsAtCompany           0.909059  0.000020  Sig   -9.094065"
      ]
     },
     "execution_count": 61,
     "metadata": {},
     "output_type": "execute_result"
    }
   ],
   "source": [
    "## percent change = OR minus 1 multiplied by 100\n",
    "\n",
    "dfz_odds[\"Pct Change\"] = (dfz_odds[\"OR\"] - 1) * 100\n",
    "\n",
    "dfz_odds"
   ]
  },
  {
   "cell_type": "code",
   "execution_count": 62,
   "id": "f8974c61",
   "metadata": {},
   "outputs": [
    {
     "data": {
      "text/plain": [
       "0    0.064432\n",
       "dtype: float64"
      ]
     },
     "execution_count": 62,
     "metadata": {},
     "output_type": "execute_result"
    }
   ],
   "source": [
    "mod1.predict({\n",
    "    'BusinessTravel': 0, \n",
    "    'Age': 55, \n",
    "    'EnvironmentSatisfaction': 2, \n",
    "    'MonthlyIncome': 3000, \n",
    "    'JobSatisfaction': 1, \n",
    "    'YearsAtCompany': 10})\n",
    "\n",
    "## if probability is greater than 50% > we classify this individual as having the outcome"
   ]
  },
  {
   "cell_type": "code",
   "execution_count": 63,
   "id": "5439606e",
   "metadata": {},
   "outputs": [
    {
     "data": {
      "text/plain": [
       "0    0.319081\n",
       "dtype: float64"
      ]
     },
     "execution_count": 63,
     "metadata": {},
     "output_type": "execute_result"
    }
   ],
   "source": [
    "mod1.predict({\n",
    "    'BusinessTravel': 2, \n",
    "    'Age': 40, \n",
    "    'EnvironmentSatisfaction': 2, \n",
    "    'MonthlyIncome': 3000, \n",
    "    'JobSatisfaction': 1, \n",
    "    'YearsAtCompany': 10})\n",
    "\n",
    "## if probability is greater than 50% > we classify this individual as having the outcome"
   ]
  },
  {
   "cell_type": "code",
   "execution_count": 64,
   "id": "7a0916f3",
   "metadata": {},
   "outputs": [],
   "source": [
    "## Look like business travel has the greatest effect on attrition. Keep all things equal and increasing bussiness\n",
    "## travel frequency will likely make the person leave the company"
   ]
  },
  {
   "cell_type": "code",
   "execution_count": 65,
   "id": "8e46a674",
   "metadata": {},
   "outputs": [],
   "source": [
    "## Overall there the data was not even weakly correlated with attrition.\n",
    "## No single data point had correlation greater > 0.30 to attrition\n",
    "\n",
    "## Frequent business travel seems to have the one that had the highest degree of effect on attrition\n",
    "## Its statistical significnat wiht p < 0.05 and increased the attrition with increasing travel, coeff 0.1708\n",
    "\n",
    "## Gender, department were not statistical significant in affecting attrition\n",
    "\n",
    "## Increased age, environment satisfaction, job satisfication and years at company decreased attrition\n",
    "## They were statistical significant with p < 0.05"
   ]
  },
  {
   "cell_type": "code",
   "execution_count": 66,
   "id": "bcfcf98e",
   "metadata": {},
   "outputs": [],
   "source": [
    "## Overall employees would benefit and company can improve attrition if decreasing how often employees travel\n",
    "## Incereasing employee salary does will not improve attrition\n",
    "## "
   ]
  },
  {
   "cell_type": "code",
   "execution_count": null,
   "id": "fc3fec1c",
   "metadata": {},
   "outputs": [],
   "source": []
  },
  {
   "cell_type": "code",
   "execution_count": null,
   "id": "1ccef713",
   "metadata": {},
   "outputs": [],
   "source": []
  },
  {
   "cell_type": "code",
   "execution_count": 67,
   "id": "7cc05e6f",
   "metadata": {},
   "outputs": [
    {
     "name": "stdout",
     "output_type": "stream",
     "text": [
      "<class 'pandas.core.frame.DataFrame'>\n",
      "RangeIndex: 1387 entries, 0 to 1386\n",
      "Data columns (total 49 columns):\n",
      " #   Column                           Non-Null Count  Dtype  \n",
      "---  ------                           --------------  -----  \n",
      " 0   Age                              1387 non-null   int64  \n",
      " 1   Attrition                        1387 non-null   int32  \n",
      " 2   BusinessTravel                   1387 non-null   object \n",
      " 3   Department                       1387 non-null   object \n",
      " 4   DistanceFromHome                 1387 non-null   int64  \n",
      " 5   Education                        1387 non-null   int64  \n",
      " 6   EducationField                   1387 non-null   object \n",
      " 7   EnvironmentSatisfaction          1387 non-null   int64  \n",
      " 8   Gender                           1387 non-null   object \n",
      " 9   JobInvolvement                   1387 non-null   int64  \n",
      " 10  JobLevel                         1387 non-null   int64  \n",
      " 11  JobRole                          1387 non-null   object \n",
      " 12  JobSatisfaction                  1387 non-null   int64  \n",
      " 13  MaritalStatus                    1387 non-null   object \n",
      " 14  MonthlyIncome                    1387 non-null   int64  \n",
      " 15  NumCompaniesWorked               1387 non-null   int64  \n",
      " 16  OverTime                         1387 non-null   object \n",
      " 17  PercentSalaryHike                1387 non-null   int64  \n",
      " 18  PerformanceRating                1387 non-null   int64  \n",
      " 19  RelationshipSatisfaction         1387 non-null   int64  \n",
      " 20  StockOptionLevel                 1387 non-null   int64  \n",
      " 21  TotalWorkingYears                1387 non-null   int64  \n",
      " 22  TrainingTimesLastYear            1387 non-null   int64  \n",
      " 23  WorkLifeBalance                  1387 non-null   int64  \n",
      " 24  YearsAtCompany                   1387 non-null   int64  \n",
      " 25  YearsInCurrentRole               1387 non-null   int64  \n",
      " 26  YearsSinceLastPromotion          1387 non-null   int64  \n",
      " 27  YearsWithCurrManager             1387 non-null   int64  \n",
      " 28  zscore_Age                       1387 non-null   float64\n",
      " 29  zscore_Attrition                 1387 non-null   float64\n",
      " 30  zscore_DistanceFromHome          1387 non-null   float64\n",
      " 31  zscore_Education                 1387 non-null   float64\n",
      " 32  zscore_EnvironmentSatisfaction   1387 non-null   float64\n",
      " 33  zscore_JobInvolvement            1387 non-null   float64\n",
      " 34  zscore_JobLevel                  1387 non-null   float64\n",
      " 35  zscore_JobSatisfaction           1387 non-null   float64\n",
      " 36  zscore_MonthlyIncome             1387 non-null   float64\n",
      " 37  zscore_NumCompaniesWorked        1387 non-null   float64\n",
      " 38  zscore_PercentSalaryHike         1387 non-null   float64\n",
      " 39  zscore_PerformanceRating         1387 non-null   float64\n",
      " 40  zscore_RelationshipSatisfaction  1387 non-null   float64\n",
      " 41  zscore_StockOptionLevel          1387 non-null   float64\n",
      " 42  zscore_TotalWorkingYears         1387 non-null   float64\n",
      " 43  zscore_TrainingTimesLastYear     1387 non-null   float64\n",
      " 44  zscore_WorkLifeBalance           1387 non-null   float64\n",
      " 45  zscore_YearsAtCompany            1387 non-null   float64\n",
      " 46  zscore_YearsInCurrentRole        1387 non-null   float64\n",
      " 47  zscore_YearsSinceLastPromotion   1387 non-null   float64\n",
      " 48  zscore_YearsWithCurrManager      1387 non-null   float64\n",
      "dtypes: float64(21), int32(1), int64(20), object(7)\n",
      "memory usage: 525.7+ KB\n"
     ]
    }
   ],
   "source": [
    "dfz.info()"
   ]
  },
  {
   "cell_type": "code",
   "execution_count": 68,
   "id": "4c39b0a8",
   "metadata": {},
   "outputs": [
    {
     "data": {
      "text/plain": [
       "<AxesSubplot:xlabel='Age', ylabel='Density'>"
      ]
     },
     "execution_count": 68,
     "metadata": {},
     "output_type": "execute_result"
    },
    {
     "data": {
      "image/png": "[encoded data removed]",
      "text/plain": [
       "<Figure size 432x288 with 1 Axes>"
      ]
     },
     "metadata": {
      "needs_background": "light"
     },
     "output_type": "display_data"
    }
   ],
   "source": [
    "### simple density plot to show the distribution of age at company\n",
    "\n",
    "sns.kdeplot(dfz['Age'], shade = False, color = \"green\")"
   ]
  },
  {
   "cell_type": "code",
   "execution_count": 69,
   "id": "f847fbb3",
   "metadata": {},
   "outputs": [
    {
     "data": {
      "text/plain": [
       "<AxesSubplot:xlabel='MonthlyIncome'>"
      ]
     },
     "execution_count": 69,
     "metadata": {},
     "output_type": "execute_result"
    },
    {
     "data": {
      "image/png": "[encoded data removed]",
      "text/plain": [
       "<Figure size 432x288 with 1 Axes>"
      ]
     },
     "metadata": {
      "needs_background": "light"
     },
     "output_type": "display_data"
    }
   ],
   "source": [
    "### creating a boxplot to show the distribution of monthly income\n",
    "\n",
    "sns.boxplot(x = df[\"MonthlyIncome\"])"
   ]
  },
  {
   "cell_type": "code",
   "execution_count": null,
   "id": "41bfcdab",
   "metadata": {},
   "outputs": [],
   "source": []
  },
  {
   "cell_type": "code",
   "execution_count": 70,
   "id": "e89d6314",
   "metadata": {},
   "outputs": [
    {
     "data": {
      "image/png": "[encoded data removed]",
      "text/plain": [
       "<Figure size 1080x360 with 1 Axes>"
      ]
     },
     "metadata": {
      "needs_background": "light"
     },
     "output_type": "display_data"
    }
   ],
   "source": [
    "### creating a series of boxplots to show the distribution of attack across groups\n",
    "\n",
    "plt.figure(figsize=(15,5)) # adjust the size of the output plot\n",
    "\n",
    "sns.boxplot(x = df[\"Department\"], y = df[\"Age\"])\n",
    "\n",
    "plt.grid() # add grid lines to plot"
   ]
  },
  {
   "cell_type": "code",
   "execution_count": null,
   "id": "e293b22e",
   "metadata": {},
   "outputs": [],
   "source": []
  },
  {
   "cell_type": "code",
   "execution_count": 71,
   "id": "a2559228",
   "metadata": {},
   "outputs": [
    {
     "data": {
      "text/plain": [
       "Text(0.5, 1.0, 'Average Monthly Income of Job Role')"
      ]
     },
     "execution_count": 71,
     "metadata": {},
     "output_type": "execute_result"
    },
    {
     "data": {
      "image/png": "[encoded data removed]",
      "text/plain": [
       "<Figure size 1440x360 with 1 Axes>"
      ]
     },
     "metadata": {
      "needs_background": "light"
     },
     "output_type": "display_data"
    }
   ],
   "source": [
    "### create a barplot to show average monthly income across job role\n",
    "\n",
    "plt.figure(figsize=(20,5))\n",
    "\n",
    "sns.barplot(data = df, x = \"JobRole\", y = \"MonthlyIncome\", ci = None)\n",
    "\n",
    "plt.xticks(rotation = 45)\n",
    "plt.title('Average Monthly Income of Job Role')"
   ]
  },
  {
   "cell_type": "code",
   "execution_count": 72,
   "id": "1345d212",
   "metadata": {},
   "outputs": [
    {
     "data": {
      "text/plain": [
       "Text(0.5, 1.0, 'Average Monthly Income by Education')"
      ]
     },
     "execution_count": 72,
     "metadata": {},
     "output_type": "execute_result"
    },
    {
     "data": {
      "image/png": "[encoded data removed]",
      "text/plain": [
       "<Figure size 1440x720 with 1 Axes>"
      ]
     },
     "metadata": {
      "needs_background": "light"
     },
     "output_type": "display_data"
    }
   ],
   "source": [
    "### create a barplot showing the average monthly income by education \n",
    "\n",
    "plt.figure(figsize=(20,10))\n",
    "\n",
    "sns.barplot(data = df, x = \"Education\", y = \"MonthlyIncome\", ci = None)\n",
    "\n",
    "plt.xticks(rotation = -45)\n",
    "plt.title('Average Monthly Income by Education')"
   ]
  },
  {
   "cell_type": "code",
   "execution_count": null,
   "id": "f21e653e",
   "metadata": {},
   "outputs": [],
   "source": []
  }
 ],
 "metadata": {
  "kernelspec": {
   "display_name": "Python 3 (ipykernel)",
   "language": "python",
   "name": "python3"
  },
  "language_info": {
   "codemirror_mode": {
    "name": "ipython",
    "version": 3
   },
   "file_extension": ".py",
   "mimetype": "text/x-python",
   "name": "python",
   "nbconvert_exporter": "python",
   "pygments_lexer": "ipython3",
   "version": "3.9.7"
  }
 },
 "nbformat": 4,
 "nbformat_minor": 5
}

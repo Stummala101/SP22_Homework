{
 "cells": [
  {
   "cell_type": "markdown",
   "id": "0f6dbd6f",
   "metadata": {},
   "source": [
    "## DATA ANALYTICS – IBM PROJECT\n",
    "\n",
    "Why do workers resign from the positions they hold? Can employee attrition be anticipated? Can companies take steps to prevent high employee turn-over?\n",
    "\n",
    "Employee attrition is the reduction of staff by voluntary or involuntary reasons. These can be through natural means like retirement, or it can be through resignation, termination of contract, or when a company decides to make a position redundant. Excessive involuntary attrition can be detrimental to the overall business goals, and can lead to understaffing, increased job burden on remaining employees, and harmful consequences to company reputation. \n",
    "\n",
    "You’ve just been hired by IBM to work in their Data Analytics sector. On your second day, you are given a dataset from HR that includes several records of employees that were with the company in the prior calendar year. Since the development of the dataset, some of those employees have since resigned from their positions. The company was surprised with the recent level of turnover and have tasked you with digging into the data to determine any insights about what leads to employee turnover, and alternatively, what aspects of the jobs can be protected to reduce employee turnover. \n",
    "\n",
    "Using the ‘IBM Employee Attrition’ dataset – your role is to comprehensively explore the data and generate meaningful insights into what the data is presenting. \n",
    "\n",
    "You should conclude your assignment with 3 recommendations you will make to the HR department regarding employee attrition. \n",
    "\n",
    "At the least, you should complete the following tasks:\n",
    "    \n",
    "    •Data prep and cleaning – prior to exploring the data, you should ensure that the dataset is clean, all variables are in their proper format, and the data is free of missing, abnormal, or outlier values. \n",
    "    \n",
    "    •Exploratory data analysis – you should explore every aspect of the data to determine the features of the data, the range of values for all variables of interest, and the relationships between variables. Exploration should be conducted outside of predictive modeling – in other words, you are not only interested in how the dependent and independent variables interact – you should also spend some time exploring variations in the data among variables (i.e. how does salary differ between genders? Does time spent in the company differ by job role?)\n",
    "    \n",
    "    •Modeling – after thoroughly exploring the data, create a logistic regression model that predicts employee attrition based on the other variables available to you. Clearly interpret your model findings. Re-run/tweak your model if you think you can find a better fit. \n",
    "    \n",
    "    •Visualization – Create at least 3 visualizations that highlight some of the most interesting findings in your dataset. These can be findings from the regression model or any interesting relationships between variables. \n",
    "\n",
    "Good luck!\n"
   ]
  },
  {
   "cell_type": "code",
   "execution_count": 1,
   "id": "bc9db771",
   "metadata": {},
   "outputs": [
    {
     "data": {
      "text/html": [
       "<div>\n",
       "<style scoped>\n",
       "    .dataframe tbody tr th:only-of-type {\n",
       "        vertical-align: middle;\n",
       "    }\n",
       "\n",
       "    .dataframe tbody tr th {\n",
       "        vertical-align: top;\n",
       "    }\n",
       "\n",
       "    .dataframe thead th {\n",
       "        text-align: right;\n",
       "    }\n",
       "</style>\n",
       "<table border=\"1\" class=\"dataframe\">\n",
       "  <thead>\n",
       "    <tr style=\"text-align: right;\">\n",
       "      <th></th>\n",
       "      <th>Age</th>\n",
       "      <th>Attrition</th>\n",
       "      <th>BusinessTravel</th>\n",
       "      <th>Department</th>\n",
       "      <th>DistanceFromHome</th>\n",
       "      <th>Education</th>\n",
       "      <th>EducationField</th>\n",
       "      <th>EmployeeNumber</th>\n",
       "      <th>EnvironmentSatisfaction</th>\n",
       "      <th>Gender</th>\n",
       "      <th>...</th>\n",
       "      <th>PerformanceRating</th>\n",
       "      <th>RelationshipSatisfaction</th>\n",
       "      <th>StockOptionLevel</th>\n",
       "      <th>TotalWorkingYears</th>\n",
       "      <th>TrainingTimesLastYear</th>\n",
       "      <th>WorkLifeBalance</th>\n",
       "      <th>YearsAtCompany</th>\n",
       "      <th>YearsInCurrentRole</th>\n",
       "      <th>YearsSinceLastPromotion</th>\n",
       "      <th>YearsWithCurrManager</th>\n",
       "    </tr>\n",
       "  </thead>\n",
       "  <tbody>\n",
       "    <tr>\n",
       "      <th>0</th>\n",
       "      <td>41</td>\n",
       "      <td>Yes</td>\n",
       "      <td>Travel_Rarely</td>\n",
       "      <td>Sales</td>\n",
       "      <td>1</td>\n",
       "      <td>2</td>\n",
       "      <td>Life Sciences</td>\n",
       "      <td>1</td>\n",
       "      <td>2</td>\n",
       "      <td>Female</td>\n",
       "      <td>...</td>\n",
       "      <td>3</td>\n",
       "      <td>1</td>\n",
       "      <td>0</td>\n",
       "      <td>8</td>\n",
       "      <td>0</td>\n",
       "      <td>1</td>\n",
       "      <td>6</td>\n",
       "      <td>4</td>\n",
       "      <td>0</td>\n",
       "      <td>5</td>\n",
       "    </tr>\n",
       "    <tr>\n",
       "      <th>1</th>\n",
       "      <td>49</td>\n",
       "      <td>No</td>\n",
       "      <td>Travel_Frequently</td>\n",
       "      <td>Research &amp; Development</td>\n",
       "      <td>8</td>\n",
       "      <td>1</td>\n",
       "      <td>Life Sciences</td>\n",
       "      <td>2</td>\n",
       "      <td>3</td>\n",
       "      <td>Male</td>\n",
       "      <td>...</td>\n",
       "      <td>4</td>\n",
       "      <td>4</td>\n",
       "      <td>1</td>\n",
       "      <td>10</td>\n",
       "      <td>3</td>\n",
       "      <td>3</td>\n",
       "      <td>10</td>\n",
       "      <td>7</td>\n",
       "      <td>1</td>\n",
       "      <td>7</td>\n",
       "    </tr>\n",
       "    <tr>\n",
       "      <th>2</th>\n",
       "      <td>37</td>\n",
       "      <td>Yes</td>\n",
       "      <td>Travel_Rarely</td>\n",
       "      <td>Research &amp; Development</td>\n",
       "      <td>2</td>\n",
       "      <td>2</td>\n",
       "      <td>Other</td>\n",
       "      <td>4</td>\n",
       "      <td>4</td>\n",
       "      <td>Male</td>\n",
       "      <td>...</td>\n",
       "      <td>3</td>\n",
       "      <td>2</td>\n",
       "      <td>0</td>\n",
       "      <td>7</td>\n",
       "      <td>3</td>\n",
       "      <td>3</td>\n",
       "      <td>0</td>\n",
       "      <td>0</td>\n",
       "      <td>0</td>\n",
       "      <td>0</td>\n",
       "    </tr>\n",
       "    <tr>\n",
       "      <th>3</th>\n",
       "      <td>33</td>\n",
       "      <td>No</td>\n",
       "      <td>Travel_Frequently</td>\n",
       "      <td>Research &amp; Development</td>\n",
       "      <td>3</td>\n",
       "      <td>4</td>\n",
       "      <td>Life Sciences</td>\n",
       "      <td>5</td>\n",
       "      <td>4</td>\n",
       "      <td>Female</td>\n",
       "      <td>...</td>\n",
       "      <td>3</td>\n",
       "      <td>3</td>\n",
       "      <td>0</td>\n",
       "      <td>8</td>\n",
       "      <td>3</td>\n",
       "      <td>3</td>\n",
       "      <td>8</td>\n",
       "      <td>7</td>\n",
       "      <td>3</td>\n",
       "      <td>0</td>\n",
       "    </tr>\n",
       "    <tr>\n",
       "      <th>4</th>\n",
       "      <td>27</td>\n",
       "      <td>No</td>\n",
       "      <td>Travel_Rarely</td>\n",
       "      <td>Research &amp; Development</td>\n",
       "      <td>2</td>\n",
       "      <td>1</td>\n",
       "      <td>Medical</td>\n",
       "      <td>7</td>\n",
       "      <td>1</td>\n",
       "      <td>Male</td>\n",
       "      <td>...</td>\n",
       "      <td>3</td>\n",
       "      <td>4</td>\n",
       "      <td>1</td>\n",
       "      <td>6</td>\n",
       "      <td>3</td>\n",
       "      <td>3</td>\n",
       "      <td>2</td>\n",
       "      <td>2</td>\n",
       "      <td>2</td>\n",
       "      <td>2</td>\n",
       "    </tr>\n",
       "  </tbody>\n",
       "</table>\n",
       "<p>5 rows × 30 columns</p>\n",
       "</div>"
      ],
      "text/plain": [
       "   Age Attrition     BusinessTravel              Department  DistanceFromHome  \\\n",
       "0   41       Yes      Travel_Rarely                   Sales                 1   \n",
       "1   49        No  Travel_Frequently  Research & Development                 8   \n",
       "2   37       Yes      Travel_Rarely  Research & Development                 2   \n",
       "3   33        No  Travel_Frequently  Research & Development                 3   \n",
       "4   27        No      Travel_Rarely  Research & Development                 2   \n",
       "\n",
       "   Education EducationField  EmployeeNumber  EnvironmentSatisfaction  Gender  \\\n",
       "0          2  Life Sciences               1                        2  Female   \n",
       "1          1  Life Sciences               2                        3    Male   \n",
       "2          2          Other               4                        4    Male   \n",
       "3          4  Life Sciences               5                        4  Female   \n",
       "4          1        Medical               7                        1    Male   \n",
       "\n",
       "   ...  PerformanceRating  RelationshipSatisfaction StockOptionLevel  \\\n",
       "0  ...                  3                         1                0   \n",
       "1  ...                  4                         4                1   \n",
       "2  ...                  3                         2                0   \n",
       "3  ...                  3                         3                0   \n",
       "4  ...                  3                         4                1   \n",
       "\n",
       "   TotalWorkingYears TrainingTimesLastYear  WorkLifeBalance  YearsAtCompany  \\\n",
       "0                  8                     0                1               6   \n",
       "1                 10                     3                3              10   \n",
       "2                  7                     3                3               0   \n",
       "3                  8                     3                3               8   \n",
       "4                  6                     3                3               2   \n",
       "\n",
       "  YearsInCurrentRole YearsSinceLastPromotion  YearsWithCurrManager  \n",
       "0                  4                       0                     5  \n",
       "1                  7                       1                     7  \n",
       "2                  0                       0                     0  \n",
       "3                  7                       3                     0  \n",
       "4                  2                       2                     2  \n",
       "\n",
       "[5 rows x 30 columns]"
      ]
     },
     "execution_count": 1,
     "metadata": {},
     "output_type": "execute_result"
    }
   ],
   "source": [
    "import pandas as pd\n",
    "import numpy as np\n",
    "\n",
    "import statsmodels.formula.api as sm\n",
    "import scipy.stats as stats\n",
    "\n",
    "from matplotlib import pyplot as plt\n",
    "%matplotlib inline\n",
    "\n",
    "import seaborn as sns\n",
    "\n",
    "###\n",
    "df = pd.read_excel(\"IBM Employee Attrition.xlsx\")\n",
    "df.head()"
   ]
  },
  {
   "cell_type": "code",
   "execution_count": 2,
   "id": "e6a060c3",
   "metadata": {},
   "outputs": [
    {
     "name": "stdout",
     "output_type": "stream",
     "text": [
      "<class 'pandas.core.frame.DataFrame'>\n",
      "RangeIndex: 1470 entries, 0 to 1469\n",
      "Data columns (total 30 columns):\n",
      " #   Column                    Non-Null Count  Dtype \n",
      "---  ------                    --------------  ----- \n",
      " 0   Age                       1470 non-null   int64 \n",
      " 1   Attrition                 1470 non-null   object\n",
      " 2   BusinessTravel            1470 non-null   object\n",
      " 3   Department                1470 non-null   object\n",
      " 4   DistanceFromHome          1470 non-null   int64 \n",
      " 5   Education                 1470 non-null   int64 \n",
      " 6   EducationField            1470 non-null   object\n",
      " 7   EmployeeNumber            1470 non-null   int64 \n",
      " 8   EnvironmentSatisfaction   1470 non-null   int64 \n",
      " 9   Gender                    1470 non-null   object\n",
      " 10  JobInvolvement            1470 non-null   int64 \n",
      " 11  JobLevel                  1470 non-null   int64 \n",
      " 12  JobRole                   1470 non-null   object\n",
      " 13  JobSatisfaction           1470 non-null   int64 \n",
      " 14  MaritalStatus             1470 non-null   object\n",
      " 15  MonthlyIncome             1470 non-null   int64 \n",
      " 16  NumCompaniesWorked        1470 non-null   int64 \n",
      " 17  Over18                    1470 non-null   object\n",
      " 18  OverTime                  1470 non-null   object\n",
      " 19  PercentSalaryHike         1470 non-null   int64 \n",
      " 20  PerformanceRating         1470 non-null   int64 \n",
      " 21  RelationshipSatisfaction  1470 non-null   int64 \n",
      " 22  StockOptionLevel          1470 non-null   int64 \n",
      " 23  TotalWorkingYears         1470 non-null   int64 \n",
      " 24  TrainingTimesLastYear     1470 non-null   int64 \n",
      " 25  WorkLifeBalance           1470 non-null   int64 \n",
      " 26  YearsAtCompany            1470 non-null   int64 \n",
      " 27  YearsInCurrentRole        1470 non-null   int64 \n",
      " 28  YearsSinceLastPromotion   1470 non-null   int64 \n",
      " 29  YearsWithCurrManager      1470 non-null   int64 \n",
      "dtypes: int64(21), object(9)\n",
      "memory usage: 344.7+ KB\n"
     ]
    }
   ],
   "source": [
    "df.info()"
   ]
  },
  {
   "cell_type": "code",
   "execution_count": null,
   "id": "a577aa07",
   "metadata": {},
   "outputs": [],
   "source": [
    "## 30 columns and 1470 employees' data"
   ]
  },
  {
   "cell_type": "code",
   "execution_count": null,
   "id": "61d35d62",
   "metadata": {},
   "outputs": [],
   "source": [
    "df.isnull().sum()"
   ]
  },
  {
   "cell_type": "code",
   "execution_count": null,
   "id": "d292e1b5",
   "metadata": {},
   "outputs": [],
   "source": [
    "df[\"Over18\"].value_counts()  ## looks like everyone is over 18, remove redundant column"
   ]
  },
  {
   "cell_type": "code",
   "execution_count": 8,
   "id": "e8f00ef2",
   "metadata": {},
   "outputs": [
    {
     "name": "stdout",
     "output_type": "stream",
     "text": [
      "<class 'pandas.core.frame.DataFrame'>\n",
      "RangeIndex: 1470 entries, 0 to 1469\n",
      "Data columns (total 29 columns):\n",
      " #   Column                    Non-Null Count  Dtype \n",
      "---  ------                    --------------  ----- \n",
      " 0   Age                       1470 non-null   int64 \n",
      " 1   Attrition                 1470 non-null   object\n",
      " 2   BusinessTravel            1470 non-null   object\n",
      " 3   Department                1470 non-null   object\n",
      " 4   DistanceFromHome          1470 non-null   int64 \n",
      " 5   Education                 1470 non-null   int64 \n",
      " 6   EducationField            1470 non-null   object\n",
      " 7   EmployeeNumber            1470 non-null   int64 \n",
      " 8   EnvironmentSatisfaction   1470 non-null   int64 \n",
      " 9   Gender                    1470 non-null   object\n",
      " 10  JobInvolvement            1470 non-null   int64 \n",
      " 11  JobLevel                  1470 non-null   int64 \n",
      " 12  JobRole                   1470 non-null   object\n",
      " 13  JobSatisfaction           1470 non-null   int64 \n",
      " 14  MaritalStatus             1470 non-null   object\n",
      " 15  MonthlyIncome             1470 non-null   int64 \n",
      " 16  NumCompaniesWorked        1470 non-null   int64 \n",
      " 17  OverTime                  1470 non-null   object\n",
      " 18  PercentSalaryHike         1470 non-null   int64 \n",
      " 19  PerformanceRating         1470 non-null   int64 \n",
      " 20  RelationshipSatisfaction  1470 non-null   int64 \n",
      " 21  StockOptionLevel          1470 non-null   int64 \n",
      " 22  TotalWorkingYears         1470 non-null   int64 \n",
      " 23  TrainingTimesLastYear     1470 non-null   int64 \n",
      " 24  WorkLifeBalance           1470 non-null   int64 \n",
      " 25  YearsAtCompany            1470 non-null   int64 \n",
      " 26  YearsInCurrentRole        1470 non-null   int64 \n",
      " 27  YearsSinceLastPromotion   1470 non-null   int64 \n",
      " 28  YearsWithCurrManager      1470 non-null   int64 \n",
      "dtypes: int64(21), object(8)\n",
      "memory usage: 333.2+ KB\n"
     ]
    }
   ],
   "source": [
    "df.drop(\"Over18\", axis = 1, inplace = True)\n",
    "df.info()"
   ]
  },
  {
   "cell_type": "code",
   "execution_count": null,
   "id": "07de80ab",
   "metadata": {},
   "outputs": [],
   "source": []
  },
  {
   "cell_type": "code",
   "execution_count": 3,
   "id": "02946819",
   "metadata": {},
   "outputs": [],
   "source": [
    "## function to calculate z_scores. Accepts 2 arguments, the dataframe and the column x for z-score\n",
    "## returns the out_liers index\n",
    "\n",
    "def Cal_zscore(df_temp, x):\n",
    "    y = \"zscore_\" + x\n",
    "    df_temp[y] = np.abs(stats.zscore(df_temp[x]))"
   ]
  },
  {
   "cell_type": "code",
   "execution_count": 14,
   "id": "2a49ced7",
   "metadata": {},
   "outputs": [],
   "source": [
    "dfz = df.copy()  ## copy dataframe to calculate outliers by zscore"
   ]
  },
  {
   "cell_type": "code",
   "execution_count": 15,
   "id": "627441a2",
   "metadata": {},
   "outputs": [
    {
     "name": "stdout",
     "output_type": "stream",
     "text": [
      "<class 'pandas.core.frame.DataFrame'>\n",
      "RangeIndex: 1470 entries, 0 to 1469\n",
      "Data columns (total 29 columns):\n",
      " #   Column                    Non-Null Count  Dtype \n",
      "---  ------                    --------------  ----- \n",
      " 0   Age                       1470 non-null   int64 \n",
      " 1   Attrition                 1470 non-null   object\n",
      " 2   BusinessTravel            1470 non-null   object\n",
      " 3   Department                1470 non-null   object\n",
      " 4   DistanceFromHome          1470 non-null   int64 \n",
      " 5   Education                 1470 non-null   int64 \n",
      " 6   EducationField            1470 non-null   object\n",
      " 7   EmployeeNumber            1470 non-null   int64 \n",
      " 8   EnvironmentSatisfaction   1470 non-null   int64 \n",
      " 9   Gender                    1470 non-null   object\n",
      " 10  JobInvolvement            1470 non-null   int64 \n",
      " 11  JobLevel                  1470 non-null   int64 \n",
      " 12  JobRole                   1470 non-null   object\n",
      " 13  JobSatisfaction           1470 non-null   int64 \n",
      " 14  MaritalStatus             1470 non-null   object\n",
      " 15  MonthlyIncome             1470 non-null   int64 \n",
      " 16  NumCompaniesWorked        1470 non-null   int64 \n",
      " 17  OverTime                  1470 non-null   object\n",
      " 18  PercentSalaryHike         1470 non-null   int64 \n",
      " 19  PerformanceRating         1470 non-null   int64 \n",
      " 20  RelationshipSatisfaction  1470 non-null   int64 \n",
      " 21  StockOptionLevel          1470 non-null   int64 \n",
      " 22  TotalWorkingYears         1470 non-null   int64 \n",
      " 23  TrainingTimesLastYear     1470 non-null   int64 \n",
      " 24  WorkLifeBalance           1470 non-null   int64 \n",
      " 25  YearsAtCompany            1470 non-null   int64 \n",
      " 26  YearsInCurrentRole        1470 non-null   int64 \n",
      " 27  YearsSinceLastPromotion   1470 non-null   int64 \n",
      " 28  YearsWithCurrManager      1470 non-null   int64 \n",
      "dtypes: int64(21), object(8)\n",
      "memory usage: 333.2+ KB\n"
     ]
    }
   ],
   "source": [
    "dfz.info()"
   ]
  },
  {
   "cell_type": "code",
   "execution_count": 5,
   "id": "1f51262f",
   "metadata": {},
   "outputs": [],
   "source": [
    "dfq = df.copy()  ## copy dataframe to calculate outliers by IQR"
   ]
  },
  {
   "cell_type": "code",
   "execution_count": null,
   "id": "8ab937a6",
   "metadata": {},
   "outputs": [],
   "source": [
    "dfq.info()"
   ]
  },
  {
   "cell_type": "code",
   "execution_count": 16,
   "id": "b02af118",
   "metadata": {},
   "outputs": [],
   "source": [
    "## get each column, check if column has only numbers\n",
    "## call Cal_zscore function to create columns zscore\n",
    "\n",
    "for i in dfz:\n",
    "    if np.issubdtype(dfz[i].dtype, np.number):\n",
    "        Cal_zscore(dfz, i)"
   ]
  },
  {
   "cell_type": "code",
   "execution_count": 17,
   "id": "589632fc",
   "metadata": {},
   "outputs": [
    {
     "name": "stdout",
     "output_type": "stream",
     "text": [
      "<class 'pandas.core.frame.DataFrame'>\n",
      "RangeIndex: 1470 entries, 0 to 1469\n",
      "Data columns (total 50 columns):\n",
      " #   Column                           Non-Null Count  Dtype  \n",
      "---  ------                           --------------  -----  \n",
      " 0   Age                              1470 non-null   int64  \n",
      " 1   Attrition                        1470 non-null   object \n",
      " 2   BusinessTravel                   1470 non-null   object \n",
      " 3   Department                       1470 non-null   object \n",
      " 4   DistanceFromHome                 1470 non-null   int64  \n",
      " 5   Education                        1470 non-null   int64  \n",
      " 6   EducationField                   1470 non-null   object \n",
      " 7   EmployeeNumber                   1470 non-null   int64  \n",
      " 8   EnvironmentSatisfaction          1470 non-null   int64  \n",
      " 9   Gender                           1470 non-null   object \n",
      " 10  JobInvolvement                   1470 non-null   int64  \n",
      " 11  JobLevel                         1470 non-null   int64  \n",
      " 12  JobRole                          1470 non-null   object \n",
      " 13  JobSatisfaction                  1470 non-null   int64  \n",
      " 14  MaritalStatus                    1470 non-null   object \n",
      " 15  MonthlyIncome                    1470 non-null   int64  \n",
      " 16  NumCompaniesWorked               1470 non-null   int64  \n",
      " 17  OverTime                         1470 non-null   object \n",
      " 18  PercentSalaryHike                1470 non-null   int64  \n",
      " 19  PerformanceRating                1470 non-null   int64  \n",
      " 20  RelationshipSatisfaction         1470 non-null   int64  \n",
      " 21  StockOptionLevel                 1470 non-null   int64  \n",
      " 22  TotalWorkingYears                1470 non-null   int64  \n",
      " 23  TrainingTimesLastYear            1470 non-null   int64  \n",
      " 24  WorkLifeBalance                  1470 non-null   int64  \n",
      " 25  YearsAtCompany                   1470 non-null   int64  \n",
      " 26  YearsInCurrentRole               1470 non-null   int64  \n",
      " 27  YearsSinceLastPromotion          1470 non-null   int64  \n",
      " 28  YearsWithCurrManager             1470 non-null   int64  \n",
      " 29  zscore_Age                       1470 non-null   float64\n",
      " 30  zscore_DistanceFromHome          1470 non-null   float64\n",
      " 31  zscore_Education                 1470 non-null   float64\n",
      " 32  zscore_EmployeeNumber            1470 non-null   float64\n",
      " 33  zscore_EnvironmentSatisfaction   1470 non-null   float64\n",
      " 34  zscore_JobInvolvement            1470 non-null   float64\n",
      " 35  zscore_JobLevel                  1470 non-null   float64\n",
      " 36  zscore_JobSatisfaction           1470 non-null   float64\n",
      " 37  zscore_MonthlyIncome             1470 non-null   float64\n",
      " 38  zscore_NumCompaniesWorked        1470 non-null   float64\n",
      " 39  zscore_PercentSalaryHike         1470 non-null   float64\n",
      " 40  zscore_PerformanceRating         1470 non-null   float64\n",
      " 41  zscore_RelationshipSatisfaction  1470 non-null   float64\n",
      " 42  zscore_StockOptionLevel          1470 non-null   float64\n",
      " 43  zscore_TotalWorkingYears         1470 non-null   float64\n",
      " 44  zscore_TrainingTimesLastYear     1470 non-null   float64\n",
      " 45  zscore_WorkLifeBalance           1470 non-null   float64\n",
      " 46  zscore_YearsAtCompany            1470 non-null   float64\n",
      " 47  zscore_YearsInCurrentRole        1470 non-null   float64\n",
      " 48  zscore_YearsSinceLastPromotion   1470 non-null   float64\n",
      " 49  zscore_YearsWithCurrManager      1470 non-null   float64\n",
      "dtypes: float64(21), int64(21), object(8)\n",
      "memory usage: 574.3+ KB\n"
     ]
    }
   ],
   "source": [
    "dfz.info()  ## removed 136 employees because they were outliers"
   ]
  },
  {
   "cell_type": "code",
   "execution_count": null,
   "id": "5e00dee6",
   "metadata": {},
   "outputs": [],
   "source": [
    "i = 29\n",
    "\n",
    "while i <= 49:\n",
    "    z_outliers = dfz.iloc[dfz[:,i] > 3].index\n",
    "    i= i + 1\n",
    "    print(z_outliers)\n",
    "\n",
    "## Preview list of index values\n"
   ]
  },
  {
   "cell_type": "code",
   "execution_count": 23,
   "id": "59f3847b",
   "metadata": {},
   "outputs": [
    {
     "data": {
      "text/plain": [
       "0       0.446350\n",
       "1       1.322365\n",
       "2       0.008343\n",
       "3       0.429664\n",
       "4       1.086676\n",
       "          ...   \n",
       "1465    0.101159\n",
       "1466    0.227347\n",
       "1467    1.086676\n",
       "1468    1.322365\n",
       "1469    0.320163\n",
       "Name: zscore_Age, Length: 1470, dtype: float64"
      ]
     },
     "execution_count": 23,
     "metadata": {},
     "output_type": "execute_result"
    }
   ],
   "source": [
    "dfz.iloc[:,29]"
   ]
  },
  {
   "cell_type": "code",
   "execution_count": 29,
   "id": "b22bf023",
   "metadata": {},
   "outputs": [
    {
     "name": "stdout",
     "output_type": "stream",
     "text": [
      "Int64Index([], dtype='int64')\n"
     ]
    }
   ],
   "source": [
    "z_outliers = dfz.loc[dfz[\"zscore_Age\"] > 3].index\n",
    "\n",
    "## Preview list of index values\n",
    "print(z_outliers)"
   ]
  },
  {
   "cell_type": "code",
   "execution_count": 30,
   "id": "84ed5895",
   "metadata": {},
   "outputs": [
    {
     "name": "stdout",
     "output_type": "stream",
     "text": [
      "Int64Index([], dtype='int64')\n"
     ]
    }
   ],
   "source": [
    "z_outliers = dfz.loc[dfz[\"zscore_DistanceFromHome\"] > 3].index\n",
    "\n",
    "## Preview list of index values\n",
    "print(z_outliers)"
   ]
  },
  {
   "cell_type": "code",
   "execution_count": 31,
   "id": "d5379a7d",
   "metadata": {},
   "outputs": [
    {
     "name": "stdout",
     "output_type": "stream",
     "text": [
      "Int64Index([], dtype='int64')\n"
     ]
    }
   ],
   "source": [
    "z_outliers = dfz.loc[dfz[\"zscore_Education\"] > 3].index\n",
    "\n",
    "## Preview list of index values\n",
    "print(z_outliers)"
   ]
  },
  {
   "cell_type": "code",
   "execution_count": 32,
   "id": "6181e3e5",
   "metadata": {},
   "outputs": [
    {
     "name": "stdout",
     "output_type": "stream",
     "text": [
      "Int64Index([], dtype='int64')\n"
     ]
    }
   ],
   "source": [
    "z_outliers = dfz.loc[dfz[\"zscore_EmployeeNumber\"] > 3].index\n",
    "\n",
    "## Preview list of index values\n",
    "print(z_outliers)"
   ]
  },
  {
   "cell_type": "code",
   "execution_count": 33,
   "id": "690c8bd6",
   "metadata": {},
   "outputs": [
    {
     "name": "stdout",
     "output_type": "stream",
     "text": [
      "Int64Index([], dtype='int64')\n"
     ]
    }
   ],
   "source": [
    "z_outliers = dfz.loc[dfz[\"zscore_EnvironmentSatisfaction\"] > 3].index\n",
    "\n",
    "## Preview list of index values\n",
    "print(z_outliers)"
   ]
  },
  {
   "cell_type": "code",
   "execution_count": 34,
   "id": "10124d87",
   "metadata": {},
   "outputs": [
    {
     "name": "stdout",
     "output_type": "stream",
     "text": [
      "Int64Index([], dtype='int64')\n"
     ]
    }
   ],
   "source": [
    "z_outliers = dfz.loc[dfz[\"zscore_JobInvolvement\"] > 3].index\n",
    "\n",
    "## Preview list of index values\n",
    "print(z_outliers)"
   ]
  },
  {
   "cell_type": "code",
   "execution_count": 35,
   "id": "d7fdffa9",
   "metadata": {},
   "outputs": [
    {
     "name": "stdout",
     "output_type": "stream",
     "text": [
      "Int64Index([], dtype='int64')\n"
     ]
    }
   ],
   "source": [
    "z_outliers = dfz.loc[dfz[\"zscore_JobLevel\"] > 3].index\n",
    "\n",
    "## Preview list of index values\n",
    "print(z_outliers)"
   ]
  },
  {
   "cell_type": "code",
   "execution_count": 36,
   "id": "df90d597",
   "metadata": {},
   "outputs": [
    {
     "name": "stdout",
     "output_type": "stream",
     "text": [
      "Int64Index([], dtype='int64')\n"
     ]
    }
   ],
   "source": [
    "z_outliers = dfz.loc[dfz[\"zscore_JobSatisfaction\"] > 3].index\n",
    "\n",
    "## Preview list of index values\n",
    "print(z_outliers)"
   ]
  },
  {
   "cell_type": "code",
   "execution_count": 37,
   "id": "b9b22786",
   "metadata": {},
   "outputs": [
    {
     "name": "stdout",
     "output_type": "stream",
     "text": [
      "Int64Index([], dtype='int64')\n"
     ]
    }
   ],
   "source": [
    "z_outliers = dfz.loc[dfz[\"zscore_MonthlyIncome\"] > 3].index\n",
    "\n",
    "## Preview list of index values\n",
    "print(z_outliers)"
   ]
  },
  {
   "cell_type": "code",
   "execution_count": 38,
   "id": "e7789219",
   "metadata": {},
   "outputs": [
    {
     "name": "stdout",
     "output_type": "stream",
     "text": [
      "Int64Index([], dtype='int64')\n"
     ]
    }
   ],
   "source": [
    "z_outliers = dfz.loc[dfz[\"zscore_NumCompaniesWorked\"] > 3].index\n",
    "\n",
    "## Preview list of index values\n",
    "print(z_outliers)"
   ]
  },
  {
   "cell_type": "code",
   "execution_count": 39,
   "id": "9acff42c",
   "metadata": {},
   "outputs": [
    {
     "name": "stdout",
     "output_type": "stream",
     "text": [
      "Int64Index([], dtype='int64')\n"
     ]
    }
   ],
   "source": [
    "z_outliers = dfz.loc[dfz[\"zscore_PercentSalaryHike\"] > 3].index\n",
    "\n",
    "## Preview list of index values\n",
    "print(z_outliers)"
   ]
  },
  {
   "cell_type": "code",
   "execution_count": 40,
   "id": "d1e72d2a",
   "metadata": {},
   "outputs": [
    {
     "name": "stdout",
     "output_type": "stream",
     "text": [
      "Int64Index([], dtype='int64')\n"
     ]
    }
   ],
   "source": [
    "z_outliers = dfz.loc[dfz[\"zscore_PerformanceRating\"] > 3].index\n",
    "\n",
    "## Preview list of index values\n",
    "print(z_outliers)"
   ]
  },
  {
   "cell_type": "code",
   "execution_count": 41,
   "id": "16821afc",
   "metadata": {},
   "outputs": [
    {
     "name": "stdout",
     "output_type": "stream",
     "text": [
      "Int64Index([], dtype='int64')\n"
     ]
    }
   ],
   "source": [
    "z_outliers = dfz.loc[dfz[\"zscore_RelationshipSatisfaction\"] > 3].index\n",
    "\n",
    "## Preview list of index values\n",
    "print(z_outliers)"
   ]
  },
  {
   "cell_type": "code",
   "execution_count": 42,
   "id": "d5846b24",
   "metadata": {},
   "outputs": [
    {
     "name": "stdout",
     "output_type": "stream",
     "text": [
      "Int64Index([], dtype='int64')\n"
     ]
    }
   ],
   "source": [
    "z_outliers = dfz.loc[dfz[\"zscore_StockOptionLevel\"] > 3].index\n",
    "\n",
    "## Preview list of index values\n",
    "print(z_outliers)"
   ]
  },
  {
   "cell_type": "code",
   "execution_count": 43,
   "id": "01ec70eb",
   "metadata": {},
   "outputs": [
    {
     "name": "stdout",
     "output_type": "stream",
     "text": [
      "Int64Index([  85,   98,  126,  187,  270,  401,  445,  595,  624,  894,  956,\n",
      "            1043, 1116, 1184, 1301, 1401],\n",
      "           dtype='int64')\n"
     ]
    }
   ],
   "source": [
    "z_outliers = dfz.loc[dfz[\"zscore_TotalWorkingYears\"] > 3].index\n",
    "\n",
    "## Preview list of index values\n",
    "print(z_outliers)"
   ]
  },
  {
   "cell_type": "code",
   "execution_count": 44,
   "id": "ae80589e",
   "metadata": {},
   "outputs": [
    {
     "name": "stdout",
     "output_type": "stream",
     "text": [
      "Int64Index([], dtype='int64')\n"
     ]
    }
   ],
   "source": [
    "z_outliers = dfz.loc[dfz[\"zscore_TrainingTimesLastYear\"] > 3].index\n",
    "\n",
    "## Preview list of index values\n",
    "print(z_outliers)"
   ]
  },
  {
   "cell_type": "code",
   "execution_count": 45,
   "id": "c1c851d4",
   "metadata": {},
   "outputs": [
    {
     "name": "stdout",
     "output_type": "stream",
     "text": [
      "Int64Index([], dtype='int64')\n"
     ]
    }
   ],
   "source": [
    "z_outliers = dfz.loc[dfz[\"zscore_WorkLifeBalance\"] > 3].index\n",
    "\n",
    "## Preview list of index values\n",
    "print(z_outliers)"
   ]
  },
  {
   "cell_type": "code",
   "execution_count": 46,
   "id": "6ece44ff",
   "metadata": {},
   "outputs": [
    {
     "name": "stdout",
     "output_type": "stream",
     "text": [
      "Int64Index([  62,   98,  126,  190,  237,  270,  411,  425,  473,  477,  561,\n",
      "             592,  595,  653,  677,  749,  861,  914,  918,  962, 1086, 1111,\n",
      "            1116, 1135, 1138],\n",
      "           dtype='int64')\n"
     ]
    }
   ],
   "source": [
    "z_outliers = dfz.loc[dfz[\"zscore_YearsAtCompany\"] > 3].index\n",
    "\n",
    "## Preview list of index values\n",
    "print(z_outliers)"
   ]
  },
  {
   "cell_type": "code",
   "execution_count": 47,
   "id": "e7e706e4",
   "metadata": {},
   "outputs": [
    {
     "name": "stdout",
     "output_type": "stream",
     "text": [
      "Int64Index([63, 123, 190, 231, 281, 466, 716, 746, 976, 1024, 1327, 1351,\n",
      "            1430],\n",
      "           dtype='int64')\n"
     ]
    }
   ],
   "source": [
    "z_outliers = dfz.loc[dfz[\"zscore_YearsInCurrentRole\"] > 3].index\n",
    "\n",
    "## Preview list of index values\n",
    "print(z_outliers)"
   ]
  },
  {
   "cell_type": "code",
   "execution_count": 48,
   "id": "5cded2a8",
   "metadata": {},
   "outputs": [
    {
     "name": "stdout",
     "output_type": "stream",
     "text": [
      "Int64Index([  45,   62,   64,  110,  123,  126,  178,  218,  237,  326,  386,\n",
      "             425,  427,  535,  584,  595,  653,  701,  752,  799,  838,  861,\n",
      "             875,  914,  922,  926,  937,  976, 1008, 1078, 1086, 1093, 1138,\n",
      "            1156, 1221, 1223, 1242, 1295, 1301, 1303, 1331, 1414],\n",
      "           dtype='int64')\n"
     ]
    }
   ],
   "source": [
    "z_outliers = dfz.loc[dfz[\"zscore_YearsSinceLastPromotion\"] > 3].index\n",
    "\n",
    "## Preview list of index values\n",
    "print(z_outliers)"
   ]
  },
  {
   "cell_type": "code",
   "execution_count": 49,
   "id": "e829ad39",
   "metadata": {},
   "outputs": [
    {
     "name": "stdout",
     "output_type": "stream",
     "text": [
      "Int64Index([28, 123, 153, 187, 231, 386, 561, 616, 635, 686, 875, 926, 1078,\n",
      "            1348],\n",
      "           dtype='int64')\n"
     ]
    }
   ],
   "source": [
    "z_outliers = dfz.loc[dfz[\"zscore_YearsWithCurrManager\"] > 3].index\n",
    "\n",
    "## Preview list of index values\n",
    "print(z_outliers)"
   ]
  },
  {
   "cell_type": "code",
   "execution_count": 51,
   "id": "96dedc61",
   "metadata": {},
   "outputs": [
    {
     "name": "stdout",
     "output_type": "stream",
     "text": [
      "<class 'pandas.core.frame.DataFrame'>\n",
      "RangeIndex: 1470 entries, 0 to 1469\n",
      "Data columns (total 50 columns):\n",
      " #   Column                           Non-Null Count  Dtype  \n",
      "---  ------                           --------------  -----  \n",
      " 0   Age                              1470 non-null   int64  \n",
      " 1   Attrition                        1470 non-null   object \n",
      " 2   BusinessTravel                   1470 non-null   object \n",
      " 3   Department                       1470 non-null   object \n",
      " 4   DistanceFromHome                 1470 non-null   int64  \n",
      " 5   Education                        1470 non-null   int64  \n",
      " 6   EducationField                   1470 non-null   object \n",
      " 7   EmployeeNumber                   1470 non-null   int64  \n",
      " 8   EnvironmentSatisfaction          1470 non-null   int64  \n",
      " 9   Gender                           1470 non-null   object \n",
      " 10  JobInvolvement                   1470 non-null   int64  \n",
      " 11  JobLevel                         1470 non-null   int64  \n",
      " 12  JobRole                          1470 non-null   object \n",
      " 13  JobSatisfaction                  1470 non-null   int64  \n",
      " 14  MaritalStatus                    1470 non-null   object \n",
      " 15  MonthlyIncome                    1470 non-null   int64  \n",
      " 16  NumCompaniesWorked               1470 non-null   int64  \n",
      " 17  OverTime                         1470 non-null   object \n",
      " 18  PercentSalaryHike                1470 non-null   int64  \n",
      " 19  PerformanceRating                1470 non-null   int64  \n",
      " 20  RelationshipSatisfaction         1470 non-null   int64  \n",
      " 21  StockOptionLevel                 1470 non-null   int64  \n",
      " 22  TotalWorkingYears                1470 non-null   int64  \n",
      " 23  TrainingTimesLastYear            1470 non-null   int64  \n",
      " 24  WorkLifeBalance                  1470 non-null   int64  \n",
      " 25  YearsAtCompany                   1470 non-null   int64  \n",
      " 26  YearsInCurrentRole               1470 non-null   int64  \n",
      " 27  YearsSinceLastPromotion          1470 non-null   int64  \n",
      " 28  YearsWithCurrManager             1470 non-null   int64  \n",
      " 29  zscore_Age                       1470 non-null   float64\n",
      " 30  zscore_DistanceFromHome          1470 non-null   float64\n",
      " 31  zscore_Education                 1470 non-null   float64\n",
      " 32  zscore_EmployeeNumber            1470 non-null   float64\n",
      " 33  zscore_EnvironmentSatisfaction   1470 non-null   float64\n",
      " 34  zscore_JobInvolvement            1470 non-null   float64\n",
      " 35  zscore_JobLevel                  1470 non-null   float64\n",
      " 36  zscore_JobSatisfaction           1470 non-null   float64\n",
      " 37  zscore_MonthlyIncome             1470 non-null   float64\n",
      " 38  zscore_NumCompaniesWorked        1470 non-null   float64\n",
      " 39  zscore_PercentSalaryHike         1470 non-null   float64\n",
      " 40  zscore_PerformanceRating         1470 non-null   float64\n",
      " 41  zscore_RelationshipSatisfaction  1470 non-null   float64\n",
      " 42  zscore_StockOptionLevel          1470 non-null   float64\n",
      " 43  zscore_TotalWorkingYears         1470 non-null   float64\n",
      " 44  zscore_TrainingTimesLastYear     1470 non-null   float64\n",
      " 45  zscore_WorkLifeBalance           1470 non-null   float64\n",
      " 46  zscore_YearsAtCompany            1470 non-null   float64\n",
      " 47  zscore_YearsInCurrentRole        1470 non-null   float64\n",
      " 48  zscore_YearsSinceLastPromotion   1470 non-null   float64\n",
      " 49  zscore_YearsWithCurrManager      1470 non-null   float64\n",
      "dtypes: float64(21), int64(21), object(8)\n",
      "memory usage: 574.3+ KB\n"
     ]
    }
   ],
   "source": [
    "dfz.info()"
   ]
  },
  {
   "cell_type": "code",
   "execution_count": 54,
   "id": "3527fcc8",
   "metadata": {},
   "outputs": [
    {
     "data": {
      "text/plain": [
       "2     344\n",
       "0     263\n",
       "7     216\n",
       "3     142\n",
       "8     107\n",
       "4      98\n",
       "1      76\n",
       "9      64\n",
       "5      31\n",
       "6      29\n",
       "10     27\n",
       "11     22\n",
       "12     18\n",
       "13     14\n",
       "17      7\n",
       "15      5\n",
       "14      5\n",
       "16      2\n",
       "Name: YearsWithCurrManager, dtype: int64"
      ]
     },
     "execution_count": 54,
     "metadata": {},
     "output_type": "execute_result"
    }
   ],
   "source": [
    "dfz[\"YearsWithCurrManager\"].value_counts()"
   ]
  },
  {
   "cell_type": "code",
   "execution_count": 52,
   "id": "de7ced19",
   "metadata": {},
   "outputs": [
    {
     "data": {
      "text/plain": [
       "28      17\n",
       "123     15\n",
       "153     15\n",
       "187     15\n",
       "231     15\n",
       "386     17\n",
       "561     16\n",
       "616     17\n",
       "635     15\n",
       "686     17\n",
       "875     17\n",
       "926     17\n",
       "1078    17\n",
       "1348    16\n",
       "Name: YearsWithCurrManager, dtype: int64"
      ]
     },
     "execution_count": 52,
     "metadata": {},
     "output_type": "execute_result"
    }
   ],
   "source": [
    "dfz.iloc[[28, 123, 153, 187, 231, 386, 561, 616, 635, 686, 875, 926, 1078,\n",
    "            1348], 28]"
   ]
  },
  {
   "cell_type": "code",
   "execution_count": 55,
   "id": "2c9eb025",
   "metadata": {},
   "outputs": [
    {
     "data": {
      "text/plain": [
       "0.679146    581\n",
       "0.368715    357\n",
       "0.058285    159\n",
       "1.493867     76\n",
       "0.562576     61\n",
       "0.252146     52\n",
       "0.873006     45\n",
       "1.183437     32\n",
       "2.735589     24\n",
       "1.804297     18\n",
       "2.114728     17\n",
       "3.977310     13\n",
       "3.356449     10\n",
       "3.046019     10\n",
       "3.666880      9\n",
       "2.425158      6\n",
       "Name: zscore_YearsSinceLastPromotion, dtype: int64"
      ]
     },
     "execution_count": 55,
     "metadata": {},
     "output_type": "execute_result"
    }
   ],
   "source": [
    "dfz[\"zscore_YearsSinceLastPromotion\"].value_counts()"
   ]
  },
  {
   "cell_type": "code",
   "execution_count": 57,
   "id": "d94ee4d5",
   "metadata": {},
   "outputs": [
    {
     "data": {
      "text/plain": [
       "45      15\n",
       "62      13\n",
       "64      12\n",
       "110     12\n",
       "123     15\n",
       "126     15\n",
       "178     15\n",
       "218     12\n",
       "237     15\n",
       "326     13\n",
       "386     12\n",
       "425     15\n",
       "427     13\n",
       "535     12\n",
       "584     14\n",
       "595     13\n",
       "653     14\n",
       "701     15\n",
       "752     15\n",
       "799     13\n",
       "838     13\n",
       "861     15\n",
       "875     13\n",
       "914     15\n",
       "922     14\n",
       "926     15\n",
       "937     15\n",
       "976     15\n",
       "1008    12\n",
       "1078    14\n",
       "1086    13\n",
       "1093    13\n",
       "1138    12\n",
       "1156    14\n",
       "1221    14\n",
       "1223    14\n",
       "1242    12\n",
       "1295    13\n",
       "1301    14\n",
       "1303    14\n",
       "1331    12\n",
       "1414    12\n",
       "Name: YearsSinceLastPromotion, dtype: int64"
      ]
     },
     "execution_count": 57,
     "metadata": {},
     "output_type": "execute_result"
    }
   ],
   "source": [
    "dfz.iloc[[45,   62,   64,  110,  123,  126,  178,  218,  237,  326,  386,\n",
    "             425,  427,  535,  584,  595,  653,  701,  752,  799,  838,  861,\n",
    "             875,  914,  922,  926,  937,  976, 1008, 1078, 1086, 1093, 1138,\n",
    "            1156, 1221, 1223, 1242, 1295, 1301, 1303, 1331, 1414], 27]"
   ]
  },
  {
   "cell_type": "code",
   "execution_count": null,
   "id": "6180fb48",
   "metadata": {},
   "outputs": [],
   "source": []
  },
  {
   "cell_type": "code",
   "execution_count": null,
   "id": "4c5ad63c",
   "metadata": {},
   "outputs": [],
   "source": []
  },
  {
   "cell_type": "code",
   "execution_count": null,
   "id": "4f6ade6a",
   "metadata": {},
   "outputs": [],
   "source": []
  },
  {
   "cell_type": "code",
   "execution_count": null,
   "id": "0c563960",
   "metadata": {},
   "outputs": [],
   "source": []
  },
  {
   "cell_type": "code",
   "execution_count": null,
   "id": "cdba28be",
   "metadata": {},
   "outputs": [],
   "source": []
  },
  {
   "cell_type": "code",
   "execution_count": null,
   "id": "104b9164",
   "metadata": {},
   "outputs": [],
   "source": []
  },
  {
   "cell_type": "code",
   "execution_count": null,
   "id": "ead1eb02",
   "metadata": {},
   "outputs": [],
   "source": []
  },
  {
   "cell_type": "code",
   "execution_count": null,
   "id": "0c910845",
   "metadata": {},
   "outputs": [],
   "source": []
  },
  {
   "cell_type": "code",
   "execution_count": null,
   "id": "6392c4c4",
   "metadata": {},
   "outputs": [],
   "source": []
  },
  {
   "cell_type": "code",
   "execution_count": null,
   "id": "3775ddcc",
   "metadata": {},
   "outputs": [],
   "source": [
    "## Drop rows with above index values\n",
    "dfz = dfz.drop(z_outliers)\n",
    "\n",
    "## Re-check the shape of the dataframe, how many rows were dropped?\n",
    "print(dfz.shape)"
   ]
  },
  {
   "cell_type": "code",
   "execution_count": null,
   "id": "c1d04c21",
   "metadata": {},
   "outputs": [],
   "source": []
  },
  {
   "cell_type": "code",
   "execution_count": null,
   "id": "e4e53e59",
   "metadata": {},
   "outputs": [],
   "source": []
  }
 ],
 "metadata": {
  "kernelspec": {
   "display_name": "Python 3 (ipykernel)",
   "language": "python",
   "name": "python3"
  },
  "language_info": {
   "codemirror_mode": {
    "name": "ipython",
    "version": 3
   },
   "file_extension": ".py",
   "mimetype": "text/x-python",
   "name": "python",
   "nbconvert_exporter": "python",
   "pygments_lexer": "ipython3",
   "version": "3.9.7"
  }
 },
 "nbformat": 4,
 "nbformat_minor": 5
}

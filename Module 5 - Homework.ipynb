{
 "cells": [
  {
   "cell_type": "markdown",
   "metadata": {},
   "source": [
    "### Exercise 1. \n",
    "Create a dictionary named pairs with key value pairs of:\n",
    "    - 'hello' and 'fire', \n",
    "    - 3 and 'seven', \n",
    "    - 'strong' and 45. \n",
    "\n",
    "Then, print out the dictionary."
   ]
  },
  {
   "cell_type": "code",
   "execution_count": 1,
   "metadata": {},
   "outputs": [
    {
     "name": "stdout",
     "output_type": "stream",
     "text": [
      "{'hello': 'fire', 3: 'seven', 'strong': 45}\n"
     ]
    }
   ],
   "source": [
    "pairs = {\"hello\" : \"fire\", 3 : \"seven\", \"strong\" : 45}\n",
    "print(pairs)"
   ]
  },
  {
   "cell_type": "markdown",
   "metadata": {},
   "source": [
    "### Exercise 2. \n",
    "Add 'welcome' and 56 pair into <b><i>pairs</i></b> dictionary from exercise 1. Then, print out the dictionary. "
   ]
  },
  {
   "cell_type": "code",
   "execution_count": 2,
   "metadata": {},
   "outputs": [
    {
     "name": "stdout",
     "output_type": "stream",
     "text": [
      "{'hello': 'fire', 3: 'seven', 'strong': 45, 'welcome': 56}\n"
     ]
    }
   ],
   "source": [
    "pairs[\"welcome\"] = 56\n",
    "print(pairs)"
   ]
  },
  {
   "cell_type": "markdown",
   "metadata": {},
   "source": [
    "### Exercise 3. \n",
    "Delete one item from <b><i>pairs</i></b> dictionary. Then, print deleted item and the dictionary."
   ]
  },
  {
   "cell_type": "code",
   "execution_count": 4,
   "metadata": {},
   "outputs": [
    {
     "name": "stdout",
     "output_type": "stream",
     "text": [
      "('welcome', 56)\n",
      "{'hello': 'fire', 3: 'seven', 'strong': 45}\n"
     ]
    }
   ],
   "source": [
    "deleted = pairs.popitem()\n",
    "print(deleted)\n",
    "print(pairs)"
   ]
  },
  {
   "cell_type": "markdown",
   "metadata": {},
   "source": [
    "### Exercise 4. \n",
    "Print the value of an item where key is 3 in <b><i>pairs</i></b> dicitonary"
   ]
  },
  {
   "cell_type": "code",
   "execution_count": 6,
   "metadata": {},
   "outputs": [
    {
     "name": "stdout",
     "output_type": "stream",
     "text": [
      "seven\n"
     ]
    }
   ],
   "source": [
    "print(pairs.get(3))"
   ]
  },
  {
   "cell_type": "markdown",
   "metadata": {},
   "source": [
    "### Exercise 5. \n",
    "Try to find out if the key called 'hello' exist in <b><i>pairs</i></b> dictionary. Print 'key is found' message if the key exists otherwise print 'key is not there'."
   ]
  },
  {
   "cell_type": "code",
   "execution_count": 9,
   "metadata": {},
   "outputs": [
    {
     "name": "stdout",
     "output_type": "stream",
     "text": [
      "Key is found\n",
      "Key is not there\n",
      "Key is not there\n"
     ]
    }
   ],
   "source": [
    "for item in pairs.keys():\n",
    "    if item == \"hello\":\n",
    "        print(\"Key is found\")\n",
    "    else:\n",
    "        print(\"Key is not there\")"
   ]
  },
  {
   "cell_type": "markdown",
   "metadata": {},
   "source": [
    "### Exercise 6. \n",
    "\n",
    "For each item in a dictionary, create a for-loop that prints all the key-value pairs in the following format:\n",
    "\n",
    "        key -> value\n",
    "        \n",
    "To complete this exercise, first create your own dictionary of pet names. The key should be the type of pet (i.e. dog, lizard, etc) and the value should be the name of the specific pet. Your dictionary should have at least 5 items. "
   ]
  },
  {
   "cell_type": "code",
   "execution_count": 15,
   "metadata": {},
   "outputs": [
    {
     "name": "stdout",
     "output_type": "stream",
     "text": [
      "dog -> barky\n",
      "lizard -> torch\n",
      "cat -> muggels\n",
      "horse -> speedy\n",
      "tiger -> muffs\n",
      "fish -> gills\n"
     ]
    }
   ],
   "source": [
    "pets = {\"dog\" : \"barky\", \"lizard\" : \"torch\", \"cat\" : \"muggels\", \"horse\" : \"speedy\", \"tiger\" : \"muffs\", \"fish\" : \"gills\"}\n",
    "\n",
    "for pet in pets.keys():\n",
    "    print(f\"{pet} -> {pets[pet]}\")\n",
    "   "
   ]
  },
  {
   "cell_type": "markdown",
   "metadata": {},
   "source": [
    "### Exercise 7. \n",
    "\n",
    "Convert the following lists into a single dictionary.\n",
    "\n",
    "keys = ['Ten', 'Twenty', 'Thirty']\n",
    "values = [10, 20, 30]"
   ]
  },
  {
   "cell_type": "code",
   "execution_count": 17,
   "metadata": {},
   "outputs": [
    {
     "name": "stdout",
     "output_type": "stream",
     "text": [
      "{'Ten': 10, 'Twenty': 20, 'Thirty': 30}\n"
     ]
    }
   ],
   "source": [
    "keys = ['Ten', 'Twenty', 'Thirty']\n",
    "values = [10, 20, 30]\n",
    "\n",
    "dictionary = {}\n",
    "i = 0\n",
    "\n",
    "for key in keys:\n",
    "    dictionary[key] = values[i]\n",
    "    i += 1\n",
    "    \n",
    "print(dictionary)"
   ]
  },
  {
   "cell_type": "markdown",
   "metadata": {},
   "source": [
    "### Exercise 8. \n",
    "\n",
    "Convert the following list and dictionary into a single dictionary. The name of the patient should be the key and their health info should be the value. \n",
    "\n",
    "patient_name = [\"Lily\", \"Morgan\", \"Nicholas\"]\n",
    "\n",
    "patient_info = {\"5'6\" : \"178lbs\", \"5'9\" : \"134lbs\", \"6'1\" : \"218lbs\"}"
   ]
  },
  {
   "cell_type": "code",
   "execution_count": 19,
   "metadata": {},
   "outputs": [],
   "source": [
    "# list of patient names\n",
    "patient_name = [\"Lily\", \"Morgan\", \"Nicholas\"]\n",
    "\n",
    "# dictionary of patient info\n",
    "patient_info = {\"5'6\" : \"178lbs\", \"5'9\" : \"134lbs\", \"6'1\" : \"218lbs\"}"
   ]
  },
  {
   "cell_type": "code",
   "execution_count": 24,
   "metadata": {},
   "outputs": [
    {
     "name": "stdout",
     "output_type": "stream",
     "text": [
      "{'Lily': (\"5'6\", '178lbs'), 'Morgan': (\"5'9\", '134lbs'), 'Nicholas': (\"6'1\", '218lbs')}\n"
     ]
    }
   ],
   "source": [
    "# creat patients dictionary to hold patient name and info\n",
    "patients = {}\n",
    "\n",
    "i = 0   # list index variable to pull patient names\n",
    "\n",
    "# get items from patient_info\n",
    "for info in patient_info.items():\n",
    "    patient = patient_name[i]   # get patient names\n",
    "    patients[patient] = info    # append patient info to patient name\n",
    "    i += 1                      # increase list index\n",
    "\n",
    "print(patients)"
   ]
  },
  {
   "cell_type": "code",
   "execution_count": null,
   "metadata": {},
   "outputs": [],
   "source": []
  }
 ],
 "metadata": {
  "kernelspec": {
   "display_name": "Python 3 (ipykernel)",
   "language": "python",
   "name": "python3"
  },
  "language_info": {
   "codemirror_mode": {
    "name": "ipython",
    "version": 3
   },
   "file_extension": ".py",
   "mimetype": "text/x-python",
   "name": "python",
   "nbconvert_exporter": "python",
   "pygments_lexer": "ipython3",
   "version": "3.9.7"
  }
 },
 "nbformat": 4,
 "nbformat_minor": 4
}

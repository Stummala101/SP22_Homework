{
 "cells": [
  {
   "cell_type": "code",
   "execution_count": 1,
   "id": "c209d7b2",
   "metadata": {},
   "outputs": [
    {
     "name": "stdout",
     "output_type": "stream",
     "text": [
      "*** Lets Play ROCK PAPER SCISSORS ***\n",
      "What do you pick -> rock, paper or scissors? rock\n",
      "Computer pick scissors: You win\n",
      "Continue playin y/n? y\n",
      "What do you pick -> rock, paper or scissors? rock\n",
      "Computer pick scissors: You win\n",
      "Continue playin y/n? y\n",
      "What do you pick -> rock, paper or scissors? rock\n",
      "Computer pick rock: It's a draw\n",
      "Continue playin y/n? y\n",
      "What do you pick -> rock, paper or scissors? rock\n",
      "Computer pick scissors: You win\n",
      "Continue playin y/n? y\n",
      "What do you pick -> rock, paper or scissors? rock\n",
      "Computer pick paper: You lose\n",
      "Continue playin y/n? y\n",
      "What do you pick -> rock, paper or scissors? paper\n",
      "Computer pick scissors: You lose\n",
      "Continue playin y/n? y\n",
      "What do you pick -> rock, paper or scissors? paper\n",
      "Computer pick scissors: You lose\n",
      "Continue playin y/n? y\n",
      "What do you pick -> rock, paper or scissors? paper\n",
      "Computer pick rock: You win\n",
      "Continue playin y/n? y\n",
      "What do you pick -> rock, paper or scissors? scissors\n",
      "Computer pick scissors: It's a draw\n",
      "Continue playin y/n? y\n",
      "What do you pick -> rock, paper or scissors? scissors\n",
      "Computer pick paper: You win\n",
      "Continue playin y/n? y\n",
      "What do you pick -> rock, paper or scissors? scissors\n",
      "Computer pick rock: You lose\n",
      "Continue playin y/n? n\n",
      "GOODBYE\n"
     ]
    }
   ],
   "source": [
    "import random as rd\n",
    "\n",
    "## create list holding rock, paper, scissors\n",
    "\n",
    "play_choices = [\"rock\",\"paper\",\"scissors\"]\n",
    "user_choice = \"\"\n",
    "exit = \"y\"\n",
    "\n",
    "print(\"*** Lets Play ROCK PAPER SCISSORS ***\")\n",
    "\n",
    "## keeping looping until user does not want to continue play\n",
    "\n",
    "while exit != \"n\":\n",
    "    user_choice = input(\"What do you pick -> rock, paper or scissors? \")\n",
    "   \n",
    "    ## get random rock, paper or scissors for computer\n",
    "    \n",
    "    comp_choice = rd.choice(play_choices)\n",
    "    \n",
    "    if user_choice == comp_choice:\n",
    "        print(f\"Computer pick {comp_choice}: It\\'s a draw\")\n",
    "    elif user_choice == \"rock\" and comp_choice == \"scissors\":\n",
    "        print(f\"Computer pick {comp_choice}: You win\")\n",
    "    elif user_choice == \"scissors\" and comp_choice == \"paper\":\n",
    "        print(f\"Computer pick {comp_choice}: You win\")\n",
    "    elif user_choice == \"paper\" and comp_choice == \"rock\":\n",
    "        print(f\"Computer pick {comp_choice}: You win\")\n",
    "    else:\n",
    "        print(f\"Computer pick {comp_choice}: You lose\")\n",
    "        \n",
    "    exit = input(\"Continue playin y/n? \")\n",
    "\n",
    "print(\"GOODBYE\")"
   ]
  },
  {
   "cell_type": "code",
   "execution_count": null,
   "id": "445b51d5",
   "metadata": {},
   "outputs": [],
   "source": []
  }
 ],
 "metadata": {
  "kernelspec": {
   "display_name": "Python 3 (ipykernel)",
   "language": "python",
   "name": "python3"
  },
  "language_info": {
   "codemirror_mode": {
    "name": "ipython",
    "version": 3
   },
   "file_extension": ".py",
   "mimetype": "text/x-python",
   "name": "python",
   "nbconvert_exporter": "python",
   "pygments_lexer": "ipython3",
   "version": "3.9.7"
  }
 },
 "nbformat": 4,
 "nbformat_minor": 5
}
